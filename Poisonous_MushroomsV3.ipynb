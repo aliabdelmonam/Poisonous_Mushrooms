{
  "metadata": {
    "colab": {
      "provenance": [],
      "name": "notebookb0c4a99224",
      "include_colab_link": true
    },
    "kaggle": {
      "accelerator": "none",
      "dataSources": [
        {
          "sourceId": 76727,
          "databundleVersionId": 9045607,
          "sourceType": "competition"
        }
      ],
      "dockerImageVersionId": 30761,
      "isInternetEnabled": true,
      "language": "python",
      "sourceType": "notebook",
      "isGpuEnabled": false
    },
    "kernelspec": {
      "display_name": "Python 3",
      "language": "python",
      "name": "python3"
    },
    "language_info": {
      "codemirror_mode": {
        "name": "ipython",
        "version": 3
      },
      "file_extension": ".py",
      "mimetype": "text/x-python",
      "name": "python",
      "nbconvert_exporter": "python",
      "pygments_lexer": "ipython3",
      "version": "3.10.14"
    },
    "papermill": {
      "default_parameters": {},
      "duration": 3321.168039,
      "end_time": "2024-08-29T13:06:58.270582",
      "environment_variables": {},
      "exception": null,
      "input_path": "__notebook__.ipynb",
      "output_path": "__notebook__.ipynb",
      "parameters": {},
      "start_time": "2024-08-29T12:11:37.102543",
      "version": "2.6.0"
    }
  },
  "nbformat_minor": 0,
  "nbformat": 4,
  "cells": [
    {
      "cell_type": "markdown",
      "metadata": {
        "id": "view-in-github",
        "colab_type": "text"
      },
      "source": [
        "<a href=\"https://colab.research.google.com/github/aliabdelmonam/Poisonous_Mushrooms/blob/main/Poisonous_MushroomsV3.ipynb\" target=\"_parent\"><img src=\"https://colab.research.google.com/assets/colab-badge.svg\" alt=\"Open In Colab\"/></a>"
      ]
    },
    {
      "source": [
        "\n",
        "# IMPORTANT: RUN THIS CELL IN ORDER TO IMPORT YOUR KAGGLE DATA SOURCES\n",
        "# TO THE CORRECT LOCATION (/kaggle/input) IN YOUR NOTEBOOK,\n",
        "# THEN FEEL FREE TO DELETE THIS CELL.\n",
        "# NOTE: THIS NOTEBOOK ENVIRONMENT DIFFERS FROM KAGGLE'S PYTHON\n",
        "# ENVIRONMENT SO THERE MAY BE MISSING LIBRARIES USED BY YOUR\n",
        "# NOTEBOOK.\n",
        "\n",
        "import os\n",
        "import sys\n",
        "from tempfile import NamedTemporaryFile\n",
        "from urllib.request import urlopen\n",
        "from urllib.parse import unquote, urlparse\n",
        "from urllib.error import HTTPError\n",
        "from zipfile import ZipFile\n",
        "import tarfile\n",
        "import shutil\n",
        "\n",
        "CHUNK_SIZE = 40960\n",
        "DATA_SOURCE_MAPPING = 'playground-series-s4e8:https%3A%2F%2Fstorage.googleapis.com%2Fkaggle-competitions-data%2Fkaggle-v2%2F76727%2F9045607%2Fbundle%2Farchive.zip%3FX-Goog-Algorithm%3DGOOG4-RSA-SHA256%26X-Goog-Credential%3Dgcp-kaggle-com%2540kaggle-161607.iam.gserviceaccount.com%252F20240829%252Fauto%252Fstorage%252Fgoog4_request%26X-Goog-Date%3D20240829T191921Z%26X-Goog-Expires%3D259200%26X-Goog-SignedHeaders%3Dhost%26X-Goog-Signature%3D2423d255dbec57c72656c629bead59e30a3713a2dde15dcadc64c3a2ef18af05e6a04c191ee4163c93a97e8067138b62ae3b48a005bbad873a0375b1f769ad620216e052531491934684cac1804b6a7ab296ea7461e6a52ebb71dd8086d607b463679db674414c9a8fb7af1f623bd2b5fbcee396307216c2f8e25755f0cc02d2058627459d0b32711e7d610862d5f5ef935e34af474c0e84faa22dd207c353f116631608f0aa5ba66d74d4d5d24b9479d2554028a885f4fc52259fd625034faa5857bca0159d55a87705801c168b23f7a008480cf82101c2aaaefa5687dd2efbf07be4fb63b784e5fc82f65eba1b106c8b065507dec534c43500de19d1596bc9'\n",
        "\n",
        "KAGGLE_INPUT_PATH='/kaggle/input'\n",
        "KAGGLE_WORKING_PATH='/kaggle/working'\n",
        "KAGGLE_SYMLINK='kaggle'\n",
        "\n",
        "!umount /kaggle/input/ 2> /dev/null\n",
        "shutil.rmtree('/kaggle/input', ignore_errors=True)\n",
        "os.makedirs(KAGGLE_INPUT_PATH, 0o777, exist_ok=True)\n",
        "os.makedirs(KAGGLE_WORKING_PATH, 0o777, exist_ok=True)\n",
        "\n",
        "try:\n",
        "  os.symlink(KAGGLE_INPUT_PATH, os.path.join(\"..\", 'input'), target_is_directory=True)\n",
        "except FileExistsError:\n",
        "  pass\n",
        "try:\n",
        "  os.symlink(KAGGLE_WORKING_PATH, os.path.join(\"..\", 'working'), target_is_directory=True)\n",
        "except FileExistsError:\n",
        "  pass\n",
        "\n",
        "for data_source_mapping in DATA_SOURCE_MAPPING.split(','):\n",
        "    directory, download_url_encoded = data_source_mapping.split(':')\n",
        "    download_url = unquote(download_url_encoded)\n",
        "    filename = urlparse(download_url).path\n",
        "    destination_path = os.path.join(KAGGLE_INPUT_PATH, directory)\n",
        "    try:\n",
        "        with urlopen(download_url) as fileres, NamedTemporaryFile() as tfile:\n",
        "            total_length = fileres.headers['content-length']\n",
        "            print(f'Downloading {directory}, {total_length} bytes compressed')\n",
        "            dl = 0\n",
        "            data = fileres.read(CHUNK_SIZE)\n",
        "            while len(data) > 0:\n",
        "                dl += len(data)\n",
        "                tfile.write(data)\n",
        "                done = int(50 * dl / int(total_length))\n",
        "                sys.stdout.write(f\"\\r[{'=' * done}{' ' * (50-done)}] {dl} bytes downloaded\")\n",
        "                sys.stdout.flush()\n",
        "                data = fileres.read(CHUNK_SIZE)\n",
        "            if filename.endswith('.zip'):\n",
        "              with ZipFile(tfile) as zfile:\n",
        "                zfile.extractall(destination_path)\n",
        "            else:\n",
        "              with tarfile.open(tfile.name) as tarfile:\n",
        "                tarfile.extractall(destination_path)\n",
        "            print(f'\\nDownloaded and uncompressed: {directory}')\n",
        "    except HTTPError as e:\n",
        "        print(f'Failed to load (likely expired) {download_url} to path {destination_path}')\n",
        "        continue\n",
        "    except OSError as e:\n",
        "        print(f'Failed to load {download_url} to path {destination_path}')\n",
        "        continue\n",
        "\n",
        "print('Data source import complete.')\n"
      ],
      "metadata": {
        "id": "uidMvHIrk_xV"
      },
      "cell_type": "code",
      "outputs": [],
      "execution_count": null
    },
    {
      "cell_type": "markdown",
      "source": [
        "### **Libraries**"
      ],
      "metadata": {
        "id": "023e9cee",
        "papermill": {
          "duration": 0.014643,
          "end_time": "2024-08-29T12:11:40.124928",
          "exception": false,
          "start_time": "2024-08-29T12:11:40.110285",
          "status": "completed"
        },
        "tags": []
      }
    },
    {
      "cell_type": "code",
      "source": [
        "import pandas as pd\n",
        "import numpy as np\n",
        "import matplotlib.pyplot as plt\n",
        "import seaborn as sns\n",
        "from sklearn.preprocessing import StandardScaler,OneHotEncoder,OrdinalEncoder,LabelEncoder\n",
        "from sklearn.decomposition import PCA\n",
        "from sklearn.metrics import accuracy_score,classification_report\n",
        "from sklearn.model_selection import train_test_split\n",
        "from sklearn.compose import ColumnTransformer\n",
        "from sklearn.impute import SimpleImputer\n",
        "from sklearn.pipeline import Pipeline\n",
        "from sklearn.ensemble import VotingClassifier,IsolationForest\n",
        "from xgboost import XGBClassifier\n",
        "from lightgbm import LGBMClassifier\n",
        "from skopt import BayesSearchCV\n",
        "from skopt.space import Real, Categorical, Integer\n",
        "import copy\n"
      ],
      "metadata": {
        "id": "555813f2",
        "papermill": {
          "duration": 4.957492,
          "end_time": "2024-08-29T12:12:27.813628",
          "exception": false,
          "start_time": "2024-08-29T12:12:22.856136",
          "status": "completed"
        },
        "tags": [],
        "execution": {
          "iopub.status.busy": "2024-08-29T18:13:12.168385Z",
          "iopub.execute_input": "2024-08-29T18:13:12.169628Z",
          "iopub.status.idle": "2024-08-29T18:13:12.177275Z",
          "shell.execute_reply.started": "2024-08-29T18:13:12.169576Z",
          "shell.execute_reply": "2024-08-29T18:13:12.176176Z"
        },
        "trusted": true
      },
      "execution_count": null,
      "outputs": []
    },
    {
      "cell_type": "markdown",
      "source": [
        "\n",
        "## Data"
      ],
      "metadata": {
        "id": "2afe4a04",
        "papermill": {
          "duration": 0.015849,
          "end_time": "2024-08-29T12:12:27.845931",
          "exception": false,
          "start_time": "2024-08-29T12:12:27.830082",
          "status": "completed"
        },
        "tags": []
      }
    },
    {
      "cell_type": "code",
      "source": [
        "pd.set_option('display.max_columns', None)"
      ],
      "metadata": {
        "id": "8b60a40e",
        "papermill": {
          "duration": 0.028219,
          "end_time": "2024-08-29T12:12:27.889732",
          "exception": false,
          "start_time": "2024-08-29T12:12:27.861513",
          "status": "completed"
        },
        "tags": [],
        "execution": {
          "iopub.status.busy": "2024-08-29T18:13:12.179481Z",
          "iopub.execute_input": "2024-08-29T18:13:12.179921Z",
          "iopub.status.idle": "2024-08-29T18:13:12.194039Z",
          "shell.execute_reply.started": "2024-08-29T18:13:12.179864Z",
          "shell.execute_reply": "2024-08-29T18:13:12.192795Z"
        },
        "trusted": true
      },
      "execution_count": null,
      "outputs": []
    },
    {
      "cell_type": "code",
      "source": [
        "# df=pd.read_csv('/content/sample_submission.csv')\n",
        "tr=pd.read_csv(\"/kaggle/input/playground-series-s4e8/train.csv\")\n"
      ],
      "metadata": {
        "id": "26b2ff09",
        "papermill": {
          "duration": 11.982311,
          "end_time": "2024-08-29T12:12:39.88755",
          "exception": false,
          "start_time": "2024-08-29T12:12:27.905239",
          "status": "completed"
        },
        "tags": [],
        "execution": {
          "iopub.status.busy": "2024-08-29T18:13:12.196128Z",
          "iopub.execute_input": "2024-08-29T18:13:12.196922Z",
          "iopub.status.idle": "2024-08-29T18:13:21.455258Z",
          "shell.execute_reply.started": "2024-08-29T18:13:12.196868Z",
          "shell.execute_reply": "2024-08-29T18:13:21.454307Z"
        },
        "trusted": true
      },
      "execution_count": null,
      "outputs": []
    },
    {
      "cell_type": "code",
      "source": [
        "tr.shape"
      ],
      "metadata": {
        "id": "c877a891",
        "papermill": {
          "duration": 0.02844,
          "end_time": "2024-08-29T12:12:39.931868",
          "exception": false,
          "start_time": "2024-08-29T12:12:39.903428",
          "status": "completed"
        },
        "tags": [],
        "execution": {
          "iopub.status.busy": "2024-08-29T18:13:21.45709Z",
          "iopub.execute_input": "2024-08-29T18:13:21.457467Z",
          "iopub.status.idle": "2024-08-29T18:13:21.464463Z",
          "shell.execute_reply.started": "2024-08-29T18:13:21.457426Z",
          "shell.execute_reply": "2024-08-29T18:13:21.463435Z"
        },
        "trusted": true
      },
      "execution_count": null,
      "outputs": []
    },
    {
      "cell_type": "code",
      "source": [
        "tr.head()"
      ],
      "metadata": {
        "id": "cd986485",
        "papermill": {
          "duration": 0.053828,
          "end_time": "2024-08-29T12:12:40.001508",
          "exception": false,
          "start_time": "2024-08-29T12:12:39.94768",
          "status": "completed"
        },
        "tags": [],
        "execution": {
          "iopub.status.busy": "2024-08-29T18:13:21.465963Z",
          "iopub.execute_input": "2024-08-29T18:13:21.466389Z",
          "iopub.status.idle": "2024-08-29T18:13:21.495723Z",
          "shell.execute_reply.started": "2024-08-29T18:13:21.466338Z",
          "shell.execute_reply": "2024-08-29T18:13:21.494632Z"
        },
        "trusted": true
      },
      "execution_count": null,
      "outputs": []
    },
    {
      "cell_type": "code",
      "source": [
        "tr.info()"
      ],
      "metadata": {
        "id": "8cbebd42",
        "papermill": {
          "duration": 0.056548,
          "end_time": "2024-08-29T12:12:40.073914",
          "exception": false,
          "start_time": "2024-08-29T12:12:40.017366",
          "status": "completed"
        },
        "tags": [],
        "execution": {
          "iopub.status.busy": "2024-08-29T18:13:21.499123Z",
          "iopub.execute_input": "2024-08-29T18:13:21.499758Z",
          "iopub.status.idle": "2024-08-29T18:13:21.512082Z",
          "shell.execute_reply.started": "2024-08-29T18:13:21.499699Z",
          "shell.execute_reply": "2024-08-29T18:13:21.510777Z"
        },
        "trusted": true
      },
      "execution_count": null,
      "outputs": []
    },
    {
      "cell_type": "code",
      "source": [
        "df_train = copy.deepcopy(tr)"
      ],
      "metadata": {
        "id": "1ceb10be",
        "papermill": {
          "duration": 0.53759,
          "end_time": "2024-08-29T12:12:40.627886",
          "exception": false,
          "start_time": "2024-08-29T12:12:40.090296",
          "status": "completed"
        },
        "tags": [],
        "execution": {
          "iopub.status.busy": "2024-08-29T18:13:21.513429Z",
          "iopub.execute_input": "2024-08-29T18:13:21.513886Z",
          "iopub.status.idle": "2024-08-29T18:13:22.044169Z",
          "shell.execute_reply.started": "2024-08-29T18:13:21.51381Z",
          "shell.execute_reply": "2024-08-29T18:13:22.043009Z"
        },
        "trusted": true
      },
      "execution_count": null,
      "outputs": []
    },
    {
      "cell_type": "markdown",
      "source": [
        "# **Category**"
      ],
      "metadata": {
        "id": "f5178506",
        "papermill": {
          "duration": 0.016217,
          "end_time": "2024-08-29T12:12:40.660088",
          "exception": false,
          "start_time": "2024-08-29T12:12:40.643871",
          "status": "completed"
        },
        "tags": []
      }
    },
    {
      "cell_type": "code",
      "source": [
        "def subclass_details (df):\n",
        "  df=df.select_dtypes(include='category')\n",
        "  for col in df.columns:\n",
        "    print('Number of unique classes:',df[col].nunique())\n",
        "    print(df[col].value_counts().head(10))\n",
        "    print('############################')"
      ],
      "metadata": {
        "id": "b70c4e43",
        "papermill": {
          "duration": 0.025711,
          "end_time": "2024-08-29T12:12:40.701602",
          "exception": false,
          "start_time": "2024-08-29T12:12:40.675891",
          "status": "completed"
        },
        "tags": [],
        "execution": {
          "iopub.status.busy": "2024-08-29T18:13:22.045531Z",
          "iopub.execute_input": "2024-08-29T18:13:22.045928Z",
          "iopub.status.idle": "2024-08-29T18:13:22.052267Z",
          "shell.execute_reply.started": "2024-08-29T18:13:22.045887Z",
          "shell.execute_reply": "2024-08-29T18:13:22.051105Z"
        },
        "trusted": true
      },
      "execution_count": null,
      "outputs": []
    },
    {
      "cell_type": "code",
      "source": [
        "def remove_att(df,threshold=200):\n",
        "  cat_coln=df.select_dtypes(include='object')\n",
        "  for col in cat_coln:\n",
        "    attrib_drop=[]\n",
        "    for att , count in df[col].value_counts().items() :\n",
        "      if count <threshold:\n",
        "        attrib_drop.append(att)\n",
        "    mask = df[col].isin(attrib_drop)\n",
        "    df.loc[mask,col] = 'UNK'\n",
        "  return df"
      ],
      "metadata": {
        "id": "27c956fd",
        "papermill": {
          "duration": 0.026401,
          "end_time": "2024-08-29T12:12:40.743976",
          "exception": false,
          "start_time": "2024-08-29T12:12:40.717575",
          "status": "completed"
        },
        "tags": [],
        "execution": {
          "iopub.status.busy": "2024-08-29T18:13:22.05362Z",
          "iopub.execute_input": "2024-08-29T18:13:22.054039Z",
          "iopub.status.idle": "2024-08-29T18:13:22.063376Z",
          "shell.execute_reply.started": "2024-08-29T18:13:22.053998Z",
          "shell.execute_reply": "2024-08-29T18:13:22.062196Z"
        },
        "trusted": true
      },
      "execution_count": null,
      "outputs": []
    },
    {
      "cell_type": "code",
      "source": [
        "def convert_cate (df):\n",
        "  for clas in df.select_dtypes(include='object'):\n",
        "    df[clas] =   df[clas].astype('category')\n",
        "  return df"
      ],
      "metadata": {
        "id": "0bb5005d",
        "papermill": {
          "duration": 0.025129,
          "end_time": "2024-08-29T12:12:40.785019",
          "exception": false,
          "start_time": "2024-08-29T12:12:40.75989",
          "status": "completed"
        },
        "tags": [],
        "execution": {
          "iopub.status.busy": "2024-08-29T18:13:22.064836Z",
          "iopub.execute_input": "2024-08-29T18:13:22.065265Z",
          "iopub.status.idle": "2024-08-29T18:13:22.07491Z",
          "shell.execute_reply.started": "2024-08-29T18:13:22.065224Z",
          "shell.execute_reply": "2024-08-29T18:13:22.073827Z"
        },
        "trusted": true
      },
      "execution_count": null,
      "outputs": []
    },
    {
      "cell_type": "code",
      "source": [
        "df_train = remove_att(df_train)\n",
        "df_train = convert_cate(df_train)\n",
        "subclass_details(df_train)"
      ],
      "metadata": {
        "id": "0abf860a",
        "papermill": {
          "duration": 10.929985,
          "end_time": "2024-08-29T12:12:51.730999",
          "exception": false,
          "start_time": "2024-08-29T12:12:40.801014",
          "status": "completed"
        },
        "tags": [],
        "execution": {
          "iopub.status.busy": "2024-08-29T18:13:22.076605Z",
          "iopub.execute_input": "2024-08-29T18:13:22.077568Z",
          "iopub.status.idle": "2024-08-29T18:13:43.240579Z",
          "shell.execute_reply.started": "2024-08-29T18:13:22.077525Z",
          "shell.execute_reply": "2024-08-29T18:13:43.239269Z"
        },
        "trusted": true
      },
      "execution_count": null,
      "outputs": []
    },
    {
      "cell_type": "code",
      "source": [
        "df_train.info()"
      ],
      "metadata": {
        "id": "e0b83d9d",
        "papermill": {
          "duration": 0.042403,
          "end_time": "2024-08-29T12:12:51.794029",
          "exception": false,
          "start_time": "2024-08-29T12:12:51.751626",
          "status": "completed"
        },
        "tags": [],
        "execution": {
          "iopub.status.busy": "2024-08-29T18:13:43.246486Z",
          "iopub.execute_input": "2024-08-29T18:13:43.247034Z",
          "iopub.status.idle": "2024-08-29T18:13:43.265296Z",
          "shell.execute_reply.started": "2024-08-29T18:13:43.246973Z",
          "shell.execute_reply": "2024-08-29T18:13:43.263985Z"
        },
        "trusted": true
      },
      "execution_count": null,
      "outputs": []
    },
    {
      "cell_type": "markdown",
      "source": [
        "# **Missing Value**"
      ],
      "metadata": {
        "id": "ce105287",
        "papermill": {
          "duration": 0.016026,
          "end_time": "2024-08-29T12:12:51.830882",
          "exception": false,
          "start_time": "2024-08-29T12:12:51.814856",
          "status": "completed"
        },
        "tags": []
      }
    },
    {
      "cell_type": "code",
      "source": [
        "def plot_missing_feature(df):\n",
        "  null_df=(df.isna().sum()*100/df.shape[0]).sort_values(ascending=False)\n",
        "  sns.barplot(x=null_df.index,y=null_df.values,palette='plasma')\n",
        "  plt.xticks(rotation=90)\n",
        "  plt.xlabel('Feature')\n",
        "  plt.ylabel('Percent(%)')\n",
        "  plt.title('Missing Values')\n",
        "  plt.show()"
      ],
      "metadata": {
        "id": "0e264a73",
        "papermill": {
          "duration": 0.029516,
          "end_time": "2024-08-29T12:12:51.87656",
          "exception": false,
          "start_time": "2024-08-29T12:12:51.847044",
          "status": "completed"
        },
        "tags": [],
        "execution": {
          "iopub.status.busy": "2024-08-29T18:13:43.267007Z",
          "iopub.execute_input": "2024-08-29T18:13:43.267788Z",
          "iopub.status.idle": "2024-08-29T18:13:43.276723Z",
          "shell.execute_reply.started": "2024-08-29T18:13:43.267714Z",
          "shell.execute_reply": "2024-08-29T18:13:43.275402Z"
        },
        "trusted": true
      },
      "execution_count": null,
      "outputs": []
    },
    {
      "cell_type": "code",
      "source": [
        "def missing_feature (df):\n",
        "  null_df=(df.isna().sum()*100/df.shape[0]).sort_values(ascending=False)\n",
        "  return null_df"
      ],
      "metadata": {
        "id": "d57f2361",
        "papermill": {
          "duration": 0.026175,
          "end_time": "2024-08-29T12:12:51.926527",
          "exception": false,
          "start_time": "2024-08-29T12:12:51.900352",
          "status": "completed"
        },
        "tags": [],
        "execution": {
          "iopub.status.busy": "2024-08-29T18:13:43.278394Z",
          "iopub.execute_input": "2024-08-29T18:13:43.278921Z",
          "iopub.status.idle": "2024-08-29T18:13:43.290718Z",
          "shell.execute_reply.started": "2024-08-29T18:13:43.278863Z",
          "shell.execute_reply": "2024-08-29T18:13:43.289513Z"
        },
        "trusted": true
      },
      "execution_count": null,
      "outputs": []
    },
    {
      "cell_type": "code",
      "source": [
        "null_df_train = missing_feature(df_train)\n",
        "null_df_train"
      ],
      "metadata": {
        "id": "9c941b81",
        "papermill": {
          "duration": 0.098449,
          "end_time": "2024-08-29T12:12:52.041932",
          "exception": false,
          "start_time": "2024-08-29T12:12:51.943483",
          "status": "completed"
        },
        "tags": [],
        "execution": {
          "iopub.status.busy": "2024-08-29T18:13:43.292433Z",
          "iopub.execute_input": "2024-08-29T18:13:43.292891Z",
          "iopub.status.idle": "2024-08-29T18:13:43.370483Z",
          "shell.execute_reply.started": "2024-08-29T18:13:43.29285Z",
          "shell.execute_reply": "2024-08-29T18:13:43.369282Z"
        },
        "trusted": true
      },
      "execution_count": null,
      "outputs": []
    },
    {
      "cell_type": "code",
      "source": [
        "plot_missing_feature(df_train)"
      ],
      "metadata": {
        "id": "46a07285",
        "papermill": {
          "duration": 0.558517,
          "end_time": "2024-08-29T12:12:52.617675",
          "exception": false,
          "start_time": "2024-08-29T12:12:52.059158",
          "status": "completed"
        },
        "tags": [],
        "execution": {
          "iopub.status.busy": "2024-08-29T18:13:43.372018Z",
          "iopub.execute_input": "2024-08-29T18:13:43.372851Z",
          "iopub.status.idle": "2024-08-29T18:13:43.869064Z",
          "shell.execute_reply.started": "2024-08-29T18:13:43.372793Z",
          "shell.execute_reply": "2024-08-29T18:13:43.867793Z"
        },
        "trusted": true
      },
      "execution_count": null,
      "outputs": []
    },
    {
      "cell_type": "code",
      "source": [
        "def columns_drop(df):\n",
        "  column_drop=[]\n",
        "  null_df=missing_feature(df)\n",
        "  for col,val in null_df.items():\n",
        "    if val >4:\n",
        "      column_drop.append(col)\n",
        "  return column_drop"
      ],
      "metadata": {
        "id": "4dda0460",
        "papermill": {
          "duration": 0.027449,
          "end_time": "2024-08-29T12:12:52.662475",
          "exception": false,
          "start_time": "2024-08-29T12:12:52.635026",
          "status": "completed"
        },
        "tags": [],
        "execution": {
          "iopub.status.busy": "2024-08-29T18:13:43.871113Z",
          "iopub.execute_input": "2024-08-29T18:13:43.871588Z",
          "iopub.status.idle": "2024-08-29T18:13:43.879853Z",
          "shell.execute_reply.started": "2024-08-29T18:13:43.871533Z",
          "shell.execute_reply": "2024-08-29T18:13:43.878563Z"
        },
        "trusted": true
      },
      "execution_count": null,
      "outputs": []
    },
    {
      "cell_type": "code",
      "source": [
        "column_drop_train = columns_drop(df_train)\n",
        "print('-----------------------------------------')\n",
        "print(column_drop_train)"
      ],
      "metadata": {
        "id": "a4f14e94",
        "papermill": {
          "duration": 0.093122,
          "end_time": "2024-08-29T12:12:52.773239",
          "exception": false,
          "start_time": "2024-08-29T12:12:52.680117",
          "status": "completed"
        },
        "tags": [],
        "execution": {
          "iopub.status.busy": "2024-08-29T18:13:43.881358Z",
          "iopub.execute_input": "2024-08-29T18:13:43.881803Z",
          "iopub.status.idle": "2024-08-29T18:13:43.959328Z",
          "shell.execute_reply.started": "2024-08-29T18:13:43.881752Z",
          "shell.execute_reply": "2024-08-29T18:13:43.958085Z"
        },
        "trusted": true
      },
      "execution_count": null,
      "outputs": []
    },
    {
      "cell_type": "code",
      "source": [
        "df_train.drop(column_drop_train,axis=1,inplace=True)\n",
        "df_train.drop('id',axis=1,inplace=True)"
      ],
      "metadata": {
        "id": "83084a02",
        "papermill": {
          "duration": 0.078563,
          "end_time": "2024-08-29T12:12:52.869356",
          "exception": false,
          "start_time": "2024-08-29T12:12:52.790793",
          "status": "completed"
        },
        "tags": [],
        "execution": {
          "iopub.status.busy": "2024-08-29T18:13:43.961038Z",
          "iopub.execute_input": "2024-08-29T18:13:43.961728Z",
          "iopub.status.idle": "2024-08-29T18:13:44.02218Z",
          "shell.execute_reply.started": "2024-08-29T18:13:43.961672Z",
          "shell.execute_reply": "2024-08-29T18:13:44.020956Z"
        },
        "trusted": true
      },
      "execution_count": null,
      "outputs": []
    },
    {
      "cell_type": "code",
      "source": [
        "df_train.isna().sum()"
      ],
      "metadata": {
        "id": "537d444b",
        "papermill": {
          "duration": 0.06902,
          "end_time": "2024-08-29T12:12:52.956071",
          "exception": false,
          "start_time": "2024-08-29T12:12:52.887051",
          "status": "completed"
        },
        "tags": [],
        "execution": {
          "iopub.status.busy": "2024-08-29T18:13:44.023891Z",
          "iopub.execute_input": "2024-08-29T18:13:44.024573Z",
          "iopub.status.idle": "2024-08-29T18:13:44.076838Z",
          "shell.execute_reply.started": "2024-08-29T18:13:44.024517Z",
          "shell.execute_reply": "2024-08-29T18:13:44.075615Z"
        },
        "trusted": true
      },
      "execution_count": null,
      "outputs": []
    },
    {
      "cell_type": "code",
      "source": [
        "df_train.plot(kind='hist',subplots=True,sharex=True,figsize=(15,15),bins=100)"
      ],
      "metadata": {
        "id": "c908a728",
        "papermill": {
          "duration": 2.53832,
          "end_time": "2024-08-29T12:12:55.513919",
          "exception": false,
          "start_time": "2024-08-29T12:12:52.975599",
          "status": "completed"
        },
        "tags": [],
        "execution": {
          "iopub.status.busy": "2024-08-29T18:13:44.078413Z",
          "iopub.execute_input": "2024-08-29T18:13:44.07889Z",
          "iopub.status.idle": "2024-08-29T18:13:46.892802Z",
          "shell.execute_reply.started": "2024-08-29T18:13:44.078848Z",
          "shell.execute_reply": "2024-08-29T18:13:46.891659Z"
        },
        "trusted": true
      },
      "execution_count": null,
      "outputs": []
    },
    {
      "cell_type": "markdown",
      "source": [
        "# **Splitting Data**"
      ],
      "metadata": {
        "id": "d073775a",
        "papermill": {
          "duration": 0.019842,
          "end_time": "2024-08-29T12:12:55.552776",
          "exception": false,
          "start_time": "2024-08-29T12:12:55.532934",
          "status": "completed"
        },
        "tags": []
      }
    },
    {
      "cell_type": "code",
      "source": [
        "x=df_train.drop('class',axis=1)\n",
        "y=df_train['class']\n",
        "y=np.array([0 if i =='e' else 1 for i in y])\n",
        "y.reshape(-1,1)"
      ],
      "metadata": {
        "id": "9fa3578c",
        "papermill": {
          "duration": 0.580605,
          "end_time": "2024-08-29T12:12:56.152502",
          "exception": false,
          "start_time": "2024-08-29T12:12:55.571897",
          "status": "completed"
        },
        "tags": [],
        "execution": {
          "iopub.status.busy": "2024-08-29T18:13:46.894282Z",
          "iopub.execute_input": "2024-08-29T18:13:46.894657Z",
          "iopub.status.idle": "2024-08-29T18:13:47.688272Z",
          "shell.execute_reply.started": "2024-08-29T18:13:46.894617Z",
          "shell.execute_reply": "2024-08-29T18:13:47.687026Z"
        },
        "trusted": true
      },
      "execution_count": null,
      "outputs": []
    },
    {
      "cell_type": "code",
      "source": [
        "x_train,x_test,y_train,y_test=train_test_split(x,y,train_size=.7,stratify=y)"
      ],
      "metadata": {
        "id": "8856f031",
        "papermill": {
          "duration": 1.604846,
          "end_time": "2024-08-29T12:12:57.77647",
          "exception": false,
          "start_time": "2024-08-29T12:12:56.171624",
          "status": "completed"
        },
        "tags": [],
        "execution": {
          "iopub.status.busy": "2024-08-29T18:13:47.689965Z",
          "iopub.execute_input": "2024-08-29T18:13:47.690452Z",
          "iopub.status.idle": "2024-08-29T18:13:49.397263Z",
          "shell.execute_reply.started": "2024-08-29T18:13:47.690399Z",
          "shell.execute_reply": "2024-08-29T18:13:49.396132Z"
        },
        "trusted": true
      },
      "execution_count": null,
      "outputs": []
    },
    {
      "cell_type": "markdown",
      "source": [
        "# **Pipeline**"
      ],
      "metadata": {
        "id": "f35dfa9d",
        "papermill": {
          "duration": 0.019191,
          "end_time": "2024-08-29T12:12:57.81574",
          "exception": false,
          "start_time": "2024-08-29T12:12:57.796549",
          "status": "completed"
        },
        "tags": []
      }
    },
    {
      "cell_type": "code",
      "source": [
        "num_data_train_columns = x.select_dtypes(include='number').columns\n",
        "cat_data_train_columns = x.select_dtypes(include='category').columns\n",
        "cat_data_train_columns"
      ],
      "metadata": {
        "id": "c7cc26f4",
        "papermill": {
          "duration": 0.073266,
          "end_time": "2024-08-29T12:12:57.909143",
          "exception": false,
          "start_time": "2024-08-29T12:12:57.835877",
          "status": "completed"
        },
        "tags": [],
        "execution": {
          "iopub.status.busy": "2024-08-29T18:13:49.398639Z",
          "iopub.execute_input": "2024-08-29T18:13:49.399048Z",
          "iopub.status.idle": "2024-08-29T18:13:49.4297Z",
          "shell.execute_reply.started": "2024-08-29T18:13:49.399006Z",
          "shell.execute_reply": "2024-08-29T18:13:49.428608Z"
        },
        "trusted": true
      },
      "execution_count": null,
      "outputs": []
    },
    {
      "cell_type": "code",
      "source": [
        "num_pipe=Pipeline (steps=[\n",
        "    ('imputer',SimpleImputer(strategy='median')),\n",
        "    ('scaler',StandardScaler())\n",
        "])\n",
        "cat_pipe=Pipeline (steps=[\n",
        "    ('imputer',SimpleImputer(strategy='most_frequent')),\n",
        "    # ('encoder',OneHotEncoder(sparse=False, handle_unknown='ignore'))\n",
        "    ('encoder',OrdinalEncoder())\n",
        "\n",
        "])"
      ],
      "metadata": {
        "id": "d252703f",
        "papermill": {
          "duration": 0.02945,
          "end_time": "2024-08-29T12:12:57.957533",
          "exception": false,
          "start_time": "2024-08-29T12:12:57.928083",
          "status": "completed"
        },
        "tags": [],
        "execution": {
          "iopub.status.busy": "2024-08-29T18:13:49.431407Z",
          "iopub.execute_input": "2024-08-29T18:13:49.431903Z",
          "iopub.status.idle": "2024-08-29T18:13:49.438962Z",
          "shell.execute_reply.started": "2024-08-29T18:13:49.431838Z",
          "shell.execute_reply": "2024-08-29T18:13:49.437652Z"
        },
        "trusted": true
      },
      "execution_count": null,
      "outputs": []
    },
    {
      "cell_type": "code",
      "source": [
        "df_preprocessing=ColumnTransformer(\n",
        "     transformers=[\n",
        "        ('num', num_pipe, num_data_train_columns),\n",
        "        ('cat', cat_pipe, cat_data_train_columns)\n",
        "    ]\n",
        ")"
      ],
      "metadata": {
        "id": "ca2f7a9d",
        "papermill": {
          "duration": 0.030898,
          "end_time": "2024-08-29T12:12:58.007067",
          "exception": false,
          "start_time": "2024-08-29T12:12:57.976169",
          "status": "completed"
        },
        "tags": [],
        "execution": {
          "iopub.status.busy": "2024-08-29T18:13:49.440574Z",
          "iopub.execute_input": "2024-08-29T18:13:49.441018Z",
          "iopub.status.idle": "2024-08-29T18:13:49.451443Z",
          "shell.execute_reply.started": "2024-08-29T18:13:49.440966Z",
          "shell.execute_reply": "2024-08-29T18:13:49.450559Z"
        },
        "trusted": true
      },
      "execution_count": null,
      "outputs": []
    },
    {
      "cell_type": "code",
      "source": [
        "final_pipe = Pipeline(steps=[\n",
        "    ('preprocessor',df_preprocessing)\n",
        "    # ('PCA',PCA(n_components=.95)),\n",
        "#     ('MCA',prince.MCA( n_components=2,  n_iter=3,       check_input=True, engine='auto',   random_state=42))\n",
        "\n",
        "])"
      ],
      "metadata": {
        "id": "a6a10e7b",
        "papermill": {
          "duration": 0.029676,
          "end_time": "2024-08-29T12:12:58.056717",
          "exception": false,
          "start_time": "2024-08-29T12:12:58.027041",
          "status": "completed"
        },
        "tags": [],
        "execution": {
          "iopub.status.busy": "2024-08-29T18:13:49.452878Z",
          "iopub.execute_input": "2024-08-29T18:13:49.453213Z",
          "iopub.status.idle": "2024-08-29T18:13:49.462529Z",
          "shell.execute_reply.started": "2024-08-29T18:13:49.453175Z",
          "shell.execute_reply": "2024-08-29T18:13:49.461438Z"
        },
        "trusted": true
      },
      "execution_count": null,
      "outputs": []
    },
    {
      "cell_type": "code",
      "source": [
        "x_train=final_pipe.fit_transform(x_train)\n",
        "x_test=final_pipe.transform(x_test)"
      ],
      "metadata": {
        "id": "aeed12b3",
        "papermill": {
          "duration": 32.201617,
          "end_time": "2024-08-29T12:13:30.341263",
          "exception": false,
          "start_time": "2024-08-29T12:12:58.139646",
          "status": "completed"
        },
        "tags": [],
        "execution": {
          "iopub.status.busy": "2024-08-29T18:13:49.464159Z",
          "iopub.execute_input": "2024-08-29T18:13:49.464548Z",
          "iopub.status.idle": "2024-08-29T18:14:03.647299Z",
          "shell.execute_reply.started": "2024-08-29T18:13:49.464508Z",
          "shell.execute_reply": "2024-08-29T18:14:03.646153Z"
        },
        "trusted": true
      },
      "execution_count": null,
      "outputs": []
    },
    {
      "cell_type": "code",
      "source": [
        "isolation_forest = IsolationForest(contamination=0.024, random_state=42)\n",
        "x_train_labels = isolation_forest.fit_predict(x_train) # 1 indicate normal -1--> outlier (anomaly)\n",
        "normal_label_boolean = x_train_labels !=-1\n",
        "x_train = x_train[normal_label_boolean]\n",
        "y_train = y_train[normal_label_boolean]"
      ],
      "metadata": {
        "id": "Z7CWSwYYMMJK",
        "execution": {
          "iopub.status.busy": "2024-08-29T18:14:03.648773Z",
          "iopub.execute_input": "2024-08-29T18:14:03.649172Z",
          "iopub.status.idle": "2024-08-29T18:16:19.8758Z",
          "shell.execute_reply.started": "2024-08-29T18:14:03.64913Z",
          "shell.execute_reply": "2024-08-29T18:16:19.874542Z"
        },
        "trusted": true
      },
      "execution_count": null,
      "outputs": []
    },
    {
      "cell_type": "code",
      "source": [
        "1-len(x_train)/len(x_train_labels)"
      ],
      "metadata": {
        "id": "tqqujtw4Q5CQ",
        "execution": {
          "iopub.status.busy": "2024-08-29T18:16:19.883205Z",
          "iopub.execute_input": "2024-08-29T18:16:19.883635Z",
          "iopub.status.idle": "2024-08-29T18:16:19.891093Z",
          "shell.execute_reply.started": "2024-08-29T18:16:19.883589Z",
          "shell.execute_reply": "2024-08-29T18:16:19.88994Z"
        },
        "trusted": true
      },
      "execution_count": null,
      "outputs": []
    },
    {
      "cell_type": "markdown",
      "source": [
        "# **Modeling**"
      ],
      "metadata": {
        "id": "690ef91a",
        "papermill": {
          "duration": 0.032431,
          "end_time": "2024-08-29T12:13:30.405675",
          "exception": false,
          "start_time": "2024-08-29T12:13:30.373244",
          "status": "completed"
        },
        "tags": []
      }
    },
    {
      "cell_type": "code",
      "source": [
        "def Bayesian_Optimization (model,search_space):\n",
        "  bayes = BayesSearchCV(model,\n",
        "                        search_space,\n",
        "                         n_iter= 20,\n",
        "                        n_jobs=-1,\n",
        "                        scoring='accuracy',\n",
        "                        random_state=42)\n",
        "  return bayes"
      ],
      "metadata": {
        "id": "7264dccf",
        "papermill": {
          "duration": 0.034284,
          "end_time": "2024-08-29T12:13:30.472767",
          "exception": false,
          "start_time": "2024-08-29T12:13:30.438483",
          "status": "completed"
        },
        "tags": [],
        "execution": {
          "iopub.status.busy": "2024-08-29T18:16:19.892402Z",
          "iopub.execute_input": "2024-08-29T18:16:19.892752Z",
          "iopub.status.idle": "2024-08-29T18:16:19.902089Z",
          "shell.execute_reply.started": "2024-08-29T18:16:19.892695Z",
          "shell.execute_reply": "2024-08-29T18:16:19.901066Z"
        },
        "trusted": true
      },
      "execution_count": null,
      "outputs": []
    },
    {
      "cell_type": "code",
      "source": [
        "xgb_space = {\n",
        "    'n_estimators': Integer(50, 150),\n",
        "    'max_depth': Integer(2, 8),\n",
        "    'learning_rate': Real(0.01, .4, 'log-uniform'),\n",
        "    'subsample': Real(0.5, 1.0, 'uniform'),\n",
        "    'colsample_bytree': Real(0.5, 1.0, 'uniform'),\n",
        "    'alpha':Real(.1,.5,'uniform'),\n",
        "    'min_child_weight':Integer(5,10)\n",
        "}"
      ],
      "metadata": {
        "id": "362f1adf",
        "papermill": {
          "duration": 0.053077,
          "end_time": "2024-08-29T12:13:30.544939",
          "exception": false,
          "start_time": "2024-08-29T12:13:30.491862",
          "status": "completed"
        },
        "tags": [],
        "execution": {
          "iopub.status.busy": "2024-08-29T18:16:19.903725Z",
          "iopub.execute_input": "2024-08-29T18:16:19.904133Z",
          "iopub.status.idle": "2024-08-29T18:16:19.920496Z",
          "shell.execute_reply.started": "2024-08-29T18:16:19.904088Z",
          "shell.execute_reply": "2024-08-29T18:16:19.919487Z"
        },
        "trusted": true
      },
      "execution_count": null,
      "outputs": []
    },
    {
      "cell_type": "code",
      "source": [
        "xgb = XGBClassifier(random_state=42,use_label_encoder=False)\n",
        "xgb_optimzied = Bayesian_Optimization(xgb,xgb_space)"
      ],
      "metadata": {
        "id": "cac86649",
        "papermill": {
          "duration": 0.036036,
          "end_time": "2024-08-29T12:13:30.705957",
          "exception": false,
          "start_time": "2024-08-29T12:13:30.669921",
          "status": "completed"
        },
        "tags": [],
        "execution": {
          "iopub.status.busy": "2024-08-29T18:16:19.921933Z",
          "iopub.execute_input": "2024-08-29T18:16:19.922348Z",
          "iopub.status.idle": "2024-08-29T18:16:19.931452Z",
          "shell.execute_reply.started": "2024-08-29T18:16:19.922307Z",
          "shell.execute_reply": "2024-08-29T18:16:19.930546Z"
        },
        "trusted": true
      },
      "execution_count": null,
      "outputs": []
    },
    {
      "cell_type": "code",
      "source": [
        "xgb_optimzied.fit(x_train,y_train)"
      ],
      "metadata": {
        "_kg_hide-output": true,
        "id": "6adf1976",
        "papermill": {
          "duration": 3066.584356,
          "end_time": "2024-08-29T13:04:37.309277",
          "exception": false,
          "start_time": "2024-08-29T12:13:30.724921",
          "status": "completed"
        },
        "tags": [],
        "execution": {
          "iopub.status.busy": "2024-08-29T18:16:19.932693Z",
          "iopub.execute_input": "2024-08-29T18:16:19.933048Z",
          "iopub.status.idle": "2024-08-29T18:43:55.249991Z",
          "shell.execute_reply.started": "2024-08-29T18:16:19.93301Z",
          "shell.execute_reply": "2024-08-29T18:43:55.248798Z"
        },
        "trusted": true
      },
      "execution_count": null,
      "outputs": []
    },
    {
      "cell_type": "code",
      "source": [
        "xgb_optimzied.best_params_"
      ],
      "metadata": {
        "papermill": {
          "duration": 0.041832,
          "end_time": "2024-08-29T13:04:37.380681",
          "exception": false,
          "start_time": "2024-08-29T13:04:37.338849",
          "status": "completed"
        },
        "tags": [],
        "id": "64f7bf78",
        "execution": {
          "iopub.status.busy": "2024-08-29T18:43:55.251878Z",
          "iopub.execute_input": "2024-08-29T18:43:55.252258Z",
          "iopub.status.idle": "2024-08-29T18:43:55.259399Z",
          "shell.execute_reply.started": "2024-08-29T18:43:55.252217Z",
          "shell.execute_reply": "2024-08-29T18:43:55.25838Z"
        },
        "trusted": true
      },
      "execution_count": null,
      "outputs": []
    },
    {
      "cell_type": "code",
      "source": [
        "xgb=xgb_optimzied.best_estimator_"
      ],
      "metadata": {
        "id": "b813b936",
        "papermill": {
          "duration": 0.038138,
          "end_time": "2024-08-29T13:04:37.448758",
          "exception": false,
          "start_time": "2024-08-29T13:04:37.41062",
          "status": "completed"
        },
        "tags": [],
        "execution": {
          "iopub.status.busy": "2024-08-29T18:43:55.26083Z",
          "iopub.execute_input": "2024-08-29T18:43:55.261169Z",
          "iopub.status.idle": "2024-08-29T18:43:55.270612Z",
          "shell.execute_reply.started": "2024-08-29T18:43:55.261133Z",
          "shell.execute_reply": "2024-08-29T18:43:55.269556Z"
        },
        "trusted": true
      },
      "execution_count": null,
      "outputs": []
    },
    {
      "cell_type": "code",
      "source": [
        "y_pred_xgb=xgb.predict(x_test)\n",
        "print('XGB --> ',accuracy_score(y_test,y_pred_xgb))"
      ],
      "metadata": {
        "id": "0729ef47",
        "papermill": {
          "duration": 11.946493,
          "end_time": "2024-08-29T13:04:49.425191",
          "exception": false,
          "start_time": "2024-08-29T13:04:37.478698",
          "status": "completed"
        },
        "tags": [],
        "execution": {
          "iopub.status.busy": "2024-08-29T18:43:55.272068Z",
          "iopub.execute_input": "2024-08-29T18:43:55.272409Z",
          "iopub.status.idle": "2024-08-29T18:43:57.286124Z",
          "shell.execute_reply.started": "2024-08-29T18:43:55.272372Z",
          "shell.execute_reply": "2024-08-29T18:43:57.284955Z"
        },
        "trusted": true
      },
      "execution_count": null,
      "outputs": []
    },
    {
      "cell_type": "code",
      "source": [
        "\n",
        "print(\"\\nClassification Report:\")\n",
        "print(classification_report(y_test, y_pred_xgb))"
      ],
      "metadata": {
        "id": "0485d89a",
        "papermill": {
          "duration": 76.370697,
          "end_time": "2024-08-29T13:06:05.825734",
          "exception": false,
          "start_time": "2024-08-29T13:04:49.455037",
          "status": "completed"
        },
        "tags": [],
        "execution": {
          "iopub.status.busy": "2024-08-29T18:43:57.287456Z",
          "iopub.execute_input": "2024-08-29T18:43:57.287843Z",
          "iopub.status.idle": "2024-08-29T18:43:59.250535Z",
          "shell.execute_reply.started": "2024-08-29T18:43:57.287803Z",
          "shell.execute_reply": "2024-08-29T18:43:59.249417Z"
        },
        "trusted": true
      },
      "execution_count": null,
      "outputs": []
    },
    {
      "cell_type": "markdown",
      "source": [
        "> ***Submession***"
      ],
      "metadata": {
        "papermill": {
          "duration": 0.036129,
          "end_time": "2024-08-29T13:06:06.143999",
          "exception": false,
          "start_time": "2024-08-29T13:06:06.10787",
          "status": "completed"
        },
        "tags": [],
        "id": "791af742"
      }
    },
    {
      "cell_type": "code",
      "source": [
        "ts = pd.read_csv('/kaggle/input/playground-series-s4e8/test.csv')"
      ],
      "metadata": {
        "papermill": {
          "duration": 6.819692,
          "end_time": "2024-08-29T13:06:12.999341",
          "exception": false,
          "start_time": "2024-08-29T13:06:06.179649",
          "status": "completed"
        },
        "tags": [],
        "id": "99a0def0",
        "execution": {
          "iopub.status.busy": "2024-08-29T18:43:59.25209Z",
          "iopub.execute_input": "2024-08-29T18:43:59.252473Z",
          "iopub.status.idle": "2024-08-29T18:44:06.234124Z",
          "shell.execute_reply.started": "2024-08-29T18:43:59.252432Z",
          "shell.execute_reply": "2024-08-29T18:44:06.233054Z"
        },
        "trusted": true
      },
      "execution_count": null,
      "outputs": []
    },
    {
      "cell_type": "code",
      "source": [
        "df_test = copy.deepcopy(ts)\n",
        "df_test.drop('id',axis=1,inplace=True)"
      ],
      "metadata": {
        "papermill": {
          "duration": 0.906588,
          "end_time": "2024-08-29T13:06:13.94178",
          "exception": false,
          "start_time": "2024-08-29T13:06:13.035192",
          "status": "completed"
        },
        "tags": [],
        "id": "39ed0627",
        "execution": {
          "iopub.status.busy": "2024-08-29T18:44:06.23564Z",
          "iopub.execute_input": "2024-08-29T18:44:06.23614Z",
          "iopub.status.idle": "2024-08-29T18:44:07.114633Z",
          "shell.execute_reply.started": "2024-08-29T18:44:06.236087Z",
          "shell.execute_reply": "2024-08-29T18:44:07.113402Z"
        },
        "trusted": true
      },
      "execution_count": null,
      "outputs": []
    },
    {
      "cell_type": "code",
      "source": [
        "ts_col=columns_drop(df_test)"
      ],
      "metadata": {
        "papermill": {
          "duration": 1.485208,
          "end_time": "2024-08-29T13:06:15.462639",
          "exception": false,
          "start_time": "2024-08-29T13:06:13.977431",
          "status": "completed"
        },
        "tags": [],
        "id": "49963e0c",
        "execution": {
          "iopub.status.busy": "2024-08-29T19:04:06.609373Z",
          "iopub.execute_input": "2024-08-29T19:04:06.613215Z",
          "iopub.status.idle": "2024-08-29T19:04:09.950886Z",
          "shell.execute_reply.started": "2024-08-29T19:04:06.613109Z",
          "shell.execute_reply": "2024-08-29T19:04:09.94961Z"
        },
        "trusted": true
      },
      "execution_count": null,
      "outputs": []
    },
    {
      "cell_type": "code",
      "source": [
        "df_test = remove_att(df_test)\n",
        "df_test.drop(ts_col,axis=1,inplace=True)"
      ],
      "metadata": {
        "execution": {
          "iopub.status.busy": "2024-08-29T19:04:11.770678Z",
          "iopub.execute_input": "2024-08-29T19:04:11.7712Z",
          "iopub.status.idle": "2024-08-29T19:04:19.031392Z",
          "shell.execute_reply.started": "2024-08-29T19:04:11.771154Z",
          "shell.execute_reply": "2024-08-29T19:04:19.029957Z"
        },
        "trusted": true,
        "id": "Pmr2cUb_k_yY"
      },
      "execution_count": null,
      "outputs": []
    },
    {
      "cell_type": "code",
      "source": [
        "df_test=final_pipe.transform(df_test)"
      ],
      "metadata": {
        "id": "97c6caec",
        "papermill": {
          "duration": 11.534123,
          "end_time": "2024-08-29T13:06:27.033192",
          "exception": false,
          "start_time": "2024-08-29T13:06:15.499069",
          "status": "completed"
        },
        "tags": [],
        "execution": {
          "iopub.status.busy": "2024-08-29T19:04:21.836164Z",
          "iopub.execute_input": "2024-08-29T19:04:21.83677Z",
          "iopub.status.idle": "2024-08-29T19:04:27.890717Z",
          "shell.execute_reply.started": "2024-08-29T19:04:21.836703Z",
          "shell.execute_reply": "2024-08-29T19:04:27.88949Z"
        },
        "trusted": true
      },
      "execution_count": null,
      "outputs": []
    },
    {
      "cell_type": "code",
      "source": [
        "final_pred = xgb.predict(df_test)"
      ],
      "metadata": {
        "papermill": {
          "duration": 26.071008,
          "end_time": "2024-08-29T13:06:53.140189",
          "exception": false,
          "start_time": "2024-08-29T13:06:27.069181",
          "status": "completed"
        },
        "tags": [],
        "id": "c53323c0",
        "execution": {
          "iopub.status.busy": "2024-08-29T19:07:27.911088Z",
          "iopub.execute_input": "2024-08-29T19:07:27.912007Z",
          "iopub.status.idle": "2024-08-29T19:07:32.305176Z",
          "shell.execute_reply.started": "2024-08-29T19:07:27.911953Z",
          "shell.execute_reply": "2024-08-29T19:07:32.303724Z"
        },
        "trusted": true
      },
      "execution_count": null,
      "outputs": []
    },
    {
      "cell_type": "code",
      "source": [
        "final_pred_trans=['e' if i==0 else 'p' for i in final_pred]"
      ],
      "metadata": {
        "papermill": {
          "duration": 0.314361,
          "end_time": "2024-08-29T13:06:53.492114",
          "exception": false,
          "start_time": "2024-08-29T13:06:53.177753",
          "status": "completed"
        },
        "tags": [],
        "id": "63897774",
        "execution": {
          "iopub.status.busy": "2024-08-29T19:07:32.307546Z",
          "iopub.execute_input": "2024-08-29T19:07:32.307992Z",
          "iopub.status.idle": "2024-08-29T19:07:32.9539Z",
          "shell.execute_reply.started": "2024-08-29T19:07:32.307948Z",
          "shell.execute_reply": "2024-08-29T19:07:32.95256Z"
        },
        "trusted": true
      },
      "execution_count": null,
      "outputs": []
    },
    {
      "cell_type": "code",
      "source": [
        "submession= pd.DataFrame({'id':ts['id'].values,\n",
        "                          'class':final_pred_trans\n",
        "                         }\n",
        "                        )\n"
      ],
      "metadata": {
        "papermill": {
          "duration": 0.132675,
          "end_time": "2024-08-29T13:06:53.660211",
          "exception": false,
          "start_time": "2024-08-29T13:06:53.527536",
          "status": "completed"
        },
        "tags": [],
        "id": "ac05df7f",
        "execution": {
          "iopub.status.busy": "2024-08-29T19:09:29.953991Z",
          "iopub.execute_input": "2024-08-29T19:09:29.954584Z",
          "iopub.status.idle": "2024-08-29T19:09:30.085222Z",
          "shell.execute_reply.started": "2024-08-29T19:09:29.95454Z",
          "shell.execute_reply": "2024-08-29T19:09:30.083702Z"
        },
        "trusted": true
      },
      "execution_count": null,
      "outputs": []
    },
    {
      "cell_type": "code",
      "source": [
        "submession.to_csv('submession.csv',index=False)"
      ],
      "metadata": {
        "papermill": {
          "duration": 1.64259,
          "end_time": "2024-08-29T13:06:55.338916",
          "exception": false,
          "start_time": "2024-08-29T13:06:53.696326",
          "status": "completed"
        },
        "tags": [],
        "id": "81be5ea8",
        "execution": {
          "iopub.status.busy": "2024-08-29T19:09:30.33462Z",
          "iopub.execute_input": "2024-08-29T19:09:30.335224Z",
          "iopub.status.idle": "2024-08-29T19:09:33.277578Z",
          "shell.execute_reply.started": "2024-08-29T19:09:30.335164Z",
          "shell.execute_reply": "2024-08-29T19:09:33.276116Z"
        },
        "trusted": true
      },
      "execution_count": null,
      "outputs": []
    },
    {
      "cell_type": "code",
      "source": [],
      "metadata": {
        "papermill": {
          "duration": 0.037024,
          "end_time": "2024-08-29T13:06:55.412208",
          "exception": false,
          "start_time": "2024-08-29T13:06:55.375184",
          "status": "completed"
        },
        "tags": [],
        "id": "411d72bc"
      },
      "execution_count": null,
      "outputs": []
    }
  ]
}