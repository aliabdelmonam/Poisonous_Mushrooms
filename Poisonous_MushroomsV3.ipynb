{
 "cells": [
  {
   "cell_type": "markdown",
   "id": "018abcea",
   "metadata": {
    "id": "023e9cee",
    "papermill": {
     "duration": 0.020992,
     "end_time": "2024-08-30T09:37:57.852737",
     "exception": false,
     "start_time": "2024-08-30T09:37:57.831745",
     "status": "completed"
    },
    "tags": []
   },
   "source": [
    "### **Libraries**"
   ]
  },
  {
   "cell_type": "code",
   "execution_count": 1,
   "id": "de67e947",
   "metadata": {
    "execution": {
     "iopub.execute_input": "2024-08-30T09:37:57.895917Z",
     "iopub.status.busy": "2024-08-30T09:37:57.895429Z",
     "iopub.status.idle": "2024-08-30T09:38:02.615316Z",
     "shell.execute_reply": "2024-08-30T09:38:02.613829Z"
    },
    "executionInfo": {
     "elapsed": 1667,
     "status": "ok",
     "timestamp": 1724953489966,
     "user": {
      "displayName": "Ali Abdelmenam",
      "userId": "07293695764086267357"
     },
     "user_tz": -180
    },
    "id": "555813f2",
    "outputId": "96d40e57-431a-463f-ff26-dc68fced658c",
    "papermill": {
     "duration": 4.744683,
     "end_time": "2024-08-30T09:38:02.618340",
     "exception": false,
     "start_time": "2024-08-30T09:37:57.873657",
     "status": "completed"
    },
    "tags": []
   },
   "outputs": [],
   "source": [
    "import pandas as pd\n",
    "import numpy as np\n",
    "import matplotlib.pyplot as plt\n",
    "import seaborn as sns\n",
    "from sklearn.preprocessing import StandardScaler,OneHotEncoder,OrdinalEncoder,LabelEncoder\n",
    "from sklearn.decomposition import PCA\n",
    "from sklearn.metrics import accuracy_score,classification_report\n",
    "from sklearn.model_selection import train_test_split\n",
    "from sklearn.compose import ColumnTransformer\n",
    "from sklearn.impute import SimpleImputer\n",
    "from sklearn.pipeline import Pipeline\n",
    "from sklearn.ensemble import VotingClassifier,IsolationForest\n",
    "from xgboost import XGBClassifier\n",
    "from lightgbm import LGBMClassifier\n",
    "from skopt import BayesSearchCV\n",
    "from skopt.space import Real, Categorical, Integer\n",
    "import copy\n"
   ]
  },
  {
   "cell_type": "markdown",
   "id": "4ecc7013",
   "metadata": {
    "id": "2afe4a04",
    "papermill": {
     "duration": 0.019771,
     "end_time": "2024-08-30T09:38:02.659333",
     "exception": false,
     "start_time": "2024-08-30T09:38:02.639562",
     "status": "completed"
    },
    "tags": []
   },
   "source": [
    "\n",
    "## Data"
   ]
  },
  {
   "cell_type": "code",
   "execution_count": 2,
   "id": "dd813e31",
   "metadata": {
    "execution": {
     "iopub.execute_input": "2024-08-30T09:38:02.702235Z",
     "iopub.status.busy": "2024-08-30T09:38:02.701539Z",
     "iopub.status.idle": "2024-08-30T09:38:02.708159Z",
     "shell.execute_reply": "2024-08-30T09:38:02.706785Z"
    },
    "id": "8b60a40e",
    "papermill": {
     "duration": 0.031014,
     "end_time": "2024-08-30T09:38:02.710930",
     "exception": false,
     "start_time": "2024-08-30T09:38:02.679916",
     "status": "completed"
    },
    "tags": []
   },
   "outputs": [],
   "source": [
    "pd.set_option('display.max_columns', None)"
   ]
  },
  {
   "cell_type": "code",
   "execution_count": 3,
   "id": "918577ec",
   "metadata": {
    "execution": {
     "iopub.execute_input": "2024-08-30T09:38:02.753589Z",
     "iopub.status.busy": "2024-08-30T09:38:02.753123Z",
     "iopub.status.idle": "2024-08-30T09:38:16.539895Z",
     "shell.execute_reply": "2024-08-30T09:38:16.538517Z"
    },
    "executionInfo": {
     "elapsed": 9482,
     "status": "ok",
     "timestamp": 1724953500640,
     "user": {
      "displayName": "Ali Abdelmenam",
      "userId": "07293695764086267357"
     },
     "user_tz": -180
    },
    "id": "26b2ff09",
    "papermill": {
     "duration": 13.81204,
     "end_time": "2024-08-30T09:38:16.543235",
     "exception": false,
     "start_time": "2024-08-30T09:38:02.731195",
     "status": "completed"
    },
    "tags": []
   },
   "outputs": [],
   "source": [
    "# df=pd.read_csv('/content/sample_submission.csv')\n",
    "tr=pd.read_csv(\"/kaggle/input/playground-series-s4e8/train.csv\")\n"
   ]
  },
  {
   "cell_type": "code",
   "execution_count": 4,
   "id": "7a48ae5e",
   "metadata": {
    "execution": {
     "iopub.execute_input": "2024-08-30T09:38:16.586227Z",
     "iopub.status.busy": "2024-08-30T09:38:16.585741Z",
     "iopub.status.idle": "2024-08-30T09:38:16.594690Z",
     "shell.execute_reply": "2024-08-30T09:38:16.593434Z"
    },
    "executionInfo": {
     "elapsed": 23,
     "status": "ok",
     "timestamp": 1724867112857,
     "user": {
      "displayName": "Ali Abdelmenam",
      "userId": "07293695764086267357"
     },
     "user_tz": -180
    },
    "id": "c877a891",
    "outputId": "6382853a-ad53-43a3-852b-e5efe557feaf",
    "papermill": {
     "duration": 0.033613,
     "end_time": "2024-08-30T09:38:16.597395",
     "exception": false,
     "start_time": "2024-08-30T09:38:16.563782",
     "status": "completed"
    },
    "tags": []
   },
   "outputs": [
    {
     "data": {
      "text/plain": [
       "(3116945, 22)"
      ]
     },
     "execution_count": 4,
     "metadata": {},
     "output_type": "execute_result"
    }
   ],
   "source": [
    "tr.shape"
   ]
  },
  {
   "cell_type": "code",
   "execution_count": 5,
   "id": "0324f337",
   "metadata": {
    "execution": {
     "iopub.execute_input": "2024-08-30T09:38:16.640092Z",
     "iopub.status.busy": "2024-08-30T09:38:16.639571Z",
     "iopub.status.idle": "2024-08-30T09:38:16.677745Z",
     "shell.execute_reply": "2024-08-30T09:38:16.676320Z"
    },
    "executionInfo": {
     "elapsed": 22,
     "status": "ok",
     "timestamp": 1724867112858,
     "user": {
      "displayName": "Ali Abdelmenam",
      "userId": "07293695764086267357"
     },
     "user_tz": -180
    },
    "id": "cd986485",
    "outputId": "e66f9bea-a749-4f48-a993-efc5fbbf5bc0",
    "papermill": {
     "duration": 0.063318,
     "end_time": "2024-08-30T09:38:16.681005",
     "exception": false,
     "start_time": "2024-08-30T09:38:16.617687",
     "status": "completed"
    },
    "tags": []
   },
   "outputs": [
    {
     "data": {
      "text/html": [
       "<div>\n",
       "<style scoped>\n",
       "    .dataframe tbody tr th:only-of-type {\n",
       "        vertical-align: middle;\n",
       "    }\n",
       "\n",
       "    .dataframe tbody tr th {\n",
       "        vertical-align: top;\n",
       "    }\n",
       "\n",
       "    .dataframe thead th {\n",
       "        text-align: right;\n",
       "    }\n",
       "</style>\n",
       "<table border=\"1\" class=\"dataframe\">\n",
       "  <thead>\n",
       "    <tr style=\"text-align: right;\">\n",
       "      <th></th>\n",
       "      <th>id</th>\n",
       "      <th>class</th>\n",
       "      <th>cap-diameter</th>\n",
       "      <th>cap-shape</th>\n",
       "      <th>cap-surface</th>\n",
       "      <th>cap-color</th>\n",
       "      <th>does-bruise-or-bleed</th>\n",
       "      <th>gill-attachment</th>\n",
       "      <th>gill-spacing</th>\n",
       "      <th>gill-color</th>\n",
       "      <th>stem-height</th>\n",
       "      <th>stem-width</th>\n",
       "      <th>stem-root</th>\n",
       "      <th>stem-surface</th>\n",
       "      <th>stem-color</th>\n",
       "      <th>veil-type</th>\n",
       "      <th>veil-color</th>\n",
       "      <th>has-ring</th>\n",
       "      <th>ring-type</th>\n",
       "      <th>spore-print-color</th>\n",
       "      <th>habitat</th>\n",
       "      <th>season</th>\n",
       "    </tr>\n",
       "  </thead>\n",
       "  <tbody>\n",
       "    <tr>\n",
       "      <th>0</th>\n",
       "      <td>0</td>\n",
       "      <td>e</td>\n",
       "      <td>8.80</td>\n",
       "      <td>f</td>\n",
       "      <td>s</td>\n",
       "      <td>u</td>\n",
       "      <td>f</td>\n",
       "      <td>a</td>\n",
       "      <td>c</td>\n",
       "      <td>w</td>\n",
       "      <td>4.51</td>\n",
       "      <td>15.39</td>\n",
       "      <td>NaN</td>\n",
       "      <td>NaN</td>\n",
       "      <td>w</td>\n",
       "      <td>NaN</td>\n",
       "      <td>NaN</td>\n",
       "      <td>f</td>\n",
       "      <td>f</td>\n",
       "      <td>NaN</td>\n",
       "      <td>d</td>\n",
       "      <td>a</td>\n",
       "    </tr>\n",
       "    <tr>\n",
       "      <th>1</th>\n",
       "      <td>1</td>\n",
       "      <td>p</td>\n",
       "      <td>4.51</td>\n",
       "      <td>x</td>\n",
       "      <td>h</td>\n",
       "      <td>o</td>\n",
       "      <td>f</td>\n",
       "      <td>a</td>\n",
       "      <td>c</td>\n",
       "      <td>n</td>\n",
       "      <td>4.79</td>\n",
       "      <td>6.48</td>\n",
       "      <td>NaN</td>\n",
       "      <td>y</td>\n",
       "      <td>o</td>\n",
       "      <td>NaN</td>\n",
       "      <td>NaN</td>\n",
       "      <td>t</td>\n",
       "      <td>z</td>\n",
       "      <td>NaN</td>\n",
       "      <td>d</td>\n",
       "      <td>w</td>\n",
       "    </tr>\n",
       "    <tr>\n",
       "      <th>2</th>\n",
       "      <td>2</td>\n",
       "      <td>e</td>\n",
       "      <td>6.94</td>\n",
       "      <td>f</td>\n",
       "      <td>s</td>\n",
       "      <td>b</td>\n",
       "      <td>f</td>\n",
       "      <td>x</td>\n",
       "      <td>c</td>\n",
       "      <td>w</td>\n",
       "      <td>6.85</td>\n",
       "      <td>9.93</td>\n",
       "      <td>NaN</td>\n",
       "      <td>s</td>\n",
       "      <td>n</td>\n",
       "      <td>NaN</td>\n",
       "      <td>NaN</td>\n",
       "      <td>f</td>\n",
       "      <td>f</td>\n",
       "      <td>NaN</td>\n",
       "      <td>l</td>\n",
       "      <td>w</td>\n",
       "    </tr>\n",
       "    <tr>\n",
       "      <th>3</th>\n",
       "      <td>3</td>\n",
       "      <td>e</td>\n",
       "      <td>3.88</td>\n",
       "      <td>f</td>\n",
       "      <td>y</td>\n",
       "      <td>g</td>\n",
       "      <td>f</td>\n",
       "      <td>s</td>\n",
       "      <td>NaN</td>\n",
       "      <td>g</td>\n",
       "      <td>4.16</td>\n",
       "      <td>6.53</td>\n",
       "      <td>NaN</td>\n",
       "      <td>NaN</td>\n",
       "      <td>w</td>\n",
       "      <td>NaN</td>\n",
       "      <td>NaN</td>\n",
       "      <td>f</td>\n",
       "      <td>f</td>\n",
       "      <td>NaN</td>\n",
       "      <td>d</td>\n",
       "      <td>u</td>\n",
       "    </tr>\n",
       "    <tr>\n",
       "      <th>4</th>\n",
       "      <td>4</td>\n",
       "      <td>e</td>\n",
       "      <td>5.85</td>\n",
       "      <td>x</td>\n",
       "      <td>l</td>\n",
       "      <td>w</td>\n",
       "      <td>f</td>\n",
       "      <td>d</td>\n",
       "      <td>NaN</td>\n",
       "      <td>w</td>\n",
       "      <td>3.37</td>\n",
       "      <td>8.36</td>\n",
       "      <td>NaN</td>\n",
       "      <td>NaN</td>\n",
       "      <td>w</td>\n",
       "      <td>NaN</td>\n",
       "      <td>NaN</td>\n",
       "      <td>f</td>\n",
       "      <td>f</td>\n",
       "      <td>NaN</td>\n",
       "      <td>g</td>\n",
       "      <td>a</td>\n",
       "    </tr>\n",
       "  </tbody>\n",
       "</table>\n",
       "</div>"
      ],
      "text/plain": [
       "   id class  cap-diameter cap-shape cap-surface cap-color  \\\n",
       "0   0     e          8.80         f           s         u   \n",
       "1   1     p          4.51         x           h         o   \n",
       "2   2     e          6.94         f           s         b   \n",
       "3   3     e          3.88         f           y         g   \n",
       "4   4     e          5.85         x           l         w   \n",
       "\n",
       "  does-bruise-or-bleed gill-attachment gill-spacing gill-color  stem-height  \\\n",
       "0                    f               a            c          w         4.51   \n",
       "1                    f               a            c          n         4.79   \n",
       "2                    f               x            c          w         6.85   \n",
       "3                    f               s          NaN          g         4.16   \n",
       "4                    f               d          NaN          w         3.37   \n",
       "\n",
       "   stem-width stem-root stem-surface stem-color veil-type veil-color has-ring  \\\n",
       "0       15.39       NaN          NaN          w       NaN        NaN        f   \n",
       "1        6.48       NaN            y          o       NaN        NaN        t   \n",
       "2        9.93       NaN            s          n       NaN        NaN        f   \n",
       "3        6.53       NaN          NaN          w       NaN        NaN        f   \n",
       "4        8.36       NaN          NaN          w       NaN        NaN        f   \n",
       "\n",
       "  ring-type spore-print-color habitat season  \n",
       "0         f               NaN       d      a  \n",
       "1         z               NaN       d      w  \n",
       "2         f               NaN       l      w  \n",
       "3         f               NaN       d      u  \n",
       "4         f               NaN       g      a  "
      ]
     },
     "execution_count": 5,
     "metadata": {},
     "output_type": "execute_result"
    }
   ],
   "source": [
    "tr.head()"
   ]
  },
  {
   "cell_type": "code",
   "execution_count": 6,
   "id": "f34917e8",
   "metadata": {
    "execution": {
     "iopub.execute_input": "2024-08-30T09:38:16.725000Z",
     "iopub.status.busy": "2024-08-30T09:38:16.724417Z",
     "iopub.status.idle": "2024-08-30T09:38:16.755286Z",
     "shell.execute_reply": "2024-08-30T09:38:16.753324Z"
    },
    "executionInfo": {
     "elapsed": 12,
     "status": "ok",
     "timestamp": 1724942604294,
     "user": {
      "displayName": "Ali Abdelmenam",
      "userId": "07293695764086267357"
     },
     "user_tz": -180
    },
    "id": "8cbebd42",
    "outputId": "7f5b82df-bea7-43d2-909e-fa2ab7f9dd7d",
    "papermill": {
     "duration": 0.056625,
     "end_time": "2024-08-30T09:38:16.758246",
     "exception": false,
     "start_time": "2024-08-30T09:38:16.701621",
     "status": "completed"
    },
    "tags": []
   },
   "outputs": [
    {
     "name": "stdout",
     "output_type": "stream",
     "text": [
      "<class 'pandas.core.frame.DataFrame'>\n",
      "RangeIndex: 3116945 entries, 0 to 3116944\n",
      "Data columns (total 22 columns):\n",
      " #   Column                Dtype  \n",
      "---  ------                -----  \n",
      " 0   id                    int64  \n",
      " 1   class                 object \n",
      " 2   cap-diameter          float64\n",
      " 3   cap-shape             object \n",
      " 4   cap-surface           object \n",
      " 5   cap-color             object \n",
      " 6   does-bruise-or-bleed  object \n",
      " 7   gill-attachment       object \n",
      " 8   gill-spacing          object \n",
      " 9   gill-color            object \n",
      " 10  stem-height           float64\n",
      " 11  stem-width            float64\n",
      " 12  stem-root             object \n",
      " 13  stem-surface          object \n",
      " 14  stem-color            object \n",
      " 15  veil-type             object \n",
      " 16  veil-color            object \n",
      " 17  has-ring              object \n",
      " 18  ring-type             object \n",
      " 19  spore-print-color     object \n",
      " 20  habitat               object \n",
      " 21  season                object \n",
      "dtypes: float64(3), int64(1), object(18)\n",
      "memory usage: 523.2+ MB\n"
     ]
    }
   ],
   "source": [
    "tr.info()"
   ]
  },
  {
   "cell_type": "code",
   "execution_count": 7,
   "id": "c142ae8a",
   "metadata": {
    "execution": {
     "iopub.execute_input": "2024-08-30T09:38:16.803050Z",
     "iopub.status.busy": "2024-08-30T09:38:16.802473Z",
     "iopub.status.idle": "2024-08-30T09:38:17.335473Z",
     "shell.execute_reply": "2024-08-30T09:38:17.333995Z"
    },
    "executionInfo": {
     "elapsed": 362,
     "status": "ok",
     "timestamp": 1724953500995,
     "user": {
      "displayName": "Ali Abdelmenam",
      "userId": "07293695764086267357"
     },
     "user_tz": -180
    },
    "id": "1ceb10be",
    "papermill": {
     "duration": 0.559398,
     "end_time": "2024-08-30T09:38:17.338721",
     "exception": false,
     "start_time": "2024-08-30T09:38:16.779323",
     "status": "completed"
    },
    "tags": []
   },
   "outputs": [],
   "source": [
    "df_train = copy.deepcopy(tr)"
   ]
  },
  {
   "cell_type": "markdown",
   "id": "3933ef19",
   "metadata": {
    "id": "f5178506",
    "papermill": {
     "duration": 0.021025,
     "end_time": "2024-08-30T09:38:17.380599",
     "exception": false,
     "start_time": "2024-08-30T09:38:17.359574",
     "status": "completed"
    },
    "tags": []
   },
   "source": [
    "# **Category**"
   ]
  },
  {
   "cell_type": "code",
   "execution_count": 8,
   "id": "a83e600b",
   "metadata": {
    "execution": {
     "iopub.execute_input": "2024-08-30T09:38:17.425230Z",
     "iopub.status.busy": "2024-08-30T09:38:17.424733Z",
     "iopub.status.idle": "2024-08-30T09:38:17.431678Z",
     "shell.execute_reply": "2024-08-30T09:38:17.430166Z"
    },
    "executionInfo": {
     "elapsed": 6,
     "status": "ok",
     "timestamp": 1724953502342,
     "user": {
      "displayName": "Ali Abdelmenam",
      "userId": "07293695764086267357"
     },
     "user_tz": -180
    },
    "id": "b70c4e43",
    "papermill": {
     "duration": 0.032939,
     "end_time": "2024-08-30T09:38:17.434442",
     "exception": false,
     "start_time": "2024-08-30T09:38:17.401503",
     "status": "completed"
    },
    "tags": []
   },
   "outputs": [],
   "source": [
    "def subclass_details (df):\n",
    "  df=df.select_dtypes(include='category')\n",
    "  for col in df.columns:\n",
    "    print('Number of unique classes:',df[col].nunique())\n",
    "    print(df[col].value_counts().head(10))\n",
    "    print('############################')"
   ]
  },
  {
   "cell_type": "code",
   "execution_count": 9,
   "id": "94474b44",
   "metadata": {
    "execution": {
     "iopub.execute_input": "2024-08-30T09:38:17.480559Z",
     "iopub.status.busy": "2024-08-30T09:38:17.480109Z",
     "iopub.status.idle": "2024-08-30T09:38:17.487864Z",
     "shell.execute_reply": "2024-08-30T09:38:17.486460Z"
    },
    "executionInfo": {
     "elapsed": 3,
     "status": "ok",
     "timestamp": 1724953502737,
     "user": {
      "displayName": "Ali Abdelmenam",
      "userId": "07293695764086267357"
     },
     "user_tz": -180
    },
    "id": "27c956fd",
    "papermill": {
     "duration": 0.033434,
     "end_time": "2024-08-30T09:38:17.490658",
     "exception": false,
     "start_time": "2024-08-30T09:38:17.457224",
     "status": "completed"
    },
    "tags": []
   },
   "outputs": [],
   "source": [
    "def remove_att(df,threshold=200):\n",
    "  cat_coln=df.select_dtypes(include='object')\n",
    "  for col in cat_coln:\n",
    "    attrib_drop=[]\n",
    "    for att , count in df[col].value_counts().items() :\n",
    "      if count <threshold:\n",
    "        attrib_drop.append(att)\n",
    "    mask = df[col].isin(attrib_drop)\n",
    "    df.loc[mask,col] = 'UNK'\n",
    "  return df"
   ]
  },
  {
   "cell_type": "code",
   "execution_count": 10,
   "id": "e9962e67",
   "metadata": {
    "execution": {
     "iopub.execute_input": "2024-08-30T09:38:17.535030Z",
     "iopub.status.busy": "2024-08-30T09:38:17.534519Z",
     "iopub.status.idle": "2024-08-30T09:38:17.541210Z",
     "shell.execute_reply": "2024-08-30T09:38:17.539932Z"
    },
    "executionInfo": {
     "elapsed": 6,
     "status": "ok",
     "timestamp": 1724953504028,
     "user": {
      "displayName": "Ali Abdelmenam",
      "userId": "07293695764086267357"
     },
     "user_tz": -180
    },
    "id": "0bb5005d",
    "papermill": {
     "duration": 0.031853,
     "end_time": "2024-08-30T09:38:17.543933",
     "exception": false,
     "start_time": "2024-08-30T09:38:17.512080",
     "status": "completed"
    },
    "tags": []
   },
   "outputs": [],
   "source": [
    "def convert_cate (df):\n",
    "  for clas in df.select_dtypes(include='object'):\n",
    "    df[clas] =   df[clas].astype('category')\n",
    "  return df"
   ]
  },
  {
   "cell_type": "code",
   "execution_count": 11,
   "id": "15388944",
   "metadata": {
    "execution": {
     "iopub.execute_input": "2024-08-30T09:38:17.588751Z",
     "iopub.status.busy": "2024-08-30T09:38:17.588147Z",
     "iopub.status.idle": "2024-08-30T09:38:39.508302Z",
     "shell.execute_reply": "2024-08-30T09:38:39.506766Z"
    },
    "executionInfo": {
     "elapsed": 14255,
     "status": "ok",
     "timestamp": 1724953519877,
     "user": {
      "displayName": "Ali Abdelmenam",
      "userId": "07293695764086267357"
     },
     "user_tz": -180
    },
    "id": "0abf860a",
    "outputId": "4ea817db-3e0f-4ef0-8cd5-05b1818c59da",
    "papermill": {
     "duration": 21.945387,
     "end_time": "2024-08-30T09:38:39.511020",
     "exception": false,
     "start_time": "2024-08-30T09:38:17.565633",
     "status": "completed"
    },
    "tags": []
   },
   "outputs": [
    {
     "name": "stdout",
     "output_type": "stream",
     "text": [
      "Number of unique classes: 2\n",
      "class\n",
      "p    1705396\n",
      "e    1411549\n",
      "Name: count, dtype: int64\n",
      "############################\n",
      "Number of unique classes: 8\n",
      "cap-shape\n",
      "x      1436026\n",
      "f       676238\n",
      "s       365146\n",
      "b       318646\n",
      "o       108835\n",
      "p       106967\n",
      "c       104520\n",
      "UNK        527\n",
      "Name: count, dtype: int64\n",
      "############################\n",
      "Number of unique classes: 12\n",
      "cap-surface\n",
      "t    460777\n",
      "s    384970\n",
      "y    327826\n",
      "h    284460\n",
      "g    263729\n",
      "d    206832\n",
      "k    128875\n",
      "e    119712\n",
      "i    113440\n",
      "w    109840\n",
      "Name: count, dtype: int64\n",
      "############################\n",
      "Number of unique classes: 13\n",
      "cap-color\n",
      "n    1359542\n",
      "y     386627\n",
      "w     379442\n",
      "g     210825\n",
      "e     197290\n",
      "o     178847\n",
      "p      91838\n",
      "r      78236\n",
      "u      73172\n",
      "b      61313\n",
      "Name: count, dtype: int64\n",
      "############################\n",
      "Number of unique classes: 3\n",
      "does-bruise-or-bleed\n",
      "f      2569743\n",
      "t       547085\n",
      "UNK        109\n",
      "Name: count, dtype: int64\n",
      "############################\n",
      "Number of unique classes: 8\n",
      "gill-attachment\n",
      "a      646034\n",
      "d      589236\n",
      "x      360878\n",
      "e      301858\n",
      "s      295439\n",
      "p      279110\n",
      "f      119953\n",
      "UNK       501\n",
      "Name: count, dtype: int64\n",
      "############################\n",
      "Number of unique classes: 4\n",
      "gill-spacing\n",
      "c      1331054\n",
      "d       407932\n",
      "f       119380\n",
      "UNK        144\n",
      "Name: count, dtype: int64\n",
      "############################\n",
      "Number of unique classes: 13\n",
      "gill-color\n",
      "w    931538\n",
      "n    543386\n",
      "y    469464\n",
      "p    343626\n",
      "g    212164\n",
      "o    157119\n",
      "k    127970\n",
      "f    119694\n",
      "r     62799\n",
      "e     56047\n",
      "Name: count, dtype: int64\n",
      "############################\n",
      "Number of unique classes: 6\n",
      "stem-root\n",
      "b      165801\n",
      "s      116946\n",
      "r       47803\n",
      "c       28592\n",
      "f         597\n",
      "UNK       183\n",
      "Name: count, dtype: int64\n",
      "############################\n",
      "Number of unique classes: 9\n",
      "stem-surface\n",
      "s      327610\n",
      "y      255500\n",
      "i      224346\n",
      "t      147974\n",
      "g       78080\n",
      "k       73383\n",
      "h       28283\n",
      "f         512\n",
      "UNK       396\n",
      "Name: count, dtype: int64\n",
      "############################\n",
      "Number of unique classes: 14\n",
      "stem-color\n",
      "w    1196637\n",
      "n    1003464\n",
      "y     373971\n",
      "g     132019\n",
      "o     111541\n",
      "e     103373\n",
      "u      67017\n",
      "p      54690\n",
      "k      33676\n",
      "r      22329\n",
      "Name: count, dtype: int64\n",
      "############################\n",
      "Number of unique classes: 2\n",
      "veil-type\n",
      "u      159373\n",
      "UNK        79\n",
      "Name: count, dtype: int64\n",
      "############################\n",
      "Number of unique classes: 7\n",
      "veil-color\n",
      "w      279070\n",
      "y       30473\n",
      "n       30039\n",
      "u       14026\n",
      "k       13080\n",
      "e        9169\n",
      "UNK       141\n",
      "Name: count, dtype: int64\n",
      "############################\n",
      "Number of unique classes: 3\n",
      "has-ring\n",
      "f      2368820\n",
      "t       747982\n",
      "UNK        119\n",
      "Name: count, dtype: int64\n",
      "############################\n",
      "Number of unique classes: 9\n",
      "ring-type\n",
      "f      2477170\n",
      "e       120006\n",
      "z       113780\n",
      "l        73443\n",
      "r        67909\n",
      "p        67678\n",
      "g        63687\n",
      "m         3992\n",
      "UNK        400\n",
      "Name: count, dtype: int64\n",
      "############################\n",
      "Number of unique classes: 8\n",
      "spore-print-color\n",
      "k      107310\n",
      "p       68237\n",
      "w       50173\n",
      "n       22646\n",
      "r        7975\n",
      "u        7256\n",
      "g        3492\n",
      "UNK       174\n",
      "Name: count, dtype: int64\n",
      "############################\n",
      "Number of unique classes: 9\n",
      "habitat\n",
      "d      2177573\n",
      "g       454908\n",
      "l       171892\n",
      "m       150969\n",
      "h       120137\n",
      "w        18530\n",
      "p        17180\n",
      "u         5264\n",
      "UNK        447\n",
      "Name: count, dtype: int64\n",
      "############################\n",
      "Number of unique classes: 4\n",
      "season\n",
      "a    1543321\n",
      "u    1153588\n",
      "w     278189\n",
      "s     141847\n",
      "Name: count, dtype: int64\n",
      "############################\n"
     ]
    }
   ],
   "source": [
    "df_train = remove_att(df_train)\n",
    "df_train = convert_cate(df_train)\n",
    "subclass_details(df_train)"
   ]
  },
  {
   "cell_type": "code",
   "execution_count": 12,
   "id": "a3a39dc2",
   "metadata": {
    "execution": {
     "iopub.execute_input": "2024-08-30T09:38:39.555645Z",
     "iopub.status.busy": "2024-08-30T09:38:39.555184Z",
     "iopub.status.idle": "2024-08-30T09:38:39.576042Z",
     "shell.execute_reply": "2024-08-30T09:38:39.574507Z"
    },
    "executionInfo": {
     "elapsed": 13,
     "status": "ok",
     "timestamp": 1724867150628,
     "user": {
      "displayName": "Ali Abdelmenam",
      "userId": "07293695764086267357"
     },
     "user_tz": -180
    },
    "id": "e0b83d9d",
    "outputId": "0af7f44f-c147-4ccc-fb0f-5a4be755e797",
    "papermill": {
     "duration": 0.046576,
     "end_time": "2024-08-30T09:38:39.578922",
     "exception": false,
     "start_time": "2024-08-30T09:38:39.532346",
     "status": "completed"
    },
    "tags": []
   },
   "outputs": [
    {
     "name": "stdout",
     "output_type": "stream",
     "text": [
      "<class 'pandas.core.frame.DataFrame'>\n",
      "RangeIndex: 3116945 entries, 0 to 3116944\n",
      "Data columns (total 22 columns):\n",
      " #   Column                Dtype   \n",
      "---  ------                -----   \n",
      " 0   id                    int64   \n",
      " 1   class                 category\n",
      " 2   cap-diameter          float64 \n",
      " 3   cap-shape             category\n",
      " 4   cap-surface           category\n",
      " 5   cap-color             category\n",
      " 6   does-bruise-or-bleed  category\n",
      " 7   gill-attachment       category\n",
      " 8   gill-spacing          category\n",
      " 9   gill-color            category\n",
      " 10  stem-height           float64 \n",
      " 11  stem-width            float64 \n",
      " 12  stem-root             category\n",
      " 13  stem-surface          category\n",
      " 14  stem-color            category\n",
      " 15  veil-type             category\n",
      " 16  veil-color            category\n",
      " 17  has-ring              category\n",
      " 18  ring-type             category\n",
      " 19  spore-print-color     category\n",
      " 20  habitat               category\n",
      " 21  season                category\n",
      "dtypes: category(18), float64(3), int64(1)\n",
      "memory usage: 148.6 MB\n"
     ]
    }
   ],
   "source": [
    "df_train.info()"
   ]
  },
  {
   "cell_type": "markdown",
   "id": "fca14128",
   "metadata": {
    "id": "ce105287",
    "papermill": {
     "duration": 0.02134,
     "end_time": "2024-08-30T09:38:39.621738",
     "exception": false,
     "start_time": "2024-08-30T09:38:39.600398",
     "status": "completed"
    },
    "tags": []
   },
   "source": [
    "# **Missing Value**"
   ]
  },
  {
   "cell_type": "code",
   "execution_count": 13,
   "id": "b318f28d",
   "metadata": {
    "execution": {
     "iopub.execute_input": "2024-08-30T09:38:39.666278Z",
     "iopub.status.busy": "2024-08-30T09:38:39.665829Z",
     "iopub.status.idle": "2024-08-30T09:38:39.673353Z",
     "shell.execute_reply": "2024-08-30T09:38:39.672084Z"
    },
    "id": "0e264a73",
    "papermill": {
     "duration": 0.033176,
     "end_time": "2024-08-30T09:38:39.676214",
     "exception": false,
     "start_time": "2024-08-30T09:38:39.643038",
     "status": "completed"
    },
    "tags": []
   },
   "outputs": [],
   "source": [
    "def plot_missing_feature(df):\n",
    "  null_df=(df.isna().sum()*100/df.shape[0]).sort_values(ascending=False)\n",
    "  sns.barplot(x=null_df.index,y=null_df.values,palette='plasma')\n",
    "  plt.xticks(rotation=90)\n",
    "  plt.xlabel('Feature')\n",
    "  plt.ylabel('Percent(%)')\n",
    "  plt.title('Missing Values')\n",
    "  plt.show()"
   ]
  },
  {
   "cell_type": "code",
   "execution_count": 14,
   "id": "caed6977",
   "metadata": {
    "execution": {
     "iopub.execute_input": "2024-08-30T09:38:39.721227Z",
     "iopub.status.busy": "2024-08-30T09:38:39.720768Z",
     "iopub.status.idle": "2024-08-30T09:38:39.727199Z",
     "shell.execute_reply": "2024-08-30T09:38:39.725980Z"
    },
    "executionInfo": {
     "elapsed": 33,
     "status": "ok",
     "timestamp": 1724953519877,
     "user": {
      "displayName": "Ali Abdelmenam",
      "userId": "07293695764086267357"
     },
     "user_tz": -180
    },
    "id": "d57f2361",
    "papermill": {
     "duration": 0.032216,
     "end_time": "2024-08-30T09:38:39.730011",
     "exception": false,
     "start_time": "2024-08-30T09:38:39.697795",
     "status": "completed"
    },
    "tags": []
   },
   "outputs": [],
   "source": [
    "def missing_feature (df):\n",
    "  null_df=(df.isna().sum()*100/df.shape[0]).sort_values(ascending=False)\n",
    "  return null_df"
   ]
  },
  {
   "cell_type": "code",
   "execution_count": 15,
   "id": "037f582d",
   "metadata": {
    "execution": {
     "iopub.execute_input": "2024-08-30T09:38:39.774499Z",
     "iopub.status.busy": "2024-08-30T09:38:39.774066Z",
     "iopub.status.idle": "2024-08-30T09:38:39.852032Z",
     "shell.execute_reply": "2024-08-30T09:38:39.850685Z"
    },
    "executionInfo": {
     "elapsed": 33,
     "status": "ok",
     "timestamp": 1724953519878,
     "user": {
      "displayName": "Ali Abdelmenam",
      "userId": "07293695764086267357"
     },
     "user_tz": -180
    },
    "id": "9c941b81",
    "outputId": "efa0b7e5-689b-4020-a4d6-c775fda71ff8",
    "papermill": {
     "duration": 0.103395,
     "end_time": "2024-08-30T09:38:39.854681",
     "exception": false,
     "start_time": "2024-08-30T09:38:39.751286",
     "status": "completed"
    },
    "tags": []
   },
   "outputs": [
    {
     "data": {
      "text/plain": [
       "veil-type               94.884350\n",
       "spore-print-color       91.425482\n",
       "stem-root               88.452732\n",
       "veil-color              87.936970\n",
       "stem-surface            63.551362\n",
       "gill-spacing            40.373988\n",
       "cap-surface             21.528227\n",
       "gill-attachment         16.809280\n",
       "ring-type                4.134818\n",
       "gill-color               0.001829\n",
       "habitat                  0.001444\n",
       "cap-shape                0.001283\n",
       "stem-color               0.001219\n",
       "has-ring                 0.000770\n",
       "cap-color                0.000385\n",
       "does-bruise-or-bleed     0.000257\n",
       "cap-diameter             0.000128\n",
       "id                       0.000000\n",
       "stem-width               0.000000\n",
       "class                    0.000000\n",
       "stem-height              0.000000\n",
       "season                   0.000000\n",
       "dtype: float64"
      ]
     },
     "execution_count": 15,
     "metadata": {},
     "output_type": "execute_result"
    }
   ],
   "source": [
    "null_df_train = missing_feature(df_train)\n",
    "null_df_train"
   ]
  },
  {
   "cell_type": "code",
   "execution_count": 16,
   "id": "ac1d0c8c",
   "metadata": {
    "execution": {
     "iopub.execute_input": "2024-08-30T09:38:39.900033Z",
     "iopub.status.busy": "2024-08-30T09:38:39.899533Z",
     "iopub.status.idle": "2024-08-30T09:38:40.450458Z",
     "shell.execute_reply": "2024-08-30T09:38:40.449111Z"
    },
    "executionInfo": {
     "elapsed": 4806,
     "status": "ok",
     "timestamp": 1724867155740,
     "user": {
      "displayName": "Ali Abdelmenam",
      "userId": "07293695764086267357"
     },
     "user_tz": -180
    },
    "id": "46a07285",
    "outputId": "ae5de12e-41c7-4121-f8d3-2bf9ae911448",
    "papermill": {
     "duration": 0.576682,
     "end_time": "2024-08-30T09:38:40.453104",
     "exception": false,
     "start_time": "2024-08-30T09:38:39.876422",
     "status": "completed"
    },
    "tags": []
   },
   "outputs": [
    {
     "data": {
      "image/png": "[encoded data removed]",
      "text/plain": [
       "<Figure size 640x480 with 1 Axes>"
      ]
     },
     "metadata": {},
     "output_type": "display_data"
    }
   ],
   "source": [
    "plot_missing_feature(df_train)"
   ]
  },
  {
   "cell_type": "code",
   "execution_count": 17,
   "id": "085cf655",
   "metadata": {
    "execution": {
     "iopub.execute_input": "2024-08-30T09:38:40.500706Z",
     "iopub.status.busy": "2024-08-30T09:38:40.499451Z",
     "iopub.status.idle": "2024-08-30T09:38:40.506411Z",
     "shell.execute_reply": "2024-08-30T09:38:40.505169Z"
    },
    "executionInfo": {
     "elapsed": 30,
     "status": "ok",
     "timestamp": 1724953519878,
     "user": {
      "displayName": "Ali Abdelmenam",
      "userId": "07293695764086267357"
     },
     "user_tz": -180
    },
    "id": "4dda0460",
    "papermill": {
     "duration": 0.033635,
     "end_time": "2024-08-30T09:38:40.509133",
     "exception": false,
     "start_time": "2024-08-30T09:38:40.475498",
     "status": "completed"
    },
    "tags": []
   },
   "outputs": [],
   "source": [
    "def columns_drop(df):\n",
    "  column_drop=[]\n",
    "  null_df=missing_feature(df)\n",
    "  for col,val in null_df.items():\n",
    "    if val >4:\n",
    "      column_drop.append(col)\n",
    "  return column_drop"
   ]
  },
  {
   "cell_type": "code",
   "execution_count": 18,
   "id": "2b592ddf",
   "metadata": {
    "execution": {
     "iopub.execute_input": "2024-08-30T09:38:40.555965Z",
     "iopub.status.busy": "2024-08-30T09:38:40.555520Z",
     "iopub.status.idle": "2024-08-30T09:38:40.627399Z",
     "shell.execute_reply": "2024-08-30T09:38:40.625962Z"
    },
    "executionInfo": {
     "elapsed": 30,
     "status": "ok",
     "timestamp": 1724953519878,
     "user": {
      "displayName": "Ali Abdelmenam",
      "userId": "07293695764086267357"
     },
     "user_tz": -180
    },
    "id": "a4f14e94",
    "outputId": "0a1db328-d146-4c4a-8e43-35d93725023c",
    "papermill": {
     "duration": 0.098744,
     "end_time": "2024-08-30T09:38:40.630262",
     "exception": false,
     "start_time": "2024-08-30T09:38:40.531518",
     "status": "completed"
    },
    "tags": []
   },
   "outputs": [
    {
     "name": "stdout",
     "output_type": "stream",
     "text": [
      "-----------------------------------------\n",
      "['veil-type', 'spore-print-color', 'stem-root', 'veil-color', 'stem-surface', 'gill-spacing', 'cap-surface', 'gill-attachment', 'ring-type']\n"
     ]
    }
   ],
   "source": [
    "column_drop_train = columns_drop(df_train)\n",
    "print('-----------------------------------------')\n",
    "print(column_drop_train)"
   ]
  },
  {
   "cell_type": "code",
   "execution_count": 19,
   "id": "167565fb",
   "metadata": {
    "execution": {
     "iopub.execute_input": "2024-08-30T09:38:40.677351Z",
     "iopub.status.busy": "2024-08-30T09:38:40.676602Z",
     "iopub.status.idle": "2024-08-30T09:38:40.736028Z",
     "shell.execute_reply": "2024-08-30T09:38:40.734526Z"
    },
    "executionInfo": {
     "elapsed": 439,
     "status": "ok",
     "timestamp": 1724953520301,
     "user": {
      "displayName": "Ali Abdelmenam",
      "userId": "07293695764086267357"
     },
     "user_tz": -180
    },
    "id": "83084a02",
    "papermill": {
     "duration": 0.086054,
     "end_time": "2024-08-30T09:38:40.738911",
     "exception": false,
     "start_time": "2024-08-30T09:38:40.652857",
     "status": "completed"
    },
    "tags": []
   },
   "outputs": [],
   "source": [
    "df_train.drop(column_drop_train,axis=1,inplace=True)\n",
    "df_train.drop('id',axis=1,inplace=True)"
   ]
  },
  {
   "cell_type": "code",
   "execution_count": 20,
   "id": "6664bb69",
   "metadata": {
    "execution": {
     "iopub.execute_input": "2024-08-30T09:38:40.786008Z",
     "iopub.status.busy": "2024-08-30T09:38:40.785523Z",
     "iopub.status.idle": "2024-08-30T09:38:40.834283Z",
     "shell.execute_reply": "2024-08-30T09:38:40.832933Z"
    },
    "executionInfo": {
     "elapsed": 14,
     "status": "ok",
     "timestamp": 1724942661128,
     "user": {
      "displayName": "Ali Abdelmenam",
      "userId": "07293695764086267357"
     },
     "user_tz": -180
    },
    "id": "537d444b",
    "outputId": "928e1478-efe3-4eff-89c6-b11dcd7c4389",
    "papermill": {
     "duration": 0.075704,
     "end_time": "2024-08-30T09:38:40.837103",
     "exception": false,
     "start_time": "2024-08-30T09:38:40.761399",
     "status": "completed"
    },
    "tags": []
   },
   "outputs": [
    {
     "data": {
      "text/plain": [
       "class                    0\n",
       "cap-diameter             4\n",
       "cap-shape               40\n",
       "cap-color               12\n",
       "does-bruise-or-bleed     8\n",
       "gill-color              57\n",
       "stem-height              0\n",
       "stem-width               0\n",
       "stem-color              38\n",
       "has-ring                24\n",
       "habitat                 45\n",
       "season                   0\n",
       "dtype: int64"
      ]
     },
     "execution_count": 20,
     "metadata": {},
     "output_type": "execute_result"
    }
   ],
   "source": [
    "df_train.isna().sum()"
   ]
  },
  {
   "cell_type": "code",
   "execution_count": 21,
   "id": "17aa5612",
   "metadata": {
    "execution": {
     "iopub.execute_input": "2024-08-30T09:38:40.884535Z",
     "iopub.status.busy": "2024-08-30T09:38:40.884074Z",
     "iopub.status.idle": "2024-08-30T09:38:43.672401Z",
     "shell.execute_reply": "2024-08-30T09:38:43.671151Z"
    },
    "executionInfo": {
     "elapsed": 2868,
     "status": "ok",
     "timestamp": 1724856315485,
     "user": {
      "displayName": "Ali Abdelmenam",
      "userId": "07293695764086267357"
     },
     "user_tz": -180
    },
    "id": "c908a728",
    "outputId": "fbc50d9c-05f8-4833-873d-a23be5605c15",
    "papermill": {
     "duration": 2.815382,
     "end_time": "2024-08-30T09:38:43.675141",
     "exception": false,
     "start_time": "2024-08-30T09:38:40.859759",
     "status": "completed"
    },
    "tags": []
   },
   "outputs": [
    {
     "data": {
      "text/plain": [
       "array([<Axes: ylabel='Frequency'>, <Axes: ylabel='Frequency'>,\n",
       "       <Axes: ylabel='Frequency'>], dtype=object)"
      ]
     },
     "execution_count": 21,
     "metadata": {},
     "output_type": "execute_result"
    },
    {
     "data": {
      "image/png": "[encoded data removed]",
      "text/plain": [
       "<Figure size 1500x1500 with 3 Axes>"
      ]
     },
     "metadata": {},
     "output_type": "display_data"
    }
   ],
   "source": [
    "df_train.plot(kind='hist',subplots=True,sharex=True,figsize=(15,15),bins=100)"
   ]
  },
  {
   "cell_type": "markdown",
   "id": "859c5215",
   "metadata": {
    "id": "d073775a",
    "papermill": {
     "duration": 0.02439,
     "end_time": "2024-08-30T09:38:43.725727",
     "exception": false,
     "start_time": "2024-08-30T09:38:43.701337",
     "status": "completed"
    },
    "tags": []
   },
   "source": [
    "# **Splitting Data**"
   ]
  },
  {
   "cell_type": "code",
   "execution_count": 22,
   "id": "3eb0a444",
   "metadata": {
    "execution": {
     "iopub.execute_input": "2024-08-30T09:38:43.776939Z",
     "iopub.status.busy": "2024-08-30T09:38:43.776249Z",
     "iopub.status.idle": "2024-08-30T09:38:44.565375Z",
     "shell.execute_reply": "2024-08-30T09:38:44.564103Z"
    },
    "executionInfo": {
     "elapsed": 1108,
     "status": "ok",
     "timestamp": 1724953521405,
     "user": {
      "displayName": "Ali Abdelmenam",
      "userId": "07293695764086267357"
     },
     "user_tz": -180
    },
    "id": "9fa3578c",
    "outputId": "4f9d0d43-8582-4250-ccd4-3bfec1ae4d37",
    "papermill": {
     "duration": 0.818151,
     "end_time": "2024-08-30T09:38:44.567960",
     "exception": false,
     "start_time": "2024-08-30T09:38:43.749809",
     "status": "completed"
    },
    "tags": []
   },
   "outputs": [
    {
     "data": {
      "text/plain": [
       "array([[0],\n",
       "       [1],\n",
       "       [0],\n",
       "       ...,\n",
       "       [1],\n",
       "       [0],\n",
       "       [1]])"
      ]
     },
     "execution_count": 22,
     "metadata": {},
     "output_type": "execute_result"
    }
   ],
   "source": [
    "x=df_train.drop('class',axis=1)\n",
    "y=df_train['class']\n",
    "y=np.array([0 if i =='e' else 1 for i in y])\n",
    "y.reshape(-1,1)"
   ]
  },
  {
   "cell_type": "code",
   "execution_count": 23,
   "id": "ba36383e",
   "metadata": {
    "execution": {
     "iopub.execute_input": "2024-08-30T09:38:44.619671Z",
     "iopub.status.busy": "2024-08-30T09:38:44.619215Z",
     "iopub.status.idle": "2024-08-30T09:38:46.586939Z",
     "shell.execute_reply": "2024-08-30T09:38:46.585747Z"
    },
    "executionInfo": {
     "elapsed": 2209,
     "status": "ok",
     "timestamp": 1724953523608,
     "user": {
      "displayName": "Ali Abdelmenam",
      "userId": "07293695764086267357"
     },
     "user_tz": -180
    },
    "id": "8856f031",
    "papermill": {
     "duration": 1.996838,
     "end_time": "2024-08-30T09:38:46.589745",
     "exception": false,
     "start_time": "2024-08-30T09:38:44.592907",
     "status": "completed"
    },
    "tags": []
   },
   "outputs": [],
   "source": [
    "x_train,x_test,y_train,y_test=train_test_split(x,y,train_size=.7,stratify=y)"
   ]
  },
  {
   "cell_type": "markdown",
   "id": "1b071666",
   "metadata": {
    "id": "f35dfa9d",
    "papermill": {
     "duration": 0.023471,
     "end_time": "2024-08-30T09:38:46.637088",
     "exception": false,
     "start_time": "2024-08-30T09:38:46.613617",
     "status": "completed"
    },
    "tags": []
   },
   "source": [
    "# **Pipeline**"
   ]
  },
  {
   "cell_type": "code",
   "execution_count": 24,
   "id": "fda5a8a1",
   "metadata": {
    "execution": {
     "iopub.execute_input": "2024-08-30T09:38:46.686799Z",
     "iopub.status.busy": "2024-08-30T09:38:46.686326Z",
     "iopub.status.idle": "2024-08-30T09:38:46.733960Z",
     "shell.execute_reply": "2024-08-30T09:38:46.732597Z"
    },
    "executionInfo": {
     "elapsed": 10,
     "status": "ok",
     "timestamp": 1724953523608,
     "user": {
      "displayName": "Ali Abdelmenam",
      "userId": "07293695764086267357"
     },
     "user_tz": -180
    },
    "id": "c7cc26f4",
    "outputId": "c17813ea-5917-46a2-a079-b1e035711c67",
    "papermill": {
     "duration": 0.07588,
     "end_time": "2024-08-30T09:38:46.736896",
     "exception": false,
     "start_time": "2024-08-30T09:38:46.661016",
     "status": "completed"
    },
    "tags": []
   },
   "outputs": [
    {
     "data": {
      "text/plain": [
       "Index(['cap-shape', 'cap-color', 'does-bruise-or-bleed', 'gill-color',\n",
       "       'stem-color', 'has-ring', 'habitat', 'season'],\n",
       "      dtype='object')"
      ]
     },
     "execution_count": 24,
     "metadata": {},
     "output_type": "execute_result"
    }
   ],
   "source": [
    "num_data_train_columns = x.select_dtypes(include='number').columns\n",
    "cat_data_train_columns = x.select_dtypes(include='category').columns\n",
    "cat_data_train_columns"
   ]
  },
  {
   "cell_type": "code",
   "execution_count": 25,
   "id": "0db92421",
   "metadata": {
    "execution": {
     "iopub.execute_input": "2024-08-30T09:38:46.786841Z",
     "iopub.status.busy": "2024-08-30T09:38:46.786384Z",
     "iopub.status.idle": "2024-08-30T09:38:46.793278Z",
     "shell.execute_reply": "2024-08-30T09:38:46.791932Z"
    },
    "executionInfo": {
     "elapsed": 7,
     "status": "ok",
     "timestamp": 1724953523609,
     "user": {
      "displayName": "Ali Abdelmenam",
      "userId": "07293695764086267357"
     },
     "user_tz": -180
    },
    "id": "d252703f",
    "papermill": {
     "duration": 0.03522,
     "end_time": "2024-08-30T09:38:46.796011",
     "exception": false,
     "start_time": "2024-08-30T09:38:46.760791",
     "status": "completed"
    },
    "tags": []
   },
   "outputs": [],
   "source": [
    "num_pipe=Pipeline (steps=[\n",
    "    ('imputer',SimpleImputer(strategy='median')),\n",
    "    ('scaler',StandardScaler())\n",
    "])\n",
    "cat_pipe=Pipeline (steps=[\n",
    "    ('imputer',SimpleImputer(strategy='most_frequent')),\n",
    "    # ('encoder',OneHotEncoder(sparse=False, handle_unknown='ignore'))\n",
    "    ('encoder',OrdinalEncoder())\n",
    "\n",
    "])"
   ]
  },
  {
   "cell_type": "code",
   "execution_count": 26,
   "id": "72bf7ebc",
   "metadata": {
    "execution": {
     "iopub.execute_input": "2024-08-30T09:38:46.847199Z",
     "iopub.status.busy": "2024-08-30T09:38:46.846214Z",
     "iopub.status.idle": "2024-08-30T09:38:46.852413Z",
     "shell.execute_reply": "2024-08-30T09:38:46.851161Z"
    },
    "executionInfo": {
     "elapsed": 6,
     "status": "ok",
     "timestamp": 1724953523983,
     "user": {
      "displayName": "Ali Abdelmenam",
      "userId": "07293695764086267357"
     },
     "user_tz": -180
    },
    "id": "ca2f7a9d",
    "papermill": {
     "duration": 0.035227,
     "end_time": "2024-08-30T09:38:46.855293",
     "exception": false,
     "start_time": "2024-08-30T09:38:46.820066",
     "status": "completed"
    },
    "tags": []
   },
   "outputs": [],
   "source": [
    "df_preprocessing=ColumnTransformer(\n",
    "     transformers=[\n",
    "        ('num', num_pipe, num_data_train_columns),\n",
    "        ('cat', cat_pipe, cat_data_train_columns)\n",
    "    ]\n",
    ")"
   ]
  },
  {
   "cell_type": "code",
   "execution_count": 27,
   "id": "b516c93c",
   "metadata": {
    "execution": {
     "iopub.execute_input": "2024-08-30T09:38:46.907136Z",
     "iopub.status.busy": "2024-08-30T09:38:46.906645Z",
     "iopub.status.idle": "2024-08-30T09:38:46.912926Z",
     "shell.execute_reply": "2024-08-30T09:38:46.911604Z"
    },
    "executionInfo": {
     "elapsed": 5,
     "status": "ok",
     "timestamp": 1724953524329,
     "user": {
      "displayName": "Ali Abdelmenam",
      "userId": "07293695764086267357"
     },
     "user_tz": -180
    },
    "id": "a6a10e7b",
    "papermill": {
     "duration": 0.035405,
     "end_time": "2024-08-30T09:38:46.915908",
     "exception": false,
     "start_time": "2024-08-30T09:38:46.880503",
     "status": "completed"
    },
    "tags": []
   },
   "outputs": [],
   "source": [
    "final_pipe = Pipeline(steps=[\n",
    "    ('preprocessor',df_preprocessing)\n",
    "    # ('PCA',PCA(n_components=.95)),\n",
    "#     ('MCA',prince.MCA( n_components=2,  n_iter=3,       check_input=True, engine='auto',   random_state=42))\n",
    "\n",
    "])"
   ]
  },
  {
   "cell_type": "code",
   "execution_count": 28,
   "id": "c067aa09",
   "metadata": {
    "execution": {
     "iopub.execute_input": "2024-08-30T09:38:46.965679Z",
     "iopub.status.busy": "2024-08-30T09:38:46.965216Z",
     "iopub.status.idle": "2024-08-30T09:39:01.794645Z",
     "shell.execute_reply": "2024-08-30T09:39:01.793397Z"
    },
    "executionInfo": {
     "elapsed": 12637,
     "status": "ok",
     "timestamp": 1724953537732,
     "user": {
      "displayName": "Ali Abdelmenam",
      "userId": "07293695764086267357"
     },
     "user_tz": -180
    },
    "id": "aeed12b3",
    "papermill": {
     "duration": 14.857455,
     "end_time": "2024-08-30T09:39:01.797412",
     "exception": false,
     "start_time": "2024-08-30T09:38:46.939957",
     "status": "completed"
    },
    "tags": []
   },
   "outputs": [],
   "source": [
    "x_train=final_pipe.fit_transform(x_train)\n",
    "x_test=final_pipe.transform(x_test)"
   ]
  },
  {
   "cell_type": "code",
   "execution_count": 29,
   "id": "b1851c77",
   "metadata": {
    "execution": {
     "iopub.execute_input": "2024-08-30T09:39:01.848072Z",
     "iopub.status.busy": "2024-08-30T09:39:01.847568Z",
     "iopub.status.idle": "2024-08-30T09:41:36.995686Z",
     "shell.execute_reply": "2024-08-30T09:41:36.992851Z"
    },
    "executionInfo": {
     "elapsed": 35439,
     "status": "ok",
     "timestamp": 1724953573162,
     "user": {
      "displayName": "Ali Abdelmenam",
      "userId": "07293695764086267357"
     },
     "user_tz": -180
    },
    "id": "Z7CWSwYYMMJK",
    "papermill": {
     "duration": 155.178259,
     "end_time": "2024-08-30T09:41:36.999711",
     "exception": false,
     "start_time": "2024-08-30T09:39:01.821452",
     "status": "completed"
    },
    "tags": []
   },
   "outputs": [],
   "source": [
    "isolation_forest = IsolationForest(contamination=0.024, random_state=42)\n",
    "x_train_labels = isolation_forest.fit_predict(x_train) # 1 indicate normal, -1--> outlier (anomaly)\n",
    "normal_label_boolean = x_train_labels !=-1\n",
    "x_train = x_train[normal_label_boolean]\n",
    "y_train = y_train[normal_label_boolean]"
   ]
  },
  {
   "cell_type": "code",
   "execution_count": 30,
   "id": "adc41dad",
   "metadata": {
    "execution": {
     "iopub.execute_input": "2024-08-30T09:41:37.119798Z",
     "iopub.status.busy": "2024-08-30T09:41:37.119265Z",
     "iopub.status.idle": "2024-08-30T09:41:37.128221Z",
     "shell.execute_reply": "2024-08-30T09:41:37.126964Z"
    },
    "executionInfo": {
     "elapsed": 397,
     "status": "ok",
     "timestamp": 1724954025352,
     "user": {
      "displayName": "Ali Abdelmenam",
      "userId": "07293695764086267357"
     },
     "user_tz": -180
    },
    "id": "tqqujtw4Q5CQ",
    "outputId": "9bfc7fd6-4223-4c5f-af90-103b980c78d6",
    "papermill": {
     "duration": 0.038477,
     "end_time": "2024-08-30T09:41:37.131255",
     "exception": false,
     "start_time": "2024-08-30T09:41:37.092778",
     "status": "completed"
    },
    "tags": []
   },
   "outputs": [
    {
     "data": {
      "text/plain": [
       "0.02399786237528423"
      ]
     },
     "execution_count": 30,
     "metadata": {},
     "output_type": "execute_result"
    }
   ],
   "source": [
    "1-len(x_train)/len(x_train_labels)"
   ]
  },
  {
   "cell_type": "markdown",
   "id": "3fc92c8e",
   "metadata": {
    "id": "690ef91a",
    "papermill": {
     "duration": 0.025093,
     "end_time": "2024-08-30T09:41:37.182907",
     "exception": false,
     "start_time": "2024-08-30T09:41:37.157814",
     "status": "completed"
    },
    "tags": []
   },
   "source": [
    "# **Modeling**"
   ]
  },
  {
   "cell_type": "code",
   "execution_count": 31,
   "id": "18c9d9ce",
   "metadata": {
    "execution": {
     "iopub.execute_input": "2024-08-30T09:41:37.234917Z",
     "iopub.status.busy": "2024-08-30T09:41:37.234422Z",
     "iopub.status.idle": "2024-08-30T09:41:37.241225Z",
     "shell.execute_reply": "2024-08-30T09:41:37.239795Z"
    },
    "id": "7264dccf",
    "papermill": {
     "duration": 0.035758,
     "end_time": "2024-08-30T09:41:37.244059",
     "exception": false,
     "start_time": "2024-08-30T09:41:37.208301",
     "status": "completed"
    },
    "tags": []
   },
   "outputs": [],
   "source": [
    "def Bayesian_Optimization (model,search_space):\n",
    "  bayes = BayesSearchCV(model,\n",
    "                        search_space,\n",
    "                         n_iter= 20,\n",
    "                        n_jobs=-1,\n",
    "                        scoring='accuracy',\n",
    "                        random_state=42)\n",
    "  return bayes"
   ]
  },
  {
   "cell_type": "code",
   "execution_count": 32,
   "id": "b23749ed",
   "metadata": {
    "execution": {
     "iopub.execute_input": "2024-08-30T09:41:37.296753Z",
     "iopub.status.busy": "2024-08-30T09:41:37.296276Z",
     "iopub.status.idle": "2024-08-30T09:41:37.311581Z",
     "shell.execute_reply": "2024-08-30T09:41:37.310150Z"
    },
    "id": "362f1adf",
    "papermill": {
     "duration": 0.045477,
     "end_time": "2024-08-30T09:41:37.314661",
     "exception": false,
     "start_time": "2024-08-30T09:41:37.269184",
     "status": "completed"
    },
    "tags": []
   },
   "outputs": [],
   "source": [
    "xgb_space = {\n",
    "    'n_estimators': Integer(50, 150),\n",
    "    'max_depth': Integer(2, 8),\n",
    "    'learning_rate': Real(0.01, .4, 'log-uniform'),\n",
    "    'subsample': Real(0.5, 1.0, 'uniform'),\n",
    "    'colsample_bytree': Real(0.5, 1.0, 'uniform'),\n",
    "    'alpha':Real(.1,.5,'uniform'),\n",
    "    'min_child_weight':Integer(5,10)\n",
    "}"
   ]
  },
  {
   "cell_type": "code",
   "execution_count": 33,
   "id": "0750aa4e",
   "metadata": {
    "execution": {
     "iopub.execute_input": "2024-08-30T09:41:37.372977Z",
     "iopub.status.busy": "2024-08-30T09:41:37.372436Z",
     "iopub.status.idle": "2024-08-30T09:41:37.382013Z",
     "shell.execute_reply": "2024-08-30T09:41:37.380057Z"
    },
    "id": "cac86649",
    "papermill": {
     "duration": 0.043465,
     "end_time": "2024-08-30T09:41:37.385684",
     "exception": false,
     "start_time": "2024-08-30T09:41:37.342219",
     "status": "completed"
    },
    "tags": []
   },
   "outputs": [],
   "source": [
    "xgb = XGBClassifier(random_state=42,use_label_encoder=False)\n",
    "xgb_optimzied = Bayesian_Optimization(xgb,xgb_space)"
   ]
  },
  {
   "cell_type": "code",
   "execution_count": 34,
   "id": "ac5b072a",
   "metadata": {
    "_kg_hide-output": true,
    "execution": {
     "iopub.execute_input": "2024-08-30T09:41:37.442289Z",
     "iopub.status.busy": "2024-08-30T09:41:37.441739Z",
     "iopub.status.idle": "2024-08-30T10:10:09.158342Z",
     "shell.execute_reply": "2024-08-30T10:10:09.157086Z"
    },
    "executionInfo": {
     "elapsed": 812684,
     "status": "error",
     "timestamp": 1724860534395,
     "user": {
      "displayName": "Ali Abdelmenam",
      "userId": "07293695764086267357"
     },
     "user_tz": -180
    },
    "id": "6adf1976",
    "outputId": "2f2f79f7-56e9-4ec5-f913-b50c7c2926c1",
    "papermill": {
     "duration": 1711.774606,
     "end_time": "2024-08-30T10:10:09.186437",
     "exception": false,
     "start_time": "2024-08-30T09:41:37.411831",
     "status": "completed"
    },
    "tags": []
   },
   "outputs": [
    {
     "data": {
      "text/html": [
       "<style>#sk-container-id-1 {color: black;background-color: white;}#sk-container-id-1 pre{padding: 0;}#sk-container-id-1 div.sk-toggleable {background-color: white;}#sk-container-id-1 label.sk-toggleable__label {cursor: pointer;display: block;width: 100%;margin-bottom: 0;padding: 0.3em;box-sizing: border-box;text-align: center;}#sk-container-id-1 label.sk-toggleable__label-arrow:before {content: \"▸\";float: left;margin-right: 0.25em;color: #696969;}#sk-container-id-1 label.sk-toggleable__label-arrow:hover:before {color: black;}#sk-container-id-1 div.sk-estimator:hover label.sk-toggleable__label-arrow:before {color: black;}#sk-container-id-1 div.sk-toggleable__content {max-height: 0;max-width: 0;overflow: hidden;text-align: left;background-color: #f0f8ff;}#sk-container-id-1 div.sk-toggleable__content pre {margin: 0.2em;color: black;border-radius: 0.25em;background-color: #f0f8ff;}#sk-container-id-1 input.sk-toggleable__control:checked~div.sk-toggleable__content {max-height: 200px;max-width: 100%;overflow: auto;}#sk-container-id-1 input.sk-toggleable__control:checked~label.sk-toggleable__label-arrow:before {content: \"▾\";}#sk-container-id-1 div.sk-estimator input.sk-toggleable__control:checked~label.sk-toggleable__label {background-color: #d4ebff;}#sk-container-id-1 div.sk-label input.sk-toggleable__control:checked~label.sk-toggleable__label {background-color: #d4ebff;}#sk-container-id-1 input.sk-hidden--visually {border: 0;clip: rect(1px 1px 1px 1px);clip: rect(1px, 1px, 1px, 1px);height: 1px;margin: -1px;overflow: hidden;padding: 0;position: absolute;width: 1px;}#sk-container-id-1 div.sk-estimator {font-family: monospace;background-color: #f0f8ff;border: 1px dotted black;border-radius: 0.25em;box-sizing: border-box;margin-bottom: 0.5em;}#sk-container-id-1 div.sk-estimator:hover {background-color: #d4ebff;}#sk-container-id-1 div.sk-parallel-item::after {content: \"\";width: 100%;border-bottom: 1px solid gray;flex-grow: 1;}#sk-container-id-1 div.sk-label:hover label.sk-toggleable__label {background-color: #d4ebff;}#sk-container-id-1 div.sk-serial::before {content: \"\";position: absolute;border-left: 1px solid gray;box-sizing: border-box;top: 0;bottom: 0;left: 50%;z-index: 0;}#sk-container-id-1 div.sk-serial {display: flex;flex-direction: column;align-items: center;background-color: white;padding-right: 0.2em;padding-left: 0.2em;position: relative;}#sk-container-id-1 div.sk-item {position: relative;z-index: 1;}#sk-container-id-1 div.sk-parallel {display: flex;align-items: stretch;justify-content: center;background-color: white;position: relative;}#sk-container-id-1 div.sk-item::before, #sk-container-id-1 div.sk-parallel-item::before {content: \"\";position: absolute;border-left: 1px solid gray;box-sizing: border-box;top: 0;bottom: 0;left: 50%;z-index: -1;}#sk-container-id-1 div.sk-parallel-item {display: flex;flex-direction: column;z-index: 1;position: relative;background-color: white;}#sk-container-id-1 div.sk-parallel-item:first-child::after {align-self: flex-end;width: 50%;}#sk-container-id-1 div.sk-parallel-item:last-child::after {align-self: flex-start;width: 50%;}#sk-container-id-1 div.sk-parallel-item:only-child::after {width: 0;}#sk-container-id-1 div.sk-dashed-wrapped {border: 1px dashed gray;margin: 0 0.4em 0.5em 0.4em;box-sizing: border-box;padding-bottom: 0.4em;background-color: white;}#sk-container-id-1 div.sk-label label {font-family: monospace;font-weight: bold;display: inline-block;line-height: 1.2em;}#sk-container-id-1 div.sk-label-container {text-align: center;}#sk-container-id-1 div.sk-container {/* jupyter's `normalize.less` sets `[hidden] { display: none; }` but bootstrap.min.css set `[hidden] { display: none !important; }` so we also need the `!important` here to be able to override the default hidden behavior on the sphinx rendered scikit-learn.org. See: https://github.com/scikit-learn/scikit-learn/issues/21755 */display: inline-block !important;position: relative;}#sk-container-id-1 div.sk-text-repr-fallback {display: none;}</style><div id=\"sk-container-id-1\" class=\"sk-top-container\"><div class=\"sk-text-repr-fallback\"><pre>BayesSearchCV(estimator=XGBClassifier(base_score=None, booster=None,\n",
       "                                      callbacks=None, colsample_bylevel=None,\n",
       "                                      colsample_bynode=None,\n",
       "                                      colsample_bytree=None, device=None,\n",
       "                                      early_stopping_rounds=None,\n",
       "                                      enable_categorical=False,\n",
       "                                      eval_metric=None, feature_types=None,\n",
       "                                      gamma=None, grow_policy=None,\n",
       "                                      importance_type=None,\n",
       "                                      interaction_constraints=None,\n",
       "                                      learning_rate=None, max_...\n",
       "                             &#x27;learning_rate&#x27;: Real(low=0.01, high=0.4, prior=&#x27;log-uniform&#x27;, transform=&#x27;normalize&#x27;),\n",
       "                             &#x27;max_depth&#x27;: Integer(low=2, high=8, prior=&#x27;uniform&#x27;, transform=&#x27;normalize&#x27;),\n",
       "                             &#x27;min_child_weight&#x27;: Integer(low=5, high=10, prior=&#x27;uniform&#x27;, transform=&#x27;normalize&#x27;),\n",
       "                             &#x27;n_estimators&#x27;: Integer(low=50, high=150, prior=&#x27;uniform&#x27;, transform=&#x27;normalize&#x27;),\n",
       "                             &#x27;subsample&#x27;: Real(low=0.5, high=1.0, prior=&#x27;uniform&#x27;, transform=&#x27;normalize&#x27;)})</pre><b>In a Jupyter environment, please rerun this cell to show the HTML representation or trust the notebook. <br />On GitHub, the HTML representation is unable to render, please try loading this page with nbviewer.org.</b></div><div class=\"sk-container\" hidden><div class=\"sk-item sk-dashed-wrapped\"><div class=\"sk-label-container\"><div class=\"sk-label sk-toggleable\"><input class=\"sk-toggleable__control sk-hidden--visually\" id=\"sk-estimator-id-1\" type=\"checkbox\" ><label for=\"sk-estimator-id-1\" class=\"sk-toggleable__label sk-toggleable__label-arrow\">BayesSearchCV</label><div class=\"sk-toggleable__content\"><pre>BayesSearchCV(estimator=XGBClassifier(base_score=None, booster=None,\n",
       "                                      callbacks=None, colsample_bylevel=None,\n",
       "                                      colsample_bynode=None,\n",
       "                                      colsample_bytree=None, device=None,\n",
       "                                      early_stopping_rounds=None,\n",
       "                                      enable_categorical=False,\n",
       "                                      eval_metric=None, feature_types=None,\n",
       "                                      gamma=None, grow_policy=None,\n",
       "                                      importance_type=None,\n",
       "                                      interaction_constraints=None,\n",
       "                                      learning_rate=None, max_...\n",
       "                             &#x27;learning_rate&#x27;: Real(low=0.01, high=0.4, prior=&#x27;log-uniform&#x27;, transform=&#x27;normalize&#x27;),\n",
       "                             &#x27;max_depth&#x27;: Integer(low=2, high=8, prior=&#x27;uniform&#x27;, transform=&#x27;normalize&#x27;),\n",
       "                             &#x27;min_child_weight&#x27;: Integer(low=5, high=10, prior=&#x27;uniform&#x27;, transform=&#x27;normalize&#x27;),\n",
       "                             &#x27;n_estimators&#x27;: Integer(low=50, high=150, prior=&#x27;uniform&#x27;, transform=&#x27;normalize&#x27;),\n",
       "                             &#x27;subsample&#x27;: Real(low=0.5, high=1.0, prior=&#x27;uniform&#x27;, transform=&#x27;normalize&#x27;)})</pre></div></div></div><div class=\"sk-parallel\"><div class=\"sk-parallel-item\"><div class=\"sk-item\"><div class=\"sk-label-container\"><div class=\"sk-label sk-toggleable\"><input class=\"sk-toggleable__control sk-hidden--visually\" id=\"sk-estimator-id-2\" type=\"checkbox\" ><label for=\"sk-estimator-id-2\" class=\"sk-toggleable__label sk-toggleable__label-arrow\">estimator: XGBClassifier</label><div class=\"sk-toggleable__content\"><pre>XGBClassifier(base_score=None, booster=None, callbacks=None,\n",
       "              colsample_bylevel=None, colsample_bynode=None,\n",
       "              colsample_bytree=None, device=None, early_stopping_rounds=None,\n",
       "              enable_categorical=False, eval_metric=None, feature_types=None,\n",
       "              gamma=None, grow_policy=None, importance_type=None,\n",
       "              interaction_constraints=None, learning_rate=None, max_bin=None,\n",
       "              max_cat_threshold=None, max_cat_to_onehot=None,\n",
       "              max_delta_step=None, max_depth=None, max_leaves=None,\n",
       "              min_child_weight=None, missing=nan, monotone_constraints=None,\n",
       "              multi_strategy=None, n_estimators=None, n_jobs=None,\n",
       "              num_parallel_tree=None, random_state=42, ...)</pre></div></div></div><div class=\"sk-serial\"><div class=\"sk-item\"><div class=\"sk-estimator sk-toggleable\"><input class=\"sk-toggleable__control sk-hidden--visually\" id=\"sk-estimator-id-3\" type=\"checkbox\" ><label for=\"sk-estimator-id-3\" class=\"sk-toggleable__label sk-toggleable__label-arrow\">XGBClassifier</label><div class=\"sk-toggleable__content\"><pre>XGBClassifier(base_score=None, booster=None, callbacks=None,\n",
       "              colsample_bylevel=None, colsample_bynode=None,\n",
       "              colsample_bytree=None, device=None, early_stopping_rounds=None,\n",
       "              enable_categorical=False, eval_metric=None, feature_types=None,\n",
       "              gamma=None, grow_policy=None, importance_type=None,\n",
       "              interaction_constraints=None, learning_rate=None, max_bin=None,\n",
       "              max_cat_threshold=None, max_cat_to_onehot=None,\n",
       "              max_delta_step=None, max_depth=None, max_leaves=None,\n",
       "              min_child_weight=None, missing=nan, monotone_constraints=None,\n",
       "              multi_strategy=None, n_estimators=None, n_jobs=None,\n",
       "              num_parallel_tree=None, random_state=42, ...)</pre></div></div></div></div></div></div></div></div></div></div>"
      ],
      "text/plain": [
       "BayesSearchCV(estimator=XGBClassifier(base_score=None, booster=None,\n",
       "                                      callbacks=None, colsample_bylevel=None,\n",
       "                                      colsample_bynode=None,\n",
       "                                      colsample_bytree=None, device=None,\n",
       "                                      early_stopping_rounds=None,\n",
       "                                      enable_categorical=False,\n",
       "                                      eval_metric=None, feature_types=None,\n",
       "                                      gamma=None, grow_policy=None,\n",
       "                                      importance_type=None,\n",
       "                                      interaction_constraints=None,\n",
       "                                      learning_rate=None, max_...\n",
       "                             'learning_rate': Real(low=0.01, high=0.4, prior='log-uniform', transform='normalize'),\n",
       "                             'max_depth': Integer(low=2, high=8, prior='uniform', transform='normalize'),\n",
       "                             'min_child_weight': Integer(low=5, high=10, prior='uniform', transform='normalize'),\n",
       "                             'n_estimators': Integer(low=50, high=150, prior='uniform', transform='normalize'),\n",
       "                             'subsample': Real(low=0.5, high=1.0, prior='uniform', transform='normalize')})"
      ]
     },
     "execution_count": 34,
     "metadata": {},
     "output_type": "execute_result"
    }
   ],
   "source": [
    "xgb_optimzied.fit(x_train,y_train)"
   ]
  },
  {
   "cell_type": "code",
   "execution_count": 35,
   "id": "34b996c6",
   "metadata": {
    "execution": {
     "iopub.execute_input": "2024-08-30T10:10:09.241835Z",
     "iopub.status.busy": "2024-08-30T10:10:09.241276Z",
     "iopub.status.idle": "2024-08-30T10:10:09.250397Z",
     "shell.execute_reply": "2024-08-30T10:10:09.248819Z"
    },
    "id": "64f7bf78",
    "outputId": "e43ef131-251c-4ce2-c678-e141d474af02",
    "papermill": {
     "duration": 0.040924,
     "end_time": "2024-08-30T10:10:09.253292",
     "exception": false,
     "start_time": "2024-08-30T10:10:09.212368",
     "status": "completed"
    },
    "tags": []
   },
   "outputs": [
    {
     "data": {
      "text/plain": [
       "OrderedDict([('alpha', 0.5),\n",
       "             ('colsample_bytree', 1.0),\n",
       "             ('learning_rate', 0.4),\n",
       "             ('max_depth', 8),\n",
       "             ('min_child_weight', 10),\n",
       "             ('n_estimators', 150),\n",
       "             ('subsample', 1.0)])"
      ]
     },
     "execution_count": 35,
     "metadata": {},
     "output_type": "execute_result"
    }
   ],
   "source": [
    "xgb_optimzied.best_params_"
   ]
  },
  {
   "cell_type": "code",
   "execution_count": 36,
   "id": "4ed3b13f",
   "metadata": {
    "execution": {
     "iopub.execute_input": "2024-08-30T10:10:09.311119Z",
     "iopub.status.busy": "2024-08-30T10:10:09.310623Z",
     "iopub.status.idle": "2024-08-30T10:10:09.316374Z",
     "shell.execute_reply": "2024-08-30T10:10:09.314962Z"
    },
    "id": "b813b936",
    "papermill": {
     "duration": 0.037632,
     "end_time": "2024-08-30T10:10:09.319392",
     "exception": false,
     "start_time": "2024-08-30T10:10:09.281760",
     "status": "completed"
    },
    "tags": []
   },
   "outputs": [],
   "source": [
    "xgb=xgb_optimzied.best_estimator_"
   ]
  },
  {
   "cell_type": "code",
   "execution_count": 37,
   "id": "e117aa2d",
   "metadata": {
    "execution": {
     "iopub.execute_input": "2024-08-30T10:10:09.372732Z",
     "iopub.status.busy": "2024-08-30T10:10:09.372264Z",
     "iopub.status.idle": "2024-08-30T10:10:11.501936Z",
     "shell.execute_reply": "2024-08-30T10:10:11.500030Z"
    },
    "executionInfo": {
     "elapsed": 84569,
     "status": "ok",
     "timestamp": 1724954007827,
     "user": {
      "displayName": "Ali Abdelmenam",
      "userId": "07293695764086267357"
     },
     "user_tz": -180
    },
    "id": "0729ef47",
    "outputId": "ec58e2b9-6645-4409-a3f9-5450a40fd817",
    "papermill": {
     "duration": 2.160427,
     "end_time": "2024-08-30T10:10:11.504938",
     "exception": false,
     "start_time": "2024-08-30T10:10:09.344511",
     "status": "completed"
    },
    "tags": []
   },
   "outputs": [
    {
     "name": "stdout",
     "output_type": "stream",
     "text": [
      "XGB -->  0.9800884198638838\n"
     ]
    }
   ],
   "source": [
    "y_pred_xgb=xgb.predict(x_test)\n",
    "print('XGB --> ',accuracy_score(y_test,y_pred_xgb))"
   ]
  },
  {
   "cell_type": "code",
   "execution_count": 38,
   "id": "cc1077f5",
   "metadata": {
    "execution": {
     "iopub.execute_input": "2024-08-30T10:10:11.564176Z",
     "iopub.status.busy": "2024-08-30T10:10:11.562680Z",
     "iopub.status.idle": "2024-08-30T10:10:13.631686Z",
     "shell.execute_reply": "2024-08-30T10:10:13.630079Z"
    },
    "executionInfo": {
     "elapsed": 3916,
     "status": "ok",
     "timestamp": 1724954191456,
     "user": {
      "displayName": "Ali Abdelmenam",
      "userId": "07293695764086267357"
     },
     "user_tz": -180
    },
    "id": "0485d89a",
    "outputId": "760389b8-904c-4869-c2d3-675d4eb65c7d",
    "papermill": {
     "duration": 2.102414,
     "end_time": "2024-08-30T10:10:13.634937",
     "exception": false,
     "start_time": "2024-08-30T10:10:11.532523",
     "status": "completed"
    },
    "tags": []
   },
   "outputs": [
    {
     "name": "stdout",
     "output_type": "stream",
     "text": [
      "\n",
      "Classification Report:\n",
      "              precision    recall  f1-score   support\n",
      "\n",
      "           0       0.98      0.98      0.98    423465\n",
      "           1       0.98      0.98      0.98    511619\n",
      "\n",
      "    accuracy                           0.98    935084\n",
      "   macro avg       0.98      0.98      0.98    935084\n",
      "weighted avg       0.98      0.98      0.98    935084\n",
      "\n"
     ]
    }
   ],
   "source": [
    "\n",
    "print(\"\\nClassification Report:\")\n",
    "print(classification_report(y_test, y_pred_xgb))"
   ]
  },
  {
   "cell_type": "markdown",
   "id": "4e7f3154",
   "metadata": {
    "id": "791af742",
    "papermill": {
     "duration": 0.025279,
     "end_time": "2024-08-30T10:10:13.686736",
     "exception": false,
     "start_time": "2024-08-30T10:10:13.661457",
     "status": "completed"
    },
    "tags": []
   },
   "source": [
    "> ***Submession***"
   ]
  },
  {
   "cell_type": "code",
   "execution_count": 39,
   "id": "30fba58c",
   "metadata": {
    "execution": {
     "iopub.execute_input": "2024-08-30T10:10:13.744701Z",
     "iopub.status.busy": "2024-08-30T10:10:13.744222Z",
     "iopub.status.idle": "2024-08-30T10:10:21.847705Z",
     "shell.execute_reply": "2024-08-30T10:10:21.846265Z"
    },
    "id": "99a0def0",
    "papermill": {
     "duration": 8.136283,
     "end_time": "2024-08-30T10:10:21.850709",
     "exception": false,
     "start_time": "2024-08-30T10:10:13.714426",
     "status": "completed"
    },
    "tags": []
   },
   "outputs": [],
   "source": [
    "ts = pd.read_csv('/kaggle/input/playground-series-s4e8/test.csv')"
   ]
  },
  {
   "cell_type": "code",
   "execution_count": 40,
   "id": "61707045",
   "metadata": {
    "execution": {
     "iopub.execute_input": "2024-08-30T10:10:21.904171Z",
     "iopub.status.busy": "2024-08-30T10:10:21.903738Z",
     "iopub.status.idle": "2024-08-30T10:10:22.795488Z",
     "shell.execute_reply": "2024-08-30T10:10:22.793972Z"
    },
    "id": "39ed0627",
    "papermill": {
     "duration": 0.921596,
     "end_time": "2024-08-30T10:10:22.798591",
     "exception": false,
     "start_time": "2024-08-30T10:10:21.876995",
     "status": "completed"
    },
    "tags": []
   },
   "outputs": [],
   "source": [
    "df_test = copy.deepcopy(ts)\n",
    "df_test.drop('id',axis=1,inplace=True)"
   ]
  },
  {
   "cell_type": "code",
   "execution_count": 41,
   "id": "dbf7641d",
   "metadata": {
    "execution": {
     "iopub.execute_input": "2024-08-30T10:10:22.853114Z",
     "iopub.status.busy": "2024-08-30T10:10:22.851957Z",
     "iopub.status.idle": "2024-08-30T10:10:26.057326Z",
     "shell.execute_reply": "2024-08-30T10:10:26.055820Z"
    },
    "id": "49963e0c",
    "outputId": "8027f123-7381-4ca1-ac5b-2ba4b579421a",
    "papermill": {
     "duration": 3.236841,
     "end_time": "2024-08-30T10:10:26.060932",
     "exception": false,
     "start_time": "2024-08-30T10:10:22.824091",
     "status": "completed"
    },
    "tags": []
   },
   "outputs": [],
   "source": [
    "ts_col=columns_drop(df_test)"
   ]
  },
  {
   "cell_type": "code",
   "execution_count": 42,
   "id": "215e9ad3",
   "metadata": {
    "execution": {
     "iopub.execute_input": "2024-08-30T10:10:26.126637Z",
     "iopub.status.busy": "2024-08-30T10:10:26.125182Z",
     "iopub.status.idle": "2024-08-30T10:10:33.583063Z",
     "shell.execute_reply": "2024-08-30T10:10:33.581715Z"
    },
    "papermill": {
     "duration": 7.489267,
     "end_time": "2024-08-30T10:10:33.586098",
     "exception": false,
     "start_time": "2024-08-30T10:10:26.096831",
     "status": "completed"
    },
    "tags": []
   },
   "outputs": [],
   "source": [
    "df_test = remove_att(df_test)\n",
    "df_test.drop(ts_col,axis=1,inplace=True)"
   ]
  },
  {
   "cell_type": "code",
   "execution_count": 43,
   "id": "378a2eaf",
   "metadata": {
    "execution": {
     "iopub.execute_input": "2024-08-30T10:10:33.639385Z",
     "iopub.status.busy": "2024-08-30T10:10:33.638799Z",
     "iopub.status.idle": "2024-08-30T10:10:39.594527Z",
     "shell.execute_reply": "2024-08-30T10:10:39.592845Z"
    },
    "id": "97c6caec",
    "papermill": {
     "duration": 5.986643,
     "end_time": "2024-08-30T10:10:39.597945",
     "exception": false,
     "start_time": "2024-08-30T10:10:33.611302",
     "status": "completed"
    },
    "tags": []
   },
   "outputs": [],
   "source": [
    "df_test=final_pipe.transform(df_test)"
   ]
  },
  {
   "cell_type": "code",
   "execution_count": 44,
   "id": "ea09bb3c",
   "metadata": {
    "execution": {
     "iopub.execute_input": "2024-08-30T10:10:39.651957Z",
     "iopub.status.busy": "2024-08-30T10:10:39.651468Z",
     "iopub.status.idle": "2024-08-30T10:10:44.126711Z",
     "shell.execute_reply": "2024-08-30T10:10:44.125220Z"
    },
    "id": "c53323c0",
    "papermill": {
     "duration": 4.505767,
     "end_time": "2024-08-30T10:10:44.129791",
     "exception": false,
     "start_time": "2024-08-30T10:10:39.624024",
     "status": "completed"
    },
    "tags": []
   },
   "outputs": [],
   "source": [
    "final_pred = xgb.predict(df_test)"
   ]
  },
  {
   "cell_type": "code",
   "execution_count": 45,
   "id": "891a0a6b",
   "metadata": {
    "execution": {
     "iopub.execute_input": "2024-08-30T10:10:44.182569Z",
     "iopub.status.busy": "2024-08-30T10:10:44.182087Z",
     "iopub.status.idle": "2024-08-30T10:10:44.769296Z",
     "shell.execute_reply": "2024-08-30T10:10:44.767967Z"
    },
    "id": "63897774",
    "papermill": {
     "duration": 0.616788,
     "end_time": "2024-08-30T10:10:44.772199",
     "exception": false,
     "start_time": "2024-08-30T10:10:44.155411",
     "status": "completed"
    },
    "tags": []
   },
   "outputs": [],
   "source": [
    "final_pred_trans=['e' if i==0 else 'p' for i in final_pred]"
   ]
  },
  {
   "cell_type": "code",
   "execution_count": 46,
   "id": "0f608b61",
   "metadata": {
    "execution": {
     "iopub.execute_input": "2024-08-30T10:10:44.833663Z",
     "iopub.status.busy": "2024-08-30T10:10:44.833204Z",
     "iopub.status.idle": "2024-08-30T10:10:44.952609Z",
     "shell.execute_reply": "2024-08-30T10:10:44.950939Z"
    },
    "id": "ac05df7f",
    "papermill": {
     "duration": 0.155506,
     "end_time": "2024-08-30T10:10:44.955744",
     "exception": false,
     "start_time": "2024-08-30T10:10:44.800238",
     "status": "completed"
    },
    "tags": []
   },
   "outputs": [],
   "source": [
    "submession= pd.DataFrame({'id':ts['id'].values,\n",
    "                          'class':final_pred_trans\n",
    "                         }\n",
    "                        )\n"
   ]
  },
  {
   "cell_type": "code",
   "execution_count": 47,
   "id": "143a69d4",
   "metadata": {
    "execution": {
     "iopub.execute_input": "2024-08-30T10:10:45.009521Z",
     "iopub.status.busy": "2024-08-30T10:10:45.009064Z",
     "iopub.status.idle": "2024-08-30T10:10:47.865733Z",
     "shell.execute_reply": "2024-08-30T10:10:47.864321Z"
    },
    "id": "81be5ea8",
    "papermill": {
     "duration": 2.887599,
     "end_time": "2024-08-30T10:10:47.868997",
     "exception": false,
     "start_time": "2024-08-30T10:10:44.981398",
     "status": "completed"
    },
    "tags": []
   },
   "outputs": [],
   "source": [
    "submession.to_csv('submession.csv',index=False)"
   ]
  },
  {
   "cell_type": "code",
   "execution_count": null,
   "id": "5724c3b2",
   "metadata": {
    "id": "411d72bc",
    "papermill": {
     "duration": 0.025284,
     "end_time": "2024-08-30T10:10:47.920364",
     "exception": false,
     "start_time": "2024-08-30T10:10:47.895080",
     "status": "completed"
    },
    "tags": []
   },
   "outputs": [],
   "source": []
  }
 ],
 "metadata": {
  "colab": {
   "provenance": [
    {
     "file_id": "https://github.com/aliabdelmonam/Poisonous_Mushrooms/blob/main/Poisonous_Mushroomsv2.ipynb",
     "timestamp": 1724942477470
    },
    {
     "file_id": "https://github.com/aliabdelmonam/Poisonous_Mushrooms/blob/main/Poisonous_Mushrooms.ipynb",
     "timestamp": 1724834645639
    }
   ]
  },
  "kaggle": {
   "accelerator": "none",
   "dataSources": [
    {
     "databundleVersionId": 9045607,
     "sourceId": 76727,
     "sourceType": "competition"
    }
   ],
   "dockerImageVersionId": 30761,
   "isGpuEnabled": false,
   "isInternetEnabled": true,
   "language": "python",
   "sourceType": "notebook"
  },
  "kernelspec": {
   "display_name": "Python 3",
   "language": "python",
   "name": "python3"
  },
  "language_info": {
   "codemirror_mode": {
    "name": "ipython",
    "version": 3
   },
   "file_extension": ".py",
   "mimetype": "text/x-python",
   "name": "python",
   "nbconvert_exporter": "python",
   "pygments_lexer": "ipython3",
   "version": "3.10.14"
  },
  "papermill": {
   "default_parameters": {},
   "duration": 1976.153099,
   "end_time": "2024-08-30T10:10:50.669604",
   "environment_variables": {},
   "exception": null,
   "input_path": "__notebook__.ipynb",
   "output_path": "__notebook__.ipynb",
   "parameters": {},
   "start_time": "2024-08-30T09:37:54.516505",
   "version": "2.6.0"
  }
 },
 "nbformat": 4,
 "nbformat_minor": 5
}
