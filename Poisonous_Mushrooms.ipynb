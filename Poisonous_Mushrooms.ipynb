{
  "nbformat": 4,
  "nbformat_minor": 0,
  "metadata": {
    "colab": {
      "provenance": [],
      "collapsed_sections": [
        "V138y6S2spN0",
        "GDtX_iFMtQqe",
        "_3p5FYKbseBf"
      ],
      "include_colab_link": true
    },
    "kernelspec": {
      "name": "python3",
      "display_name": "Python 3"
    },
    "language_info": {
      "name": "python"
    }
  },
  "cells": [
    {
      "cell_type": "markdown",
      "metadata": {
        "id": "view-in-github",
        "colab_type": "text"
      },
      "source": [
        "<a href=\"https://colab.research.google.com/github/aliabdelmonam/Poisonous_Mushrooms/blob/main/Poisonous_Mushrooms.ipynb\" target=\"_parent\"><img src=\"https://colab.research.google.com/assets/colab-badge.svg\" alt=\"Open In Colab\"/></a>"
      ]
    },
    {
      "cell_type": "code",
      "source": [
        "from google.colab import drive\n",
        "drive.mount('/content/drive')"
      ],
      "metadata": {
        "colab": {
          "base_uri": "https://localhost:8080/"
        },
        "id": "1GOVeb468DBo",
        "outputId": "049e9744-634b-4f65-eaa8-2a699ad60862"
      },
      "execution_count": 1,
      "outputs": [
        {
          "output_type": "stream",
          "name": "stdout",
          "text": [
            "Mounted at /content/drive\n"
          ]
        }
      ]
    },
    {
      "cell_type": "markdown",
      "source": [
        "### **Libraries**"
      ],
      "metadata": {
        "id": "V138y6S2spN0"
      }
    },
    {
      "cell_type": "code",
      "source": [
        "pip install scikit-optimize"
      ],
      "metadata": {
        "colab": {
          "base_uri": "https://localhost:8080/"
        },
        "id": "10s6ldOBA0zj",
        "outputId": "e2f5217d-4f57-4f95-eea8-12a94854b51f"
      },
      "execution_count": 57,
      "outputs": [
        {
          "output_type": "stream",
          "name": "stdout",
          "text": [
            "Collecting scikit-optimize\n",
            "  Downloading scikit_optimize-0.10.2-py2.py3-none-any.whl.metadata (9.7 kB)\n",
            "Requirement already satisfied: joblib>=0.11 in /usr/local/lib/python3.10/dist-packages (from scikit-optimize) (1.4.2)\n",
            "Collecting pyaml>=16.9 (from scikit-optimize)\n",
            "  Downloading pyaml-24.7.0-py3-none-any.whl.metadata (11 kB)\n",
            "Requirement already satisfied: numpy>=1.20.3 in /usr/local/lib/python3.10/dist-packages (from scikit-optimize) (1.26.4)\n",
            "Requirement already satisfied: scipy>=1.1.0 in /usr/local/lib/python3.10/dist-packages (from scikit-optimize) (1.13.1)\n",
            "Requirement already satisfied: scikit-learn>=1.0.0 in /usr/local/lib/python3.10/dist-packages (from scikit-optimize) (1.3.2)\n",
            "Requirement already satisfied: packaging>=21.3 in /usr/local/lib/python3.10/dist-packages (from scikit-optimize) (24.1)\n",
            "Requirement already satisfied: PyYAML in /usr/local/lib/python3.10/dist-packages (from pyaml>=16.9->scikit-optimize) (6.0.2)\n",
            "Requirement already satisfied: threadpoolctl>=2.0.0 in /usr/local/lib/python3.10/dist-packages (from scikit-learn>=1.0.0->scikit-optimize) (3.5.0)\n",
            "Downloading scikit_optimize-0.10.2-py2.py3-none-any.whl (107 kB)\n",
            "\u001b[2K   \u001b[90m━━━━━━━━━━━━━━━━━━━━━━━━━━━━━━━━━━━━━━━━\u001b[0m \u001b[32m107.8/107.8 kB\u001b[0m \u001b[31m4.2 MB/s\u001b[0m eta \u001b[36m0:00:00\u001b[0m\n",
            "\u001b[?25hDownloading pyaml-24.7.0-py3-none-any.whl (24 kB)\n",
            "Installing collected packages: pyaml, scikit-optimize\n",
            "Successfully installed pyaml-24.7.0 scikit-optimize-0.10.2\n"
          ]
        }
      ]
    },
    {
      "cell_type": "code",
      "execution_count": 58,
      "metadata": {
        "id": "k2WOHBK4DPio"
      },
      "outputs": [],
      "source": [
        "import pandas as pd\n",
        "import numpy as np\n",
        "import matplotlib.pyplot as plt\n",
        "import seaborn as sns\n",
        "from sklearn.preprocessing import StandardScaler,LabelEncoder\n",
        "from sklearn.model_selection import train_test_split\n",
        "from sklearn.impute import SimpleImputer\n",
        "from xgboost import XGBClassifier\n",
        "from skopt import BayesSearchCV\n",
        "from skopt.space import Real, Categorical, Integer\n",
        "import copy"
      ]
    },
    {
      "cell_type": "markdown",
      "source": [
        "\n",
        "## Data"
      ],
      "metadata": {
        "id": "SqiebhwWsw34"
      }
    },
    {
      "cell_type": "code",
      "source": [
        "pd.set_option('display.max_columns', None)"
      ],
      "metadata": {
        "id": "djSgBlyVPCBc"
      },
      "execution_count": 3,
      "outputs": []
    },
    {
      "cell_type": "code",
      "source": [
        "# df=pd.read_csv('/content/sample_submission.csv')\n",
        "ts=pd.read_csv('/content/drive/MyDrive/DataSet/Poisonous Mushrooms_test.csv')\n",
        "tr=pd.read_csv('/content/drive/MyDrive/DataSet/Poisonous Mushrooms_train.csv')\n"
      ],
      "metadata": {
        "id": "8k7J1SeGOgRJ"
      },
      "execution_count": 4,
      "outputs": []
    },
    {
      "cell_type": "code",
      "source": [
        "tr.shape"
      ],
      "metadata": {
        "colab": {
          "base_uri": "https://localhost:8080/"
        },
        "id": "eMT01cORPFYc",
        "outputId": "7f1eb848-6cbd-4ac4-f010-66549a0a20d4"
      },
      "execution_count": 5,
      "outputs": [
        {
          "output_type": "execute_result",
          "data": {
            "text/plain": [
              "(3116945, 22)"
            ]
          },
          "metadata": {},
          "execution_count": 5
        }
      ]
    },
    {
      "cell_type": "code",
      "source": [
        "tr.head()"
      ],
      "metadata": {
        "colab": {
          "base_uri": "https://localhost:8080/",
          "height": 278
        },
        "id": "lErXh59kPidZ",
        "outputId": "f63ebbeb-d0af-4872-c705-47bf89f03581"
      },
      "execution_count": 6,
      "outputs": [
        {
          "output_type": "execute_result",
          "data": {
            "text/plain": [
              "   id class  cap-diameter cap-shape cap-surface cap-color  \\\n",
              "0   0     e          8.80         f           s         u   \n",
              "1   1     p          4.51         x           h         o   \n",
              "2   2     e          6.94         f           s         b   \n",
              "3   3     e          3.88         f           y         g   \n",
              "4   4     e          5.85         x           l         w   \n",
              "\n",
              "  does-bruise-or-bleed gill-attachment gill-spacing gill-color  stem-height  \\\n",
              "0                    f               a            c          w         4.51   \n",
              "1                    f               a            c          n         4.79   \n",
              "2                    f               x            c          w         6.85   \n",
              "3                    f               s          NaN          g         4.16   \n",
              "4                    f               d          NaN          w         3.37   \n",
              "\n",
              "   stem-width stem-root stem-surface stem-color veil-type veil-color has-ring  \\\n",
              "0       15.39       NaN          NaN          w       NaN        NaN        f   \n",
              "1        6.48       NaN            y          o       NaN        NaN        t   \n",
              "2        9.93       NaN            s          n       NaN        NaN        f   \n",
              "3        6.53       NaN          NaN          w       NaN        NaN        f   \n",
              "4        8.36       NaN          NaN          w       NaN        NaN        f   \n",
              "\n",
              "  ring-type spore-print-color habitat season  \n",
              "0         f               NaN       d      a  \n",
              "1         z               NaN       d      w  \n",
              "2         f               NaN       l      w  \n",
              "3         f               NaN       d      u  \n",
              "4         f               NaN       g      a  "
            ],
            "text/html": [
              "\n",
              "  <div id=\"df-f12a184f-1aa3-4631-9056-24594b6bc3ef\" class=\"colab-df-container\">\n",
              "    <div>\n",
              "<style scoped>\n",
              "    .dataframe tbody tr th:only-of-type {\n",
              "        vertical-align: middle;\n",
              "    }\n",
              "\n",
              "    .dataframe tbody tr th {\n",
              "        vertical-align: top;\n",
              "    }\n",
              "\n",
              "    .dataframe thead th {\n",
              "        text-align: right;\n",
              "    }\n",
              "</style>\n",
              "<table border=\"1\" class=\"dataframe\">\n",
              "  <thead>\n",
              "    <tr style=\"text-align: right;\">\n",
              "      <th></th>\n",
              "      <th>id</th>\n",
              "      <th>class</th>\n",
              "      <th>cap-diameter</th>\n",
              "      <th>cap-shape</th>\n",
              "      <th>cap-surface</th>\n",
              "      <th>cap-color</th>\n",
              "      <th>does-bruise-or-bleed</th>\n",
              "      <th>gill-attachment</th>\n",
              "      <th>gill-spacing</th>\n",
              "      <th>gill-color</th>\n",
              "      <th>stem-height</th>\n",
              "      <th>stem-width</th>\n",
              "      <th>stem-root</th>\n",
              "      <th>stem-surface</th>\n",
              "      <th>stem-color</th>\n",
              "      <th>veil-type</th>\n",
              "      <th>veil-color</th>\n",
              "      <th>has-ring</th>\n",
              "      <th>ring-type</th>\n",
              "      <th>spore-print-color</th>\n",
              "      <th>habitat</th>\n",
              "      <th>season</th>\n",
              "    </tr>\n",
              "  </thead>\n",
              "  <tbody>\n",
              "    <tr>\n",
              "      <th>0</th>\n",
              "      <td>0</td>\n",
              "      <td>e</td>\n",
              "      <td>8.80</td>\n",
              "      <td>f</td>\n",
              "      <td>s</td>\n",
              "      <td>u</td>\n",
              "      <td>f</td>\n",
              "      <td>a</td>\n",
              "      <td>c</td>\n",
              "      <td>w</td>\n",
              "      <td>4.51</td>\n",
              "      <td>15.39</td>\n",
              "      <td>NaN</td>\n",
              "      <td>NaN</td>\n",
              "      <td>w</td>\n",
              "      <td>NaN</td>\n",
              "      <td>NaN</td>\n",
              "      <td>f</td>\n",
              "      <td>f</td>\n",
              "      <td>NaN</td>\n",
              "      <td>d</td>\n",
              "      <td>a</td>\n",
              "    </tr>\n",
              "    <tr>\n",
              "      <th>1</th>\n",
              "      <td>1</td>\n",
              "      <td>p</td>\n",
              "      <td>4.51</td>\n",
              "      <td>x</td>\n",
              "      <td>h</td>\n",
              "      <td>o</td>\n",
              "      <td>f</td>\n",
              "      <td>a</td>\n",
              "      <td>c</td>\n",
              "      <td>n</td>\n",
              "      <td>4.79</td>\n",
              "      <td>6.48</td>\n",
              "      <td>NaN</td>\n",
              "      <td>y</td>\n",
              "      <td>o</td>\n",
              "      <td>NaN</td>\n",
              "      <td>NaN</td>\n",
              "      <td>t</td>\n",
              "      <td>z</td>\n",
              "      <td>NaN</td>\n",
              "      <td>d</td>\n",
              "      <td>w</td>\n",
              "    </tr>\n",
              "    <tr>\n",
              "      <th>2</th>\n",
              "      <td>2</td>\n",
              "      <td>e</td>\n",
              "      <td>6.94</td>\n",
              "      <td>f</td>\n",
              "      <td>s</td>\n",
              "      <td>b</td>\n",
              "      <td>f</td>\n",
              "      <td>x</td>\n",
              "      <td>c</td>\n",
              "      <td>w</td>\n",
              "      <td>6.85</td>\n",
              "      <td>9.93</td>\n",
              "      <td>NaN</td>\n",
              "      <td>s</td>\n",
              "      <td>n</td>\n",
              "      <td>NaN</td>\n",
              "      <td>NaN</td>\n",
              "      <td>f</td>\n",
              "      <td>f</td>\n",
              "      <td>NaN</td>\n",
              "      <td>l</td>\n",
              "      <td>w</td>\n",
              "    </tr>\n",
              "    <tr>\n",
              "      <th>3</th>\n",
              "      <td>3</td>\n",
              "      <td>e</td>\n",
              "      <td>3.88</td>\n",
              "      <td>f</td>\n",
              "      <td>y</td>\n",
              "      <td>g</td>\n",
              "      <td>f</td>\n",
              "      <td>s</td>\n",
              "      <td>NaN</td>\n",
              "      <td>g</td>\n",
              "      <td>4.16</td>\n",
              "      <td>6.53</td>\n",
              "      <td>NaN</td>\n",
              "      <td>NaN</td>\n",
              "      <td>w</td>\n",
              "      <td>NaN</td>\n",
              "      <td>NaN</td>\n",
              "      <td>f</td>\n",
              "      <td>f</td>\n",
              "      <td>NaN</td>\n",
              "      <td>d</td>\n",
              "      <td>u</td>\n",
              "    </tr>\n",
              "    <tr>\n",
              "      <th>4</th>\n",
              "      <td>4</td>\n",
              "      <td>e</td>\n",
              "      <td>5.85</td>\n",
              "      <td>x</td>\n",
              "      <td>l</td>\n",
              "      <td>w</td>\n",
              "      <td>f</td>\n",
              "      <td>d</td>\n",
              "      <td>NaN</td>\n",
              "      <td>w</td>\n",
              "      <td>3.37</td>\n",
              "      <td>8.36</td>\n",
              "      <td>NaN</td>\n",
              "      <td>NaN</td>\n",
              "      <td>w</td>\n",
              "      <td>NaN</td>\n",
              "      <td>NaN</td>\n",
              "      <td>f</td>\n",
              "      <td>f</td>\n",
              "      <td>NaN</td>\n",
              "      <td>g</td>\n",
              "      <td>a</td>\n",
              "    </tr>\n",
              "  </tbody>\n",
              "</table>\n",
              "</div>\n",
              "    <div class=\"colab-df-buttons\">\n",
              "\n",
              "  <div class=\"colab-df-container\">\n",
              "    <button class=\"colab-df-convert\" onclick=\"convertToInteractive('df-f12a184f-1aa3-4631-9056-24594b6bc3ef')\"\n",
              "            title=\"Convert this dataframe to an interactive table.\"\n",
              "            style=\"display:none;\">\n",
              "\n",
              "  <svg xmlns=\"http://www.w3.org/2000/svg\" height=\"24px\" viewBox=\"0 -960 960 960\">\n",
              "    <path d=\"M120-120v-720h720v720H120Zm60-500h600v-160H180v160Zm220 220h160v-160H400v160Zm0 220h160v-160H400v160ZM180-400h160v-160H180v160Zm440 0h160v-160H620v160ZM180-180h160v-160H180v160Zm440 0h160v-160H620v160Z\"/>\n",
              "  </svg>\n",
              "    </button>\n",
              "\n",
              "  <style>\n",
              "    .colab-df-container {\n",
              "      display:flex;\n",
              "      gap: 12px;\n",
              "    }\n",
              "\n",
              "    .colab-df-convert {\n",
              "      background-color: #E8F0FE;\n",
              "      border: none;\n",
              "      border-radius: 50%;\n",
              "      cursor: pointer;\n",
              "      display: none;\n",
              "      fill: #1967D2;\n",
              "      height: 32px;\n",
              "      padding: 0 0 0 0;\n",
              "      width: 32px;\n",
              "    }\n",
              "\n",
              "    .colab-df-convert:hover {\n",
              "      background-color: #E2EBFA;\n",
              "      box-shadow: 0px 1px 2px rgba(60, 64, 67, 0.3), 0px 1px 3px 1px rgba(60, 64, 67, 0.15);\n",
              "      fill: #174EA6;\n",
              "    }\n",
              "\n",
              "    .colab-df-buttons div {\n",
              "      margin-bottom: 4px;\n",
              "    }\n",
              "\n",
              "    [theme=dark] .colab-df-convert {\n",
              "      background-color: #3B4455;\n",
              "      fill: #D2E3FC;\n",
              "    }\n",
              "\n",
              "    [theme=dark] .colab-df-convert:hover {\n",
              "      background-color: #434B5C;\n",
              "      box-shadow: 0px 1px 3px 1px rgba(0, 0, 0, 0.15);\n",
              "      filter: drop-shadow(0px 1px 2px rgba(0, 0, 0, 0.3));\n",
              "      fill: #FFFFFF;\n",
              "    }\n",
              "  </style>\n",
              "\n",
              "    <script>\n",
              "      const buttonEl =\n",
              "        document.querySelector('#df-f12a184f-1aa3-4631-9056-24594b6bc3ef button.colab-df-convert');\n",
              "      buttonEl.style.display =\n",
              "        google.colab.kernel.accessAllowed ? 'block' : 'none';\n",
              "\n",
              "      async function convertToInteractive(key) {\n",
              "        const element = document.querySelector('#df-f12a184f-1aa3-4631-9056-24594b6bc3ef');\n",
              "        const dataTable =\n",
              "          await google.colab.kernel.invokeFunction('convertToInteractive',\n",
              "                                                    [key], {});\n",
              "        if (!dataTable) return;\n",
              "\n",
              "        const docLinkHtml = 'Like what you see? Visit the ' +\n",
              "          '<a target=\"_blank\" href=https://colab.research.google.com/notebooks/data_table.ipynb>data table notebook</a>'\n",
              "          + ' to learn more about interactive tables.';\n",
              "        element.innerHTML = '';\n",
              "        dataTable['output_type'] = 'display_data';\n",
              "        await google.colab.output.renderOutput(dataTable, element);\n",
              "        const docLink = document.createElement('div');\n",
              "        docLink.innerHTML = docLinkHtml;\n",
              "        element.appendChild(docLink);\n",
              "      }\n",
              "    </script>\n",
              "  </div>\n",
              "\n",
              "\n",
              "<div id=\"df-fd2e1ee6-ee81-4ac7-816c-c0cd37719061\">\n",
              "  <button class=\"colab-df-quickchart\" onclick=\"quickchart('df-fd2e1ee6-ee81-4ac7-816c-c0cd37719061')\"\n",
              "            title=\"Suggest charts\"\n",
              "            style=\"display:none;\">\n",
              "\n",
              "<svg xmlns=\"http://www.w3.org/2000/svg\" height=\"24px\"viewBox=\"0 0 24 24\"\n",
              "     width=\"24px\">\n",
              "    <g>\n",
              "        <path d=\"M19 3H5c-1.1 0-2 .9-2 2v14c0 1.1.9 2 2 2h14c1.1 0 2-.9 2-2V5c0-1.1-.9-2-2-2zM9 17H7v-7h2v7zm4 0h-2V7h2v10zm4 0h-2v-4h2v4z\"/>\n",
              "    </g>\n",
              "</svg>\n",
              "  </button>\n",
              "\n",
              "<style>\n",
              "  .colab-df-quickchart {\n",
              "      --bg-color: #E8F0FE;\n",
              "      --fill-color: #1967D2;\n",
              "      --hover-bg-color: #E2EBFA;\n",
              "      --hover-fill-color: #174EA6;\n",
              "      --disabled-fill-color: #AAA;\n",
              "      --disabled-bg-color: #DDD;\n",
              "  }\n",
              "\n",
              "  [theme=dark] .colab-df-quickchart {\n",
              "      --bg-color: #3B4455;\n",
              "      --fill-color: #D2E3FC;\n",
              "      --hover-bg-color: #434B5C;\n",
              "      --hover-fill-color: #FFFFFF;\n",
              "      --disabled-bg-color: #3B4455;\n",
              "      --disabled-fill-color: #666;\n",
              "  }\n",
              "\n",
              "  .colab-df-quickchart {\n",
              "    background-color: var(--bg-color);\n",
              "    border: none;\n",
              "    border-radius: 50%;\n",
              "    cursor: pointer;\n",
              "    display: none;\n",
              "    fill: var(--fill-color);\n",
              "    height: 32px;\n",
              "    padding: 0;\n",
              "    width: 32px;\n",
              "  }\n",
              "\n",
              "  .colab-df-quickchart:hover {\n",
              "    background-color: var(--hover-bg-color);\n",
              "    box-shadow: 0 1px 2px rgba(60, 64, 67, 0.3), 0 1px 3px 1px rgba(60, 64, 67, 0.15);\n",
              "    fill: var(--button-hover-fill-color);\n",
              "  }\n",
              "\n",
              "  .colab-df-quickchart-complete:disabled,\n",
              "  .colab-df-quickchart-complete:disabled:hover {\n",
              "    background-color: var(--disabled-bg-color);\n",
              "    fill: var(--disabled-fill-color);\n",
              "    box-shadow: none;\n",
              "  }\n",
              "\n",
              "  .colab-df-spinner {\n",
              "    border: 2px solid var(--fill-color);\n",
              "    border-color: transparent;\n",
              "    border-bottom-color: var(--fill-color);\n",
              "    animation:\n",
              "      spin 1s steps(1) infinite;\n",
              "  }\n",
              "\n",
              "  @keyframes spin {\n",
              "    0% {\n",
              "      border-color: transparent;\n",
              "      border-bottom-color: var(--fill-color);\n",
              "      border-left-color: var(--fill-color);\n",
              "    }\n",
              "    20% {\n",
              "      border-color: transparent;\n",
              "      border-left-color: var(--fill-color);\n",
              "      border-top-color: var(--fill-color);\n",
              "    }\n",
              "    30% {\n",
              "      border-color: transparent;\n",
              "      border-left-color: var(--fill-color);\n",
              "      border-top-color: var(--fill-color);\n",
              "      border-right-color: var(--fill-color);\n",
              "    }\n",
              "    40% {\n",
              "      border-color: transparent;\n",
              "      border-right-color: var(--fill-color);\n",
              "      border-top-color: var(--fill-color);\n",
              "    }\n",
              "    60% {\n",
              "      border-color: transparent;\n",
              "      border-right-color: var(--fill-color);\n",
              "    }\n",
              "    80% {\n",
              "      border-color: transparent;\n",
              "      border-right-color: var(--fill-color);\n",
              "      border-bottom-color: var(--fill-color);\n",
              "    }\n",
              "    90% {\n",
              "      border-color: transparent;\n",
              "      border-bottom-color: var(--fill-color);\n",
              "    }\n",
              "  }\n",
              "</style>\n",
              "\n",
              "  <script>\n",
              "    async function quickchart(key) {\n",
              "      const quickchartButtonEl =\n",
              "        document.querySelector('#' + key + ' button');\n",
              "      quickchartButtonEl.disabled = true;  // To prevent multiple clicks.\n",
              "      quickchartButtonEl.classList.add('colab-df-spinner');\n",
              "      try {\n",
              "        const charts = await google.colab.kernel.invokeFunction(\n",
              "            'suggestCharts', [key], {});\n",
              "      } catch (error) {\n",
              "        console.error('Error during call to suggestCharts:', error);\n",
              "      }\n",
              "      quickchartButtonEl.classList.remove('colab-df-spinner');\n",
              "      quickchartButtonEl.classList.add('colab-df-quickchart-complete');\n",
              "    }\n",
              "    (() => {\n",
              "      let quickchartButtonEl =\n",
              "        document.querySelector('#df-fd2e1ee6-ee81-4ac7-816c-c0cd37719061 button');\n",
              "      quickchartButtonEl.style.display =\n",
              "        google.colab.kernel.accessAllowed ? 'block' : 'none';\n",
              "    })();\n",
              "  </script>\n",
              "</div>\n",
              "\n",
              "    </div>\n",
              "  </div>\n"
            ],
            "application/vnd.google.colaboratory.intrinsic+json": {
              "type": "dataframe",
              "variable_name": "tr"
            }
          },
          "metadata": {},
          "execution_count": 6
        }
      ]
    },
    {
      "cell_type": "code",
      "source": [
        "tr.info()"
      ],
      "metadata": {
        "colab": {
          "base_uri": "https://localhost:8080/"
        },
        "id": "6EIgwtHTP04w",
        "outputId": "e2a55036-3eb0-4450-e223-f42806f7fda3"
      },
      "execution_count": 7,
      "outputs": [
        {
          "output_type": "stream",
          "name": "stdout",
          "text": [
            "<class 'pandas.core.frame.DataFrame'>\n",
            "RangeIndex: 3116945 entries, 0 to 3116944\n",
            "Data columns (total 22 columns):\n",
            " #   Column                Dtype  \n",
            "---  ------                -----  \n",
            " 0   id                    int64  \n",
            " 1   class                 object \n",
            " 2   cap-diameter          float64\n",
            " 3   cap-shape             object \n",
            " 4   cap-surface           object \n",
            " 5   cap-color             object \n",
            " 6   does-bruise-or-bleed  object \n",
            " 7   gill-attachment       object \n",
            " 8   gill-spacing          object \n",
            " 9   gill-color            object \n",
            " 10  stem-height           float64\n",
            " 11  stem-width            float64\n",
            " 12  stem-root             object \n",
            " 13  stem-surface          object \n",
            " 14  stem-color            object \n",
            " 15  veil-type             object \n",
            " 16  veil-color            object \n",
            " 17  has-ring              object \n",
            " 18  ring-type             object \n",
            " 19  spore-print-color     object \n",
            " 20  habitat               object \n",
            " 21  season                object \n",
            "dtypes: float64(3), int64(1), object(18)\n",
            "memory usage: 523.2+ MB\n"
          ]
        }
      ]
    },
    {
      "cell_type": "code",
      "source": [
        "df_train = copy.deepcopy(tr)\n",
        "df_test = copy.deepcopy(ts)"
      ],
      "metadata": {
        "id": "Vjl_nbWrJW1_"
      },
      "execution_count": 8,
      "outputs": []
    },
    {
      "cell_type": "markdown",
      "source": [
        "# **Category**"
      ],
      "metadata": {
        "id": "9JkMTQUCPNoo"
      }
    },
    {
      "cell_type": "code",
      "source": [
        "def subclass_details (df):\n",
        "  df=df.select_dtypes(include='category')\n",
        "  for col in df.columns:\n",
        "    print('Number of unique classes:',df[col].nunique())\n",
        "    print(df[col].value_counts().head(10))\n",
        "    print('############################')"
      ],
      "metadata": {
        "id": "i6rJwpNzPW1r"
      },
      "execution_count": 11,
      "outputs": []
    },
    {
      "cell_type": "code",
      "source": [
        "def remove_att(df,threshold=200):\n",
        "  cat_coln=df.select_dtypes(include='object')\n",
        "  for col in cat_coln:\n",
        "    attrib_drop=[]\n",
        "    for att , count in df[col].value_counts().items() :\n",
        "      if count <threshold:\n",
        "        attrib_drop.append(att)\n",
        "    mask = df[col].isin(attrib_drop)\n",
        "    df.loc[mask,col] = 'UNK'\n",
        "  return df"
      ],
      "metadata": {
        "id": "C4mS1DE9Q8V8"
      },
      "execution_count": 12,
      "outputs": []
    },
    {
      "cell_type": "code",
      "source": [
        "def convert_cate (df):\n",
        "  for clas in df.select_dtypes(include='object'):\n",
        "    df[clas] =   df[clas].astype('category')\n",
        "  return df"
      ],
      "metadata": {
        "id": "lpeNU8ARWdqL"
      },
      "execution_count": 13,
      "outputs": []
    },
    {
      "cell_type": "code",
      "source": [
        "df_train = remove_att(df_train)\n",
        "df_test = remove_att(df_test)"
      ],
      "metadata": {
        "id": "5Bmj9jt-R-vX"
      },
      "execution_count": 14,
      "outputs": []
    },
    {
      "cell_type": "code",
      "source": [
        "df_train = convert_cate(df_train)\n",
        "df_test = convert_cate(df_test)"
      ],
      "metadata": {
        "id": "iGvXKVBGWbtm"
      },
      "execution_count": 15,
      "outputs": []
    },
    {
      "cell_type": "code",
      "source": [
        "subclass_details(df_train)\n",
        "subclass_details(df_test)"
      ],
      "metadata": {
        "colab": {
          "base_uri": "https://localhost:8080/"
        },
        "collapsed": true,
        "id": "suRyTXUATWtd",
        "outputId": "c38bddb7-8629-46e2-f0fa-eb0a0e2218d2"
      },
      "execution_count": null,
      "outputs": [
        {
          "output_type": "stream",
          "name": "stdout",
          "text": [
            "Number of unique classes: 2\n",
            "class\n",
            "p    1705396\n",
            "e    1411549\n",
            "Name: count, dtype: int64\n",
            "############################\n",
            "Number of unique classes: 8\n",
            "cap-shape\n",
            "x      1436026\n",
            "f       676238\n",
            "s       365146\n",
            "b       318646\n",
            "o       108835\n",
            "p       106967\n",
            "c       104520\n",
            "UNK        527\n",
            "Name: count, dtype: int64\n",
            "############################\n",
            "Number of unique classes: 12\n",
            "cap-surface\n",
            "t    460777\n",
            "s    384970\n",
            "y    327826\n",
            "h    284460\n",
            "g    263729\n",
            "d    206832\n",
            "k    128875\n",
            "e    119712\n",
            "i    113440\n",
            "w    109840\n",
            "Name: count, dtype: int64\n",
            "############################\n",
            "Number of unique classes: 13\n",
            "cap-color\n",
            "n    1359542\n",
            "y     386627\n",
            "w     379442\n",
            "g     210825\n",
            "e     197290\n",
            "o     178847\n",
            "p      91838\n",
            "r      78236\n",
            "u      73172\n",
            "b      61313\n",
            "Name: count, dtype: int64\n",
            "############################\n",
            "Number of unique classes: 3\n",
            "does-bruise-or-bleed\n",
            "f      2569743\n",
            "t       547085\n",
            "UNK        109\n",
            "Name: count, dtype: int64\n",
            "############################\n",
            "Number of unique classes: 8\n",
            "gill-attachment\n",
            "a      646034\n",
            "d      589236\n",
            "x      360878\n",
            "e      301858\n",
            "s      295439\n",
            "p      279110\n",
            "f      119953\n",
            "UNK       501\n",
            "Name: count, dtype: int64\n",
            "############################\n",
            "Number of unique classes: 4\n",
            "gill-spacing\n",
            "c      1331054\n",
            "d       407932\n",
            "f       119380\n",
            "UNK        144\n",
            "Name: count, dtype: int64\n",
            "############################\n",
            "Number of unique classes: 13\n",
            "gill-color\n",
            "w    931538\n",
            "n    543386\n",
            "y    469464\n",
            "p    343626\n",
            "g    212164\n",
            "o    157119\n",
            "k    127970\n",
            "f    119694\n",
            "r     62799\n",
            "e     56047\n",
            "Name: count, dtype: int64\n",
            "############################\n",
            "Number of unique classes: 6\n",
            "stem-root\n",
            "b      165801\n",
            "s      116946\n",
            "r       47803\n",
            "c       28592\n",
            "f         597\n",
            "UNK       183\n",
            "Name: count, dtype: int64\n",
            "############################\n",
            "Number of unique classes: 9\n",
            "stem-surface\n",
            "s      327610\n",
            "y      255500\n",
            "i      224346\n",
            "t      147974\n",
            "g       78080\n",
            "k       73383\n",
            "h       28283\n",
            "f         512\n",
            "UNK       396\n",
            "Name: count, dtype: int64\n",
            "############################\n",
            "Number of unique classes: 14\n",
            "stem-color\n",
            "w    1196637\n",
            "n    1003464\n",
            "y     373971\n",
            "g     132019\n",
            "o     111541\n",
            "e     103373\n",
            "u      67017\n",
            "p      54690\n",
            "k      33676\n",
            "r      22329\n",
            "Name: count, dtype: int64\n",
            "############################\n",
            "Number of unique classes: 2\n",
            "veil-type\n",
            "u      159373\n",
            "UNK        79\n",
            "Name: count, dtype: int64\n",
            "############################\n",
            "Number of unique classes: 7\n",
            "veil-color\n",
            "w      279070\n",
            "y       30473\n",
            "n       30039\n",
            "u       14026\n",
            "k       13080\n",
            "e        9169\n",
            "UNK       141\n",
            "Name: count, dtype: int64\n",
            "############################\n",
            "Number of unique classes: 3\n",
            "has-ring\n",
            "f      2368820\n",
            "t       747982\n",
            "UNK        119\n",
            "Name: count, dtype: int64\n",
            "############################\n",
            "Number of unique classes: 9\n",
            "ring-type\n",
            "f      2477170\n",
            "e       120006\n",
            "z       113780\n",
            "l        73443\n",
            "r        67909\n",
            "p        67678\n",
            "g        63687\n",
            "m         3992\n",
            "UNK        400\n",
            "Name: count, dtype: int64\n",
            "############################\n",
            "Number of unique classes: 8\n",
            "spore-print-color\n",
            "k      107310\n",
            "p       68237\n",
            "w       50173\n",
            "n       22646\n",
            "r        7975\n",
            "u        7256\n",
            "g        3492\n",
            "UNK       174\n",
            "Name: count, dtype: int64\n",
            "############################\n",
            "Number of unique classes: 9\n",
            "habitat\n",
            "d      2177573\n",
            "g       454908\n",
            "l       171892\n",
            "m       150969\n",
            "h       120137\n",
            "w        18530\n",
            "p        17180\n",
            "u         5264\n",
            "UNK        447\n",
            "Name: count, dtype: int64\n",
            "############################\n",
            "Number of unique classes: 4\n",
            "season\n",
            "a    1543321\n",
            "u    1153588\n",
            "w     278189\n",
            "s     141847\n",
            "Name: count, dtype: int64\n",
            "############################\n",
            "Number of unique classes: 8\n",
            "cap-shape\n",
            "x      957949\n",
            "f      452360\n",
            "s      242698\n",
            "b      211879\n",
            "o       71972\n",
            "p       71302\n",
            "c       69436\n",
            "UNK       337\n",
            "Name: count, dtype: int64\n",
            "############################\n",
            "Number of unique classes: 12\n",
            "cap-surface\n",
            "t    306852\n",
            "s    257190\n",
            "y    218336\n",
            "h    189737\n",
            "g    176140\n",
            "d    137675\n",
            "k     86041\n",
            "e     79918\n",
            "i     75570\n",
            "w     73109\n",
            "Name: count, dtype: int64\n",
            "############################\n",
            "Number of unique classes: 13\n",
            "cap-color\n",
            "n    904307\n",
            "y    259062\n",
            "w    253844\n",
            "g    140681\n",
            "e    131524\n",
            "o    119764\n",
            "p     61186\n",
            "r     51784\n",
            "u     48865\n",
            "b     40790\n",
            "Name: count, dtype: int64\n",
            "############################\n",
            "Number of unique classes: 3\n",
            "does-bruise-or-bleed\n",
            "f      1713662\n",
            "t       364227\n",
            "UNK         65\n",
            "Name: count, dtype: int64\n",
            "############################\n",
            "Number of unique classes: 8\n",
            "gill-attachment\n",
            "a      430960\n",
            "d      392584\n",
            "x      240758\n",
            "e      201276\n",
            "s      196279\n",
            "p      186334\n",
            "f       79630\n",
            "UNK       322\n",
            "Name: count, dtype: int64\n",
            "############################\n",
            "Number of unique classes: 4\n",
            "gill-spacing\n",
            "c      886976\n",
            "d      272085\n",
            "f       79223\n",
            "UNK        85\n",
            "Name: count, dtype: int64\n",
            "############################\n",
            "Number of unique classes: 13\n",
            "gill-color\n",
            "w    620773\n",
            "n    362169\n",
            "y    313932\n",
            "p    229155\n",
            "g    141519\n",
            "o    105048\n",
            "k     85360\n",
            "f     79482\n",
            "r     41499\n",
            "e     37432\n",
            "Name: count, dtype: int64\n",
            "############################\n",
            "Number of unique classes: 6\n",
            "stem-root\n",
            "b      110581\n",
            "s       78253\n",
            "r       31606\n",
            "c       19025\n",
            "f         374\n",
            "UNK       113\n",
            "Name: count, dtype: int64\n",
            "############################\n",
            "Number of unique classes: 9\n",
            "stem-surface\n",
            "s      218496\n",
            "y      169462\n",
            "i      149192\n",
            "t       98982\n",
            "g       51848\n",
            "k       49075\n",
            "h       18861\n",
            "f         310\n",
            "UNK       250\n",
            "Name: count, dtype: int64\n",
            "############################\n",
            "Number of unique classes: 14\n",
            "stem-color\n",
            "w    797365\n",
            "n    668156\n",
            "y    250141\n",
            "g     88202\n",
            "o     75094\n",
            "e     68804\n",
            "u     44784\n",
            "p     36356\n",
            "k     22176\n",
            "r     14910\n",
            "Name: count, dtype: int64\n",
            "############################\n",
            "Number of unique classes: 2\n",
            "veil-type\n",
            "u      106373\n",
            "UNK        46\n",
            "Name: count, dtype: int64\n",
            "############################\n",
            "Number of unique classes: 7\n",
            "veil-color\n",
            "w      186432\n",
            "y       20782\n",
            "n       20256\n",
            "u        9413\n",
            "k        8706\n",
            "e        6147\n",
            "UNK       104\n",
            "Name: count, dtype: int64\n",
            "############################\n",
            "Number of unique classes: 3\n",
            "has-ring\n",
            "f      1578092\n",
            "t       499759\n",
            "UNK         94\n",
            "Name: count, dtype: int64\n",
            "############################\n",
            "Number of unique classes: 9\n",
            "ring-type\n",
            "f      1650200\n",
            "e        80348\n",
            "z        75917\n",
            "l        48847\n",
            "p        45654\n",
            "r        45400\n",
            "g        42472\n",
            "m         2689\n",
            "UNK        242\n",
            "Name: count, dtype: int64\n",
            "############################\n",
            "Number of unique classes: 8\n",
            "spore-print-color\n",
            "k      71573\n",
            "p      45452\n",
            "w      33657\n",
            "n      15081\n",
            "r       5305\n",
            "u       4845\n",
            "g       2323\n",
            "UNK      111\n",
            "Name: count, dtype: int64\n",
            "############################\n",
            "Number of unique classes: 9\n",
            "habitat\n",
            "d      1450420\n",
            "g       304300\n",
            "l       114458\n",
            "m       101258\n",
            "h        80032\n",
            "w        12324\n",
            "p        11429\n",
            "u         3434\n",
            "UNK        284\n",
            "Name: count, dtype: int64\n",
            "############################\n",
            "Number of unique classes: 4\n",
            "season\n",
            "a    1029085\n",
            "u     768267\n",
            "w     185975\n",
            "s      94637\n",
            "Name: count, dtype: int64\n",
            "############################\n"
          ]
        }
      ]
    },
    {
      "cell_type": "code",
      "source": [
        "df_train.info()"
      ],
      "metadata": {
        "id": "NtrChKiEEoqx",
        "outputId": "1fb5c586-25e1-46a5-c86d-0c7487fef81d",
        "colab": {
          "base_uri": "https://localhost:8080/"
        }
      },
      "execution_count": 16,
      "outputs": [
        {
          "output_type": "stream",
          "name": "stdout",
          "text": [
            "<class 'pandas.core.frame.DataFrame'>\n",
            "RangeIndex: 3116945 entries, 0 to 3116944\n",
            "Data columns (total 22 columns):\n",
            " #   Column                Dtype   \n",
            "---  ------                -----   \n",
            " 0   id                    int64   \n",
            " 1   class                 category\n",
            " 2   cap-diameter          float64 \n",
            " 3   cap-shape             category\n",
            " 4   cap-surface           category\n",
            " 5   cap-color             category\n",
            " 6   does-bruise-or-bleed  category\n",
            " 7   gill-attachment       category\n",
            " 8   gill-spacing          category\n",
            " 9   gill-color            category\n",
            " 10  stem-height           float64 \n",
            " 11  stem-width            float64 \n",
            " 12  stem-root             category\n",
            " 13  stem-surface          category\n",
            " 14  stem-color            category\n",
            " 15  veil-type             category\n",
            " 16  veil-color            category\n",
            " 17  has-ring              category\n",
            " 18  ring-type             category\n",
            " 19  spore-print-color     category\n",
            " 20  habitat               category\n",
            " 21  season                category\n",
            "dtypes: category(18), float64(3), int64(1)\n",
            "memory usage: 148.6 MB\n"
          ]
        }
      ]
    },
    {
      "cell_type": "code",
      "source": [
        "df_test.shape"
      ],
      "metadata": {
        "id": "sFR8MQ7MNUDZ",
        "outputId": "68310570-8823-4449-f36a-c602fbbb8221",
        "colab": {
          "base_uri": "https://localhost:8080/"
        }
      },
      "execution_count": 17,
      "outputs": [
        {
          "output_type": "execute_result",
          "data": {
            "text/plain": [
              "(2077964, 21)"
            ]
          },
          "metadata": {},
          "execution_count": 17
        }
      ]
    },
    {
      "cell_type": "markdown",
      "source": [
        "# **Missing Value**"
      ],
      "metadata": {
        "id": "KufULjN2Jg62"
      }
    },
    {
      "cell_type": "code",
      "source": [
        "def plot_missing_feature(df):\n",
        "  null_df=(df.isna().sum()*100/df.shape[0]).sort_values(ascending=False)\n",
        "  sns.barplot(x=null_df.index,y=null_df.values,palette='plasma')\n",
        "  plt.xticks(rotation=90)\n",
        "  plt.xlabel('Feature')\n",
        "  plt.ylabel('Percent(%)')\n",
        "  plt.title('Missing Values')\n",
        "  plt.show()"
      ],
      "metadata": {
        "id": "K-j08sL6JljV"
      },
      "execution_count": 29,
      "outputs": []
    },
    {
      "cell_type": "code",
      "source": [
        "def missing_feature (df):\n",
        "  null_df=(df.isna().sum()*100/df.shape[0]).sort_values(ascending=False)\n",
        "  return null_df"
      ],
      "metadata": {
        "id": "G1UN2ZPg-FYU"
      },
      "execution_count": 21,
      "outputs": []
    },
    {
      "cell_type": "code",
      "source": [
        "null_df_train = missing_feature(df_train)\n",
        "null_df_test = missing_feature(df_test)\n",
        "null_df_train"
      ],
      "metadata": {
        "colab": {
          "base_uri": "https://localhost:8080/",
          "height": 794
        },
        "id": "Elm-Y3_hJxzi",
        "outputId": "b107c91f-45a4-4cab-f403-931356a0408f",
        "collapsed": true
      },
      "execution_count": 22,
      "outputs": [
        {
          "output_type": "execute_result",
          "data": {
            "text/plain": [
              "veil-type               94.884350\n",
              "spore-print-color       91.425482\n",
              "stem-root               88.452732\n",
              "veil-color              87.936970\n",
              "stem-surface            63.551362\n",
              "gill-spacing            40.373988\n",
              "cap-surface             21.528227\n",
              "gill-attachment         16.809280\n",
              "ring-type                4.134818\n",
              "gill-color               0.001829\n",
              "habitat                  0.001444\n",
              "cap-shape                0.001283\n",
              "stem-color               0.001219\n",
              "has-ring                 0.000770\n",
              "cap-color                0.000385\n",
              "does-bruise-or-bleed     0.000257\n",
              "cap-diameter             0.000128\n",
              "id                       0.000000\n",
              "stem-width               0.000000\n",
              "class                    0.000000\n",
              "stem-height              0.000000\n",
              "season                   0.000000\n",
              "dtype: float64"
            ],
            "text/html": [
              "<div>\n",
              "<style scoped>\n",
              "    .dataframe tbody tr th:only-of-type {\n",
              "        vertical-align: middle;\n",
              "    }\n",
              "\n",
              "    .dataframe tbody tr th {\n",
              "        vertical-align: top;\n",
              "    }\n",
              "\n",
              "    .dataframe thead th {\n",
              "        text-align: right;\n",
              "    }\n",
              "</style>\n",
              "<table border=\"1\" class=\"dataframe\">\n",
              "  <thead>\n",
              "    <tr style=\"text-align: right;\">\n",
              "      <th></th>\n",
              "      <th>0</th>\n",
              "    </tr>\n",
              "  </thead>\n",
              "  <tbody>\n",
              "    <tr>\n",
              "      <th>veil-type</th>\n",
              "      <td>94.884350</td>\n",
              "    </tr>\n",
              "    <tr>\n",
              "      <th>spore-print-color</th>\n",
              "      <td>91.425482</td>\n",
              "    </tr>\n",
              "    <tr>\n",
              "      <th>stem-root</th>\n",
              "      <td>88.452732</td>\n",
              "    </tr>\n",
              "    <tr>\n",
              "      <th>veil-color</th>\n",
              "      <td>87.936970</td>\n",
              "    </tr>\n",
              "    <tr>\n",
              "      <th>stem-surface</th>\n",
              "      <td>63.551362</td>\n",
              "    </tr>\n",
              "    <tr>\n",
              "      <th>gill-spacing</th>\n",
              "      <td>40.373988</td>\n",
              "    </tr>\n",
              "    <tr>\n",
              "      <th>cap-surface</th>\n",
              "      <td>21.528227</td>\n",
              "    </tr>\n",
              "    <tr>\n",
              "      <th>gill-attachment</th>\n",
              "      <td>16.809280</td>\n",
              "    </tr>\n",
              "    <tr>\n",
              "      <th>ring-type</th>\n",
              "      <td>4.134818</td>\n",
              "    </tr>\n",
              "    <tr>\n",
              "      <th>gill-color</th>\n",
              "      <td>0.001829</td>\n",
              "    </tr>\n",
              "    <tr>\n",
              "      <th>habitat</th>\n",
              "      <td>0.001444</td>\n",
              "    </tr>\n",
              "    <tr>\n",
              "      <th>cap-shape</th>\n",
              "      <td>0.001283</td>\n",
              "    </tr>\n",
              "    <tr>\n",
              "      <th>stem-color</th>\n",
              "      <td>0.001219</td>\n",
              "    </tr>\n",
              "    <tr>\n",
              "      <th>has-ring</th>\n",
              "      <td>0.000770</td>\n",
              "    </tr>\n",
              "    <tr>\n",
              "      <th>cap-color</th>\n",
              "      <td>0.000385</td>\n",
              "    </tr>\n",
              "    <tr>\n",
              "      <th>does-bruise-or-bleed</th>\n",
              "      <td>0.000257</td>\n",
              "    </tr>\n",
              "    <tr>\n",
              "      <th>cap-diameter</th>\n",
              "      <td>0.000128</td>\n",
              "    </tr>\n",
              "    <tr>\n",
              "      <th>id</th>\n",
              "      <td>0.000000</td>\n",
              "    </tr>\n",
              "    <tr>\n",
              "      <th>stem-width</th>\n",
              "      <td>0.000000</td>\n",
              "    </tr>\n",
              "    <tr>\n",
              "      <th>class</th>\n",
              "      <td>0.000000</td>\n",
              "    </tr>\n",
              "    <tr>\n",
              "      <th>stem-height</th>\n",
              "      <td>0.000000</td>\n",
              "    </tr>\n",
              "    <tr>\n",
              "      <th>season</th>\n",
              "      <td>0.000000</td>\n",
              "    </tr>\n",
              "  </tbody>\n",
              "</table>\n",
              "</div><br><label><b>dtype:</b> float64</label>"
            ]
          },
          "metadata": {},
          "execution_count": 22
        }
      ]
    },
    {
      "cell_type": "code",
      "source": [
        "plot_missing_feature(df_train)"
      ],
      "metadata": {
        "colab": {
          "base_uri": "https://localhost:8080/",
          "height": 707
        },
        "id": "DdFz8faj-UxN",
        "outputId": "275bcd04-6618-442f-b016-af0221f0b6d9"
      },
      "execution_count": 30,
      "outputs": [
        {
          "output_type": "stream",
          "name": "stderr",
          "text": [
            "<ipython-input-29-3ce396a8d97e>:3: FutureWarning: \n",
            "\n",
            "Passing `palette` without assigning `hue` is deprecated and will be removed in v0.14.0. Assign the `x` variable to `hue` and set `legend=False` for the same effect.\n",
            "\n",
            "  sns.barplot(x=null_df.index,y=null_df.values,palette='plasma')\n"
          ]
        },
        {
          "output_type": "display_data",
          "data": {
            "text/plain": [
              "<Figure size 640x480 with 1 Axes>"
            ],
            "image/png": "[encoded data removed]"
          },
          "metadata": {}
        }
      ]
    },
    {
      "cell_type": "code",
      "source": [
        "def columns_drop(df):\n",
        "  column_drop=[]\n",
        "  null_df=missing_feature(df)\n",
        "  for col,val in null_df.items():\n",
        "    if val >4:\n",
        "      column_drop.append(col)\n",
        "  return column_drop"
      ],
      "metadata": {
        "id": "nGTQKmd1LU2r"
      },
      "execution_count": 31,
      "outputs": []
    },
    {
      "cell_type": "code",
      "source": [
        "column_drop_train = columns_drop(df_train)\n",
        "column_drop_test = columns_drop(df_test)\n",
        "print(column_drop_test)\n",
        "print('-----------------------------------------')\n",
        "print(column_drop_train)"
      ],
      "metadata": {
        "colab": {
          "base_uri": "https://localhost:8080/"
        },
        "id": "dOo89kpDLtj_",
        "outputId": "bbf769cd-8e42-4d6b-8733-2177677717af"
      },
      "execution_count": 32,
      "outputs": [
        {
          "output_type": "stream",
          "name": "stdout",
          "text": [
            "['veil-type', 'spore-print-color', 'stem-root', 'veil-color', 'stem-surface', 'gill-spacing', 'cap-surface', 'gill-attachment', 'ring-type']\n",
            "-----------------------------------------\n",
            "['veil-type', 'spore-print-color', 'stem-root', 'veil-color', 'stem-surface', 'gill-spacing', 'cap-surface', 'gill-attachment', 'ring-type']\n"
          ]
        }
      ]
    },
    {
      "cell_type": "code",
      "source": [
        "df_train.drop(column_drop_train,axis=1,inplace=True)\n",
        "df_test.drop(column_drop_test,axis=1,inplace=True)\n",
        "df_train.drop('id',axis=1,inplace=True)\n",
        "df_test.drop('id',axis=1,inplace=True)\n"
      ],
      "metadata": {
        "id": "7j6bHscdMEyD"
      },
      "execution_count": 33,
      "outputs": []
    },
    {
      "cell_type": "code",
      "source": [
        "df_train.isna().sum()"
      ],
      "metadata": {
        "colab": {
          "base_uri": "https://localhost:8080/",
          "height": 480
        },
        "id": "UV25xzIcMSVV",
        "outputId": "0c0c66cc-c0ed-416c-89c7-c9d3e6215052"
      },
      "execution_count": 34,
      "outputs": [
        {
          "output_type": "execute_result",
          "data": {
            "text/plain": [
              "class                    0\n",
              "cap-diameter             4\n",
              "cap-shape               40\n",
              "cap-color               12\n",
              "does-bruise-or-bleed     8\n",
              "gill-color              57\n",
              "stem-height              0\n",
              "stem-width               0\n",
              "stem-color              38\n",
              "has-ring                24\n",
              "habitat                 45\n",
              "season                   0\n",
              "dtype: int64"
            ],
            "text/html": [
              "<div>\n",
              "<style scoped>\n",
              "    .dataframe tbody tr th:only-of-type {\n",
              "        vertical-align: middle;\n",
              "    }\n",
              "\n",
              "    .dataframe tbody tr th {\n",
              "        vertical-align: top;\n",
              "    }\n",
              "\n",
              "    .dataframe thead th {\n",
              "        text-align: right;\n",
              "    }\n",
              "</style>\n",
              "<table border=\"1\" class=\"dataframe\">\n",
              "  <thead>\n",
              "    <tr style=\"text-align: right;\">\n",
              "      <th></th>\n",
              "      <th>0</th>\n",
              "    </tr>\n",
              "  </thead>\n",
              "  <tbody>\n",
              "    <tr>\n",
              "      <th>class</th>\n",
              "      <td>0</td>\n",
              "    </tr>\n",
              "    <tr>\n",
              "      <th>cap-diameter</th>\n",
              "      <td>4</td>\n",
              "    </tr>\n",
              "    <tr>\n",
              "      <th>cap-shape</th>\n",
              "      <td>40</td>\n",
              "    </tr>\n",
              "    <tr>\n",
              "      <th>cap-color</th>\n",
              "      <td>12</td>\n",
              "    </tr>\n",
              "    <tr>\n",
              "      <th>does-bruise-or-bleed</th>\n",
              "      <td>8</td>\n",
              "    </tr>\n",
              "    <tr>\n",
              "      <th>gill-color</th>\n",
              "      <td>57</td>\n",
              "    </tr>\n",
              "    <tr>\n",
              "      <th>stem-height</th>\n",
              "      <td>0</td>\n",
              "    </tr>\n",
              "    <tr>\n",
              "      <th>stem-width</th>\n",
              "      <td>0</td>\n",
              "    </tr>\n",
              "    <tr>\n",
              "      <th>stem-color</th>\n",
              "      <td>38</td>\n",
              "    </tr>\n",
              "    <tr>\n",
              "      <th>has-ring</th>\n",
              "      <td>24</td>\n",
              "    </tr>\n",
              "    <tr>\n",
              "      <th>habitat</th>\n",
              "      <td>45</td>\n",
              "    </tr>\n",
              "    <tr>\n",
              "      <th>season</th>\n",
              "      <td>0</td>\n",
              "    </tr>\n",
              "  </tbody>\n",
              "</table>\n",
              "</div><br><label><b>dtype:</b> int64</label>"
            ]
          },
          "metadata": {},
          "execution_count": 34
        }
      ]
    },
    {
      "cell_type": "code",
      "source": [
        "df_test.isna().sum()"
      ],
      "metadata": {
        "colab": {
          "base_uri": "https://localhost:8080/",
          "height": 449
        },
        "id": "Jc0FiEa191aS",
        "outputId": "ccb4d009-c933-480c-bdec-abb2a84e5abd"
      },
      "execution_count": 35,
      "outputs": [
        {
          "output_type": "execute_result",
          "data": {
            "text/plain": [
              "cap-diameter             7\n",
              "cap-shape               31\n",
              "cap-color               13\n",
              "does-bruise-or-bleed    10\n",
              "gill-color              49\n",
              "stem-height              1\n",
              "stem-width               0\n",
              "stem-color              21\n",
              "has-ring                19\n",
              "habitat                 25\n",
              "season                   0\n",
              "dtype: int64"
            ],
            "text/html": [
              "<div>\n",
              "<style scoped>\n",
              "    .dataframe tbody tr th:only-of-type {\n",
              "        vertical-align: middle;\n",
              "    }\n",
              "\n",
              "    .dataframe tbody tr th {\n",
              "        vertical-align: top;\n",
              "    }\n",
              "\n",
              "    .dataframe thead th {\n",
              "        text-align: right;\n",
              "    }\n",
              "</style>\n",
              "<table border=\"1\" class=\"dataframe\">\n",
              "  <thead>\n",
              "    <tr style=\"text-align: right;\">\n",
              "      <th></th>\n",
              "      <th>0</th>\n",
              "    </tr>\n",
              "  </thead>\n",
              "  <tbody>\n",
              "    <tr>\n",
              "      <th>cap-diameter</th>\n",
              "      <td>7</td>\n",
              "    </tr>\n",
              "    <tr>\n",
              "      <th>cap-shape</th>\n",
              "      <td>31</td>\n",
              "    </tr>\n",
              "    <tr>\n",
              "      <th>cap-color</th>\n",
              "      <td>13</td>\n",
              "    </tr>\n",
              "    <tr>\n",
              "      <th>does-bruise-or-bleed</th>\n",
              "      <td>10</td>\n",
              "    </tr>\n",
              "    <tr>\n",
              "      <th>gill-color</th>\n",
              "      <td>49</td>\n",
              "    </tr>\n",
              "    <tr>\n",
              "      <th>stem-height</th>\n",
              "      <td>1</td>\n",
              "    </tr>\n",
              "    <tr>\n",
              "      <th>stem-width</th>\n",
              "      <td>0</td>\n",
              "    </tr>\n",
              "    <tr>\n",
              "      <th>stem-color</th>\n",
              "      <td>21</td>\n",
              "    </tr>\n",
              "    <tr>\n",
              "      <th>has-ring</th>\n",
              "      <td>19</td>\n",
              "    </tr>\n",
              "    <tr>\n",
              "      <th>habitat</th>\n",
              "      <td>25</td>\n",
              "    </tr>\n",
              "    <tr>\n",
              "      <th>season</th>\n",
              "      <td>0</td>\n",
              "    </tr>\n",
              "  </tbody>\n",
              "</table>\n",
              "</div><br><label><b>dtype:</b> int64</label>"
            ]
          },
          "metadata": {},
          "execution_count": 35
        }
      ]
    },
    {
      "cell_type": "code",
      "source": [
        "df_train.plot(kind='hist',subplots=True,sharex=True,figsize=(15,15),bins=100)"
      ],
      "metadata": {
        "colab": {
          "base_uri": "https://localhost:8080/",
          "height": 1000
        },
        "id": "z1sYSgCwMW2v",
        "outputId": "8e0342cf-a12f-43c0-eb6e-a5247eccb06e"
      },
      "execution_count": 36,
      "outputs": [
        {
          "output_type": "execute_result",
          "data": {
            "text/plain": [
              "array([<Axes: ylabel='Frequency'>, <Axes: ylabel='Frequency'>,\n",
              "       <Axes: ylabel='Frequency'>], dtype=object)"
            ]
          },
          "metadata": {},
          "execution_count": 36
        },
        {
          "output_type": "display_data",
          "data": {
            "text/plain": [
              "<Figure size 1500x1500 with 3 Axes>"
            ],
            "image/png": "[encoded data removed]"
          },
          "metadata": {}
        }
      ]
    },
    {
      "cell_type": "code",
      "source": [
        "num_data_train = df_train.select_dtypes(include='number')\n",
        "num_data_test = df_test.select_dtypes(include='number')\n",
        "cat_data_train = df_train.select_dtypes(include='category')\n",
        "cat_data_test = df_test.select_dtypes(include='category')"
      ],
      "metadata": {
        "id": "0EpR_ykeMw_W"
      },
      "execution_count": 37,
      "outputs": []
    },
    {
      "cell_type": "code",
      "source": [
        "num_impute=SimpleImputer(strategy='median')\n",
        "cat_impute=SimpleImputer(strategy='most_frequent')\n",
        "\n",
        "num_data_train=pd.DataFrame(num_impute.fit_transform(num_data_train),columns=num_data_train.columns)\n",
        "num_data_test=pd.DataFrame(num_impute.transform(num_data_test),columns=num_data_test.columns)\n",
        "cat_data_train=pd.DataFrame(cat_impute.fit_transform(cat_data_train),columns=cat_data_train.columns)\n",
        "cat_data_test=pd.DataFrame(cat_impute.fit_transform(cat_data_test),columns=cat_data_test.columns)"
      ],
      "metadata": {
        "id": "vPFsiUJzOcSw"
      },
      "execution_count": 40,
      "outputs": []
    },
    {
      "cell_type": "code",
      "source": [
        "df_train = pd.concat([num_data_train,cat_data_train],axis=1).sample(frac=1)\n",
        "df_test = pd.concat([num_data_test,cat_data_test],axis=1).sample(frac=1)"
      ],
      "metadata": {
        "id": "aj0lDG9COl4P"
      },
      "execution_count": 42,
      "outputs": []
    },
    {
      "cell_type": "code",
      "source": [
        "df_train.shape"
      ],
      "metadata": {
        "colab": {
          "base_uri": "https://localhost:8080/"
        },
        "id": "2dCqxrQ2ejFg",
        "outputId": "649741b1-4b3d-4ab9-8a56-e3475abeeed8"
      },
      "execution_count": 43,
      "outputs": [
        {
          "output_type": "execute_result",
          "data": {
            "text/plain": [
              "(3116945, 12)"
            ]
          },
          "metadata": {},
          "execution_count": 43
        }
      ]
    },
    {
      "cell_type": "code",
      "source": [
        "df_test.shape"
      ],
      "metadata": {
        "id": "1VxACzMIeknG",
        "colab": {
          "base_uri": "https://localhost:8080/"
        },
        "outputId": "b251a3be-ceec-466b-946f-c7c1ba61eb0f"
      },
      "execution_count": 44,
      "outputs": [
        {
          "output_type": "execute_result",
          "data": {
            "text/plain": [
              "(2077964, 11)"
            ]
          },
          "metadata": {},
          "execution_count": 44
        }
      ]
    },
    {
      "cell_type": "markdown",
      "source": [
        "# **Splitting Data**"
      ],
      "metadata": {
        "id": "R6qt6nOOgTyn"
      }
    },
    {
      "cell_type": "code",
      "source": [
        "x=df_train.drop('class',axis=1)\n",
        "y=df_train['class']\n",
        "y=np.array([0 if i =='e' else 1 for i in y])\n",
        "y.reshape(-1,1)"
      ],
      "metadata": {
        "colab": {
          "base_uri": "https://localhost:8080/"
        },
        "id": "yxo12gwIgv6a",
        "outputId": "16866841-b0af-4022-bb74-91151fcdb6a0"
      },
      "execution_count": 45,
      "outputs": [
        {
          "output_type": "execute_result",
          "data": {
            "text/plain": [
              "array([[0],\n",
              "       [0],\n",
              "       [0],\n",
              "       ...,\n",
              "       [1],\n",
              "       [0],\n",
              "       [0]])"
            ]
          },
          "metadata": {},
          "execution_count": 45
        }
      ]
    },
    {
      "cell_type": "code",
      "source": [
        "df_train=subclass_details(df_train)\n",
        "df_train=subclass_details(df_test)"
      ],
      "metadata": {
        "id": "bA4GdE2yFAAj"
      },
      "execution_count": 46,
      "outputs": []
    },
    {
      "cell_type": "markdown",
      "source": [
        "# **Encoding**"
      ],
      "metadata": {
        "id": "p5um-ymbgCPW"
      }
    },
    {
      "cell_type": "code",
      "source": [
        "df_test.info()"
      ],
      "metadata": {
        "id": "IoX1KHLOEUKl",
        "outputId": "eb2c8555-13cc-4ad5-92a6-bd8cca93c706",
        "colab": {
          "base_uri": "https://localhost:8080/"
        }
      },
      "execution_count": 50,
      "outputs": [
        {
          "output_type": "stream",
          "name": "stdout",
          "text": [
            "<class 'pandas.core.frame.DataFrame'>\n",
            "Index: 2077964 entries, 1160705 to 891607\n",
            "Data columns (total 11 columns):\n",
            " #   Column                Dtype  \n",
            "---  ------                -----  \n",
            " 0   cap-diameter          float64\n",
            " 1   stem-height           float64\n",
            " 2   stem-width            float64\n",
            " 3   cap-shape             object \n",
            " 4   cap-color             object \n",
            " 5   does-bruise-or-bleed  object \n",
            " 6   gill-color            object \n",
            " 7   stem-color            object \n",
            " 8   has-ring              object \n",
            " 9   habitat               object \n",
            " 10  season                object \n",
            "dtypes: float64(3), object(8)\n",
            "memory usage: 190.2+ MB\n"
          ]
        }
      ]
    },
    {
      "cell_type": "code",
      "source": [
        "x.head()"
      ],
      "metadata": {
        "id": "tZm4kZcEHZeA",
        "outputId": "0c0be3eb-1137-4ca6-ec0f-6fb025a43bbe",
        "colab": {
          "base_uri": "https://localhost:8080/",
          "height": 223
        }
      },
      "execution_count": 51,
      "outputs": [
        {
          "output_type": "execute_result",
          "data": {
            "text/plain": [
              "         cap-diameter  stem-height  stem-width cap-shape cap-color  \\\n",
              "252973          12.48        10.07       23.93         x         n   \n",
              "104579           4.19         5.02        5.88         s         n   \n",
              "1424213          5.62         4.59       10.39         x         n   \n",
              "712984           9.43        20.55       12.67         f         w   \n",
              "2878250          8.27         7.06       16.57         f         u   \n",
              "\n",
              "        does-bruise-or-bleed gill-color stem-color has-ring habitat season  \n",
              "252973                     t          y          n        f       d      a  \n",
              "104579                     t          p          n        f       d      a  \n",
              "1424213                    f          p          n        f       d      a  \n",
              "712984                     f          p          w        t       d      u  \n",
              "2878250                    f          y          u        f       d      a  "
            ],
            "text/html": [
              "\n",
              "  <div id=\"df-a139832c-5530-438b-bd30-fec7948a5742\" class=\"colab-df-container\">\n",
              "    <div>\n",
              "<style scoped>\n",
              "    .dataframe tbody tr th:only-of-type {\n",
              "        vertical-align: middle;\n",
              "    }\n",
              "\n",
              "    .dataframe tbody tr th {\n",
              "        vertical-align: top;\n",
              "    }\n",
              "\n",
              "    .dataframe thead th {\n",
              "        text-align: right;\n",
              "    }\n",
              "</style>\n",
              "<table border=\"1\" class=\"dataframe\">\n",
              "  <thead>\n",
              "    <tr style=\"text-align: right;\">\n",
              "      <th></th>\n",
              "      <th>cap-diameter</th>\n",
              "      <th>stem-height</th>\n",
              "      <th>stem-width</th>\n",
              "      <th>cap-shape</th>\n",
              "      <th>cap-color</th>\n",
              "      <th>does-bruise-or-bleed</th>\n",
              "      <th>gill-color</th>\n",
              "      <th>stem-color</th>\n",
              "      <th>has-ring</th>\n",
              "      <th>habitat</th>\n",
              "      <th>season</th>\n",
              "    </tr>\n",
              "  </thead>\n",
              "  <tbody>\n",
              "    <tr>\n",
              "      <th>252973</th>\n",
              "      <td>12.48</td>\n",
              "      <td>10.07</td>\n",
              "      <td>23.93</td>\n",
              "      <td>x</td>\n",
              "      <td>n</td>\n",
              "      <td>t</td>\n",
              "      <td>y</td>\n",
              "      <td>n</td>\n",
              "      <td>f</td>\n",
              "      <td>d</td>\n",
              "      <td>a</td>\n",
              "    </tr>\n",
              "    <tr>\n",
              "      <th>104579</th>\n",
              "      <td>4.19</td>\n",
              "      <td>5.02</td>\n",
              "      <td>5.88</td>\n",
              "      <td>s</td>\n",
              "      <td>n</td>\n",
              "      <td>t</td>\n",
              "      <td>p</td>\n",
              "      <td>n</td>\n",
              "      <td>f</td>\n",
              "      <td>d</td>\n",
              "      <td>a</td>\n",
              "    </tr>\n",
              "    <tr>\n",
              "      <th>1424213</th>\n",
              "      <td>5.62</td>\n",
              "      <td>4.59</td>\n",
              "      <td>10.39</td>\n",
              "      <td>x</td>\n",
              "      <td>n</td>\n",
              "      <td>f</td>\n",
              "      <td>p</td>\n",
              "      <td>n</td>\n",
              "      <td>f</td>\n",
              "      <td>d</td>\n",
              "      <td>a</td>\n",
              "    </tr>\n",
              "    <tr>\n",
              "      <th>712984</th>\n",
              "      <td>9.43</td>\n",
              "      <td>20.55</td>\n",
              "      <td>12.67</td>\n",
              "      <td>f</td>\n",
              "      <td>w</td>\n",
              "      <td>f</td>\n",
              "      <td>p</td>\n",
              "      <td>w</td>\n",
              "      <td>t</td>\n",
              "      <td>d</td>\n",
              "      <td>u</td>\n",
              "    </tr>\n",
              "    <tr>\n",
              "      <th>2878250</th>\n",
              "      <td>8.27</td>\n",
              "      <td>7.06</td>\n",
              "      <td>16.57</td>\n",
              "      <td>f</td>\n",
              "      <td>u</td>\n",
              "      <td>f</td>\n",
              "      <td>y</td>\n",
              "      <td>u</td>\n",
              "      <td>f</td>\n",
              "      <td>d</td>\n",
              "      <td>a</td>\n",
              "    </tr>\n",
              "  </tbody>\n",
              "</table>\n",
              "</div>\n",
              "    <div class=\"colab-df-buttons\">\n",
              "\n",
              "  <div class=\"colab-df-container\">\n",
              "    <button class=\"colab-df-convert\" onclick=\"convertToInteractive('df-a139832c-5530-438b-bd30-fec7948a5742')\"\n",
              "            title=\"Convert this dataframe to an interactive table.\"\n",
              "            style=\"display:none;\">\n",
              "\n",
              "  <svg xmlns=\"http://www.w3.org/2000/svg\" height=\"24px\" viewBox=\"0 -960 960 960\">\n",
              "    <path d=\"M120-120v-720h720v720H120Zm60-500h600v-160H180v160Zm220 220h160v-160H400v160Zm0 220h160v-160H400v160ZM180-400h160v-160H180v160Zm440 0h160v-160H620v160ZM180-180h160v-160H180v160Zm440 0h160v-160H620v160Z\"/>\n",
              "  </svg>\n",
              "    </button>\n",
              "\n",
              "  <style>\n",
              "    .colab-df-container {\n",
              "      display:flex;\n",
              "      gap: 12px;\n",
              "    }\n",
              "\n",
              "    .colab-df-convert {\n",
              "      background-color: #E8F0FE;\n",
              "      border: none;\n",
              "      border-radius: 50%;\n",
              "      cursor: pointer;\n",
              "      display: none;\n",
              "      fill: #1967D2;\n",
              "      height: 32px;\n",
              "      padding: 0 0 0 0;\n",
              "      width: 32px;\n",
              "    }\n",
              "\n",
              "    .colab-df-convert:hover {\n",
              "      background-color: #E2EBFA;\n",
              "      box-shadow: 0px 1px 2px rgba(60, 64, 67, 0.3), 0px 1px 3px 1px rgba(60, 64, 67, 0.15);\n",
              "      fill: #174EA6;\n",
              "    }\n",
              "\n",
              "    .colab-df-buttons div {\n",
              "      margin-bottom: 4px;\n",
              "    }\n",
              "\n",
              "    [theme=dark] .colab-df-convert {\n",
              "      background-color: #3B4455;\n",
              "      fill: #D2E3FC;\n",
              "    }\n",
              "\n",
              "    [theme=dark] .colab-df-convert:hover {\n",
              "      background-color: #434B5C;\n",
              "      box-shadow: 0px 1px 3px 1px rgba(0, 0, 0, 0.15);\n",
              "      filter: drop-shadow(0px 1px 2px rgba(0, 0, 0, 0.3));\n",
              "      fill: #FFFFFF;\n",
              "    }\n",
              "  </style>\n",
              "\n",
              "    <script>\n",
              "      const buttonEl =\n",
              "        document.querySelector('#df-a139832c-5530-438b-bd30-fec7948a5742 button.colab-df-convert');\n",
              "      buttonEl.style.display =\n",
              "        google.colab.kernel.accessAllowed ? 'block' : 'none';\n",
              "\n",
              "      async function convertToInteractive(key) {\n",
              "        const element = document.querySelector('#df-a139832c-5530-438b-bd30-fec7948a5742');\n",
              "        const dataTable =\n",
              "          await google.colab.kernel.invokeFunction('convertToInteractive',\n",
              "                                                    [key], {});\n",
              "        if (!dataTable) return;\n",
              "\n",
              "        const docLinkHtml = 'Like what you see? Visit the ' +\n",
              "          '<a target=\"_blank\" href=https://colab.research.google.com/notebooks/data_table.ipynb>data table notebook</a>'\n",
              "          + ' to learn more about interactive tables.';\n",
              "        element.innerHTML = '';\n",
              "        dataTable['output_type'] = 'display_data';\n",
              "        await google.colab.output.renderOutput(dataTable, element);\n",
              "        const docLink = document.createElement('div');\n",
              "        docLink.innerHTML = docLinkHtml;\n",
              "        element.appendChild(docLink);\n",
              "      }\n",
              "    </script>\n",
              "  </div>\n",
              "\n",
              "\n",
              "<div id=\"df-cc023f5d-0956-4010-8d90-26b98bccdb75\">\n",
              "  <button class=\"colab-df-quickchart\" onclick=\"quickchart('df-cc023f5d-0956-4010-8d90-26b98bccdb75')\"\n",
              "            title=\"Suggest charts\"\n",
              "            style=\"display:none;\">\n",
              "\n",
              "<svg xmlns=\"http://www.w3.org/2000/svg\" height=\"24px\"viewBox=\"0 0 24 24\"\n",
              "     width=\"24px\">\n",
              "    <g>\n",
              "        <path d=\"M19 3H5c-1.1 0-2 .9-2 2v14c0 1.1.9 2 2 2h14c1.1 0 2-.9 2-2V5c0-1.1-.9-2-2-2zM9 17H7v-7h2v7zm4 0h-2V7h2v10zm4 0h-2v-4h2v4z\"/>\n",
              "    </g>\n",
              "</svg>\n",
              "  </button>\n",
              "\n",
              "<style>\n",
              "  .colab-df-quickchart {\n",
              "      --bg-color: #E8F0FE;\n",
              "      --fill-color: #1967D2;\n",
              "      --hover-bg-color: #E2EBFA;\n",
              "      --hover-fill-color: #174EA6;\n",
              "      --disabled-fill-color: #AAA;\n",
              "      --disabled-bg-color: #DDD;\n",
              "  }\n",
              "\n",
              "  [theme=dark] .colab-df-quickchart {\n",
              "      --bg-color: #3B4455;\n",
              "      --fill-color: #D2E3FC;\n",
              "      --hover-bg-color: #434B5C;\n",
              "      --hover-fill-color: #FFFFFF;\n",
              "      --disabled-bg-color: #3B4455;\n",
              "      --disabled-fill-color: #666;\n",
              "  }\n",
              "\n",
              "  .colab-df-quickchart {\n",
              "    background-color: var(--bg-color);\n",
              "    border: none;\n",
              "    border-radius: 50%;\n",
              "    cursor: pointer;\n",
              "    display: none;\n",
              "    fill: var(--fill-color);\n",
              "    height: 32px;\n",
              "    padding: 0;\n",
              "    width: 32px;\n",
              "  }\n",
              "\n",
              "  .colab-df-quickchart:hover {\n",
              "    background-color: var(--hover-bg-color);\n",
              "    box-shadow: 0 1px 2px rgba(60, 64, 67, 0.3), 0 1px 3px 1px rgba(60, 64, 67, 0.15);\n",
              "    fill: var(--button-hover-fill-color);\n",
              "  }\n",
              "\n",
              "  .colab-df-quickchart-complete:disabled,\n",
              "  .colab-df-quickchart-complete:disabled:hover {\n",
              "    background-color: var(--disabled-bg-color);\n",
              "    fill: var(--disabled-fill-color);\n",
              "    box-shadow: none;\n",
              "  }\n",
              "\n",
              "  .colab-df-spinner {\n",
              "    border: 2px solid var(--fill-color);\n",
              "    border-color: transparent;\n",
              "    border-bottom-color: var(--fill-color);\n",
              "    animation:\n",
              "      spin 1s steps(1) infinite;\n",
              "  }\n",
              "\n",
              "  @keyframes spin {\n",
              "    0% {\n",
              "      border-color: transparent;\n",
              "      border-bottom-color: var(--fill-color);\n",
              "      border-left-color: var(--fill-color);\n",
              "    }\n",
              "    20% {\n",
              "      border-color: transparent;\n",
              "      border-left-color: var(--fill-color);\n",
              "      border-top-color: var(--fill-color);\n",
              "    }\n",
              "    30% {\n",
              "      border-color: transparent;\n",
              "      border-left-color: var(--fill-color);\n",
              "      border-top-color: var(--fill-color);\n",
              "      border-right-color: var(--fill-color);\n",
              "    }\n",
              "    40% {\n",
              "      border-color: transparent;\n",
              "      border-right-color: var(--fill-color);\n",
              "      border-top-color: var(--fill-color);\n",
              "    }\n",
              "    60% {\n",
              "      border-color: transparent;\n",
              "      border-right-color: var(--fill-color);\n",
              "    }\n",
              "    80% {\n",
              "      border-color: transparent;\n",
              "      border-right-color: var(--fill-color);\n",
              "      border-bottom-color: var(--fill-color);\n",
              "    }\n",
              "    90% {\n",
              "      border-color: transparent;\n",
              "      border-bottom-color: var(--fill-color);\n",
              "    }\n",
              "  }\n",
              "</style>\n",
              "\n",
              "  <script>\n",
              "    async function quickchart(key) {\n",
              "      const quickchartButtonEl =\n",
              "        document.querySelector('#' + key + ' button');\n",
              "      quickchartButtonEl.disabled = true;  // To prevent multiple clicks.\n",
              "      quickchartButtonEl.classList.add('colab-df-spinner');\n",
              "      try {\n",
              "        const charts = await google.colab.kernel.invokeFunction(\n",
              "            'suggestCharts', [key], {});\n",
              "      } catch (error) {\n",
              "        console.error('Error during call to suggestCharts:', error);\n",
              "      }\n",
              "      quickchartButtonEl.classList.remove('colab-df-spinner');\n",
              "      quickchartButtonEl.classList.add('colab-df-quickchart-complete');\n",
              "    }\n",
              "    (() => {\n",
              "      let quickchartButtonEl =\n",
              "        document.querySelector('#df-cc023f5d-0956-4010-8d90-26b98bccdb75 button');\n",
              "      quickchartButtonEl.style.display =\n",
              "        google.colab.kernel.accessAllowed ? 'block' : 'none';\n",
              "    })();\n",
              "  </script>\n",
              "</div>\n",
              "\n",
              "    </div>\n",
              "  </div>\n"
            ],
            "application/vnd.google.colaboratory.intrinsic+json": {
              "type": "dataframe",
              "variable_name": "x"
            }
          },
          "metadata": {},
          "execution_count": 51
        }
      ]
    },
    {
      "cell_type": "code",
      "source": [
        "encoding=LabelEncoder()\n",
        "for col in x.select_dtypes(include='object').columns:\n",
        "  x[col]=encoding.fit_transform(x[col])\n",
        "  df_test[col]=encoding.transform(df_test[col])"
      ],
      "metadata": {
        "id": "NMRc7xnViPbJ"
      },
      "execution_count": 52,
      "outputs": []
    },
    {
      "cell_type": "code",
      "source": [
        "x.shape"
      ],
      "metadata": {
        "colab": {
          "base_uri": "https://localhost:8080/"
        },
        "id": "4-l8xonXiiVw",
        "outputId": "ae58e1ce-5719-42e2-e4e1-b46fc2fa1b2f"
      },
      "execution_count": 53,
      "outputs": [
        {
          "output_type": "execute_result",
          "data": {
            "text/plain": [
              "(3116945, 11)"
            ]
          },
          "metadata": {},
          "execution_count": 53
        }
      ]
    },
    {
      "cell_type": "code",
      "source": [
        "x_train,x_test,y_train,y_test=train_test_split(x,y,train_size=(2077964/3116945),stratify=y)"
      ],
      "metadata": {
        "id": "ovftmPoUNvID"
      },
      "execution_count": 55,
      "outputs": []
    },
    {
      "cell_type": "code",
      "source": [
        "print(x_train.shape)\n",
        "print(y_train.shape)\n",
        "print(x_test.shape)\n",
        "print(y_test.shape)"
      ],
      "metadata": {
        "id": "UudXAdkAOMY8",
        "outputId": "25b2566b-39d8-4632-fbf1-ee1699b0c9eb",
        "colab": {
          "base_uri": "https://localhost:8080/"
        }
      },
      "execution_count": 56,
      "outputs": [
        {
          "output_type": "stream",
          "name": "stdout",
          "text": [
            "(2077964, 11)\n",
            "(2077964,)\n",
            "(1038981, 11)\n",
            "(1038981,)\n"
          ]
        }
      ]
    },
    {
      "cell_type": "code",
      "source": [
        "def Bayesian_Optimization (model,search_space):\n",
        "  bayes = BayesSearchCV(model,\n",
        "                        search_space,\n",
        "                         n_iter= 20\n",
        "                        n_jobs=-1,\n",
        "                        scoring='accuracy',\n",
        "                        random_state=42)\n",
        "  return bayes"
      ],
      "metadata": {
        "id": "Pttycjvgi2Ts"
      },
      "execution_count": 59,
      "outputs": []
    },
    {
      "cell_type": "code",
      "source": [
        "xgb_space = {\n",
        "    'n_estimators': Integer(50, 150),\n",
        "    'max_depth': Integer(2, 8),\n",
        "    'learning_rate': Real(0.01, .4, 'log-uniform'),\n",
        "    'subsample': Real(0.5, 1.0, 'uniform'),\n",
        "    'colsample_bytree': Real(0.5, 1.0, 'uniform')\n",
        "}"
      ],
      "metadata": {
        "id": "5OBvuK_4CRfI"
      },
      "execution_count": 60,
      "outputs": []
    },
    {
      "cell_type": "code",
      "source": [
        "xgb = XGBClassifier(random_state=42)\n",
        "xgb_optimzied = Bayesian_Optimization(xgb,xgb_space)\n",
        "xgb_optimzied.fit(x_train,y_train)"
      ],
      "metadata": {
        "colab": {
          "base_uri": "https://localhost:8080/"
        },
        "id": "5A4Z-9T4jwBF",
        "outputId": "83b63f92-eacd-40f0-b6ee-db742d77dc50"
      },
      "execution_count": null,
      "outputs": [
        {
          "metadata": {
            "tags": null
          },
          "name": "stderr",
          "output_type": "stream",
          "text": [
            "/usr/local/lib/python3.10/dist-packages/joblib/externals/loky/process_executor.py:752: UserWarning: A worker stopped while some jobs were given to the executor. This can be caused by a too short worker timeout or by a memory leak.\n",
            "  warnings.warn(\n",
            "/usr/local/lib/python3.10/dist-packages/joblib/externals/loky/process_executor.py:752: UserWarning: A worker stopped while some jobs were given to the executor. This can be caused by a too short worker timeout or by a memory leak.\n",
            "  warnings.warn(\n",
            "/usr/local/lib/python3.10/dist-packages/joblib/externals/loky/process_executor.py:752: UserWarning: A worker stopped while some jobs were given to the executor. This can be caused by a too short worker timeout or by a memory leak.\n",
            "  warnings.warn(\n"
          ]
        }
      ]
    },
    {
      "cell_type": "code",
      "source": [],
      "metadata": {
        "id": "il3rGw-6Mwhr"
      },
      "execution_count": null,
      "outputs": []
    }
  ]
}