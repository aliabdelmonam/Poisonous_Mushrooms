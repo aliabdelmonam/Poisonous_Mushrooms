{
  "nbformat": 4,
  "nbformat_minor": 0,
  "metadata": {
    "colab": {
      "provenance": [],
      "collapsed_sections": [
        "V138y6S2spN0",
        "SqiebhwWsw34",
        "9JkMTQUCPNoo"
      ],
      "include_colab_link": true
    },
    "kernelspec": {
      "name": "python3",
      "display_name": "Python 3"
    },
    "language_info": {
      "name": "python"
    }
  },
  "cells": [
    {
      "cell_type": "markdown",
      "metadata": {
        "id": "view-in-github",
        "colab_type": "text"
      },
      "source": [
        "<a href=\"https://colab.research.google.com/github/aliabdelmonam/Poisonous_Mushrooms/blob/main/Poisonous_Mushrooms.ipynb\" target=\"_parent\"><img src=\"https://colab.research.google.com/assets/colab-badge.svg\" alt=\"Open In Colab\"/></a>"
      ]
    },
    {
      "cell_type": "code",
      "source": [
        "from google.colab import drive\n",
        "drive.mount('/content/drive')"
      ],
      "metadata": {
        "colab": {
          "base_uri": "https://localhost:8080/",
          "height": 304
        },
        "id": "1GOVeb468DBo",
        "outputId": "3b18aee8-e140-4ca5-c921-bda7b337aca3"
      },
      "execution_count": 64,
      "outputs": [
        {
          "output_type": "error",
          "ename": "KeyboardInterrupt",
          "evalue": "",
          "traceback": [
            "\u001b[0;31m---------------------------------------------------------------------------\u001b[0m",
            "\u001b[0;31mKeyboardInterrupt\u001b[0m                         Traceback (most recent call last)",
            "\u001b[0;32m<ipython-input-64-d5df0069828e>\u001b[0m in \u001b[0;36m<cell line: 2>\u001b[0;34m()\u001b[0m\n\u001b[1;32m      1\u001b[0m \u001b[0;32mfrom\u001b[0m \u001b[0mgoogle\u001b[0m\u001b[0;34m.\u001b[0m\u001b[0mcolab\u001b[0m \u001b[0;32mimport\u001b[0m \u001b[0mdrive\u001b[0m\u001b[0;34m\u001b[0m\u001b[0;34m\u001b[0m\u001b[0m\n\u001b[0;32m----> 2\u001b[0;31m \u001b[0mdrive\u001b[0m\u001b[0;34m.\u001b[0m\u001b[0mmount\u001b[0m\u001b[0;34m(\u001b[0m\u001b[0;34m'/content/drive'\u001b[0m\u001b[0;34m)\u001b[0m\u001b[0;34m\u001b[0m\u001b[0;34m\u001b[0m\u001b[0m\n\u001b[0m",
            "\u001b[0;32m/usr/local/lib/python3.10/dist-packages/google/colab/drive.py\u001b[0m in \u001b[0;36mmount\u001b[0;34m(mountpoint, force_remount, timeout_ms, readonly)\u001b[0m\n\u001b[1;32m     98\u001b[0m \u001b[0;32mdef\u001b[0m \u001b[0mmount\u001b[0m\u001b[0;34m(\u001b[0m\u001b[0mmountpoint\u001b[0m\u001b[0;34m,\u001b[0m \u001b[0mforce_remount\u001b[0m\u001b[0;34m=\u001b[0m\u001b[0;32mFalse\u001b[0m\u001b[0;34m,\u001b[0m \u001b[0mtimeout_ms\u001b[0m\u001b[0;34m=\u001b[0m\u001b[0;36m120000\u001b[0m\u001b[0;34m,\u001b[0m \u001b[0mreadonly\u001b[0m\u001b[0;34m=\u001b[0m\u001b[0;32mFalse\u001b[0m\u001b[0;34m)\u001b[0m\u001b[0;34m:\u001b[0m\u001b[0;34m\u001b[0m\u001b[0;34m\u001b[0m\u001b[0m\n\u001b[1;32m     99\u001b[0m   \u001b[0;34m\"\"\"Mount your Google Drive at the specified mountpoint path.\"\"\"\u001b[0m\u001b[0;34m\u001b[0m\u001b[0;34m\u001b[0m\u001b[0m\n\u001b[0;32m--> 100\u001b[0;31m   return _mount(\n\u001b[0m\u001b[1;32m    101\u001b[0m       \u001b[0mmountpoint\u001b[0m\u001b[0;34m,\u001b[0m\u001b[0;34m\u001b[0m\u001b[0;34m\u001b[0m\u001b[0m\n\u001b[1;32m    102\u001b[0m       \u001b[0mforce_remount\u001b[0m\u001b[0;34m=\u001b[0m\u001b[0mforce_remount\u001b[0m\u001b[0;34m,\u001b[0m\u001b[0;34m\u001b[0m\u001b[0;34m\u001b[0m\u001b[0m\n",
            "\u001b[0;32m/usr/local/lib/python3.10/dist-packages/google/colab/drive.py\u001b[0m in \u001b[0;36m_mount\u001b[0;34m(mountpoint, force_remount, timeout_ms, ephemeral, readonly)\u001b[0m\n\u001b[1;32m    131\u001b[0m   )\n\u001b[1;32m    132\u001b[0m   \u001b[0;32mif\u001b[0m \u001b[0mephemeral\u001b[0m\u001b[0;34m:\u001b[0m\u001b[0;34m\u001b[0m\u001b[0;34m\u001b[0m\u001b[0m\n\u001b[0;32m--> 133\u001b[0;31m     _message.blocking_request(\n\u001b[0m\u001b[1;32m    134\u001b[0m         \u001b[0;34m'request_auth'\u001b[0m\u001b[0;34m,\u001b[0m\u001b[0;34m\u001b[0m\u001b[0;34m\u001b[0m\u001b[0m\n\u001b[1;32m    135\u001b[0m         \u001b[0mrequest\u001b[0m\u001b[0;34m=\u001b[0m\u001b[0;34m{\u001b[0m\u001b[0;34m'authType'\u001b[0m\u001b[0;34m:\u001b[0m \u001b[0;34m'dfs_ephemeral'\u001b[0m\u001b[0;34m}\u001b[0m\u001b[0;34m,\u001b[0m\u001b[0;34m\u001b[0m\u001b[0;34m\u001b[0m\u001b[0m\n",
            "\u001b[0;32m/usr/local/lib/python3.10/dist-packages/google/colab/_message.py\u001b[0m in \u001b[0;36mblocking_request\u001b[0;34m(request_type, request, timeout_sec, parent)\u001b[0m\n\u001b[1;32m    174\u001b[0m       \u001b[0mrequest_type\u001b[0m\u001b[0;34m,\u001b[0m \u001b[0mrequest\u001b[0m\u001b[0;34m,\u001b[0m \u001b[0mparent\u001b[0m\u001b[0;34m=\u001b[0m\u001b[0mparent\u001b[0m\u001b[0;34m,\u001b[0m \u001b[0mexpect_reply\u001b[0m\u001b[0;34m=\u001b[0m\u001b[0;32mTrue\u001b[0m\u001b[0;34m\u001b[0m\u001b[0;34m\u001b[0m\u001b[0m\n\u001b[1;32m    175\u001b[0m   )\n\u001b[0;32m--> 176\u001b[0;31m   \u001b[0;32mreturn\u001b[0m \u001b[0mread_reply_from_input\u001b[0m\u001b[0;34m(\u001b[0m\u001b[0mrequest_id\u001b[0m\u001b[0;34m,\u001b[0m \u001b[0mtimeout_sec\u001b[0m\u001b[0;34m)\u001b[0m\u001b[0;34m\u001b[0m\u001b[0;34m\u001b[0m\u001b[0m\n\u001b[0m",
            "\u001b[0;32m/usr/local/lib/python3.10/dist-packages/google/colab/_message.py\u001b[0m in \u001b[0;36mread_reply_from_input\u001b[0;34m(message_id, timeout_sec)\u001b[0m\n\u001b[1;32m     94\u001b[0m     \u001b[0mreply\u001b[0m \u001b[0;34m=\u001b[0m \u001b[0m_read_next_input_message\u001b[0m\u001b[0;34m(\u001b[0m\u001b[0;34m)\u001b[0m\u001b[0;34m\u001b[0m\u001b[0;34m\u001b[0m\u001b[0m\n\u001b[1;32m     95\u001b[0m     \u001b[0;32mif\u001b[0m \u001b[0mreply\u001b[0m \u001b[0;34m==\u001b[0m \u001b[0m_NOT_READY\u001b[0m \u001b[0;32mor\u001b[0m \u001b[0;32mnot\u001b[0m \u001b[0misinstance\u001b[0m\u001b[0;34m(\u001b[0m\u001b[0mreply\u001b[0m\u001b[0;34m,\u001b[0m \u001b[0mdict\u001b[0m\u001b[0;34m)\u001b[0m\u001b[0;34m:\u001b[0m\u001b[0;34m\u001b[0m\u001b[0;34m\u001b[0m\u001b[0m\n\u001b[0;32m---> 96\u001b[0;31m       \u001b[0mtime\u001b[0m\u001b[0;34m.\u001b[0m\u001b[0msleep\u001b[0m\u001b[0;34m(\u001b[0m\u001b[0;36m0.025\u001b[0m\u001b[0;34m)\u001b[0m\u001b[0;34m\u001b[0m\u001b[0;34m\u001b[0m\u001b[0m\n\u001b[0m\u001b[1;32m     97\u001b[0m       \u001b[0;32mcontinue\u001b[0m\u001b[0;34m\u001b[0m\u001b[0;34m\u001b[0m\u001b[0m\n\u001b[1;32m     98\u001b[0m     if (\n",
            "\u001b[0;31mKeyboardInterrupt\u001b[0m: "
          ]
        }
      ]
    },
    {
      "cell_type": "markdown",
      "source": [
        "### **Libraries**"
      ],
      "metadata": {
        "id": "V138y6S2spN0"
      }
    },
    {
      "cell_type": "code",
      "source": [
        "!pip install scikit-optimize\n",
        "!pip install catboost\n"
      ],
      "metadata": {
        "id": "10s6ldOBA0zj",
        "collapsed": true
      },
      "execution_count": null,
      "outputs": []
    },
    {
      "cell_type": "code",
      "execution_count": null,
      "metadata": {
        "id": "k2WOHBK4DPio"
      },
      "outputs": [],
      "source": [
        "import pandas as pd\n",
        "import numpy as np\n",
        "import matplotlib.pyplot as plt\n",
        "import seaborn as sns\n",
        "from sklearn.preprocessing import StandardScaler,OneHotEncoder,OrdinalEncoder\n",
        "from sklearn.decomposition import PCA\n",
        "from sklearn.metrics import accuracy_score\n",
        "from sklearn.model_selection import train_test_split\n",
        "from sklearn.compose import ColumnTransformer\n",
        "from sklearn.impute import SimpleImputer\n",
        "from sklearn.pipeline import Pipeline\n",
        "from sklearn.ensemble import VotingClassifier\n",
        "from catboost import CatBoostClassifier, Pool\n",
        "from xgboost import XGBClassifier\n",
        "from lightgbm import LGBMClassifier\n",
        "from skopt import BayesSearchCV\n",
        "from skopt.space import Real, Categorical, Integer\n",
        "import copy"
      ]
    },
    {
      "cell_type": "markdown",
      "source": [
        "\n",
        "## Data"
      ],
      "metadata": {
        "id": "SqiebhwWsw34"
      }
    },
    {
      "cell_type": "code",
      "source": [
        "pd.set_option('display.max_columns', None)"
      ],
      "metadata": {
        "id": "djSgBlyVPCBc"
      },
      "execution_count": null,
      "outputs": []
    },
    {
      "cell_type": "code",
      "source": [
        "# df=pd.read_csv('/content/sample_submission.csv')\n",
        "tr=pd.read_csv('/content/drive/MyDrive/DataSet/Poisonous Mushrooms_train.csv')\n"
      ],
      "metadata": {
        "id": "8k7J1SeGOgRJ"
      },
      "execution_count": null,
      "outputs": []
    },
    {
      "cell_type": "code",
      "source": [
        "tr.shape"
      ],
      "metadata": {
        "id": "eMT01cORPFYc"
      },
      "execution_count": null,
      "outputs": []
    },
    {
      "cell_type": "code",
      "source": [
        "tr.head()"
      ],
      "metadata": {
        "id": "lErXh59kPidZ"
      },
      "execution_count": null,
      "outputs": []
    },
    {
      "cell_type": "code",
      "source": [
        "tr.info()"
      ],
      "metadata": {
        "id": "6EIgwtHTP04w"
      },
      "execution_count": null,
      "outputs": []
    },
    {
      "cell_type": "code",
      "source": [
        "df_train = copy.deepcopy(tr)"
      ],
      "metadata": {
        "id": "Vjl_nbWrJW1_"
      },
      "execution_count": null,
      "outputs": []
    },
    {
      "cell_type": "markdown",
      "source": [
        "# **Category**"
      ],
      "metadata": {
        "id": "9JkMTQUCPNoo"
      }
    },
    {
      "cell_type": "code",
      "source": [
        "def subclass_details (df):\n",
        "  df=df.select_dtypes(include='category')\n",
        "  for col in df.columns:\n",
        "    print('Number of unique classes:',df[col].nunique())\n",
        "    print(df[col].value_counts().head(10))\n",
        "    print('############################')"
      ],
      "metadata": {
        "id": "i6rJwpNzPW1r"
      },
      "execution_count": null,
      "outputs": []
    },
    {
      "cell_type": "code",
      "source": [
        "def remove_att(df,threshold=200):\n",
        "  cat_coln=df.select_dtypes(include='object')\n",
        "  for col in cat_coln:\n",
        "    attrib_drop=[]\n",
        "    for att , count in df[col].value_counts().items() :\n",
        "      if count <threshold:\n",
        "        attrib_drop.append(att)\n",
        "    mask = df[col].isin(attrib_drop)\n",
        "    df.loc[mask,col] = 'UNK'\n",
        "  return df"
      ],
      "metadata": {
        "id": "C4mS1DE9Q8V8"
      },
      "execution_count": null,
      "outputs": []
    },
    {
      "cell_type": "code",
      "source": [
        "def convert_cate (df):\n",
        "  for clas in df.select_dtypes(include='object'):\n",
        "    df[clas] =   df[clas].astype('category')\n",
        "  return df"
      ],
      "metadata": {
        "id": "lpeNU8ARWdqL"
      },
      "execution_count": null,
      "outputs": []
    },
    {
      "cell_type": "code",
      "source": [
        "df_train = remove_att(df_train)\n",
        "df_train = convert_cate(df_train)\n",
        "subclass_details(df_train)"
      ],
      "metadata": {
        "id": "5Bmj9jt-R-vX",
        "collapsed": true
      },
      "execution_count": null,
      "outputs": []
    },
    {
      "cell_type": "code",
      "source": [
        "df_train.info()"
      ],
      "metadata": {
        "id": "NtrChKiEEoqx",
        "collapsed": true
      },
      "execution_count": null,
      "outputs": []
    },
    {
      "cell_type": "markdown",
      "source": [
        "# **Missing Value**"
      ],
      "metadata": {
        "id": "KufULjN2Jg62"
      }
    },
    {
      "cell_type": "code",
      "source": [
        "def plot_missing_feature(df):\n",
        "  null_df=(df.isna().sum()*100/df.shape[0]).sort_values(ascending=False)\n",
        "  sns.barplot(x=null_df.index,y=null_df.values,palette='plasma')\n",
        "  plt.xticks(rotation=90)\n",
        "  plt.xlabel('Feature')\n",
        "  plt.ylabel('Percent(%)')\n",
        "  plt.title('Missing Values')\n",
        "  plt.show()"
      ],
      "metadata": {
        "id": "K-j08sL6JljV"
      },
      "execution_count": null,
      "outputs": []
    },
    {
      "cell_type": "code",
      "source": [
        "def missing_feature (df):\n",
        "  null_df=(df.isna().sum()*100/df.shape[0]).sort_values(ascending=False)\n",
        "  return null_df"
      ],
      "metadata": {
        "id": "G1UN2ZPg-FYU"
      },
      "execution_count": null,
      "outputs": []
    },
    {
      "cell_type": "code",
      "source": [
        "null_df_train = missing_feature(df_train)\n",
        "null_df_train"
      ],
      "metadata": {
        "id": "Elm-Y3_hJxzi",
        "collapsed": true
      },
      "execution_count": null,
      "outputs": []
    },
    {
      "cell_type": "code",
      "source": [
        "plot_missing_feature(df_train)"
      ],
      "metadata": {
        "id": "DdFz8faj-UxN"
      },
      "execution_count": null,
      "outputs": []
    },
    {
      "cell_type": "code",
      "source": [
        "def columns_drop(df):\n",
        "  column_drop=[]\n",
        "  null_df=missing_feature(df)\n",
        "  for col,val in null_df.items():\n",
        "    if val >4:\n",
        "      column_drop.append(col)\n",
        "  return column_drop"
      ],
      "metadata": {
        "id": "nGTQKmd1LU2r"
      },
      "execution_count": null,
      "outputs": []
    },
    {
      "cell_type": "code",
      "source": [
        "column_drop_train = columns_drop(df_train)\n",
        "print('-----------------------------------------')\n",
        "print(column_drop_train)"
      ],
      "metadata": {
        "id": "dOo89kpDLtj_"
      },
      "execution_count": null,
      "outputs": []
    },
    {
      "cell_type": "code",
      "source": [
        "df_train.drop(column_drop_train,axis=1,inplace=True)\n",
        "df_train.drop('id',axis=1,inplace=True)"
      ],
      "metadata": {
        "id": "7j6bHscdMEyD"
      },
      "execution_count": null,
      "outputs": []
    },
    {
      "cell_type": "code",
      "source": [
        "df_train.isna().sum()"
      ],
      "metadata": {
        "id": "UV25xzIcMSVV"
      },
      "execution_count": null,
      "outputs": []
    },
    {
      "cell_type": "code",
      "source": [
        "df_train.plot(kind='hist',subplots=True,sharex=True,figsize=(15,15),bins=100)"
      ],
      "metadata": {
        "id": "z1sYSgCwMW2v",
        "collapsed": true
      },
      "execution_count": null,
      "outputs": []
    },
    {
      "cell_type": "code",
      "source": [
        "# num_data_train = df_train.select_dtypes(include='number')\n",
        "# num_data_test = df_test.select_dtypes(include='number')\n",
        "# cat_data_train = df_train.select_dtypes(include='category')\n",
        "# cat_data_test = df_test.select_dtypes(include='category')"
      ],
      "metadata": {
        "id": "0EpR_ykeMw_W"
      },
      "execution_count": null,
      "outputs": []
    },
    {
      "cell_type": "code",
      "source": [
        "# num_impute=SimpleImputer(strategy='median')\n",
        "# cat_impute=SimpleImputer(strategy='most_frequent')\n",
        "\n",
        "# num_data_train=pd.DataFrame(num_impute.fit_transform(num_data_train),columns=num_data_train.columns)\n",
        "# num_data_test=pd.DataFrame(num_impute.transform(num_data_test),columns=num_data_test.columns)\n",
        "# cat_data_train=pd.DataFrame(cat_impute.fit_transform(cat_data_train),columns=cat_data_train.columns)\n",
        "# cat_data_test=pd.DataFrame(cat_impute.fit_transform(cat_data_test),columns=cat_data_test.columns)"
      ],
      "metadata": {
        "id": "vPFsiUJzOcSw"
      },
      "execution_count": null,
      "outputs": []
    },
    {
      "cell_type": "code",
      "source": [
        "# df_train = pd.concat([num_data_train,cat_data_train],axis=1).sample(frac=1)\n",
        "# df_test = pd.concat([num_data_test,cat_data_test],axis=1).sample(frac=1)"
      ],
      "metadata": {
        "id": "aj0lDG9COl4P"
      },
      "execution_count": null,
      "outputs": []
    },
    {
      "cell_type": "code",
      "source": [
        "df_train.shape"
      ],
      "metadata": {
        "id": "2dCqxrQ2ejFg"
      },
      "execution_count": null,
      "outputs": []
    },
    {
      "cell_type": "markdown",
      "source": [
        "# **Splitting Data**"
      ],
      "metadata": {
        "id": "R6qt6nOOgTyn"
      }
    },
    {
      "cell_type": "code",
      "source": [
        "x=df_train.drop('class',axis=1)\n",
        "y=df_train['class']\n",
        "y=np.array([0 if i =='e' else 1 for i in y])\n",
        "y.reshape(-1,1)"
      ],
      "metadata": {
        "id": "yxo12gwIgv6a",
        "collapsed": true
      },
      "execution_count": null,
      "outputs": []
    },
    {
      "cell_type": "code",
      "source": [
        "x_train,x_test,y_train,y_test=train_test_split(x,y,train_size=.7,stratify=y)"
      ],
      "metadata": {
        "id": "ovftmPoUNvID"
      },
      "execution_count": null,
      "outputs": []
    },
    {
      "cell_type": "markdown",
      "source": [
        "# **Pipeline**"
      ],
      "metadata": {
        "id": "_ncbFeCmPOV7"
      }
    },
    {
      "cell_type": "code",
      "source": [
        "num_data_train_columns = x.select_dtypes(include='number').columns\n",
        "cat_data_train_columns = x.select_dtypes(include='category').columns\n",
        "cat_data_train_columns"
      ],
      "metadata": {
        "id": "RZC3G-3s8Gks"
      },
      "execution_count": null,
      "outputs": []
    },
    {
      "cell_type": "code",
      "source": [
        "num_pipe=Pipeline (steps=[\n",
        "    ('imputer',SimpleImputer(strategy='median')),\n",
        "    ('scaler',StandardScaler())\n",
        "])\n",
        "cat_pipe=Pipeline (steps=[\n",
        "    ('imputer',SimpleImputer(strategy='most_frequent')),\n",
        "    # ('encoder',OneHotEncoder(sparse=False, handle_unknown='ignore'))\n",
        "    ('encoder',OrdinalEncoder())\n",
        "\n",
        "])"
      ],
      "metadata": {
        "id": "GwLKW_QSPN29"
      },
      "execution_count": null,
      "outputs": []
    },
    {
      "cell_type": "code",
      "source": [
        "df_preprocessing=ColumnTransformer(\n",
        "     transformers=[\n",
        "        ('num', num_pipe, num_data_train_columns),\n",
        "        ('cat', cat_pipe, cat_data_train_columns)\n",
        "    ]\n",
        ")"
      ],
      "metadata": {
        "id": "pu7LAQ8AQ1Cb"
      },
      "execution_count": null,
      "outputs": []
    },
    {
      "cell_type": "code",
      "source": [
        "final_pipe = Pipeline(steps=[\n",
        "    ('preprocessor',df_preprocessing),\n",
        "    # ('PCA',PCA(n_components=.95)),\n",
        "\n",
        "])"
      ],
      "metadata": {
        "id": "XIJhxfK9Rmwk"
      },
      "execution_count": null,
      "outputs": []
    },
    {
      "cell_type": "code",
      "source": [
        "x_train=final_pipe.fit_transform(x_train)\n",
        "x_test=final_pipe.transform(x_test)"
      ],
      "metadata": {
        "collapsed": true,
        "id": "fzdWCHBc8dEB"
      },
      "execution_count": null,
      "outputs": []
    },
    {
      "cell_type": "code",
      "source": [],
      "metadata": {
        "id": "isb8PJDbAWep"
      },
      "execution_count": null,
      "outputs": []
    },
    {
      "cell_type": "markdown",
      "source": [
        "# **Modeling**"
      ],
      "metadata": {
        "id": "KSR8p_qqJ71I"
      }
    },
    {
      "cell_type": "code",
      "source": [
        "def Bayesian_Optimization (model,search_space):\n",
        "  bayes = BayesSearchCV(model,\n",
        "                        search_space,\n",
        "                         n_iter= 10,\n",
        "                        n_jobs=-1,\n",
        "                        scoring='accuracy',\n",
        "                        random_state=42)\n",
        "  return bayes"
      ],
      "metadata": {
        "id": "Pttycjvgi2Ts"
      },
      "execution_count": null,
      "outputs": []
    },
    {
      "cell_type": "code",
      "source": [
        "xgb_space = {\n",
        "    'n_estimators': Integer(50, 150),\n",
        "    'max_depth': Integer(2, 8),\n",
        "    'learning_rate': Real(0.01, .4, 'log-uniform'),\n",
        "    'subsample': Real(0.5, 1.0, 'uniform'),\n",
        "    'colsample_bytree': Real(0.5, 1.0, 'uniform')\n",
        "}\n",
        "lgb_space={'num_leaves': (24, 45),\n",
        "          'feature_fraction': (0.1, 0.9),\n",
        "          'bagging_fraction': (0.5, 1),\n",
        "          'max_depth': (5, 8.99),\n",
        "          'lambda_l1': (0, 5),\n",
        "          'lambda_l2': (0, 3),\n",
        "          'min_split_gain': (0.001, 0.1),\n",
        "          'min_child_weight': (5, 60)\n",
        "}\n",
        "cat_space={\n",
        "    'iterations': Integer(10, 100),\n",
        "    'depth': Integer(1, 8),\n",
        "    'learning_rate': Real(0.01, 1.0, 'log-uniform'),\n",
        "    'l2_leaf_reg': Real(1e-3, 10, 'log-uniform'),\n",
        "    'border_count': Integer(32, 128)\n",
        "}"
      ],
      "metadata": {
        "id": "5OBvuK_4CRfI"
      },
      "execution_count": null,
      "outputs": []
    },
    {
      "cell_type": "code",
      "source": [
        "xgb = XGBClassifier(random_state=42)\n",
        "lgb = LGBMClassifier(random_state=42)\n",
        "cat = CatBoostClassifier(random_state=42)\n",
        "xgb_optimzied = Bayesian_Optimization(xgb,xgb_space)\n",
        "lgb_optimzied = Bayesian_Optimization(lgb,lgb_space)\n",
        "cat_optimzied = Bayesian_Optimization(cat,cat_space)"
      ],
      "metadata": {
        "id": "5A4Z-9T4jwBF"
      },
      "execution_count": null,
      "outputs": []
    },
    {
      "cell_type": "code",
      "source": [
        "xgb_optimzied.fit(x_train,y_train)\n",
        "lgb_optimzied.fit(x_train,y_train)\n",
        "cat_optimzied.fit(x_train,y_train)"
      ],
      "metadata": {
        "id": "1F_btnIjbPbN"
      },
      "execution_count": null,
      "outputs": []
    },
    {
      "cell_type": "code",
      "source": [
        "xgb=xgb_optimzied.best_estimator_\n",
        "lgb=lgb_optimzied.best_estimator_\n",
        "cat=cat_optimzied.best_estimator_"
      ],
      "metadata": {
        "id": "Wq06yQC4brkq"
      },
      "execution_count": null,
      "outputs": []
    },
    {
      "cell_type": "code",
      "source": [
        "y_pred_xgb=xgb.predict(x_test)\n",
        "y_pred_lgm=lgb.predict(x_test)\n",
        "y_pred_cat=cat.predict(x_test)\n",
        "print('XGB --> ',accuracy_score(y_test,y_pred_xgb))\n",
        "print('LGM --> ',accuracy_score(y_test,y_pred_lgm))\n",
        "print('CAT --> ',accuracy_score(y_test,y_pred_cat))"
      ],
      "metadata": {
        "id": "MgNaxNFJJbjc"
      },
      "execution_count": null,
      "outputs": []
    },
    {
      "cell_type": "code",
      "source": [
        "voting_clf=VotingClassifier(estimators=[\n",
        "        ('xgb', xgb),\n",
        "        ('catboost', catboost),\n",
        "        ('lightbgm',lbm)\n",
        "    ],\n",
        "    voting='soft'\n",
        ")\n",
        "voting_clf.fit(x_train,y_train)\n",
        "y_pred_voting=voting_clf.predict(x_test)\n",
        "print('Voting Classifier Accuracy',accuracy_score(y_test,y_pred_voting))"
      ],
      "metadata": {
        "collapsed": true,
        "id": "YNbYJ-xpKJb4"
      },
      "execution_count": null,
      "outputs": []
    },
    {
      "cell_type": "code",
      "source": [
        "import gc\n",
        "gc.collect()"
      ],
      "metadata": {
        "id": "8Tvxb1XbYW_S"
      },
      "execution_count": null,
      "outputs": []
    },
    {
      "cell_type": "code",
      "source": [],
      "metadata": {
        "id": "1ChXxSaSA-Z-"
      },
      "execution_count": null,
      "outputs": []
    }
  ]
}