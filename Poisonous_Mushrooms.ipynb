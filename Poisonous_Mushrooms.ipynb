{
  "metadata": {
    "colab": {
      "provenance": [],
      "name": "Poisonous_Mushrooms",
      "include_colab_link": true
    },
    "kernelspec": {
      "name": "python3",
      "display_name": "Python 3",
      "language": "python"
    },
    "language_info": {
      "name": "python",
      "version": "3.10.14",
      "mimetype": "text/x-python",
      "codemirror_mode": {
        "name": "ipython",
        "version": 3
      },
      "pygments_lexer": "ipython3",
      "nbconvert_exporter": "python",
      "file_extension": ".py"
    },
    "kaggle": {
      "accelerator": "none",
      "dataSources": [
        {
          "sourceId": 76727,
          "databundleVersionId": 9045607,
          "sourceType": "competition"
        }
      ],
      "dockerImageVersionId": 30761,
      "isInternetEnabled": true,
      "language": "python",
      "sourceType": "notebook",
      "isGpuEnabled": false
    }
  },
  "nbformat_minor": 0,
  "nbformat": 4,
  "cells": [
    {
      "cell_type": "markdown",
      "metadata": {
        "id": "view-in-github",
        "colab_type": "text"
      },
      "source": [
        "<a href=\"https://colab.research.google.com/github/aliabdelmonam/Poisonous_Mushrooms/blob/main/Poisonous_Mushrooms.ipynb\" target=\"_parent\"><img src=\"https://colab.research.google.com/assets/colab-badge.svg\" alt=\"Open In Colab\"/></a>"
      ]
    },
    {
      "source": [
        "\n",
        "# IMPORTANT: RUN THIS CELL IN ORDER TO IMPORT YOUR KAGGLE DATA SOURCES\n",
        "# TO THE CORRECT LOCATION (/kaggle/input) IN YOUR NOTEBOOK,\n",
        "# THEN FEEL FREE TO DELETE THIS CELL.\n",
        "# NOTE: THIS NOTEBOOK ENVIRONMENT DIFFERS FROM KAGGLE'S PYTHON\n",
        "# ENVIRONMENT SO THERE MAY BE MISSING LIBRARIES USED BY YOUR\n",
        "# NOTEBOOK.\n",
        "\n",
        "import os\n",
        "import sys\n",
        "from tempfile import NamedTemporaryFile\n",
        "from urllib.request import urlopen\n",
        "from urllib.parse import unquote, urlparse\n",
        "from urllib.error import HTTPError\n",
        "from zipfile import ZipFile\n",
        "import tarfile\n",
        "import shutil\n",
        "\n",
        "CHUNK_SIZE = 40960\n",
        "DATA_SOURCE_MAPPING = 'playground-series-s4e8:https%3A%2F%2Fstorage.googleapis.com%2Fkaggle-competitions-data%2Fkaggle-v2%2F76727%2F9045607%2Fbundle%2Farchive.zip%3FX-Goog-Algorithm%3DGOOG4-RSA-SHA256%26X-Goog-Credential%3Dgcp-kaggle-com%2540kaggle-161607.iam.gserviceaccount.com%252F20240829%252Fauto%252Fstorage%252Fgoog4_request%26X-Goog-Date%3D20240829T122852Z%26X-Goog-Expires%3D259200%26X-Goog-SignedHeaders%3Dhost%26X-Goog-Signature%3D3435ec23338b9b21a3d9b106ef3005978285be6c9b2ed95e7568ccff573f91c0f059eb27aef85ff90498a66cb8b5cf9f5073503cd4c7820c1beeda66dbfa44b5ba8e98b909806d2d711d33dc1369bbde33ab6f623f18a5a483d155c15e8985c110eaa63b756b5293e97f144f3df3e290eb11e52bc426c3c00828b79187da3e1e9476a26ebe44ea54d6504c0aa2835d949d5ca99a0ff56647982dfba89ad38474c45ba245e026670ad1ec3005f2675431fc002edfe315c0a76d7134e2879fc8d98448265ba679142e14fe0bfe04775b6292cd6569555a70be44fa897562f330b8d8dfccb14008a69591b18e773a2916015d3e14a6bf1013619d5038c94419c34a'\n",
        "\n",
        "KAGGLE_INPUT_PATH='/kaggle/input'\n",
        "KAGGLE_WORKING_PATH='/kaggle/working'\n",
        "KAGGLE_SYMLINK='kaggle'\n",
        "\n",
        "!umount /kaggle/input/ 2> /dev/null\n",
        "shutil.rmtree('/kaggle/input', ignore_errors=True)\n",
        "os.makedirs(KAGGLE_INPUT_PATH, 0o777, exist_ok=True)\n",
        "os.makedirs(KAGGLE_WORKING_PATH, 0o777, exist_ok=True)\n",
        "\n",
        "try:\n",
        "  os.symlink(KAGGLE_INPUT_PATH, os.path.join(\"..\", 'input'), target_is_directory=True)\n",
        "except FileExistsError:\n",
        "  pass\n",
        "try:\n",
        "  os.symlink(KAGGLE_WORKING_PATH, os.path.join(\"..\", 'working'), target_is_directory=True)\n",
        "except FileExistsError:\n",
        "  pass\n",
        "\n",
        "for data_source_mapping in DATA_SOURCE_MAPPING.split(','):\n",
        "    directory, download_url_encoded = data_source_mapping.split(':')\n",
        "    download_url = unquote(download_url_encoded)\n",
        "    filename = urlparse(download_url).path\n",
        "    destination_path = os.path.join(KAGGLE_INPUT_PATH, directory)\n",
        "    try:\n",
        "        with urlopen(download_url) as fileres, NamedTemporaryFile() as tfile:\n",
        "            total_length = fileres.headers['content-length']\n",
        "            print(f'Downloading {directory}, {total_length} bytes compressed')\n",
        "            dl = 0\n",
        "            data = fileres.read(CHUNK_SIZE)\n",
        "            while len(data) > 0:\n",
        "                dl += len(data)\n",
        "                tfile.write(data)\n",
        "                done = int(50 * dl / int(total_length))\n",
        "                sys.stdout.write(f\"\\r[{'=' * done}{' ' * (50-done)}] {dl} bytes downloaded\")\n",
        "                sys.stdout.flush()\n",
        "                data = fileres.read(CHUNK_SIZE)\n",
        "            if filename.endswith('.zip'):\n",
        "              with ZipFile(tfile) as zfile:\n",
        "                zfile.extractall(destination_path)\n",
        "            else:\n",
        "              with tarfile.open(tfile.name) as tarfile:\n",
        "                tarfile.extractall(destination_path)\n",
        "            print(f'\\nDownloaded and uncompressed: {directory}')\n",
        "    except HTTPError as e:\n",
        "        print(f'Failed to load (likely expired) {download_url} to path {destination_path}')\n",
        "        continue\n",
        "    except OSError as e:\n",
        "        print(f'Failed to load {download_url} to path {destination_path}')\n",
        "        continue\n",
        "\n",
        "print('Data source import complete.')\n"
      ],
      "metadata": {
        "id": "eorsny7XHD2_"
      },
      "cell_type": "code",
      "outputs": [],
      "execution_count": null
    },
    {
      "cell_type": "markdown",
      "source": [
        "### **Libraries**"
      ],
      "metadata": {
        "id": "V138y6S2spN0"
      }
    },
    {
      "cell_type": "code",
      "source": [
        "# !pip install scikit-optimize\n",
        "# !pip install catboost\n",
        "# !pip install prince\n"
      ],
      "metadata": {
        "id": "10s6ldOBA0zj",
        "execution": {
          "iopub.status.busy": "2024-08-29T09:19:45.984126Z",
          "iopub.execute_input": "2024-08-29T09:19:45.984619Z",
          "iopub.status.idle": "2024-08-29T09:20:25.81164Z",
          "shell.execute_reply.started": "2024-08-29T09:19:45.984575Z",
          "shell.execute_reply": "2024-08-29T09:20:25.810018Z"
        },
        "collapsed": true,
        "jupyter": {
          "outputs_hidden": true
        },
        "trusted": true
      },
      "execution_count": null,
      "outputs": []
    },
    {
      "cell_type": "code",
      "source": [
        "import pandas as pd\n",
        "import numpy as np\n",
        "import matplotlib.pyplot as plt\n",
        "import seaborn as sns\n",
        "from sklearn.preprocessing import StandardScaler,OneHotEncoder,OrdinalEncoder\n",
        "from sklearn.decomposition import PCA\n",
        "from sklearn.metrics import accuracy_score,classification_report\n",
        "from sklearn.model_selection import train_test_split\n",
        "from sklearn.compose import ColumnTransformer\n",
        "from sklearn.impute import SimpleImputer\n",
        "from sklearn.pipeline import Pipeline\n",
        "from sklearn.ensemble import VotingClassifier\n",
        "from catboost import CatBoostClassifier, Pool\n",
        "from xgboost import XGBClassifier\n",
        "from lightgbm import LGBMClassifier\n",
        "from skopt import BayesSearchCV\n",
        "from skopt.space import Real, Categorical, Integer\n",
        "import copy\n",
        "# import prince"
      ],
      "metadata": {
        "id": "k2WOHBK4DPio",
        "execution": {
          "iopub.status.busy": "2024-08-29T09:20:25.814539Z",
          "iopub.execute_input": "2024-08-29T09:20:25.814996Z",
          "iopub.status.idle": "2024-08-29T09:20:25.824452Z",
          "shell.execute_reply.started": "2024-08-29T09:20:25.814953Z",
          "shell.execute_reply": "2024-08-29T09:20:25.822854Z"
        },
        "trusted": true
      },
      "execution_count": null,
      "outputs": []
    },
    {
      "cell_type": "markdown",
      "source": [
        "\n",
        "## Data"
      ],
      "metadata": {
        "id": "SqiebhwWsw34"
      }
    },
    {
      "cell_type": "code",
      "source": [
        "pd.set_option('display.max_columns', None)"
      ],
      "metadata": {
        "id": "djSgBlyVPCBc",
        "execution": {
          "iopub.status.busy": "2024-08-29T09:20:25.826153Z",
          "iopub.execute_input": "2024-08-29T09:20:25.826615Z",
          "iopub.status.idle": "2024-08-29T09:20:25.844863Z",
          "shell.execute_reply.started": "2024-08-29T09:20:25.826573Z",
          "shell.execute_reply": "2024-08-29T09:20:25.843386Z"
        },
        "trusted": true
      },
      "execution_count": null,
      "outputs": []
    },
    {
      "cell_type": "code",
      "source": [
        "# df=pd.read_csv('/content/sample_submission.csv')\n",
        "tr=pd.read_csv(\"/kaggle/input/playground-series-s4e8/train.csv\")\n"
      ],
      "metadata": {
        "id": "8k7J1SeGOgRJ",
        "execution": {
          "iopub.status.busy": "2024-08-29T09:20:25.848679Z",
          "iopub.execute_input": "2024-08-29T09:20:25.849229Z",
          "iopub.status.idle": "2024-08-29T09:20:35.51467Z",
          "shell.execute_reply.started": "2024-08-29T09:20:25.849171Z",
          "shell.execute_reply": "2024-08-29T09:20:35.51344Z"
        },
        "trusted": true
      },
      "execution_count": null,
      "outputs": []
    },
    {
      "cell_type": "code",
      "source": [
        "tr.shape"
      ],
      "metadata": {
        "id": "eMT01cORPFYc",
        "execution": {
          "iopub.status.busy": "2024-08-29T09:20:35.516398Z",
          "iopub.execute_input": "2024-08-29T09:20:35.516789Z",
          "iopub.status.idle": "2024-08-29T09:20:35.524579Z",
          "shell.execute_reply.started": "2024-08-29T09:20:35.51675Z",
          "shell.execute_reply": "2024-08-29T09:20:35.523275Z"
        },
        "trusted": true
      },
      "execution_count": null,
      "outputs": []
    },
    {
      "cell_type": "code",
      "source": [
        "tr.head()"
      ],
      "metadata": {
        "id": "lErXh59kPidZ",
        "execution": {
          "iopub.status.busy": "2024-08-29T09:20:35.526616Z",
          "iopub.execute_input": "2024-08-29T09:20:35.527163Z",
          "iopub.status.idle": "2024-08-29T09:20:35.555289Z",
          "shell.execute_reply.started": "2024-08-29T09:20:35.527109Z",
          "shell.execute_reply": "2024-08-29T09:20:35.554008Z"
        },
        "trusted": true
      },
      "execution_count": null,
      "outputs": []
    },
    {
      "cell_type": "code",
      "source": [
        "tr.info()"
      ],
      "metadata": {
        "id": "6EIgwtHTP04w",
        "execution": {
          "iopub.status.busy": "2024-08-29T09:20:35.556982Z",
          "iopub.execute_input": "2024-08-29T09:20:35.55758Z",
          "iopub.status.idle": "2024-08-29T09:20:35.576719Z",
          "shell.execute_reply.started": "2024-08-29T09:20:35.557531Z",
          "shell.execute_reply": "2024-08-29T09:20:35.575428Z"
        },
        "trusted": true
      },
      "execution_count": null,
      "outputs": []
    },
    {
      "cell_type": "code",
      "source": [
        "df_train = copy.deepcopy(tr)"
      ],
      "metadata": {
        "id": "Vjl_nbWrJW1_",
        "execution": {
          "iopub.status.busy": "2024-08-29T09:20:35.578368Z",
          "iopub.execute_input": "2024-08-29T09:20:35.578755Z",
          "iopub.status.idle": "2024-08-29T09:20:36.110862Z",
          "shell.execute_reply.started": "2024-08-29T09:20:35.578719Z",
          "shell.execute_reply": "2024-08-29T09:20:36.109914Z"
        },
        "trusted": true
      },
      "execution_count": null,
      "outputs": []
    },
    {
      "cell_type": "markdown",
      "source": [
        "# **Category**"
      ],
      "metadata": {
        "id": "9JkMTQUCPNoo"
      }
    },
    {
      "cell_type": "code",
      "source": [
        "def subclass_details (df):\n",
        "  df=df.select_dtypes(include='category')\n",
        "  for col in df.columns:\n",
        "    print('Number of unique classes:',df[col].nunique())\n",
        "    print(df[col].value_counts().head(10))\n",
        "    print('############################')"
      ],
      "metadata": {
        "id": "i6rJwpNzPW1r",
        "execution": {
          "iopub.status.busy": "2024-08-29T09:20:36.112245Z",
          "iopub.execute_input": "2024-08-29T09:20:36.112624Z",
          "iopub.status.idle": "2024-08-29T09:20:36.118646Z",
          "shell.execute_reply.started": "2024-08-29T09:20:36.112587Z",
          "shell.execute_reply": "2024-08-29T09:20:36.117402Z"
        },
        "trusted": true
      },
      "execution_count": null,
      "outputs": []
    },
    {
      "cell_type": "code",
      "source": [
        "def remove_att(df,threshold=200):\n",
        "  cat_coln=df.select_dtypes(include='object')\n",
        "  for col in cat_coln:\n",
        "    attrib_drop=[]\n",
        "    for att , count in df[col].value_counts().items() :\n",
        "      if count <threshold:\n",
        "        attrib_drop.append(att)\n",
        "    mask = df[col].isin(attrib_drop)\n",
        "    df.loc[mask,col] = 'UNK'\n",
        "  return df"
      ],
      "metadata": {
        "id": "C4mS1DE9Q8V8",
        "execution": {
          "iopub.status.busy": "2024-08-29T09:20:36.122731Z",
          "iopub.execute_input": "2024-08-29T09:20:36.123405Z",
          "iopub.status.idle": "2024-08-29T09:20:36.132083Z",
          "shell.execute_reply.started": "2024-08-29T09:20:36.123341Z",
          "shell.execute_reply": "2024-08-29T09:20:36.130859Z"
        },
        "trusted": true
      },
      "execution_count": null,
      "outputs": []
    },
    {
      "cell_type": "code",
      "source": [
        "def convert_cate (df):\n",
        "  for clas in df.select_dtypes(include='object'):\n",
        "    df[clas] =   df[clas].astype('category')\n",
        "  return df"
      ],
      "metadata": {
        "id": "lpeNU8ARWdqL",
        "execution": {
          "iopub.status.busy": "2024-08-29T09:20:36.133874Z",
          "iopub.execute_input": "2024-08-29T09:20:36.134407Z",
          "iopub.status.idle": "2024-08-29T09:20:36.144581Z",
          "shell.execute_reply.started": "2024-08-29T09:20:36.134337Z",
          "shell.execute_reply": "2024-08-29T09:20:36.143216Z"
        },
        "trusted": true
      },
      "execution_count": null,
      "outputs": []
    },
    {
      "cell_type": "code",
      "source": [
        "df_train = remove_att(df_train)\n",
        "df_train = convert_cate(df_train)\n",
        "subclass_details(df_train)"
      ],
      "metadata": {
        "id": "5Bmj9jt-R-vX",
        "execution": {
          "iopub.status.busy": "2024-08-29T09:20:36.146497Z",
          "iopub.execute_input": "2024-08-29T09:20:36.147038Z",
          "iopub.status.idle": "2024-08-29T09:20:47.523519Z",
          "shell.execute_reply.started": "2024-08-29T09:20:36.146965Z",
          "shell.execute_reply": "2024-08-29T09:20:47.52222Z"
        },
        "collapsed": true,
        "jupyter": {
          "outputs_hidden": true
        },
        "trusted": true
      },
      "execution_count": null,
      "outputs": []
    },
    {
      "cell_type": "code",
      "source": [
        "df_train.info()"
      ],
      "metadata": {
        "id": "NtrChKiEEoqx",
        "execution": {
          "iopub.status.busy": "2024-08-29T09:20:47.524695Z",
          "iopub.execute_input": "2024-08-29T09:20:47.525074Z",
          "iopub.status.idle": "2024-08-29T09:20:47.542684Z",
          "shell.execute_reply.started": "2024-08-29T09:20:47.525034Z",
          "shell.execute_reply": "2024-08-29T09:20:47.541313Z"
        },
        "trusted": true
      },
      "execution_count": null,
      "outputs": []
    },
    {
      "cell_type": "markdown",
      "source": [
        "# **Missing Value**"
      ],
      "metadata": {
        "id": "KufULjN2Jg62"
      }
    },
    {
      "cell_type": "code",
      "source": [
        "def plot_missing_feature(df):\n",
        "  null_df=(df.isna().sum()*100/df.shape[0]).sort_values(ascending=False)\n",
        "  sns.barplot(x=null_df.index,y=null_df.values,palette='plasma')\n",
        "  plt.xticks(rotation=90)\n",
        "  plt.xlabel('Feature')\n",
        "  plt.ylabel('Percent(%)')\n",
        "  plt.title('Missing Values')\n",
        "  plt.show()"
      ],
      "metadata": {
        "id": "K-j08sL6JljV",
        "execution": {
          "iopub.status.busy": "2024-08-29T09:20:47.544577Z",
          "iopub.execute_input": "2024-08-29T09:20:47.545101Z",
          "iopub.status.idle": "2024-08-29T09:20:47.556267Z",
          "shell.execute_reply.started": "2024-08-29T09:20:47.545044Z",
          "shell.execute_reply": "2024-08-29T09:20:47.554914Z"
        },
        "trusted": true
      },
      "execution_count": null,
      "outputs": []
    },
    {
      "cell_type": "code",
      "source": [
        "def missing_feature (df):\n",
        "  null_df=(df.isna().sum()*100/df.shape[0]).sort_values(ascending=False)\n",
        "  return null_df"
      ],
      "metadata": {
        "id": "G1UN2ZPg-FYU",
        "execution": {
          "iopub.status.busy": "2024-08-29T09:20:47.558052Z",
          "iopub.execute_input": "2024-08-29T09:20:47.558603Z",
          "iopub.status.idle": "2024-08-29T09:20:47.57506Z",
          "shell.execute_reply.started": "2024-08-29T09:20:47.558556Z",
          "shell.execute_reply": "2024-08-29T09:20:47.573846Z"
        },
        "trusted": true
      },
      "execution_count": null,
      "outputs": []
    },
    {
      "cell_type": "code",
      "source": [
        "null_df_train = missing_feature(df_train)\n",
        "null_df_train"
      ],
      "metadata": {
        "id": "Elm-Y3_hJxzi",
        "execution": {
          "iopub.status.busy": "2024-08-29T09:20:47.576741Z",
          "iopub.execute_input": "2024-08-29T09:20:47.577166Z",
          "iopub.status.idle": "2024-08-29T09:20:47.658293Z",
          "shell.execute_reply.started": "2024-08-29T09:20:47.577123Z",
          "shell.execute_reply": "2024-08-29T09:20:47.657145Z"
        },
        "trusted": true
      },
      "execution_count": null,
      "outputs": []
    },
    {
      "cell_type": "code",
      "source": [
        "plot_missing_feature(df_train)"
      ],
      "metadata": {
        "id": "DdFz8faj-UxN",
        "execution": {
          "iopub.status.busy": "2024-08-29T09:20:47.659666Z",
          "iopub.execute_input": "2024-08-29T09:20:47.660023Z",
          "iopub.status.idle": "2024-08-29T09:20:48.129989Z",
          "shell.execute_reply.started": "2024-08-29T09:20:47.659985Z",
          "shell.execute_reply": "2024-08-29T09:20:48.128837Z"
        },
        "trusted": true
      },
      "execution_count": null,
      "outputs": []
    },
    {
      "cell_type": "code",
      "source": [
        "def columns_drop(df):\n",
        "  column_drop=[]\n",
        "  null_df=missing_feature(df)\n",
        "  for col,val in null_df.items():\n",
        "    if val >4:\n",
        "      column_drop.append(col)\n",
        "  return column_drop"
      ],
      "metadata": {
        "id": "nGTQKmd1LU2r",
        "execution": {
          "iopub.status.busy": "2024-08-29T09:20:48.131698Z",
          "iopub.execute_input": "2024-08-29T09:20:48.132168Z",
          "iopub.status.idle": "2024-08-29T09:20:48.139063Z",
          "shell.execute_reply.started": "2024-08-29T09:20:48.132118Z",
          "shell.execute_reply": "2024-08-29T09:20:48.137896Z"
        },
        "trusted": true
      },
      "execution_count": null,
      "outputs": []
    },
    {
      "cell_type": "code",
      "source": [
        "column_drop_train = columns_drop(df_train)\n",
        "print('-----------------------------------------')\n",
        "print(column_drop_train)"
      ],
      "metadata": {
        "id": "dOo89kpDLtj_",
        "execution": {
          "iopub.status.busy": "2024-08-29T09:20:48.140795Z",
          "iopub.execute_input": "2024-08-29T09:20:48.141281Z",
          "iopub.status.idle": "2024-08-29T09:20:48.221994Z",
          "shell.execute_reply.started": "2024-08-29T09:20:48.141228Z",
          "shell.execute_reply": "2024-08-29T09:20:48.220473Z"
        },
        "trusted": true
      },
      "execution_count": null,
      "outputs": []
    },
    {
      "cell_type": "code",
      "source": [
        "df_train.drop(column_drop_train,axis=1,inplace=True)\n",
        "df_train.drop('id',axis=1,inplace=True)"
      ],
      "metadata": {
        "id": "7j6bHscdMEyD",
        "execution": {
          "iopub.status.busy": "2024-08-29T09:20:48.223517Z",
          "iopub.execute_input": "2024-08-29T09:20:48.223939Z",
          "iopub.status.idle": "2024-08-29T09:20:48.28126Z",
          "shell.execute_reply.started": "2024-08-29T09:20:48.2239Z",
          "shell.execute_reply": "2024-08-29T09:20:48.280239Z"
        },
        "trusted": true
      },
      "execution_count": null,
      "outputs": []
    },
    {
      "cell_type": "code",
      "source": [
        "df_train.isna().sum()"
      ],
      "metadata": {
        "id": "UV25xzIcMSVV",
        "execution": {
          "iopub.status.busy": "2024-08-29T09:20:48.282813Z",
          "iopub.execute_input": "2024-08-29T09:20:48.283185Z",
          "iopub.status.idle": "2024-08-29T09:20:48.331202Z",
          "shell.execute_reply.started": "2024-08-29T09:20:48.283148Z",
          "shell.execute_reply": "2024-08-29T09:20:48.329957Z"
        },
        "trusted": true
      },
      "execution_count": null,
      "outputs": []
    },
    {
      "cell_type": "code",
      "source": [
        "df_train.plot(kind='hist',subplots=True,sharex=True,figsize=(15,15),bins=100)"
      ],
      "metadata": {
        "id": "z1sYSgCwMW2v",
        "execution": {
          "iopub.status.busy": "2024-08-29T09:20:48.332774Z",
          "iopub.execute_input": "2024-08-29T09:20:48.33321Z",
          "iopub.status.idle": "2024-08-29T09:20:50.869786Z",
          "shell.execute_reply.started": "2024-08-29T09:20:48.333113Z",
          "shell.execute_reply": "2024-08-29T09:20:50.868568Z"
        },
        "trusted": true
      },
      "execution_count": null,
      "outputs": []
    },
    {
      "cell_type": "markdown",
      "source": [
        "# **Splitting Data**"
      ],
      "metadata": {
        "id": "R6qt6nOOgTyn"
      }
    },
    {
      "cell_type": "code",
      "source": [
        "x=df_train.drop('class',axis=1)\n",
        "y=df_train['class']\n",
        "y=np.array([0 if i =='e' else 1 for i in y])\n",
        "y.reshape(-1,1)"
      ],
      "metadata": {
        "id": "yxo12gwIgv6a",
        "execution": {
          "iopub.status.busy": "2024-08-29T09:20:50.871205Z",
          "iopub.execute_input": "2024-08-29T09:20:50.871698Z",
          "iopub.status.idle": "2024-08-29T09:20:51.435938Z",
          "shell.execute_reply.started": "2024-08-29T09:20:50.871643Z",
          "shell.execute_reply": "2024-08-29T09:20:51.434739Z"
        },
        "trusted": true
      },
      "execution_count": null,
      "outputs": []
    },
    {
      "cell_type": "code",
      "source": [
        "x_train,x_test,y_train,y_test=train_test_split(x,y,train_size=.7,stratify=y)"
      ],
      "metadata": {
        "id": "ovftmPoUNvID",
        "execution": {
          "iopub.status.busy": "2024-08-29T09:20:51.437606Z",
          "iopub.execute_input": "2024-08-29T09:20:51.438001Z",
          "iopub.status.idle": "2024-08-29T09:20:52.997855Z",
          "shell.execute_reply.started": "2024-08-29T09:20:51.43796Z",
          "shell.execute_reply": "2024-08-29T09:20:52.996583Z"
        },
        "trusted": true
      },
      "execution_count": null,
      "outputs": []
    },
    {
      "cell_type": "markdown",
      "source": [
        "# **Pipeline**"
      ],
      "metadata": {
        "id": "_ncbFeCmPOV7"
      }
    },
    {
      "cell_type": "code",
      "source": [
        "num_data_train_columns = x.select_dtypes(include='number').columns\n",
        "cat_data_train_columns = x.select_dtypes(include='category').columns\n",
        "cat_data_train_columns"
      ],
      "metadata": {
        "id": "RZC3G-3s8Gks",
        "execution": {
          "iopub.status.busy": "2024-08-29T09:20:52.99936Z",
          "iopub.execute_input": "2024-08-29T09:20:52.999886Z",
          "iopub.status.idle": "2024-08-29T09:20:53.034012Z",
          "shell.execute_reply.started": "2024-08-29T09:20:52.99983Z",
          "shell.execute_reply": "2024-08-29T09:20:53.032833Z"
        },
        "trusted": true
      },
      "execution_count": null,
      "outputs": []
    },
    {
      "cell_type": "code",
      "source": [
        "num_pipe=Pipeline (steps=[\n",
        "    ('imputer',SimpleImputer(strategy='median')),\n",
        "    ('scaler',StandardScaler())\n",
        "])\n",
        "cat_pipe=Pipeline (steps=[\n",
        "    ('imputer',SimpleImputer(strategy='most_frequent')),\n",
        "    ('encoder',OneHotEncoder(sparse=False, handle_unknown='ignore'))\n",
        "    # ('encoder',OrdinalEncoder())\n",
        "\n",
        "])"
      ],
      "metadata": {
        "id": "GwLKW_QSPN29",
        "execution": {
          "iopub.status.busy": "2024-08-29T09:20:53.035599Z",
          "iopub.execute_input": "2024-08-29T09:20:53.036013Z",
          "iopub.status.idle": "2024-08-29T09:20:53.042631Z",
          "shell.execute_reply.started": "2024-08-29T09:20:53.035975Z",
          "shell.execute_reply": "2024-08-29T09:20:53.041219Z"
        },
        "trusted": true
      },
      "execution_count": null,
      "outputs": []
    },
    {
      "cell_type": "code",
      "source": [
        "df_preprocessing=ColumnTransformer(\n",
        "     transformers=[\n",
        "        ('num', num_pipe, num_data_train_columns),\n",
        "        ('cat', cat_pipe, cat_data_train_columns)\n",
        "    ]\n",
        ")"
      ],
      "metadata": {
        "id": "pu7LAQ8AQ1Cb",
        "execution": {
          "iopub.status.busy": "2024-08-29T09:20:53.044216Z",
          "iopub.execute_input": "2024-08-29T09:20:53.044727Z",
          "iopub.status.idle": "2024-08-29T09:20:53.056786Z",
          "shell.execute_reply.started": "2024-08-29T09:20:53.044672Z",
          "shell.execute_reply": "2024-08-29T09:20:53.055478Z"
        },
        "trusted": true
      },
      "execution_count": null,
      "outputs": []
    },
    {
      "cell_type": "code",
      "source": [
        "final_pipe = Pipeline(steps=[\n",
        "    ('preprocessor',df_preprocessing),\n",
        "    ('PCA',PCA(n_components=.95)),\n",
        "#     ('MCA',prince.MCA( n_components=2,  n_iter=3,       check_input=True, engine='auto',   random_state=42))\n",
        "\n",
        "])"
      ],
      "metadata": {
        "id": "XIJhxfK9Rmwk",
        "execution": {
          "iopub.status.busy": "2024-08-29T09:20:53.063594Z",
          "iopub.execute_input": "2024-08-29T09:20:53.063998Z",
          "iopub.status.idle": "2024-08-29T09:20:53.070674Z",
          "shell.execute_reply.started": "2024-08-29T09:20:53.063961Z",
          "shell.execute_reply": "2024-08-29T09:20:53.069283Z"
        },
        "trusted": true
      },
      "execution_count": null,
      "outputs": []
    },
    {
      "cell_type": "code",
      "source": [
        "x_train=final_pipe.fit_transform(x_train)\n",
        "x_test=final_pipe.transform(x_test)"
      ],
      "metadata": {
        "id": "fzdWCHBc8dEB",
        "execution": {
          "iopub.status.busy": "2024-08-29T09:20:53.072024Z",
          "iopub.execute_input": "2024-08-29T09:20:53.072483Z",
          "iopub.status.idle": "2024-08-29T09:21:24.520237Z",
          "shell.execute_reply.started": "2024-08-29T09:20:53.072432Z",
          "shell.execute_reply": "2024-08-29T09:21:24.518877Z"
        },
        "trusted": true
      },
      "execution_count": null,
      "outputs": []
    },
    {
      "cell_type": "markdown",
      "source": [
        "# **Modeling**"
      ],
      "metadata": {
        "id": "KSR8p_qqJ71I"
      }
    },
    {
      "cell_type": "code",
      "source": [
        "def Bayesian_Optimization (model,search_space):\n",
        "  bayes = BayesSearchCV(model,\n",
        "                        search_space,\n",
        "                         n_iter= 10,\n",
        "                        n_jobs=-1,\n",
        "                        scoring='accuracy',\n",
        "                        random_state=42)\n",
        "  return bayes"
      ],
      "metadata": {
        "id": "Pttycjvgi2Ts",
        "execution": {
          "iopub.status.busy": "2024-08-29T09:21:24.521962Z",
          "iopub.execute_input": "2024-08-29T09:21:24.522799Z",
          "iopub.status.idle": "2024-08-29T09:21:24.530886Z",
          "shell.execute_reply.started": "2024-08-29T09:21:24.522741Z",
          "shell.execute_reply": "2024-08-29T09:21:24.529388Z"
        },
        "trusted": true
      },
      "execution_count": null,
      "outputs": []
    },
    {
      "cell_type": "code",
      "source": [
        "xgb_space = {\n",
        "    'n_estimators': Integer(50, 150),\n",
        "    'max_depth': Integer(2, 8),\n",
        "    'learning_rate': Real(0.01, .4, 'log-uniform'),\n",
        "    'subsample': Real(0.5, 1.0, 'uniform'),\n",
        "    'colsample_bytree': Real(0.5, 1.0, 'uniform'),\n",
        "    'alpha':Real(.1,.5,'uniform'),\n",
        "    'min_child_weight':Integer(5,10)\n",
        "}\n",
        "lgb_space={'num_leaves': Integer(24, 45),\n",
        "          'feature_fraction': Real(0.1, 0.9),\n",
        "          'bagging_fraction': Real(0.5, 1),\n",
        "          'max_depth':Integer (5, 9),\n",
        "          'lambda_l1':Real (0, 5),\n",
        "          'lambda_l2':Real (0, 3),\n",
        "          'min_split_gain':Real (0.001, 0.1),\n",
        "          'min_child_weight': Integer(5, 60)\n",
        "}\n",
        "cat_space={\n",
        "    'iterations': Integer(10, 100),\n",
        "    'depth': Integer(1, 8),\n",
        "    'learning_rate': Real(0.01, 1.0, 'log-uniform'),\n",
        "    'l2_leaf_reg': Real(1e-3, 10, 'log-uniform'),\n",
        "    'border_count': Integer(32, 128)\n",
        "}"
      ],
      "metadata": {
        "id": "5OBvuK_4CRfI",
        "execution": {
          "iopub.status.busy": "2024-08-29T09:21:24.532506Z",
          "iopub.execute_input": "2024-08-29T09:21:24.53306Z",
          "iopub.status.idle": "2024-08-29T09:21:24.580551Z",
          "shell.execute_reply.started": "2024-08-29T09:21:24.53301Z",
          "shell.execute_reply": "2024-08-29T09:21:24.579074Z"
        },
        "trusted": true
      },
      "execution_count": null,
      "outputs": []
    },
    {
      "cell_type": "code",
      "source": [
        "clsss=len(y[y==0]) / len(y[y==1])\n",
        "clsss"
      ],
      "metadata": {
        "execution": {
          "iopub.status.busy": "2024-08-29T09:21:24.586329Z",
          "iopub.execute_input": "2024-08-29T09:21:24.587269Z",
          "iopub.status.idle": "2024-08-29T09:21:24.671217Z",
          "shell.execute_reply.started": "2024-08-29T09:21:24.587208Z",
          "shell.execute_reply": "2024-08-29T09:21:24.66988Z"
        },
        "trusted": true,
        "id": "ebg6nh5WHD3l"
      },
      "execution_count": null,
      "outputs": []
    },
    {
      "cell_type": "code",
      "source": [
        "xgb = XGBClassifier(random_state=42,scale_pos_weight =clsss)\n",
        "# lgb = LGBMClassifier(random_state=42)\n",
        "cat = CatBoostClassifier(random_state=42)\n",
        "xgb_optimzied = Bayesian_Optimization(xgb,xgb_space)\n",
        "# lgb_optimzied = Bayesian_Optimization(lgb,lgb_space)\n",
        "cat_optimzied = Bayesian_Optimization(cat,cat_space)"
      ],
      "metadata": {
        "id": "5A4Z-9T4jwBF",
        "execution": {
          "iopub.status.busy": "2024-08-29T09:21:24.673471Z",
          "iopub.execute_input": "2024-08-29T09:21:24.674403Z",
          "iopub.status.idle": "2024-08-29T09:21:24.682424Z",
          "shell.execute_reply.started": "2024-08-29T09:21:24.674322Z",
          "shell.execute_reply": "2024-08-29T09:21:24.681115Z"
        },
        "trusted": true
      },
      "execution_count": null,
      "outputs": []
    },
    {
      "cell_type": "code",
      "source": [
        "xgb_optimzied.fit(x_train,y_train)\n",
        "# lgb_optimzied.fit(x_train,y_train)\n",
        "cat_optimzied.fit(x_train,y_train)"
      ],
      "metadata": {
        "id": "1F_btnIjbPbN",
        "_kg_hide-output": true,
        "execution": {
          "iopub.status.busy": "2024-08-29T09:21:24.683862Z",
          "iopub.execute_input": "2024-08-29T09:21:24.684253Z",
          "iopub.status.idle": "2024-08-29T10:12:40.629913Z",
          "shell.execute_reply.started": "2024-08-29T09:21:24.684213Z",
          "shell.execute_reply": "2024-08-29T10:12:40.628507Z"
        },
        "collapsed": true,
        "jupyter": {
          "outputs_hidden": true
        },
        "trusted": true
      },
      "execution_count": null,
      "outputs": []
    },
    {
      "cell_type": "code",
      "source": [
        "xgb_optimzied.best_params_"
      ],
      "metadata": {
        "execution": {
          "iopub.status.busy": "2024-08-29T10:21:44.865511Z",
          "iopub.execute_input": "2024-08-29T10:21:44.865993Z",
          "iopub.status.idle": "2024-08-29T10:21:44.87413Z",
          "shell.execute_reply.started": "2024-08-29T10:21:44.86595Z",
          "shell.execute_reply": "2024-08-29T10:21:44.872828Z"
        },
        "trusted": true,
        "id": "emTbyAd8HD3q"
      },
      "execution_count": null,
      "outputs": []
    },
    {
      "cell_type": "code",
      "source": [
        "xgb=xgb_optimzied.best_estimator_\n",
        "# lgb=lgb_optimzied.best_estimator_\n",
        "cat=cat_optimzied.best_estimator_"
      ],
      "metadata": {
        "id": "Wq06yQC4brkq",
        "execution": {
          "iopub.status.busy": "2024-08-29T10:12:40.631827Z",
          "iopub.execute_input": "2024-08-29T10:12:40.632229Z",
          "iopub.status.idle": "2024-08-29T10:12:40.638113Z",
          "shell.execute_reply.started": "2024-08-29T10:12:40.632185Z",
          "shell.execute_reply": "2024-08-29T10:12:40.636811Z"
        },
        "trusted": true
      },
      "execution_count": null,
      "outputs": []
    },
    {
      "cell_type": "code",
      "source": [
        "y_pred_xgb=xgb.predict(x_test)\n",
        "# y_pred_lgm=lgb.predict(x_test)\n",
        "y_pred_cat=cat.predict(x_test)\n",
        "print('XGB --> ',accuracy_score(y_test,y_pred_xgb))\n",
        "# print('LGM --> ',accuracy_score(y_test,y_pred_lgm))\n",
        "print('CAT --> ',accuracy_score(y_test,y_pred_cat))"
      ],
      "metadata": {
        "id": "MgNaxNFJJbjc",
        "execution": {
          "iopub.status.busy": "2024-08-29T10:12:40.639744Z",
          "iopub.execute_input": "2024-08-29T10:12:40.640601Z",
          "iopub.status.idle": "2024-08-29T10:12:53.023307Z",
          "shell.execute_reply.started": "2024-08-29T10:12:40.640546Z",
          "shell.execute_reply": "2024-08-29T10:12:53.02162Z"
        },
        "trusted": true
      },
      "execution_count": null,
      "outputs": []
    },
    {
      "cell_type": "code",
      "source": [
        "voting_clf=VotingClassifier(estimators=[\n",
        "        ('xgb', xgb),\n",
        "        ('catboost', cat)\n",
        "#         ,('lightbgm',lbm)\n",
        "    ],\n",
        "    voting='soft'\n",
        ")\n",
        "voting_clf.fit(x_train,y_train)\n",
        "y_pred_voting=voting_clf.predict(x_test)\n",
        "print('Voting Classifier Accuracy',accuracy_score(y_test,y_pred_voting))\n",
        "print(\"\\nClassification Report:\")\n",
        "print(classification_report(y_test, y_pred_voting))"
      ],
      "metadata": {
        "id": "YNbYJ-xpKJb4",
        "execution": {
          "iopub.status.busy": "2024-08-29T10:12:53.024721Z",
          "iopub.execute_input": "2024-08-29T10:12:53.025067Z",
          "iopub.status.idle": "2024-08-29T10:14:11.628628Z",
          "shell.execute_reply.started": "2024-08-29T10:12:53.025033Z",
          "shell.execute_reply": "2024-08-29T10:14:11.627152Z"
        },
        "collapsed": true,
        "jupyter": {
          "outputs_hidden": true
        },
        "trusted": true
      },
      "execution_count": null,
      "outputs": []
    },
    {
      "cell_type": "code",
      "source": [
        "import gc\n",
        "gc.collect()"
      ],
      "metadata": {
        "id": "8Tvxb1XbYW_S",
        "execution": {
          "iopub.status.busy": "2024-08-29T10:14:11.630268Z",
          "iopub.execute_input": "2024-08-29T10:14:11.630769Z",
          "iopub.status.idle": "2024-08-29T10:14:11.808544Z",
          "shell.execute_reply.started": "2024-08-29T10:14:11.630717Z",
          "shell.execute_reply": "2024-08-29T10:14:11.807361Z"
        },
        "jupyter": {
          "source_hidden": true
        },
        "trusted": true
      },
      "execution_count": null,
      "outputs": []
    },
    {
      "cell_type": "markdown",
      "source": [
        "> ***Submession***"
      ],
      "metadata": {
        "id": "gVzqKDKoHD3s"
      }
    },
    {
      "cell_type": "code",
      "source": [
        "ts = pd.read_csv('/kaggle/input/playground-series-s4e8/test.csv')"
      ],
      "metadata": {
        "execution": {
          "iopub.status.busy": "2024-08-29T10:24:38.295764Z",
          "iopub.execute_input": "2024-08-29T10:24:38.296323Z",
          "iopub.status.idle": "2024-08-29T10:24:45.531185Z",
          "shell.execute_reply.started": "2024-08-29T10:24:38.296274Z",
          "shell.execute_reply": "2024-08-29T10:24:45.529892Z"
        },
        "trusted": true,
        "id": "umRcmyIsHD3s"
      },
      "execution_count": null,
      "outputs": []
    },
    {
      "cell_type": "code",
      "source": [
        "df_test = copy.deepcopy(ts)\n",
        "df_test.drop('id',axis=1,inplace=True)"
      ],
      "metadata": {
        "execution": {
          "iopub.status.busy": "2024-08-29T10:24:45.53341Z",
          "iopub.execute_input": "2024-08-29T10:24:45.533835Z",
          "iopub.status.idle": "2024-08-29T10:24:46.430514Z",
          "shell.execute_reply.started": "2024-08-29T10:24:45.533793Z",
          "shell.execute_reply": "2024-08-29T10:24:46.429309Z"
        },
        "trusted": true,
        "id": "pnc048tvHD3t"
      },
      "execution_count": null,
      "outputs": []
    },
    {
      "cell_type": "code",
      "source": [
        "columns_drop(ts)"
      ],
      "metadata": {
        "execution": {
          "iopub.status.busy": "2024-08-29T10:24:46.431878Z",
          "iopub.execute_input": "2024-08-29T10:24:46.432484Z",
          "iopub.status.idle": "2024-08-29T10:24:47.973999Z",
          "shell.execute_reply.started": "2024-08-29T10:24:46.432432Z",
          "shell.execute_reply": "2024-08-29T10:24:47.972699Z"
        },
        "trusted": true,
        "id": "NN7VI9LUHD3t"
      },
      "execution_count": null,
      "outputs": []
    },
    {
      "cell_type": "code",
      "source": [
        "df_test=final_pipe.transform(df_test)"
      ],
      "metadata": {
        "id": "1ChXxSaSA-Z-",
        "execution": {
          "iopub.status.busy": "2024-08-29T10:24:47.976877Z",
          "iopub.execute_input": "2024-08-29T10:24:47.977399Z",
          "iopub.status.idle": "2024-08-29T10:25:00.921044Z",
          "shell.execute_reply.started": "2024-08-29T10:24:47.977321Z",
          "shell.execute_reply": "2024-08-29T10:25:00.919681Z"
        },
        "trusted": true
      },
      "execution_count": null,
      "outputs": []
    },
    {
      "cell_type": "code",
      "source": [
        "final_pred = voting_clf.predict(df_test)"
      ],
      "metadata": {
        "execution": {
          "iopub.status.busy": "2024-08-29T10:25:00.922982Z",
          "iopub.execute_input": "2024-08-29T10:25:00.923593Z",
          "iopub.status.idle": "2024-08-29T10:25:28.772247Z",
          "shell.execute_reply.started": "2024-08-29T10:25:00.92353Z",
          "shell.execute_reply": "2024-08-29T10:25:28.769983Z"
        },
        "trusted": true,
        "id": "3LO6DypSHD3v"
      },
      "execution_count": null,
      "outputs": []
    },
    {
      "cell_type": "code",
      "source": [
        "final_pred_trans=['e' if i==0 else 'p' for i in final_pred]"
      ],
      "metadata": {
        "execution": {
          "iopub.status.busy": "2024-08-29T10:25:28.774984Z",
          "iopub.execute_input": "2024-08-29T10:25:28.775521Z",
          "iopub.status.idle": "2024-08-29T10:25:29.075613Z",
          "shell.execute_reply.started": "2024-08-29T10:25:28.775467Z",
          "shell.execute_reply": "2024-08-29T10:25:29.074328Z"
        },
        "trusted": true,
        "id": "AhM6y3kLHD3v"
      },
      "execution_count": null,
      "outputs": []
    },
    {
      "cell_type": "code",
      "source": [
        "submession= pd.DataFrame({'id':ts['id'].values,\n",
        "                          'class':final_pred_trans\n",
        "                         }\n",
        "                        )\n"
      ],
      "metadata": {
        "execution": {
          "iopub.status.busy": "2024-08-29T10:25:29.077281Z",
          "iopub.execute_input": "2024-08-29T10:25:29.078268Z",
          "iopub.status.idle": "2024-08-29T10:25:29.186836Z",
          "shell.execute_reply.started": "2024-08-29T10:25:29.078224Z",
          "shell.execute_reply": "2024-08-29T10:25:29.185463Z"
        },
        "trusted": true,
        "id": "mJ-fdwUqHD3v"
      },
      "execution_count": null,
      "outputs": []
    },
    {
      "cell_type": "code",
      "source": [
        "submession.to_csv('submession.csv',index=False)"
      ],
      "metadata": {
        "execution": {
          "iopub.status.busy": "2024-08-29T10:25:29.18963Z",
          "iopub.execute_input": "2024-08-29T10:25:29.190088Z",
          "iopub.status.idle": "2024-08-29T10:25:30.860485Z",
          "shell.execute_reply.started": "2024-08-29T10:25:29.190034Z",
          "shell.execute_reply": "2024-08-29T10:25:30.858991Z"
        },
        "trusted": true,
        "id": "BDM-1DahHD3v"
      },
      "execution_count": null,
      "outputs": []
    },
    {
      "cell_type": "code",
      "source": [],
      "metadata": {
        "id": "zrUCnnClHD3v"
      },
      "execution_count": null,
      "outputs": []
    }
  ]
}