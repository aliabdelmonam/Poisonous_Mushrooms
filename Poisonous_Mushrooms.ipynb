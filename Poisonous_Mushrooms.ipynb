{
  "nbformat": 4,
  "nbformat_minor": 0,
  "metadata": {
    "colab": {
      "provenance": [],
      "collapsed_sections": [
        "V138y6S2spN0",
        "GDtX_iFMtQqe",
        "_3p5FYKbseBf"
      ],
      "include_colab_link": true
    },
    "kernelspec": {
      "name": "python3",
      "display_name": "Python 3"
    },
    "language_info": {
      "name": "python"
    }
  },
  "cells": [
    {
      "cell_type": "markdown",
      "metadata": {
        "id": "view-in-github",
        "colab_type": "text"
      },
      "source": [
        "<a href=\"https://colab.research.google.com/github/aliabdelmonam/Poisonous_Mushrooms/blob/main/Poisonous_Mushrooms.ipynb\" target=\"_parent\"><img src=\"https://colab.research.google.com/assets/colab-badge.svg\" alt=\"Open In Colab\"/></a>"
      ]
    },
    {
      "cell_type": "markdown",
      "source": [
        "### **Libraries**"
      ],
      "metadata": {
        "id": "V138y6S2spN0"
      }
    },
    {
      "cell_type": "code",
      "execution_count": null,
      "metadata": {
        "id": "k2WOHBK4DPio"
      },
      "outputs": [],
      "source": [
        "import pandas as pd\n",
        "import numpy as np\n",
        "import matplotlib.pyplot as plt\n",
        "import seaborn as sns\n",
        "from sklearn.preprocessing import StandardScaler\n",
        "import copy"
      ]
    },
    {
      "cell_type": "markdown",
      "source": [
        "\n",
        "## Data"
      ],
      "metadata": {
        "id": "SqiebhwWsw34"
      }
    },
    {
      "cell_type": "code",
      "source": [
        "pd.set_option('display.max_columns', None)"
      ],
      "metadata": {
        "id": "djSgBlyVPCBc"
      },
      "execution_count": null,
      "outputs": []
    },
    {
      "cell_type": "code",
      "source": [
        "# df=pd.read_csv('/content/sample_submission.csv')\n",
        "ts=pd.read_csv('/content/Poisonous Mushrooms_test.csv')\n",
        "tr=pd.read_csv('/content/Poisonous Mushrooms_train.csv')\n"
      ],
      "metadata": {
        "id": "8k7J1SeGOgRJ"
      },
      "execution_count": null,
      "outputs": []
    },
    {
      "cell_type": "code",
      "source": [
        "tr.shape"
      ],
      "metadata": {
        "colab": {
          "base_uri": "https://localhost:8080/"
        },
        "id": "eMT01cORPFYc",
        "outputId": "5583f7ce-a496-4d21-d22f-41d77be16deb"
      },
      "execution_count": null,
      "outputs": [
        {
          "output_type": "execute_result",
          "data": {
            "text/plain": [
              "(3116945, 22)"
            ]
          },
          "metadata": {},
          "execution_count": 246
        }
      ]
    },
    {
      "cell_type": "code",
      "source": [
        "tr.head()"
      ],
      "metadata": {
        "colab": {
          "base_uri": "https://localhost:8080/",
          "height": 278
        },
        "id": "lErXh59kPidZ",
        "outputId": "d7579e25-61c9-4ee0-e137-3fa7b751717c"
      },
      "execution_count": null,
      "outputs": [
        {
          "output_type": "execute_result",
          "data": {
            "text/plain": [
              "   id class  cap-diameter cap-shape cap-surface cap-color  \\\n",
              "0   0     e          8.80         f           s         u   \n",
              "1   1     p          4.51         x           h         o   \n",
              "2   2     e          6.94         f           s         b   \n",
              "3   3     e          3.88         f           y         g   \n",
              "4   4     e          5.85         x           l         w   \n",
              "\n",
              "  does-bruise-or-bleed gill-attachment gill-spacing gill-color  stem-height  \\\n",
              "0                    f               a            c          w         4.51   \n",
              "1                    f               a            c          n         4.79   \n",
              "2                    f               x            c          w         6.85   \n",
              "3                    f               s          NaN          g         4.16   \n",
              "4                    f               d          NaN          w         3.37   \n",
              "\n",
              "   stem-width stem-root stem-surface stem-color veil-type veil-color has-ring  \\\n",
              "0       15.39       NaN          NaN          w       NaN        NaN        f   \n",
              "1        6.48       NaN            y          o       NaN        NaN        t   \n",
              "2        9.93       NaN            s          n       NaN        NaN        f   \n",
              "3        6.53       NaN          NaN          w       NaN        NaN        f   \n",
              "4        8.36       NaN          NaN          w       NaN        NaN        f   \n",
              "\n",
              "  ring-type spore-print-color habitat season  \n",
              "0         f               NaN       d      a  \n",
              "1         z               NaN       d      w  \n",
              "2         f               NaN       l      w  \n",
              "3         f               NaN       d      u  \n",
              "4         f               NaN       g      a  "
            ],
            "text/html": [
              "\n",
              "  <div id=\"df-42e455d7-6a01-41dc-8a91-0565673c9d89\" class=\"colab-df-container\">\n",
              "    <div>\n",
              "<style scoped>\n",
              "    .dataframe tbody tr th:only-of-type {\n",
              "        vertical-align: middle;\n",
              "    }\n",
              "\n",
              "    .dataframe tbody tr th {\n",
              "        vertical-align: top;\n",
              "    }\n",
              "\n",
              "    .dataframe thead th {\n",
              "        text-align: right;\n",
              "    }\n",
              "</style>\n",
              "<table border=\"1\" class=\"dataframe\">\n",
              "  <thead>\n",
              "    <tr style=\"text-align: right;\">\n",
              "      <th></th>\n",
              "      <th>id</th>\n",
              "      <th>class</th>\n",
              "      <th>cap-diameter</th>\n",
              "      <th>cap-shape</th>\n",
              "      <th>cap-surface</th>\n",
              "      <th>cap-color</th>\n",
              "      <th>does-bruise-or-bleed</th>\n",
              "      <th>gill-attachment</th>\n",
              "      <th>gill-spacing</th>\n",
              "      <th>gill-color</th>\n",
              "      <th>stem-height</th>\n",
              "      <th>stem-width</th>\n",
              "      <th>stem-root</th>\n",
              "      <th>stem-surface</th>\n",
              "      <th>stem-color</th>\n",
              "      <th>veil-type</th>\n",
              "      <th>veil-color</th>\n",
              "      <th>has-ring</th>\n",
              "      <th>ring-type</th>\n",
              "      <th>spore-print-color</th>\n",
              "      <th>habitat</th>\n",
              "      <th>season</th>\n",
              "    </tr>\n",
              "  </thead>\n",
              "  <tbody>\n",
              "    <tr>\n",
              "      <th>0</th>\n",
              "      <td>0</td>\n",
              "      <td>e</td>\n",
              "      <td>8.80</td>\n",
              "      <td>f</td>\n",
              "      <td>s</td>\n",
              "      <td>u</td>\n",
              "      <td>f</td>\n",
              "      <td>a</td>\n",
              "      <td>c</td>\n",
              "      <td>w</td>\n",
              "      <td>4.51</td>\n",
              "      <td>15.39</td>\n",
              "      <td>NaN</td>\n",
              "      <td>NaN</td>\n",
              "      <td>w</td>\n",
              "      <td>NaN</td>\n",
              "      <td>NaN</td>\n",
              "      <td>f</td>\n",
              "      <td>f</td>\n",
              "      <td>NaN</td>\n",
              "      <td>d</td>\n",
              "      <td>a</td>\n",
              "    </tr>\n",
              "    <tr>\n",
              "      <th>1</th>\n",
              "      <td>1</td>\n",
              "      <td>p</td>\n",
              "      <td>4.51</td>\n",
              "      <td>x</td>\n",
              "      <td>h</td>\n",
              "      <td>o</td>\n",
              "      <td>f</td>\n",
              "      <td>a</td>\n",
              "      <td>c</td>\n",
              "      <td>n</td>\n",
              "      <td>4.79</td>\n",
              "      <td>6.48</td>\n",
              "      <td>NaN</td>\n",
              "      <td>y</td>\n",
              "      <td>o</td>\n",
              "      <td>NaN</td>\n",
              "      <td>NaN</td>\n",
              "      <td>t</td>\n",
              "      <td>z</td>\n",
              "      <td>NaN</td>\n",
              "      <td>d</td>\n",
              "      <td>w</td>\n",
              "    </tr>\n",
              "    <tr>\n",
              "      <th>2</th>\n",
              "      <td>2</td>\n",
              "      <td>e</td>\n",
              "      <td>6.94</td>\n",
              "      <td>f</td>\n",
              "      <td>s</td>\n",
              "      <td>b</td>\n",
              "      <td>f</td>\n",
              "      <td>x</td>\n",
              "      <td>c</td>\n",
              "      <td>w</td>\n",
              "      <td>6.85</td>\n",
              "      <td>9.93</td>\n",
              "      <td>NaN</td>\n",
              "      <td>s</td>\n",
              "      <td>n</td>\n",
              "      <td>NaN</td>\n",
              "      <td>NaN</td>\n",
              "      <td>f</td>\n",
              "      <td>f</td>\n",
              "      <td>NaN</td>\n",
              "      <td>l</td>\n",
              "      <td>w</td>\n",
              "    </tr>\n",
              "    <tr>\n",
              "      <th>3</th>\n",
              "      <td>3</td>\n",
              "      <td>e</td>\n",
              "      <td>3.88</td>\n",
              "      <td>f</td>\n",
              "      <td>y</td>\n",
              "      <td>g</td>\n",
              "      <td>f</td>\n",
              "      <td>s</td>\n",
              "      <td>NaN</td>\n",
              "      <td>g</td>\n",
              "      <td>4.16</td>\n",
              "      <td>6.53</td>\n",
              "      <td>NaN</td>\n",
              "      <td>NaN</td>\n",
              "      <td>w</td>\n",
              "      <td>NaN</td>\n",
              "      <td>NaN</td>\n",
              "      <td>f</td>\n",
              "      <td>f</td>\n",
              "      <td>NaN</td>\n",
              "      <td>d</td>\n",
              "      <td>u</td>\n",
              "    </tr>\n",
              "    <tr>\n",
              "      <th>4</th>\n",
              "      <td>4</td>\n",
              "      <td>e</td>\n",
              "      <td>5.85</td>\n",
              "      <td>x</td>\n",
              "      <td>l</td>\n",
              "      <td>w</td>\n",
              "      <td>f</td>\n",
              "      <td>d</td>\n",
              "      <td>NaN</td>\n",
              "      <td>w</td>\n",
              "      <td>3.37</td>\n",
              "      <td>8.36</td>\n",
              "      <td>NaN</td>\n",
              "      <td>NaN</td>\n",
              "      <td>w</td>\n",
              "      <td>NaN</td>\n",
              "      <td>NaN</td>\n",
              "      <td>f</td>\n",
              "      <td>f</td>\n",
              "      <td>NaN</td>\n",
              "      <td>g</td>\n",
              "      <td>a</td>\n",
              "    </tr>\n",
              "  </tbody>\n",
              "</table>\n",
              "</div>\n",
              "    <div class=\"colab-df-buttons\">\n",
              "\n",
              "  <div class=\"colab-df-container\">\n",
              "    <button class=\"colab-df-convert\" onclick=\"convertToInteractive('df-42e455d7-6a01-41dc-8a91-0565673c9d89')\"\n",
              "            title=\"Convert this dataframe to an interactive table.\"\n",
              "            style=\"display:none;\">\n",
              "\n",
              "  <svg xmlns=\"http://www.w3.org/2000/svg\" height=\"24px\" viewBox=\"0 -960 960 960\">\n",
              "    <path d=\"M120-120v-720h720v720H120Zm60-500h600v-160H180v160Zm220 220h160v-160H400v160Zm0 220h160v-160H400v160ZM180-400h160v-160H180v160Zm440 0h160v-160H620v160ZM180-180h160v-160H180v160Zm440 0h160v-160H620v160Z\"/>\n",
              "  </svg>\n",
              "    </button>\n",
              "\n",
              "  <style>\n",
              "    .colab-df-container {\n",
              "      display:flex;\n",
              "      gap: 12px;\n",
              "    }\n",
              "\n",
              "    .colab-df-convert {\n",
              "      background-color: #E8F0FE;\n",
              "      border: none;\n",
              "      border-radius: 50%;\n",
              "      cursor: pointer;\n",
              "      display: none;\n",
              "      fill: #1967D2;\n",
              "      height: 32px;\n",
              "      padding: 0 0 0 0;\n",
              "      width: 32px;\n",
              "    }\n",
              "\n",
              "    .colab-df-convert:hover {\n",
              "      background-color: #E2EBFA;\n",
              "      box-shadow: 0px 1px 2px rgba(60, 64, 67, 0.3), 0px 1px 3px 1px rgba(60, 64, 67, 0.15);\n",
              "      fill: #174EA6;\n",
              "    }\n",
              "\n",
              "    .colab-df-buttons div {\n",
              "      margin-bottom: 4px;\n",
              "    }\n",
              "\n",
              "    [theme=dark] .colab-df-convert {\n",
              "      background-color: #3B4455;\n",
              "      fill: #D2E3FC;\n",
              "    }\n",
              "\n",
              "    [theme=dark] .colab-df-convert:hover {\n",
              "      background-color: #434B5C;\n",
              "      box-shadow: 0px 1px 3px 1px rgba(0, 0, 0, 0.15);\n",
              "      filter: drop-shadow(0px 1px 2px rgba(0, 0, 0, 0.3));\n",
              "      fill: #FFFFFF;\n",
              "    }\n",
              "  </style>\n",
              "\n",
              "    <script>\n",
              "      const buttonEl =\n",
              "        document.querySelector('#df-42e455d7-6a01-41dc-8a91-0565673c9d89 button.colab-df-convert');\n",
              "      buttonEl.style.display =\n",
              "        google.colab.kernel.accessAllowed ? 'block' : 'none';\n",
              "\n",
              "      async function convertToInteractive(key) {\n",
              "        const element = document.querySelector('#df-42e455d7-6a01-41dc-8a91-0565673c9d89');\n",
              "        const dataTable =\n",
              "          await google.colab.kernel.invokeFunction('convertToInteractive',\n",
              "                                                    [key], {});\n",
              "        if (!dataTable) return;\n",
              "\n",
              "        const docLinkHtml = 'Like what you see? Visit the ' +\n",
              "          '<a target=\"_blank\" href=https://colab.research.google.com/notebooks/data_table.ipynb>data table notebook</a>'\n",
              "          + ' to learn more about interactive tables.';\n",
              "        element.innerHTML = '';\n",
              "        dataTable['output_type'] = 'display_data';\n",
              "        await google.colab.output.renderOutput(dataTable, element);\n",
              "        const docLink = document.createElement('div');\n",
              "        docLink.innerHTML = docLinkHtml;\n",
              "        element.appendChild(docLink);\n",
              "      }\n",
              "    </script>\n",
              "  </div>\n",
              "\n",
              "\n",
              "<div id=\"df-93443f95-f111-48d9-b783-d39f4986b02a\">\n",
              "  <button class=\"colab-df-quickchart\" onclick=\"quickchart('df-93443f95-f111-48d9-b783-d39f4986b02a')\"\n",
              "            title=\"Suggest charts\"\n",
              "            style=\"display:none;\">\n",
              "\n",
              "<svg xmlns=\"http://www.w3.org/2000/svg\" height=\"24px\"viewBox=\"0 0 24 24\"\n",
              "     width=\"24px\">\n",
              "    <g>\n",
              "        <path d=\"M19 3H5c-1.1 0-2 .9-2 2v14c0 1.1.9 2 2 2h14c1.1 0 2-.9 2-2V5c0-1.1-.9-2-2-2zM9 17H7v-7h2v7zm4 0h-2V7h2v10zm4 0h-2v-4h2v4z\"/>\n",
              "    </g>\n",
              "</svg>\n",
              "  </button>\n",
              "\n",
              "<style>\n",
              "  .colab-df-quickchart {\n",
              "      --bg-color: #E8F0FE;\n",
              "      --fill-color: #1967D2;\n",
              "      --hover-bg-color: #E2EBFA;\n",
              "      --hover-fill-color: #174EA6;\n",
              "      --disabled-fill-color: #AAA;\n",
              "      --disabled-bg-color: #DDD;\n",
              "  }\n",
              "\n",
              "  [theme=dark] .colab-df-quickchart {\n",
              "      --bg-color: #3B4455;\n",
              "      --fill-color: #D2E3FC;\n",
              "      --hover-bg-color: #434B5C;\n",
              "      --hover-fill-color: #FFFFFF;\n",
              "      --disabled-bg-color: #3B4455;\n",
              "      --disabled-fill-color: #666;\n",
              "  }\n",
              "\n",
              "  .colab-df-quickchart {\n",
              "    background-color: var(--bg-color);\n",
              "    border: none;\n",
              "    border-radius: 50%;\n",
              "    cursor: pointer;\n",
              "    display: none;\n",
              "    fill: var(--fill-color);\n",
              "    height: 32px;\n",
              "    padding: 0;\n",
              "    width: 32px;\n",
              "  }\n",
              "\n",
              "  .colab-df-quickchart:hover {\n",
              "    background-color: var(--hover-bg-color);\n",
              "    box-shadow: 0 1px 2px rgba(60, 64, 67, 0.3), 0 1px 3px 1px rgba(60, 64, 67, 0.15);\n",
              "    fill: var(--button-hover-fill-color);\n",
              "  }\n",
              "\n",
              "  .colab-df-quickchart-complete:disabled,\n",
              "  .colab-df-quickchart-complete:disabled:hover {\n",
              "    background-color: var(--disabled-bg-color);\n",
              "    fill: var(--disabled-fill-color);\n",
              "    box-shadow: none;\n",
              "  }\n",
              "\n",
              "  .colab-df-spinner {\n",
              "    border: 2px solid var(--fill-color);\n",
              "    border-color: transparent;\n",
              "    border-bottom-color: var(--fill-color);\n",
              "    animation:\n",
              "      spin 1s steps(1) infinite;\n",
              "  }\n",
              "\n",
              "  @keyframes spin {\n",
              "    0% {\n",
              "      border-color: transparent;\n",
              "      border-bottom-color: var(--fill-color);\n",
              "      border-left-color: var(--fill-color);\n",
              "    }\n",
              "    20% {\n",
              "      border-color: transparent;\n",
              "      border-left-color: var(--fill-color);\n",
              "      border-top-color: var(--fill-color);\n",
              "    }\n",
              "    30% {\n",
              "      border-color: transparent;\n",
              "      border-left-color: var(--fill-color);\n",
              "      border-top-color: var(--fill-color);\n",
              "      border-right-color: var(--fill-color);\n",
              "    }\n",
              "    40% {\n",
              "      border-color: transparent;\n",
              "      border-right-color: var(--fill-color);\n",
              "      border-top-color: var(--fill-color);\n",
              "    }\n",
              "    60% {\n",
              "      border-color: transparent;\n",
              "      border-right-color: var(--fill-color);\n",
              "    }\n",
              "    80% {\n",
              "      border-color: transparent;\n",
              "      border-right-color: var(--fill-color);\n",
              "      border-bottom-color: var(--fill-color);\n",
              "    }\n",
              "    90% {\n",
              "      border-color: transparent;\n",
              "      border-bottom-color: var(--fill-color);\n",
              "    }\n",
              "  }\n",
              "</style>\n",
              "\n",
              "  <script>\n",
              "    async function quickchart(key) {\n",
              "      const quickchartButtonEl =\n",
              "        document.querySelector('#' + key + ' button');\n",
              "      quickchartButtonEl.disabled = true;  // To prevent multiple clicks.\n",
              "      quickchartButtonEl.classList.add('colab-df-spinner');\n",
              "      try {\n",
              "        const charts = await google.colab.kernel.invokeFunction(\n",
              "            'suggestCharts', [key], {});\n",
              "      } catch (error) {\n",
              "        console.error('Error during call to suggestCharts:', error);\n",
              "      }\n",
              "      quickchartButtonEl.classList.remove('colab-df-spinner');\n",
              "      quickchartButtonEl.classList.add('colab-df-quickchart-complete');\n",
              "    }\n",
              "    (() => {\n",
              "      let quickchartButtonEl =\n",
              "        document.querySelector('#df-93443f95-f111-48d9-b783-d39f4986b02a button');\n",
              "      quickchartButtonEl.style.display =\n",
              "        google.colab.kernel.accessAllowed ? 'block' : 'none';\n",
              "    })();\n",
              "  </script>\n",
              "</div>\n",
              "\n",
              "    </div>\n",
              "  </div>\n"
            ],
            "application/vnd.google.colaboratory.intrinsic+json": {
              "type": "dataframe",
              "variable_name": "tr"
            }
          },
          "metadata": {},
          "execution_count": 247
        }
      ]
    },
    {
      "cell_type": "code",
      "source": [
        "tr.info()"
      ],
      "metadata": {
        "colab": {
          "base_uri": "https://localhost:8080/"
        },
        "id": "6EIgwtHTP04w",
        "outputId": "d4367713-cd0a-4a65-f213-64db42ab5905"
      },
      "execution_count": null,
      "outputs": [
        {
          "output_type": "stream",
          "name": "stdout",
          "text": [
            "<class 'pandas.core.frame.DataFrame'>\n",
            "RangeIndex: 3116945 entries, 0 to 3116944\n",
            "Data columns (total 22 columns):\n",
            " #   Column                Dtype  \n",
            "---  ------                -----  \n",
            " 0   id                    int64  \n",
            " 1   class                 object \n",
            " 2   cap-diameter          float64\n",
            " 3   cap-shape             object \n",
            " 4   cap-surface           object \n",
            " 5   cap-color             object \n",
            " 6   does-bruise-or-bleed  object \n",
            " 7   gill-attachment       object \n",
            " 8   gill-spacing          object \n",
            " 9   gill-color            object \n",
            " 10  stem-height           float64\n",
            " 11  stem-width            float64\n",
            " 12  stem-root             object \n",
            " 13  stem-surface          object \n",
            " 14  stem-color            object \n",
            " 15  veil-type             object \n",
            " 16  veil-color            object \n",
            " 17  has-ring              object \n",
            " 18  ring-type             object \n",
            " 19  spore-print-color     object \n",
            " 20  habitat               object \n",
            " 21  season                object \n",
            "dtypes: float64(3), int64(1), object(18)\n",
            "memory usage: 523.2+ MB\n"
          ]
        }
      ]
    },
    {
      "cell_type": "code",
      "source": [
        "df_train = copy.deepcopy(tr)\n",
        "df_test = copy.deepcopy(ts)"
      ],
      "metadata": {
        "id": "Vjl_nbWrJW1_"
      },
      "execution_count": null,
      "outputs": []
    },
    {
      "cell_type": "markdown",
      "source": [
        "# **Category**"
      ],
      "metadata": {
        "id": "9JkMTQUCPNoo"
      }
    },
    {
      "cell_type": "code",
      "source": [
        "def subclass_details (df):\n",
        "  df=df.select_dtypes(include='category')\n",
        "  for col in df.columns:\n",
        "    print('Number of unique classes:',df[col].nunique())\n",
        "    print(df[col].value_counts().head(10))\n",
        "    print('############################')"
      ],
      "metadata": {
        "id": "i6rJwpNzPW1r"
      },
      "execution_count": null,
      "outputs": []
    },
    {
      "cell_type": "code",
      "source": [
        "def remove_att(df,threshold=200):\n",
        "  cat_coln=df.select_dtypes(include='object')\n",
        "  for col in cat_coln:\n",
        "    attrib_drop=[]\n",
        "    for att , count in df[col].value_counts().items() :\n",
        "      if count <threshold:\n",
        "        attrib_drop.append(att)\n",
        "    mask = df[col].isin(attrib_drop)\n",
        "    df.loc[mask,col] = 'UNK'\n",
        "  return df"
      ],
      "metadata": {
        "id": "C4mS1DE9Q8V8"
      },
      "execution_count": null,
      "outputs": []
    },
    {
      "cell_type": "code",
      "source": [
        "def convert_cate (df):\n",
        "  for clas in df.select_dtypes(include='object'):\n",
        "    df[clas] =   df[clas].astype('category')\n",
        "  return df"
      ],
      "metadata": {
        "id": "lpeNU8ARWdqL"
      },
      "execution_count": null,
      "outputs": []
    },
    {
      "cell_type": "code",
      "source": [
        "df_train = remove_att(df_train)\n",
        "df_test = remove_att(df_test)"
      ],
      "metadata": {
        "id": "5Bmj9jt-R-vX"
      },
      "execution_count": null,
      "outputs": []
    },
    {
      "cell_type": "code",
      "source": [
        "df_train = convert_cate(df_train)\n",
        "df_test = convert_cate(df_test)"
      ],
      "metadata": {
        "id": "iGvXKVBGWbtm"
      },
      "execution_count": null,
      "outputs": []
    },
    {
      "cell_type": "code",
      "source": [
        "subclass_details(df_train)\n",
        "subclass_details(df_test)"
      ],
      "metadata": {
        "colab": {
          "base_uri": "https://localhost:8080/"
        },
        "collapsed": true,
        "id": "suRyTXUATWtd",
        "outputId": "c38bddb7-8629-46e2-f0fa-eb0a0e2218d2"
      },
      "execution_count": null,
      "outputs": [
        {
          "output_type": "stream",
          "name": "stdout",
          "text": [
            "Number of unique classes: 2\n",
            "class\n",
            "p    1705396\n",
            "e    1411549\n",
            "Name: count, dtype: int64\n",
            "############################\n",
            "Number of unique classes: 8\n",
            "cap-shape\n",
            "x      1436026\n",
            "f       676238\n",
            "s       365146\n",
            "b       318646\n",
            "o       108835\n",
            "p       106967\n",
            "c       104520\n",
            "UNK        527\n",
            "Name: count, dtype: int64\n",
            "############################\n",
            "Number of unique classes: 12\n",
            "cap-surface\n",
            "t    460777\n",
            "s    384970\n",
            "y    327826\n",
            "h    284460\n",
            "g    263729\n",
            "d    206832\n",
            "k    128875\n",
            "e    119712\n",
            "i    113440\n",
            "w    109840\n",
            "Name: count, dtype: int64\n",
            "############################\n",
            "Number of unique classes: 13\n",
            "cap-color\n",
            "n    1359542\n",
            "y     386627\n",
            "w     379442\n",
            "g     210825\n",
            "e     197290\n",
            "o     178847\n",
            "p      91838\n",
            "r      78236\n",
            "u      73172\n",
            "b      61313\n",
            "Name: count, dtype: int64\n",
            "############################\n",
            "Number of unique classes: 3\n",
            "does-bruise-or-bleed\n",
            "f      2569743\n",
            "t       547085\n",
            "UNK        109\n",
            "Name: count, dtype: int64\n",
            "############################\n",
            "Number of unique classes: 8\n",
            "gill-attachment\n",
            "a      646034\n",
            "d      589236\n",
            "x      360878\n",
            "e      301858\n",
            "s      295439\n",
            "p      279110\n",
            "f      119953\n",
            "UNK       501\n",
            "Name: count, dtype: int64\n",
            "############################\n",
            "Number of unique classes: 4\n",
            "gill-spacing\n",
            "c      1331054\n",
            "d       407932\n",
            "f       119380\n",
            "UNK        144\n",
            "Name: count, dtype: int64\n",
            "############################\n",
            "Number of unique classes: 13\n",
            "gill-color\n",
            "w    931538\n",
            "n    543386\n",
            "y    469464\n",
            "p    343626\n",
            "g    212164\n",
            "o    157119\n",
            "k    127970\n",
            "f    119694\n",
            "r     62799\n",
            "e     56047\n",
            "Name: count, dtype: int64\n",
            "############################\n",
            "Number of unique classes: 6\n",
            "stem-root\n",
            "b      165801\n",
            "s      116946\n",
            "r       47803\n",
            "c       28592\n",
            "f         597\n",
            "UNK       183\n",
            "Name: count, dtype: int64\n",
            "############################\n",
            "Number of unique classes: 9\n",
            "stem-surface\n",
            "s      327610\n",
            "y      255500\n",
            "i      224346\n",
            "t      147974\n",
            "g       78080\n",
            "k       73383\n",
            "h       28283\n",
            "f         512\n",
            "UNK       396\n",
            "Name: count, dtype: int64\n",
            "############################\n",
            "Number of unique classes: 14\n",
            "stem-color\n",
            "w    1196637\n",
            "n    1003464\n",
            "y     373971\n",
            "g     132019\n",
            "o     111541\n",
            "e     103373\n",
            "u      67017\n",
            "p      54690\n",
            "k      33676\n",
            "r      22329\n",
            "Name: count, dtype: int64\n",
            "############################\n",
            "Number of unique classes: 2\n",
            "veil-type\n",
            "u      159373\n",
            "UNK        79\n",
            "Name: count, dtype: int64\n",
            "############################\n",
            "Number of unique classes: 7\n",
            "veil-color\n",
            "w      279070\n",
            "y       30473\n",
            "n       30039\n",
            "u       14026\n",
            "k       13080\n",
            "e        9169\n",
            "UNK       141\n",
            "Name: count, dtype: int64\n",
            "############################\n",
            "Number of unique classes: 3\n",
            "has-ring\n",
            "f      2368820\n",
            "t       747982\n",
            "UNK        119\n",
            "Name: count, dtype: int64\n",
            "############################\n",
            "Number of unique classes: 9\n",
            "ring-type\n",
            "f      2477170\n",
            "e       120006\n",
            "z       113780\n",
            "l        73443\n",
            "r        67909\n",
            "p        67678\n",
            "g        63687\n",
            "m         3992\n",
            "UNK        400\n",
            "Name: count, dtype: int64\n",
            "############################\n",
            "Number of unique classes: 8\n",
            "spore-print-color\n",
            "k      107310\n",
            "p       68237\n",
            "w       50173\n",
            "n       22646\n",
            "r        7975\n",
            "u        7256\n",
            "g        3492\n",
            "UNK       174\n",
            "Name: count, dtype: int64\n",
            "############################\n",
            "Number of unique classes: 9\n",
            "habitat\n",
            "d      2177573\n",
            "g       454908\n",
            "l       171892\n",
            "m       150969\n",
            "h       120137\n",
            "w        18530\n",
            "p        17180\n",
            "u         5264\n",
            "UNK        447\n",
            "Name: count, dtype: int64\n",
            "############################\n",
            "Number of unique classes: 4\n",
            "season\n",
            "a    1543321\n",
            "u    1153588\n",
            "w     278189\n",
            "s     141847\n",
            "Name: count, dtype: int64\n",
            "############################\n",
            "Number of unique classes: 8\n",
            "cap-shape\n",
            "x      957949\n",
            "f      452360\n",
            "s      242698\n",
            "b      211879\n",
            "o       71972\n",
            "p       71302\n",
            "c       69436\n",
            "UNK       337\n",
            "Name: count, dtype: int64\n",
            "############################\n",
            "Number of unique classes: 12\n",
            "cap-surface\n",
            "t    306852\n",
            "s    257190\n",
            "y    218336\n",
            "h    189737\n",
            "g    176140\n",
            "d    137675\n",
            "k     86041\n",
            "e     79918\n",
            "i     75570\n",
            "w     73109\n",
            "Name: count, dtype: int64\n",
            "############################\n",
            "Number of unique classes: 13\n",
            "cap-color\n",
            "n    904307\n",
            "y    259062\n",
            "w    253844\n",
            "g    140681\n",
            "e    131524\n",
            "o    119764\n",
            "p     61186\n",
            "r     51784\n",
            "u     48865\n",
            "b     40790\n",
            "Name: count, dtype: int64\n",
            "############################\n",
            "Number of unique classes: 3\n",
            "does-bruise-or-bleed\n",
            "f      1713662\n",
            "t       364227\n",
            "UNK         65\n",
            "Name: count, dtype: int64\n",
            "############################\n",
            "Number of unique classes: 8\n",
            "gill-attachment\n",
            "a      430960\n",
            "d      392584\n",
            "x      240758\n",
            "e      201276\n",
            "s      196279\n",
            "p      186334\n",
            "f       79630\n",
            "UNK       322\n",
            "Name: count, dtype: int64\n",
            "############################\n",
            "Number of unique classes: 4\n",
            "gill-spacing\n",
            "c      886976\n",
            "d      272085\n",
            "f       79223\n",
            "UNK        85\n",
            "Name: count, dtype: int64\n",
            "############################\n",
            "Number of unique classes: 13\n",
            "gill-color\n",
            "w    620773\n",
            "n    362169\n",
            "y    313932\n",
            "p    229155\n",
            "g    141519\n",
            "o    105048\n",
            "k     85360\n",
            "f     79482\n",
            "r     41499\n",
            "e     37432\n",
            "Name: count, dtype: int64\n",
            "############################\n",
            "Number of unique classes: 6\n",
            "stem-root\n",
            "b      110581\n",
            "s       78253\n",
            "r       31606\n",
            "c       19025\n",
            "f         374\n",
            "UNK       113\n",
            "Name: count, dtype: int64\n",
            "############################\n",
            "Number of unique classes: 9\n",
            "stem-surface\n",
            "s      218496\n",
            "y      169462\n",
            "i      149192\n",
            "t       98982\n",
            "g       51848\n",
            "k       49075\n",
            "h       18861\n",
            "f         310\n",
            "UNK       250\n",
            "Name: count, dtype: int64\n",
            "############################\n",
            "Number of unique classes: 14\n",
            "stem-color\n",
            "w    797365\n",
            "n    668156\n",
            "y    250141\n",
            "g     88202\n",
            "o     75094\n",
            "e     68804\n",
            "u     44784\n",
            "p     36356\n",
            "k     22176\n",
            "r     14910\n",
            "Name: count, dtype: int64\n",
            "############################\n",
            "Number of unique classes: 2\n",
            "veil-type\n",
            "u      106373\n",
            "UNK        46\n",
            "Name: count, dtype: int64\n",
            "############################\n",
            "Number of unique classes: 7\n",
            "veil-color\n",
            "w      186432\n",
            "y       20782\n",
            "n       20256\n",
            "u        9413\n",
            "k        8706\n",
            "e        6147\n",
            "UNK       104\n",
            "Name: count, dtype: int64\n",
            "############################\n",
            "Number of unique classes: 3\n",
            "has-ring\n",
            "f      1578092\n",
            "t       499759\n",
            "UNK         94\n",
            "Name: count, dtype: int64\n",
            "############################\n",
            "Number of unique classes: 9\n",
            "ring-type\n",
            "f      1650200\n",
            "e        80348\n",
            "z        75917\n",
            "l        48847\n",
            "p        45654\n",
            "r        45400\n",
            "g        42472\n",
            "m         2689\n",
            "UNK        242\n",
            "Name: count, dtype: int64\n",
            "############################\n",
            "Number of unique classes: 8\n",
            "spore-print-color\n",
            "k      71573\n",
            "p      45452\n",
            "w      33657\n",
            "n      15081\n",
            "r       5305\n",
            "u       4845\n",
            "g       2323\n",
            "UNK      111\n",
            "Name: count, dtype: int64\n",
            "############################\n",
            "Number of unique classes: 9\n",
            "habitat\n",
            "d      1450420\n",
            "g       304300\n",
            "l       114458\n",
            "m       101258\n",
            "h        80032\n",
            "w        12324\n",
            "p        11429\n",
            "u         3434\n",
            "UNK        284\n",
            "Name: count, dtype: int64\n",
            "############################\n",
            "Number of unique classes: 4\n",
            "season\n",
            "a    1029085\n",
            "u     768267\n",
            "w     185975\n",
            "s      94637\n",
            "Name: count, dtype: int64\n",
            "############################\n"
          ]
        }
      ]
    },
    {
      "cell_type": "code",
      "source": [
        "df_train.info()"
      ],
      "metadata": {
        "id": "NtrChKiEEoqx",
        "outputId": "480d8912-58b9-47f5-a096-d8bd997fe2ec",
        "colab": {
          "base_uri": "https://localhost:8080/"
        }
      },
      "execution_count": null,
      "outputs": [
        {
          "output_type": "stream",
          "name": "stdout",
          "text": [
            "<class 'pandas.core.frame.DataFrame'>\n",
            "RangeIndex: 3116945 entries, 0 to 3116944\n",
            "Data columns (total 22 columns):\n",
            " #   Column                Dtype   \n",
            "---  ------                -----   \n",
            " 0   id                    int64   \n",
            " 1   class                 category\n",
            " 2   cap-diameter          float64 \n",
            " 3   cap-shape             category\n",
            " 4   cap-surface           category\n",
            " 5   cap-color             category\n",
            " 6   does-bruise-or-bleed  category\n",
            " 7   gill-attachment       category\n",
            " 8   gill-spacing          category\n",
            " 9   gill-color            category\n",
            " 10  stem-height           float64 \n",
            " 11  stem-width            float64 \n",
            " 12  stem-root             category\n",
            " 13  stem-surface          category\n",
            " 14  stem-color            category\n",
            " 15  veil-type             category\n",
            " 16  veil-color            category\n",
            " 17  has-ring              category\n",
            " 18  ring-type             category\n",
            " 19  spore-print-color     category\n",
            " 20  habitat               category\n",
            " 21  season                category\n",
            "dtypes: category(18), float64(3), int64(1)\n",
            "memory usage: 148.6 MB\n"
          ]
        }
      ]
    },
    {
      "cell_type": "code",
      "source": [
        "df_test.shape"
      ],
      "metadata": {
        "id": "sFR8MQ7MNUDZ",
        "outputId": "87fa57b3-b032-4457-d07a-5b483c4a16ae",
        "colab": {
          "base_uri": "https://localhost:8080/"
        }
      },
      "execution_count": null,
      "outputs": [
        {
          "output_type": "execute_result",
          "data": {
            "text/plain": [
              "(2077964, 21)"
            ]
          },
          "metadata": {},
          "execution_count": 257
        }
      ]
    },
    {
      "cell_type": "markdown",
      "source": [
        "# **Missing Value**"
      ],
      "metadata": {
        "id": "KufULjN2Jg62"
      }
    },
    {
      "cell_type": "code",
      "source": [
        "def missing_feature(df):\n",
        "  null_df=(df.isna().sum()*100/df.shape[0]).sort_values(ascending=False)\n",
        "  sns.barplot(x=null_df.index,y=null_df.values,palette='plasma')\n",
        "  plt.xticks(rotation=90)\n",
        "  plt.xlabel('Feature')\n",
        "  plt.ylabel('Percent(%)')\n",
        "  plt.title('Missing Values')\n",
        "  return null_df\n",
        "  plt.show()"
      ],
      "metadata": {
        "id": "K-j08sL6JljV"
      },
      "execution_count": null,
      "outputs": []
    },
    {
      "cell_type": "code",
      "source": [
        "null_df_train = missing_feature(df_train)\n",
        "null_df_test = missing_feature(df_test)\n",
        "null_df_train"
      ],
      "metadata": {
        "colab": {
          "base_uri": "https://localhost:8080/",
          "height": 1000
        },
        "id": "Elm-Y3_hJxzi",
        "outputId": "82d8bf70-0310-4b83-a2f6-65e04cef0e34",
        "collapsed": true
      },
      "execution_count": null,
      "outputs": [
        {
          "output_type": "stream",
          "name": "stderr",
          "text": [
            "<ipython-input-258-4e3d9781527f>:3: FutureWarning: \n",
            "\n",
            "Passing `palette` without assigning `hue` is deprecated and will be removed in v0.14.0. Assign the `x` variable to `hue` and set `legend=False` for the same effect.\n",
            "\n",
            "  sns.barplot(x=null_df.index,y=null_df.values,palette='plasma')\n",
            "<ipython-input-258-4e3d9781527f>:3: FutureWarning: \n",
            "\n",
            "Passing `palette` without assigning `hue` is deprecated and will be removed in v0.14.0. Assign the `x` variable to `hue` and set `legend=False` for the same effect.\n",
            "\n",
            "  sns.barplot(x=null_df.index,y=null_df.values,palette='plasma')\n"
          ]
        },
        {
          "output_type": "execute_result",
          "data": {
            "text/plain": [
              "veil-type               94.884350\n",
              "spore-print-color       91.425482\n",
              "stem-root               88.452732\n",
              "veil-color              87.936970\n",
              "stem-surface            63.551362\n",
              "gill-spacing            40.373988\n",
              "cap-surface             21.528227\n",
              "gill-attachment         16.809280\n",
              "ring-type                4.134818\n",
              "gill-color               0.001829\n",
              "habitat                  0.001444\n",
              "cap-shape                0.001283\n",
              "stem-color               0.001219\n",
              "has-ring                 0.000770\n",
              "cap-color                0.000385\n",
              "does-bruise-or-bleed     0.000257\n",
              "cap-diameter             0.000128\n",
              "id                       0.000000\n",
              "stem-width               0.000000\n",
              "class                    0.000000\n",
              "stem-height              0.000000\n",
              "season                   0.000000\n",
              "dtype: float64"
            ],
            "text/html": [
              "<div>\n",
              "<style scoped>\n",
              "    .dataframe tbody tr th:only-of-type {\n",
              "        vertical-align: middle;\n",
              "    }\n",
              "\n",
              "    .dataframe tbody tr th {\n",
              "        vertical-align: top;\n",
              "    }\n",
              "\n",
              "    .dataframe thead th {\n",
              "        text-align: right;\n",
              "    }\n",
              "</style>\n",
              "<table border=\"1\" class=\"dataframe\">\n",
              "  <thead>\n",
              "    <tr style=\"text-align: right;\">\n",
              "      <th></th>\n",
              "      <th>0</th>\n",
              "    </tr>\n",
              "  </thead>\n",
              "  <tbody>\n",
              "    <tr>\n",
              "      <th>veil-type</th>\n",
              "      <td>94.884350</td>\n",
              "    </tr>\n",
              "    <tr>\n",
              "      <th>spore-print-color</th>\n",
              "      <td>91.425482</td>\n",
              "    </tr>\n",
              "    <tr>\n",
              "      <th>stem-root</th>\n",
              "      <td>88.452732</td>\n",
              "    </tr>\n",
              "    <tr>\n",
              "      <th>veil-color</th>\n",
              "      <td>87.936970</td>\n",
              "    </tr>\n",
              "    <tr>\n",
              "      <th>stem-surface</th>\n",
              "      <td>63.551362</td>\n",
              "    </tr>\n",
              "    <tr>\n",
              "      <th>gill-spacing</th>\n",
              "      <td>40.373988</td>\n",
              "    </tr>\n",
              "    <tr>\n",
              "      <th>cap-surface</th>\n",
              "      <td>21.528227</td>\n",
              "    </tr>\n",
              "    <tr>\n",
              "      <th>gill-attachment</th>\n",
              "      <td>16.809280</td>\n",
              "    </tr>\n",
              "    <tr>\n",
              "      <th>ring-type</th>\n",
              "      <td>4.134818</td>\n",
              "    </tr>\n",
              "    <tr>\n",
              "      <th>gill-color</th>\n",
              "      <td>0.001829</td>\n",
              "    </tr>\n",
              "    <tr>\n",
              "      <th>habitat</th>\n",
              "      <td>0.001444</td>\n",
              "    </tr>\n",
              "    <tr>\n",
              "      <th>cap-shape</th>\n",
              "      <td>0.001283</td>\n",
              "    </tr>\n",
              "    <tr>\n",
              "      <th>stem-color</th>\n",
              "      <td>0.001219</td>\n",
              "    </tr>\n",
              "    <tr>\n",
              "      <th>has-ring</th>\n",
              "      <td>0.000770</td>\n",
              "    </tr>\n",
              "    <tr>\n",
              "      <th>cap-color</th>\n",
              "      <td>0.000385</td>\n",
              "    </tr>\n",
              "    <tr>\n",
              "      <th>does-bruise-or-bleed</th>\n",
              "      <td>0.000257</td>\n",
              "    </tr>\n",
              "    <tr>\n",
              "      <th>cap-diameter</th>\n",
              "      <td>0.000128</td>\n",
              "    </tr>\n",
              "    <tr>\n",
              "      <th>id</th>\n",
              "      <td>0.000000</td>\n",
              "    </tr>\n",
              "    <tr>\n",
              "      <th>stem-width</th>\n",
              "      <td>0.000000</td>\n",
              "    </tr>\n",
              "    <tr>\n",
              "      <th>class</th>\n",
              "      <td>0.000000</td>\n",
              "    </tr>\n",
              "    <tr>\n",
              "      <th>stem-height</th>\n",
              "      <td>0.000000</td>\n",
              "    </tr>\n",
              "    <tr>\n",
              "      <th>season</th>\n",
              "      <td>0.000000</td>\n",
              "    </tr>\n",
              "  </tbody>\n",
              "</table>\n",
              "</div><br><label><b>dtype:</b> float64</label>"
            ]
          },
          "metadata": {},
          "execution_count": 259
        },
        {
          "output_type": "display_data",
          "data": {
            "text/plain": [
              "<Figure size 640x480 with 1 Axes>"
            ],
            "image/png": "[encoded data removed]"
          },
          "metadata": {}
        }
      ]
    },
    {
      "cell_type": "code",
      "source": [
        "def columns_drop(df):\n",
        "  column_drop=[]\n",
        "  null_df=(df.isna().sum()*100/df.shape[0]).sort_values(ascending=False)\n",
        "  for col,val in null_df.items():\n",
        "    if val >4:\n",
        "      column_drop.append(col)\n",
        "  return column_drop"
      ],
      "metadata": {
        "id": "nGTQKmd1LU2r"
      },
      "execution_count": null,
      "outputs": []
    },
    {
      "cell_type": "code",
      "source": [
        "column_drop_train = columns_drop(df_train)\n",
        "column_drop_test = columns_drop(df_test)\n",
        "print(column_drop_test)\n",
        "print('-----------------------------------------')\n",
        "print(column_drop_train)"
      ],
      "metadata": {
        "colab": {
          "base_uri": "https://localhost:8080/"
        },
        "id": "dOo89kpDLtj_",
        "outputId": "bd1393f7-a617-49d1-e054-b7b693343b9e"
      },
      "execution_count": null,
      "outputs": [
        {
          "output_type": "stream",
          "name": "stdout",
          "text": [
            "['veil-type', 'spore-print-color', 'stem-root', 'veil-color', 'stem-surface', 'gill-spacing', 'cap-surface', 'gill-attachment', 'ring-type']\n",
            "-----------------------------------------\n",
            "['veil-type', 'spore-print-color', 'stem-root', 'veil-color', 'stem-surface', 'gill-spacing', 'cap-surface', 'gill-attachment', 'ring-type']\n"
          ]
        }
      ]
    },
    {
      "cell_type": "code",
      "source": [
        "df_train.drop(column_drop_train,axis=1,inplace=True)\n",
        "df_test.drop(column_drop_test,axis=1,inplace=True)\n",
        "df_train.drop('id',axis=1,inplace=True)\n",
        "df_test.drop('id',axis=1,inplace=True)\n"
      ],
      "metadata": {
        "id": "7j6bHscdMEyD"
      },
      "execution_count": null,
      "outputs": []
    },
    {
      "cell_type": "code",
      "source": [
        "df_train.isna().sum()"
      ],
      "metadata": {
        "colab": {
          "base_uri": "https://localhost:8080/",
          "height": 654
        },
        "id": "UV25xzIcMSVV",
        "outputId": "fc360526-a1d2-4445-c8f4-0de4abe6f658"
      },
      "execution_count": null,
      "outputs": [
        {
          "output_type": "execute_result",
          "data": {
            "text/plain": [
              "class                    0\n",
              "cap-diameter             4\n",
              "cap-shape               40\n",
              "cap-color               12\n",
              "does-bruise-or-bleed     8\n",
              "gill-color              57\n",
              "stem-height              0\n",
              "stem-width               0\n",
              "stem-color              38\n",
              "has-ring                24\n",
              "habitat                 45\n",
              "season                   0\n",
              "dtype: int64"
            ],
            "text/html": [
              "<div>\n",
              "<style scoped>\n",
              "    .dataframe tbody tr th:only-of-type {\n",
              "        vertical-align: middle;\n",
              "    }\n",
              "\n",
              "    .dataframe tbody tr th {\n",
              "        vertical-align: top;\n",
              "    }\n",
              "\n",
              "    .dataframe thead th {\n",
              "        text-align: right;\n",
              "    }\n",
              "</style>\n",
              "<table border=\"1\" class=\"dataframe\">\n",
              "  <thead>\n",
              "    <tr style=\"text-align: right;\">\n",
              "      <th></th>\n",
              "      <th>0</th>\n",
              "    </tr>\n",
              "  </thead>\n",
              "  <tbody>\n",
              "    <tr>\n",
              "      <th>class</th>\n",
              "      <td>0</td>\n",
              "    </tr>\n",
              "    <tr>\n",
              "      <th>cap-diameter</th>\n",
              "      <td>4</td>\n",
              "    </tr>\n",
              "    <tr>\n",
              "      <th>cap-shape</th>\n",
              "      <td>40</td>\n",
              "    </tr>\n",
              "    <tr>\n",
              "      <th>cap-color</th>\n",
              "      <td>12</td>\n",
              "    </tr>\n",
              "    <tr>\n",
              "      <th>does-bruise-or-bleed</th>\n",
              "      <td>8</td>\n",
              "    </tr>\n",
              "    <tr>\n",
              "      <th>gill-color</th>\n",
              "      <td>57</td>\n",
              "    </tr>\n",
              "    <tr>\n",
              "      <th>stem-height</th>\n",
              "      <td>0</td>\n",
              "    </tr>\n",
              "    <tr>\n",
              "      <th>stem-width</th>\n",
              "      <td>0</td>\n",
              "    </tr>\n",
              "    <tr>\n",
              "      <th>stem-color</th>\n",
              "      <td>38</td>\n",
              "    </tr>\n",
              "    <tr>\n",
              "      <th>has-ring</th>\n",
              "      <td>24</td>\n",
              "    </tr>\n",
              "    <tr>\n",
              "      <th>habitat</th>\n",
              "      <td>45</td>\n",
              "    </tr>\n",
              "    <tr>\n",
              "      <th>season</th>\n",
              "      <td>0</td>\n",
              "    </tr>\n",
              "  </tbody>\n",
              "</table>\n",
              "</div><br><label><b>dtype:</b> int64</label>"
            ]
          },
          "metadata": {},
          "execution_count": 263
        }
      ]
    },
    {
      "cell_type": "code",
      "source": [
        "df_test.isna().sum()"
      ],
      "metadata": {
        "colab": {
          "base_uri": "https://localhost:8080/",
          "height": 623
        },
        "id": "Jc0FiEa191aS",
        "outputId": "2f0d8f31-6162-4ef0-8679-1caa513e5cca"
      },
      "execution_count": null,
      "outputs": [
        {
          "output_type": "execute_result",
          "data": {
            "text/plain": [
              "cap-diameter             7\n",
              "cap-shape               31\n",
              "cap-color               13\n",
              "does-bruise-or-bleed    10\n",
              "gill-color              49\n",
              "stem-height              1\n",
              "stem-width               0\n",
              "stem-color              21\n",
              "has-ring                19\n",
              "habitat                 25\n",
              "season                   0\n",
              "dtype: int64"
            ],
            "text/html": [
              "<div>\n",
              "<style scoped>\n",
              "    .dataframe tbody tr th:only-of-type {\n",
              "        vertical-align: middle;\n",
              "    }\n",
              "\n",
              "    .dataframe tbody tr th {\n",
              "        vertical-align: top;\n",
              "    }\n",
              "\n",
              "    .dataframe thead th {\n",
              "        text-align: right;\n",
              "    }\n",
              "</style>\n",
              "<table border=\"1\" class=\"dataframe\">\n",
              "  <thead>\n",
              "    <tr style=\"text-align: right;\">\n",
              "      <th></th>\n",
              "      <th>0</th>\n",
              "    </tr>\n",
              "  </thead>\n",
              "  <tbody>\n",
              "    <tr>\n",
              "      <th>cap-diameter</th>\n",
              "      <td>7</td>\n",
              "    </tr>\n",
              "    <tr>\n",
              "      <th>cap-shape</th>\n",
              "      <td>31</td>\n",
              "    </tr>\n",
              "    <tr>\n",
              "      <th>cap-color</th>\n",
              "      <td>13</td>\n",
              "    </tr>\n",
              "    <tr>\n",
              "      <th>does-bruise-or-bleed</th>\n",
              "      <td>10</td>\n",
              "    </tr>\n",
              "    <tr>\n",
              "      <th>gill-color</th>\n",
              "      <td>49</td>\n",
              "    </tr>\n",
              "    <tr>\n",
              "      <th>stem-height</th>\n",
              "      <td>1</td>\n",
              "    </tr>\n",
              "    <tr>\n",
              "      <th>stem-width</th>\n",
              "      <td>0</td>\n",
              "    </tr>\n",
              "    <tr>\n",
              "      <th>stem-color</th>\n",
              "      <td>21</td>\n",
              "    </tr>\n",
              "    <tr>\n",
              "      <th>has-ring</th>\n",
              "      <td>19</td>\n",
              "    </tr>\n",
              "    <tr>\n",
              "      <th>habitat</th>\n",
              "      <td>25</td>\n",
              "    </tr>\n",
              "    <tr>\n",
              "      <th>season</th>\n",
              "      <td>0</td>\n",
              "    </tr>\n",
              "  </tbody>\n",
              "</table>\n",
              "</div><br><label><b>dtype:</b> int64</label>"
            ]
          },
          "metadata": {},
          "execution_count": 264
        }
      ]
    },
    {
      "cell_type": "code",
      "source": [
        "df_train.plot(kind='hist',subplots=True,sharex=True,figsize=(15,15),bins=100)"
      ],
      "metadata": {
        "colab": {
          "base_uri": "https://localhost:8080/",
          "height": 193
        },
        "id": "z1sYSgCwMW2v",
        "outputId": "7b76523c-0155-4b66-f6cc-2bc413ef0a39"
      },
      "execution_count": null,
      "outputs": [
        {
          "output_type": "execute_result",
          "data": {
            "text/plain": [
              "array([<Axes: ylabel='Frequency'>, <Axes: ylabel='Frequency'>,\n",
              "       <Axes: ylabel='Frequency'>], dtype=object)"
            ]
          },
          "metadata": {},
          "execution_count": 265
        },
        {
          "output_type": "display_data",
          "data": {
            "text/plain": [
              "<Figure size 1500x1500 with 3 Axes>"
            ],
            "image/png": "[encoded data removed]"
          },
          "metadata": {}
        }
      ]
    },
    {
      "cell_type": "code",
      "source": [
        "num_data_train = df_train.select_dtypes(include='number')\n",
        "num_data_test = df_test.select_dtypes(include='number')\n",
        "cat_data_train = df_train.select_dtypes(include='category')\n",
        "cat_data_test = df_test.select_dtypes(include='category')"
      ],
      "metadata": {
        "id": "0EpR_ykeMw_W"
      },
      "execution_count": null,
      "outputs": []
    },
    {
      "cell_type": "code",
      "source": [
        "from sklearn.impute import SimpleImputer"
      ],
      "metadata": {
        "id": "mDnQ04dvOR7b"
      },
      "execution_count": null,
      "outputs": []
    },
    {
      "cell_type": "code",
      "source": [
        "num_impute=SimpleImputer(strategy='median')\n",
        "cat_impute=SimpleImputer(strategy='most_frequent')\n",
        "\n",
        "num_data_train=pd.DataFrame(num_impute.fit_transform(num_data_train),columns=num_data_train.columns)\n",
        "num_data_test=pd.DataFrame(num_impute.transform(num_data_test),columns=num_data_test.columns)\n",
        "cat_data_train=pd.DataFrame(cat_impute.fit_transform(cat_data_train),columns=cat_data_train.columns)\n",
        "cat_data_test=pd.DataFrame(cat_impute.fit_transform(cat_data_test),columns=cat_data_test.columns)"
      ],
      "metadata": {
        "id": "vPFsiUJzOcSw"
      },
      "execution_count": null,
      "outputs": []
    },
    {
      "cell_type": "code",
      "source": [
        "cat_data.isna().sum()"
      ],
      "metadata": {
        "colab": {
          "base_uri": "https://localhost:8080/",
          "height": 543
        },
        "id": "kpSWVfxRct-W",
        "outputId": "0e9b0152-856a-4b56-ac75-1c7f47b06bd3"
      },
      "execution_count": null,
      "outputs": [
        {
          "output_type": "execute_result",
          "data": {
            "text/plain": [
              "class                   0\n",
              "cap-shape               0\n",
              "cap-color               0\n",
              "does-bruise-or-bleed    0\n",
              "gill-color              0\n",
              "stem-color              0\n",
              "has-ring                0\n",
              "habitat                 0\n",
              "season                  0\n",
              "dtype: int64"
            ],
            "text/html": [
              "<div>\n",
              "<style scoped>\n",
              "    .dataframe tbody tr th:only-of-type {\n",
              "        vertical-align: middle;\n",
              "    }\n",
              "\n",
              "    .dataframe tbody tr th {\n",
              "        vertical-align: top;\n",
              "    }\n",
              "\n",
              "    .dataframe thead th {\n",
              "        text-align: right;\n",
              "    }\n",
              "</style>\n",
              "<table border=\"1\" class=\"dataframe\">\n",
              "  <thead>\n",
              "    <tr style=\"text-align: right;\">\n",
              "      <th></th>\n",
              "      <th>0</th>\n",
              "    </tr>\n",
              "  </thead>\n",
              "  <tbody>\n",
              "    <tr>\n",
              "      <th>class</th>\n",
              "      <td>0</td>\n",
              "    </tr>\n",
              "    <tr>\n",
              "      <th>cap-shape</th>\n",
              "      <td>0</td>\n",
              "    </tr>\n",
              "    <tr>\n",
              "      <th>cap-color</th>\n",
              "      <td>0</td>\n",
              "    </tr>\n",
              "    <tr>\n",
              "      <th>does-bruise-or-bleed</th>\n",
              "      <td>0</td>\n",
              "    </tr>\n",
              "    <tr>\n",
              "      <th>gill-color</th>\n",
              "      <td>0</td>\n",
              "    </tr>\n",
              "    <tr>\n",
              "      <th>stem-color</th>\n",
              "      <td>0</td>\n",
              "    </tr>\n",
              "    <tr>\n",
              "      <th>has-ring</th>\n",
              "      <td>0</td>\n",
              "    </tr>\n",
              "    <tr>\n",
              "      <th>habitat</th>\n",
              "      <td>0</td>\n",
              "    </tr>\n",
              "    <tr>\n",
              "      <th>season</th>\n",
              "      <td>0</td>\n",
              "    </tr>\n",
              "  </tbody>\n",
              "</table>\n",
              "</div><br><label><b>dtype:</b> int64</label>"
            ]
          },
          "metadata": {},
          "execution_count": 269
        }
      ]
    },
    {
      "cell_type": "code",
      "source": [
        "df_train = pd.concat([num_data_train,cat_data_train],axis=1).sample(frac=1)\n",
        "df_test = pd.concat([num_data_test,cat_data_test],axis=1).sample(frac=1)"
      ],
      "metadata": {
        "id": "aj0lDG9COl4P"
      },
      "execution_count": null,
      "outputs": []
    },
    {
      "cell_type": "code",
      "source": [
        "df_train.shape"
      ],
      "metadata": {
        "colab": {
          "base_uri": "https://localhost:8080/"
        },
        "id": "2dCqxrQ2ejFg",
        "outputId": "7d166442-4aa9-40fb-b36e-2d7b4b33d63b"
      },
      "execution_count": null,
      "outputs": [
        {
          "output_type": "execute_result",
          "data": {
            "text/plain": [
              "(3116945, 12)"
            ]
          },
          "metadata": {},
          "execution_count": 271
        }
      ]
    },
    {
      "cell_type": "code",
      "source": [
        "df_test.shape"
      ],
      "metadata": {
        "id": "1VxACzMIeknG",
        "colab": {
          "base_uri": "https://localhost:8080/"
        },
        "outputId": "79595d11-6acd-44bf-80e0-6a5addb1f1cc"
      },
      "execution_count": null,
      "outputs": [
        {
          "output_type": "execute_result",
          "data": {
            "text/plain": [
              "(2077964, 11)"
            ]
          },
          "metadata": {},
          "execution_count": 272
        }
      ]
    },
    {
      "cell_type": "code",
      "source": [
        "sss=df_train.drop('class',axis=1)"
      ],
      "metadata": {
        "id": "HGFnNr6hG7wh"
      },
      "execution_count": null,
      "outputs": []
    },
    {
      "cell_type": "code",
      "source": [
        "for col in sss.columns:\n",
        "  att = set(sss[col].unique())\n",
        "  ts_att = set(df_test[col].unique())\n",
        "  temp = att - ts_att\n",
        "  ai = ts_att - att\n",
        "  print(ai)\n",
        "  print(temp)"
      ],
      "metadata": {
        "id": "Y4j5zsJfGiUu",
        "outputId": "4aa639b8-10c3-4c79-c74a-f684c6a006f4",
        "colab": {
          "base_uri": "https://localhost:8080/"
        }
      },
      "execution_count": null,
      "outputs": [
        {
          "output_type": "stream",
          "name": "stdout",
          "text": [
            "{0.0, 43.73, 19.87, 20.4, 20.18, 22.03, 23.27, 24.02, 25.39, 26.14, 27.02, 27.52, 28.39, 29.8, 25.25, 25.0, 27.13, 28.5, 29.13, 29.25, 31.13, 32.38, 34.13, 39.89, 40.63, 42.5, 42.0, 43.0, 42.38, 43.51, 47.5, 47.45, 48.95, 50.94, 51.06, 50.75, 44.51, 50.39, 55.91, 53.14, 55.0, 55.88, 57.26, 58.01, 54.15, 56.52, 62.0, 57.52, 59.65, 59.27, 58.04, 68.0, 62.31, 62.32, 62.08, 64.72, 73.36, 607.0, 22.18, 23.93, 25.9, 25.64, 25.42, 25.07, 25.46, 26.07, 40.82, 26.08, 25.1, 26.85, 27.42, 26.35, 58.1, 28.04, 29.93, 29.97, 30.64, 30.65, 30.04, 30.67, 30.07, 31.46, 30.36, 31.86, 32.69, 56.89, 33.82, 33.21, 33.72, 34.91, 34.69, 35.53, 35.33, 36.66, 36.29, 37.37, 38.43, 38.46, 38.34, 38.86, 39.16, 39.8, 39.93, 39.82, 39.48, 40.53, 40.66, 40.16, 40.67, 40.55, 41.66, 40.92, 41.92, 41.68, 40.06, 42.52, 42.03, 42.79, 41.19, 42.69, 43.39, 43.3, 43.44, 43.69, 42.33, 44.28, 44.55, 44.2, 44.45, 43.59, 45.94, 44.46, 42.34, 42.59, 44.1, 46.53, 46.07, 46.35, 46.09, 46.77, 47.03, 47.42, 47.31, 47.46, 47.21, 48.55, 47.22, 47.27, 49.05, 49.28, 49.43, 49.94, 49.7, 50.98, 49.15, 49.85, 50.84, 42.61, 52.2, 53.05, 53.58, 53.45, 43.1, 54.48, 54.58, 55.79, 55.67, 55.17, 55.74, 55.6, 56.18, 56.06, 56.44, 56.57, 55.85, 57.18, 57.06, 56.45, 57.2, 56.96, 58.43, 58.69, 58.56, 58.59, 58.47, 59.56, 59.31, 55.22, 59.34, 58.98, 59.24, 59.99, 62.33, 62.34, 55.23, 62.1, 25.86, 21.99, 43.86, 24.05, 25.26, 25.59, 26.76, 26.05, 26.2, 27.51, 27.19, 27.34, 27.84, 57.24, 28.73, 27.62, 27.37, 28.62, 29.3, 29.34, 29.99, 30.01, 30.41, 30.27, 30.05, 30.59, 31.52, 31.34, 40.46, 40.12, 40.98, 40.73, 0.02, 40.99, 42.72, 40.61}\n",
            "{17.52, 17.81, 19.3, 20.81, 21.9, 22.27, 23.25, 23.75, 23.13, 26.01, 27.01, 27.64, 28.51, 28.4, 29.89, 26.75, 25.88, 28.25, 26.13, 30.25, 30.5, 32.5, 33.76, 33.51, 37.26, 40.25, 40.0, 44.97, 40.76, 43.75, 44.75, 45.75, 42.76, 42.26, 48.25, 43.63, 50.95, 53.88, 54.14, 52.5, 53.75, 57.63, 55.26, 56.75, 56.25, 57.25, 58.75, 58.0, 56.26, 57.01, 58.76, 59.26, 62.01, 62.4, 62.06, 64.46, 80.67, 21.47, 23.22, 0.42, 26.47, 26.53, 27.47, 27.03, 28.97, 28.72, 29.72, 30.53, 32.97, 33.84, 37.03, 39.59, 39.84, 40.41, 40.91, 41.81, 42.16, 42.66, 42.22, 43.06, 43.81, 43.34, 44.09, 44.69, 44.94, 45.47, 45.03, 45.28, 46.22, 46.06, 46.56, 47.06, 48.97, 48.28, 49.09, 0.38, 51.47, 52.84, 53.19, 54.41, 54.28, 54.97, 55.41, 55.69, 55.03, 56.91, 56.19, 56.78, 56.34, 57.19, 57.69, 57.81, 57.41, 57.91, 58.16, 58.41, 58.78, 58.19, 57.66, 59.66, 59.41, 58.81, 58.34, 60.97, 25.41, 25.44, 25.19, 0.3, 26.91, 27.63, 27.88, 27.44, 28.38, 29.63, 29.94, 31.66, 31.69, 31.94, 23.29, 23.79, 24.07, 25.04, 25.79, 25.32, 25.35, 26.6, 27.79, 27.04, 27.32, 27.6, 27.85, 28.82, 27.35, 28.6, 29.85, 30.32, 31.6, 38.29, 39.85, 39.98, 40.07, 41.79, 42.85, 42.98, 43.23, 44.07, 44.26, 44.88, 44.38, 44.48, 45.88, 45.07, 44.73, 45.35, 47.73, 48.32, 48.6, 48.48, 48.26, 49.35, 49.73, 50.35, 50.01, 51.6, 51.35, 53.79, 53.85, 53.23, 54.32, 54.07, 55.13, 55.04, 55.35, 56.76, 56.35, 56.1, 56.82, 56.32, 57.35, 57.07, 56.38, 57.13, 56.73, 58.82, 58.32, 58.13, 58.79, 58.73, 59.13, 59.76, 59.51, 58.6, 43.37, 43.62, 0.1, 57.72, 22.45, 22.23, 23.45, 24.45, 25.7, 25.01, 27.98, 28.7, 29.95, 29.98, 30.48, 31.76, 31.98, 57.09, 22.11, 24.08, 25.14, 25.08, 25.36, 26.86, 27.33, 27.36, 27.86, 27.61, 28.42, 28.17, 28.08, 29.86, 29.61, 30.33, 32.55, 32.33, 36.36, 37.33, 38.45, 38.11, 39.64, 39.92, 39.58, 39.95, 39.36, 40.08, 40.58, 40.05, 40.3, 40.64, 41.83, 41.64, 42.89, 42.67, 42.14, 43.8, 43.17, 43.14, 43.95, 44.36, 45.39, 45.17, 45.11, 46.39, 46.05, 47.8, 48.05, 48.42, 49.08, 51.05, 53.7, 53.55, 53.86, 54.8, 54.08, 54.45, 55.92, 55.05, 55.55, 55.61, 56.42, 56.92, 56.05, 56.39, 57.33, 57.83, 57.58, 57.86, 57.89, 58.08, 58.39, 58.17, 58.36, 58.86, 22.49, 23.49, 25.05, 25.8, 25.3, 25.99, 27.8, 28.3, 56.01, 31.8, 21.71, 24.93, 25.68, 25.43, 0.41, 26.46, 26.21, 27.21, 28.15, 28.65, 28.71, 29.68, 29.96, 30.96, 31.96, 32.21, 33.4, 33.02, 34.12, 36.02, 36.12, 38.9, 38.68, 38.96, 39.46, 40.68, 40.93, 40.71, 41.65, 42.43, 42.62, 42.37, 43.4, 43.02, 43.15, 43.18, 43.71, 44.87, 44.77, 44.4, 44.71, 44.21, 45.71, 45.87, 45.74, 46.52, 47.87, 47.24, 48.15, 49.9, 50.65, 50.4, 51.96, 51.77, 52.15, 53.93, 54.9, 54.99, 55.77, 55.96, 55.71, 56.27, 56.02, 56.65, 56.9, 56.62, 57.43, 57.15, 57.02, 57.21, 57.62, 58.62, 58.87, 58.49, 59.4, 59.74, 25.81, 26.34, 26.31, 26.62, 28.34, 30.81, 30.62, 31.59}\n",
            "{18.64, 18.92, 20.75, 18.43, 18.69, 19.94, 24.02, 25.95, 26.54, 27.04, 27.67, 27.92, 27.8, 31.56, 28.42, 29.41, 29.04, 35.82, 35.07, 30.03, 29.63, 31.26, 31.15, 34.26, 35.25, 37.38, 38.02, 38.26, 38.4, 40.15, 46.25, 47.82, 47.94, 50.4, 46.17, 50.42, 46.93, 48.57, 50.22, 57.29, 53.24, 19.72, 22.68, 22.97, 24.64, 24.93, 24.03, 24.96, 25.39, 25.18, 25.21, 25.1, 26.97, 26.86, 26.11, 27.0, 29.43, 29.82, 29.33, 29.96, 29.72, 30.54, 29.85, 29.35, 31.46, 32.16, 32.57, 32.33, 32.43, 32.31, 33.27, 33.93, 33.19, 32.6, 33.48, 34.28, 34.29, 34.36, 35.17, 35.43, 35.56, 36.31, 38.03, 38.19, 43.83, 44.11, 46.21, 0.92, 20.06, 20.59, 21.62, 22.69, 22.99, 23.99, 24.48, 24.99, 25.02, 25.3, 26.88, 26.73, 26.87, 27.62, 28.13, 28.09, 29.56, 30.44, 30.06, 30.23, 30.24}\n",
            "{0.77, 1.08, 0.74, 1.03, 0.98, 17.09, 18.68, 19.75, 19.3, 21.27, 22.77, 23.27, 24.13, 25.0, 26.39, 26.65, 26.53, 26.03, 26.17, 27.78, 27.29, 26.05, 27.3, 28.05, 28.26, 28.02, 29.15, 32.13, 33.38, 33.51, 36.5, 38.25, 35.64, 44.43, 42.16, 46.38, 46.65, 46.02, 48.03, 50.27, 49.03, 53.87, 50.78, 51.41, 53.03, 53.93, 53.82, 57.22, 88.72, 19.97, 20.43, 21.43, 21.97, 21.47, 27.12, 22.92, 22.42, 22.96, 23.15, 23.07, 23.58, 24.15, 24.07, 24.97, 24.47, 25.89, 25.17, 25.57, 25.07, 25.47, 25.11, 27.97, 27.61, 26.37, 33.86, 28.04, 28.54, 28.75, 28.08, 28.58, 29.29, 29.42, 29.18, 29.21, 29.34, 30.25, 30.28, 30.42, 30.17, 30.43, 31.29, 31.43, 30.07, 31.82, 31.07, 31.22, 32.44, 32.47, 32.23, 32.48, 32.36, 33.55, 33.31, 33.21, 33.46, 33.61, 34.78, 34.91, 34.05, 30.34, 34.35, 34.61, 34.86, 30.47, 30.72, 36.33, 28.37, 38.11, 39.85, 29.37, 42.19, 43.68, 43.12, 44.85, 45.43, 46.04, 46.72, 30.12, 47.69, 47.33, 47.09, 48.08, 48.21, 48.34, 49.11, 49.37, 0.93, 0.91, 19.91, 19.95, 21.56, 21.81, 21.94, 29.32, 22.94, 22.09, 24.69, 25.16, 25.06, 25.45, 25.59, 25.48, 26.06, 26.34, 26.84, 26.23, 26.24, 27.88, 27.06, 27.45, 27.34, 27.74, 28.27, 28.63, 28.19, 28.34, 28.23, 29.91, 29.38, 29.13, 29.98, 30.58, 30.26, 30.41, 30.05, 30.31, 29.59, 31.38, 31.51, 31.3, 31.06, 31.69, 31.48, 28.61, 30.32, 28.24, 30.82, 29.61, 30.48, 30.98, 30.36, 29.09, 28.14, 31.61}\n",
            "{30.37, 31.24, 32.19, 33.15, 34.48, 33.74, 36.75, 37.75, 37.79, 38.34, 40.48, 41.32, 41.2, 42.46, 44.2, 45.58, 46.88, 46.41, 48.06, 49.25, 50.32, 51.51, 52.5, 53.12, 53.58, 51.82, 55.35, 54.06, 57.07, 55.82, 56.75, 60.58, 61.57, 61.08, 64.38, 62.83, 65.35, 58.01, 60.81, 60.31, 62.0, 63.01, 63.06, 73.61, 65.29, 66.75, 67.52, 69.25, 78.79, 78.06, 79.06, 79.08, 73.75, 75.49, 75.25, 77.25, 78.75, 80.5, 80.0, 80.25, 82.25, 87.75, 92.52, 87.6, 85.37, 95.68, 88.66, 95.18, 95.99, 95.96, 101.72, 102.57, 102.91, 0.46, 40.59, 40.34, 44.59, 46.44, 48.19, 49.19, 50.41, 50.72, 50.34, 51.97, 53.91, 53.47, 53.34, 54.47, 54.97, 54.28, 55.84, 56.56, 56.59, 56.16, 56.97, 56.44, 57.34, 56.19, 58.56, 58.41, 58.09, 58.34, 58.19, 59.66, 59.84, 58.28, 60.84, 61.72, 61.78, 62.16, 62.47, 63.09, 63.97, 63.22, 63.03, 64.62, 64.32, 65.56, 65.31, 65.87, 65.62, 65.66, 66.25, 65.43, 66.18, 65.97, 65.72, 67.91, 66.82, 67.32, 66.65, 66.9, 68.85, 68.43, 68.63, 68.69, 68.44, 69.47, 69.31, 69.66, 69.93, 69.88, 70.57, 70.32, 70.5, 70.66, 70.72, 71.81, 71.31, 71.72, 70.59, 71.69, 72.56, 72.85, 72.6, 72.87, 72.81, 73.68, 73.13, 73.19, 74.78, 75.38, 75.41, 75.97, 75.47, 75.32, 76.13, 76.43, 76.93, 76.07, 78.65, 78.85, 78.16, 78.78, 78.84, 79.9, 79.16, 78.94, 80.37, 80.72, 80.07, 80.82, 80.59, 81.6, 80.63, 81.63, 81.19, 82.88, 82.9, 82.94, 83.6, 85.91, 85.03, 88.15, 89.03, 89.19, 66.15, 65.69, 0.47, 66.69, 41.04, 42.1, 44.1, 45.35, 49.35, 50.73, 50.04, 52.73, 53.63, 55.76, 55.54, 55.85, 56.73, 57.29, 57.04, 57.6, 60.38, 60.63, 60.54, 61.48, 61.29, 62.13, 62.26, 62.04, 63.35, 63.98, 40.3, 46.2, 48.42, 49.58, 49.39, 50.64, 50.14, 50.95, 50.61, 0.4, 51.3, 52.14, 53.45, 55.42, 55.3, 56.42, 56.14, 56.55, 57.64, 57.17, 58.36, 58.86, 58.42, 60.67, 61.3, 61.8, 61.45, 62.42, 63.36, 63.39, 64.45, 64.21, 64.98, 65.8, 65.92, 66.21, 67.79, 67.2, 68.8, 68.26, 68.51, 68.52, 68.79, 69.51, 69.3, 68.08, 68.14, 69.29, 70.02, 70.33, 69.92, 69.67, 70.46, 71.99, 71.48, 72.79, 73.52, 73.79, 73.29, 73.39, 73.3, 74.52, 74.29, 74.26, 73.8, 74.67, 75.8, 76.04, 76.14, 76.96, 76.98, 77.14, 77.7, 77.95, 77.3, 78.29, 78.39, 78.17, 78.96, 78.48, 79.14, 78.98, 79.98, 80.39, 80.7, 80.96, 81.7, 82.3, 82.92, 83.14, 83.7, 84.46, 85.98, 86.95, 86.36, 0.45, 69.48, 36.93, 36.99, 38.99, 39.24, 42.99, 48.77, 50.15, 51.65, 51.46, 51.12, 51.62, 53.52, 53.27, 53.24, 54.15, 54.46, 54.52, 54.27, 55.4, 55.12, 55.87, 56.12, 56.87, 56.9, 56.46, 56.49, 57.12, 57.27, 57.18, 58.49, 59.21, 59.52, 63.65, 63.21, 63.43}\n",
            "{33.6, 35.38, 35.14, 37.32, 38.32, 39.0, 40.31, 38.57, 42.58, 38.88, 44.5, 45.0, 45.51, 45.31, 48.01, 49.75, 50.25, 51.81, 52.06, 52.81, 53.06, 55.45, 53.81, 54.76, 54.31, 54.81, 55.51, 61.26, 55.56, 63.48, 64.22, 62.81, 66.93, 62.51, 65.79, 60.51, 61.25, 62.25, 63.0, 66.37, 68.41, 67.5, 68.5, 77.29, 77.79, 72.0, 80.04, 74.5, 76.5, 77.1, 76.52, 81.0, 82.75, 80.27, 82.52, 86.52, 84.04, 91.0, 84.29, 88.12, 86.14, 91.91, 89.18, 89.45, 94.05, 102.9, 64.78, 65.78, 65.53, 36.84, 36.94, 37.84, 66.03, 41.09, 42.91, 42.34, 43.47, 43.03, 44.47, 66.3, 45.47, 45.53, 45.44, 45.19, 46.84, 65.57, 47.19, 48.47, 48.03, 48.59, 68.78, 49.06, 49.47, 49.44, 50.22, 50.56, 50.66, 50.59, 51.75, 51.34, 52.16, 52.97, 52.75, 52.41, 52.28, 53.0, 53.03, 52.59, 52.19, 52.94, 53.53, 54.03, 55.06, 55.5, 55.16, 55.91, 55.28, 55.59, 55.34, 56.34, 55.69, 56.78, 57.06, 57.47, 57.97, 57.5, 57.0, 58.72, 58.59, 70.28, 58.69, 57.53, 59.56, 59.72, 59.22, 59.78, 59.09, 60.41, 60.66, 60.53, 61.75, 61.22, 61.84, 61.59, 61.69, 62.75, 62.22, 62.53, 62.59, 62.19, 63.81, 63.31, 63.91, 63.19, 64.5, 64.0, 64.06, 64.6, 64.87, 65.22, 65.81, 65.85, 64.91, 64.41, 66.87, 66.66, 65.91, 66.91, 66.72, 67.37, 67.66, 67.16, 66.78, 67.09, 68.97, 68.62, 68.16, 68.93, 68.28, 69.81, 68.57, 68.32, 69.07, 69.57, 70.43, 70.18, 70.81, 70.85, 70.37, 71.6, 70.41, 71.91, 71.93, 71.22, 71.03, 72.78, 70.07, 71.57, 72.57, 73.97, 73.22, 73.07, 73.57, 72.84, 74.6, 74.37, 74.72, 74.57, 73.34, 75.81, 75.37, 75.68, 75.03, 74.9, 76.85, 76.66, 76.63, 76.38, 76.65, 77.85, 77.12, 77.87, 77.97, 77.88, 78.31, 78.62, 78.97, 78.28, 78.32, 79.81, 79.66, 79.22, 78.63, 78.13, 80.06, 80.35, 80.62, 80.09, 64.9, 81.31, 81.81, 81.16, 81.28, 81.07, 82.82, 82.57, 83.28, 83.65, 84.18, 84.13, 64.92, 77.03, 67.65, 64.96, 65.21, 65.96, 66.96, 70.65, 70.9, 67.96, 71.9, 69.94, 68.96, 68.46, 69.21, 71.94, 72.69, 72.94, 35.73, 36.6, 36.04, 76.15, 39.04, 41.88, 42.04, 77.65, 44.48, 75.19, 46.63, 46.73, 78.15, 48.04, 48.29, 49.63, 49.88, 49.54, 49.6, 50.48, 50.26, 50.76, 50.35, 51.48, 51.63, 51.29, 51.04, 53.01, 53.26, 53.57, 53.88, 53.98, 54.48, 54.98, 54.73, 54.63, 54.88, 55.63, 55.26, 56.35, 56.88, 56.13, 56.85, 57.38, 57.63, 57.85, 80.15, 58.38, 58.13, 58.26, 58.04, 58.35, 59.48, 78.19, 61.85, 61.63, 61.79, 68.31, 62.32, 62.48, 62.79, 62.29, 62.1, 63.38, 63.79, 63.85, 64.93, 53.35, 53.85, 78.56, 0.44, 36.64, 36.14, 37.14, 37.64, 37.61, 38.45, 38.55, 40.55, 41.95, 42.55, 44.33, 44.45, 45.14, 45.95, 45.86, 46.86, 47.95, 48.33, 49.83, 50.45, 50.3, 50.8, 50.86, 50.42, 51.36, 51.17, 52.2, 52.08, 52.64, 52.39, 52.11, 53.3, 53.36, 52.92, 53.42, 54.33, 54.89, 54.45, 54.05, 54.55, 55.2, 54.3, 55.05, 64.34, 55.67, 56.83, 56.64, 56.11, 56.92, 56.67, 57.2, 57.7, 57.05, 58.33, 58.58, 58.08, 58.2, 58.3, 58.61, 58.11, 59.61, 60.55, 60.42, 64.61, 60.92, 61.14, 61.55, 61.61, 62.08, 62.61, 62.86, 63.14, 63.64, 63.61, 64.26, 64.76, 64.74, 64.99, 64.7, 65.51, 65.26, 65.58, 65.39, 65.49, 66.24, 66.26, 66.02, 66.79, 66.33, 67.74, 67.01, 66.64, 67.02, 67.04, 67.83, 68.02, 68.29, 68.83, 68.33, 69.24, 69.77, 69.7, 68.3, 68.11, 70.01, 70.51, 70.52, 70.79, 70.58, 71.29, 71.08, 71.8, 66.36, 65.38, 72.64, 72.8, 72.73, 73.67, 73.48, 68.59, 74.51, 74.08, 74.7, 74.74, 74.11, 75.51, 75.55, 75.71, 76.77, 76.95, 76.61, 66.38, 66.13, 77.83, 77.92, 76.73, 78.08, 78.7, 78.8, 78.3, 78.67, 79.17, 79.92, 79.21, 80.26, 80.3, 80.05, 68.61, 80.61, 81.21, 67.38, 67.63, 82.55, 83.64, 83.45, 61.53, 83.98, 84.7, 84.76, 84.3, 85.76, 85.51, 85.01, 85.8, 69.36, 85.96, 85.23, 87.3, 87.92, 88.24, 69.63, 70.63, 73.84, 71.13, 71.63, 72.88, 65.61, 65.98, 66.23, 66.48, 67.98, 69.23, 36.27, 39.52, 40.43, 42.9, 43.4, 43.52, 43.02, 44.4, 46.96, 46.68, 47.77, 47.37, 48.27, 49.02, 49.68, 50.46, 50.71, 50.77, 50.18, 50.99, 51.15, 51.77, 51.52, 51.49, 53.02, 53.87, 53.49, 54.21, 54.77, 54.02, 54.24, 55.27, 55.99, 56.21, 56.43, 56.93, 56.74, 57.15, 57.52, 57.49, 58.46, 58.71, 58.52, 58.21, 60.96, 60.21, 60.52, 60.27, 60.37, 61.4, 61.93, 61.99, 62.4, 62.65, 62.12, 62.43, 63.4, 63.37, 64.13, 53.79, 66.14, 56.28, 56.53}\n",
            "set()\n",
            "set()\n",
            "set()\n",
            "set()\n",
            "set()\n",
            "set()\n",
            "set()\n",
            "set()\n",
            "set()\n",
            "set()\n",
            "set()\n",
            "set()\n",
            "set()\n",
            "set()\n",
            "set()\n",
            "set()\n"
          ]
        }
      ]
    },
    {
      "cell_type": "markdown",
      "source": [
        "# **Splitting Data**"
      ],
      "metadata": {
        "id": "R6qt6nOOgTyn"
      }
    },
    {
      "cell_type": "code",
      "source": [
        "x=df_train.drop('class',axis=1)\n",
        "y=df_train['class']\n",
        "y=np.array([0 if i =='e' else 1 for i in y])\n",
        "y.reshape(-1,1)\n"
      ],
      "metadata": {
        "colab": {
          "base_uri": "https://localhost:8080/"
        },
        "id": "yxo12gwIgv6a",
        "outputId": "6c7a813c-283d-4ce7-e81f-b10c6325bca9"
      },
      "execution_count": null,
      "outputs": [
        {
          "output_type": "execute_result",
          "data": {
            "text/plain": [
              "array([[1],\n",
              "       [0],\n",
              "       [1],\n",
              "       ...,\n",
              "       [0],\n",
              "       [1],\n",
              "       [0]])"
            ]
          },
          "metadata": {},
          "execution_count": 275
        }
      ]
    },
    {
      "cell_type": "code",
      "source": [
        "df_train=subclass_details(df_train)\n",
        "df_train=subclass_details(df_test)"
      ],
      "metadata": {
        "id": "bA4GdE2yFAAj"
      },
      "execution_count": null,
      "outputs": []
    },
    {
      "cell_type": "markdown",
      "source": [
        "# **Encoding**"
      ],
      "metadata": {
        "id": "p5um-ymbgCPW"
      }
    },
    {
      "cell_type": "code",
      "source": [
        "from sklearn.preprocessing import LabelEncoder"
      ],
      "metadata": {
        "id": "ZrkBxAsKgBWp"
      },
      "execution_count": null,
      "outputs": []
    },
    {
      "cell_type": "code",
      "source": [
        "df_test.info()"
      ],
      "metadata": {
        "id": "IoX1KHLOEUKl",
        "outputId": "958d3907-8e10-4864-ca0b-2a6e7ee84b59",
        "colab": {
          "base_uri": "https://localhost:8080/"
        }
      },
      "execution_count": null,
      "outputs": [
        {
          "output_type": "stream",
          "name": "stdout",
          "text": [
            "<class 'pandas.core.frame.DataFrame'>\n",
            "Index: 2077964 entries, 1363050 to 780174\n",
            "Data columns (total 11 columns):\n",
            " #   Column                Dtype  \n",
            "---  ------                -----  \n",
            " 0   cap-diameter          float64\n",
            " 1   stem-height           float64\n",
            " 2   stem-width            float64\n",
            " 3   cap-shape             object \n",
            " 4   cap-color             object \n",
            " 5   does-bruise-or-bleed  object \n",
            " 6   gill-color            object \n",
            " 7   stem-color            object \n",
            " 8   has-ring              object \n",
            " 9   habitat               object \n",
            " 10  season                object \n",
            "dtypes: float64(3), object(8)\n",
            "memory usage: 190.2+ MB\n"
          ]
        }
      ]
    },
    {
      "cell_type": "code",
      "source": [
        "x.head()"
      ],
      "metadata": {
        "id": "tZm4kZcEHZeA",
        "outputId": "31ae1f61-5220-4f84-bae7-f0ac12408514",
        "colab": {
          "base_uri": "https://localhost:8080/",
          "height": 223
        }
      },
      "execution_count": null,
      "outputs": [
        {
          "output_type": "execute_result",
          "data": {
            "text/plain": [
              "         cap-diameter  stem-height  stem-width cap-shape cap-color  \\\n",
              "1858463          8.65        14.77       15.79         f         w   \n",
              "24084            9.97        10.73       14.81         f         n   \n",
              "1464654          0.72         3.99        0.97         x         p   \n",
              "1375149          1.54         4.54        2.51         x         n   \n",
              "104192           1.53         5.83        1.94         x         y   \n",
              "\n",
              "        does-bruise-or-bleed gill-color stem-color has-ring habitat season  \n",
              "1858463                    f          w          w        t       d      a  \n",
              "24084                      t          w          w        t       d      u  \n",
              "1464654                    f          p          k        f       d      a  \n",
              "1375149                    f          k          w        f       d      w  \n",
              "104192                     f          w          y        f       g      u  "
            ],
            "text/html": [
              "\n",
              "  <div id=\"df-03145eaa-2bbb-46c9-9fcb-24ee547b1a47\" class=\"colab-df-container\">\n",
              "    <div>\n",
              "<style scoped>\n",
              "    .dataframe tbody tr th:only-of-type {\n",
              "        vertical-align: middle;\n",
              "    }\n",
              "\n",
              "    .dataframe tbody tr th {\n",
              "        vertical-align: top;\n",
              "    }\n",
              "\n",
              "    .dataframe thead th {\n",
              "        text-align: right;\n",
              "    }\n",
              "</style>\n",
              "<table border=\"1\" class=\"dataframe\">\n",
              "  <thead>\n",
              "    <tr style=\"text-align: right;\">\n",
              "      <th></th>\n",
              "      <th>cap-diameter</th>\n",
              "      <th>stem-height</th>\n",
              "      <th>stem-width</th>\n",
              "      <th>cap-shape</th>\n",
              "      <th>cap-color</th>\n",
              "      <th>does-bruise-or-bleed</th>\n",
              "      <th>gill-color</th>\n",
              "      <th>stem-color</th>\n",
              "      <th>has-ring</th>\n",
              "      <th>habitat</th>\n",
              "      <th>season</th>\n",
              "    </tr>\n",
              "  </thead>\n",
              "  <tbody>\n",
              "    <tr>\n",
              "      <th>1858463</th>\n",
              "      <td>8.65</td>\n",
              "      <td>14.77</td>\n",
              "      <td>15.79</td>\n",
              "      <td>f</td>\n",
              "      <td>w</td>\n",
              "      <td>f</td>\n",
              "      <td>w</td>\n",
              "      <td>w</td>\n",
              "      <td>t</td>\n",
              "      <td>d</td>\n",
              "      <td>a</td>\n",
              "    </tr>\n",
              "    <tr>\n",
              "      <th>24084</th>\n",
              "      <td>9.97</td>\n",
              "      <td>10.73</td>\n",
              "      <td>14.81</td>\n",
              "      <td>f</td>\n",
              "      <td>n</td>\n",
              "      <td>t</td>\n",
              "      <td>w</td>\n",
              "      <td>w</td>\n",
              "      <td>t</td>\n",
              "      <td>d</td>\n",
              "      <td>u</td>\n",
              "    </tr>\n",
              "    <tr>\n",
              "      <th>1464654</th>\n",
              "      <td>0.72</td>\n",
              "      <td>3.99</td>\n",
              "      <td>0.97</td>\n",
              "      <td>x</td>\n",
              "      <td>p</td>\n",
              "      <td>f</td>\n",
              "      <td>p</td>\n",
              "      <td>k</td>\n",
              "      <td>f</td>\n",
              "      <td>d</td>\n",
              "      <td>a</td>\n",
              "    </tr>\n",
              "    <tr>\n",
              "      <th>1375149</th>\n",
              "      <td>1.54</td>\n",
              "      <td>4.54</td>\n",
              "      <td>2.51</td>\n",
              "      <td>x</td>\n",
              "      <td>n</td>\n",
              "      <td>f</td>\n",
              "      <td>k</td>\n",
              "      <td>w</td>\n",
              "      <td>f</td>\n",
              "      <td>d</td>\n",
              "      <td>w</td>\n",
              "    </tr>\n",
              "    <tr>\n",
              "      <th>104192</th>\n",
              "      <td>1.53</td>\n",
              "      <td>5.83</td>\n",
              "      <td>1.94</td>\n",
              "      <td>x</td>\n",
              "      <td>y</td>\n",
              "      <td>f</td>\n",
              "      <td>w</td>\n",
              "      <td>y</td>\n",
              "      <td>f</td>\n",
              "      <td>g</td>\n",
              "      <td>u</td>\n",
              "    </tr>\n",
              "  </tbody>\n",
              "</table>\n",
              "</div>\n",
              "    <div class=\"colab-df-buttons\">\n",
              "\n",
              "  <div class=\"colab-df-container\">\n",
              "    <button class=\"colab-df-convert\" onclick=\"convertToInteractive('df-03145eaa-2bbb-46c9-9fcb-24ee547b1a47')\"\n",
              "            title=\"Convert this dataframe to an interactive table.\"\n",
              "            style=\"display:none;\">\n",
              "\n",
              "  <svg xmlns=\"http://www.w3.org/2000/svg\" height=\"24px\" viewBox=\"0 -960 960 960\">\n",
              "    <path d=\"M120-120v-720h720v720H120Zm60-500h600v-160H180v160Zm220 220h160v-160H400v160Zm0 220h160v-160H400v160ZM180-400h160v-160H180v160Zm440 0h160v-160H620v160ZM180-180h160v-160H180v160Zm440 0h160v-160H620v160Z\"/>\n",
              "  </svg>\n",
              "    </button>\n",
              "\n",
              "  <style>\n",
              "    .colab-df-container {\n",
              "      display:flex;\n",
              "      gap: 12px;\n",
              "    }\n",
              "\n",
              "    .colab-df-convert {\n",
              "      background-color: #E8F0FE;\n",
              "      border: none;\n",
              "      border-radius: 50%;\n",
              "      cursor: pointer;\n",
              "      display: none;\n",
              "      fill: #1967D2;\n",
              "      height: 32px;\n",
              "      padding: 0 0 0 0;\n",
              "      width: 32px;\n",
              "    }\n",
              "\n",
              "    .colab-df-convert:hover {\n",
              "      background-color: #E2EBFA;\n",
              "      box-shadow: 0px 1px 2px rgba(60, 64, 67, 0.3), 0px 1px 3px 1px rgba(60, 64, 67, 0.15);\n",
              "      fill: #174EA6;\n",
              "    }\n",
              "\n",
              "    .colab-df-buttons div {\n",
              "      margin-bottom: 4px;\n",
              "    }\n",
              "\n",
              "    [theme=dark] .colab-df-convert {\n",
              "      background-color: #3B4455;\n",
              "      fill: #D2E3FC;\n",
              "    }\n",
              "\n",
              "    [theme=dark] .colab-df-convert:hover {\n",
              "      background-color: #434B5C;\n",
              "      box-shadow: 0px 1px 3px 1px rgba(0, 0, 0, 0.15);\n",
              "      filter: drop-shadow(0px 1px 2px rgba(0, 0, 0, 0.3));\n",
              "      fill: #FFFFFF;\n",
              "    }\n",
              "  </style>\n",
              "\n",
              "    <script>\n",
              "      const buttonEl =\n",
              "        document.querySelector('#df-03145eaa-2bbb-46c9-9fcb-24ee547b1a47 button.colab-df-convert');\n",
              "      buttonEl.style.display =\n",
              "        google.colab.kernel.accessAllowed ? 'block' : 'none';\n",
              "\n",
              "      async function convertToInteractive(key) {\n",
              "        const element = document.querySelector('#df-03145eaa-2bbb-46c9-9fcb-24ee547b1a47');\n",
              "        const dataTable =\n",
              "          await google.colab.kernel.invokeFunction('convertToInteractive',\n",
              "                                                    [key], {});\n",
              "        if (!dataTable) return;\n",
              "\n",
              "        const docLinkHtml = 'Like what you see? Visit the ' +\n",
              "          '<a target=\"_blank\" href=https://colab.research.google.com/notebooks/data_table.ipynb>data table notebook</a>'\n",
              "          + ' to learn more about interactive tables.';\n",
              "        element.innerHTML = '';\n",
              "        dataTable['output_type'] = 'display_data';\n",
              "        await google.colab.output.renderOutput(dataTable, element);\n",
              "        const docLink = document.createElement('div');\n",
              "        docLink.innerHTML = docLinkHtml;\n",
              "        element.appendChild(docLink);\n",
              "      }\n",
              "    </script>\n",
              "  </div>\n",
              "\n",
              "\n",
              "<div id=\"df-de6ecfde-66ab-4f5c-a9ae-dcc2d35afab8\">\n",
              "  <button class=\"colab-df-quickchart\" onclick=\"quickchart('df-de6ecfde-66ab-4f5c-a9ae-dcc2d35afab8')\"\n",
              "            title=\"Suggest charts\"\n",
              "            style=\"display:none;\">\n",
              "\n",
              "<svg xmlns=\"http://www.w3.org/2000/svg\" height=\"24px\"viewBox=\"0 0 24 24\"\n",
              "     width=\"24px\">\n",
              "    <g>\n",
              "        <path d=\"M19 3H5c-1.1 0-2 .9-2 2v14c0 1.1.9 2 2 2h14c1.1 0 2-.9 2-2V5c0-1.1-.9-2-2-2zM9 17H7v-7h2v7zm4 0h-2V7h2v10zm4 0h-2v-4h2v4z\"/>\n",
              "    </g>\n",
              "</svg>\n",
              "  </button>\n",
              "\n",
              "<style>\n",
              "  .colab-df-quickchart {\n",
              "      --bg-color: #E8F0FE;\n",
              "      --fill-color: #1967D2;\n",
              "      --hover-bg-color: #E2EBFA;\n",
              "      --hover-fill-color: #174EA6;\n",
              "      --disabled-fill-color: #AAA;\n",
              "      --disabled-bg-color: #DDD;\n",
              "  }\n",
              "\n",
              "  [theme=dark] .colab-df-quickchart {\n",
              "      --bg-color: #3B4455;\n",
              "      --fill-color: #D2E3FC;\n",
              "      --hover-bg-color: #434B5C;\n",
              "      --hover-fill-color: #FFFFFF;\n",
              "      --disabled-bg-color: #3B4455;\n",
              "      --disabled-fill-color: #666;\n",
              "  }\n",
              "\n",
              "  .colab-df-quickchart {\n",
              "    background-color: var(--bg-color);\n",
              "    border: none;\n",
              "    border-radius: 50%;\n",
              "    cursor: pointer;\n",
              "    display: none;\n",
              "    fill: var(--fill-color);\n",
              "    height: 32px;\n",
              "    padding: 0;\n",
              "    width: 32px;\n",
              "  }\n",
              "\n",
              "  .colab-df-quickchart:hover {\n",
              "    background-color: var(--hover-bg-color);\n",
              "    box-shadow: 0 1px 2px rgba(60, 64, 67, 0.3), 0 1px 3px 1px rgba(60, 64, 67, 0.15);\n",
              "    fill: var(--button-hover-fill-color);\n",
              "  }\n",
              "\n",
              "  .colab-df-quickchart-complete:disabled,\n",
              "  .colab-df-quickchart-complete:disabled:hover {\n",
              "    background-color: var(--disabled-bg-color);\n",
              "    fill: var(--disabled-fill-color);\n",
              "    box-shadow: none;\n",
              "  }\n",
              "\n",
              "  .colab-df-spinner {\n",
              "    border: 2px solid var(--fill-color);\n",
              "    border-color: transparent;\n",
              "    border-bottom-color: var(--fill-color);\n",
              "    animation:\n",
              "      spin 1s steps(1) infinite;\n",
              "  }\n",
              "\n",
              "  @keyframes spin {\n",
              "    0% {\n",
              "      border-color: transparent;\n",
              "      border-bottom-color: var(--fill-color);\n",
              "      border-left-color: var(--fill-color);\n",
              "    }\n",
              "    20% {\n",
              "      border-color: transparent;\n",
              "      border-left-color: var(--fill-color);\n",
              "      border-top-color: var(--fill-color);\n",
              "    }\n",
              "    30% {\n",
              "      border-color: transparent;\n",
              "      border-left-color: var(--fill-color);\n",
              "      border-top-color: var(--fill-color);\n",
              "      border-right-color: var(--fill-color);\n",
              "    }\n",
              "    40% {\n",
              "      border-color: transparent;\n",
              "      border-right-color: var(--fill-color);\n",
              "      border-top-color: var(--fill-color);\n",
              "    }\n",
              "    60% {\n",
              "      border-color: transparent;\n",
              "      border-right-color: var(--fill-color);\n",
              "    }\n",
              "    80% {\n",
              "      border-color: transparent;\n",
              "      border-right-color: var(--fill-color);\n",
              "      border-bottom-color: var(--fill-color);\n",
              "    }\n",
              "    90% {\n",
              "      border-color: transparent;\n",
              "      border-bottom-color: var(--fill-color);\n",
              "    }\n",
              "  }\n",
              "</style>\n",
              "\n",
              "  <script>\n",
              "    async function quickchart(key) {\n",
              "      const quickchartButtonEl =\n",
              "        document.querySelector('#' + key + ' button');\n",
              "      quickchartButtonEl.disabled = true;  // To prevent multiple clicks.\n",
              "      quickchartButtonEl.classList.add('colab-df-spinner');\n",
              "      try {\n",
              "        const charts = await google.colab.kernel.invokeFunction(\n",
              "            'suggestCharts', [key], {});\n",
              "      } catch (error) {\n",
              "        console.error('Error during call to suggestCharts:', error);\n",
              "      }\n",
              "      quickchartButtonEl.classList.remove('colab-df-spinner');\n",
              "      quickchartButtonEl.classList.add('colab-df-quickchart-complete');\n",
              "    }\n",
              "    (() => {\n",
              "      let quickchartButtonEl =\n",
              "        document.querySelector('#df-de6ecfde-66ab-4f5c-a9ae-dcc2d35afab8 button');\n",
              "      quickchartButtonEl.style.display =\n",
              "        google.colab.kernel.accessAllowed ? 'block' : 'none';\n",
              "    })();\n",
              "  </script>\n",
              "</div>\n",
              "\n",
              "    </div>\n",
              "  </div>\n"
            ],
            "application/vnd.google.colaboratory.intrinsic+json": {
              "type": "dataframe",
              "variable_name": "x"
            }
          },
          "metadata": {},
          "execution_count": 279
        }
      ]
    },
    {
      "cell_type": "code",
      "source": [
        "encoding=LabelEncoder()\n",
        "for col in x.select_dtypes(include='object').columns:\n",
        "  x[col]=encoding.fit_transform(x[col])\n",
        "  df_test[col]=encoding.transform(df_test[col])"
      ],
      "metadata": {
        "id": "NMRc7xnViPbJ"
      },
      "execution_count": null,
      "outputs": []
    },
    {
      "cell_type": "code",
      "source": [
        "x.shape"
      ],
      "metadata": {
        "colab": {
          "base_uri": "https://localhost:8080/"
        },
        "id": "4-l8xonXiiVw",
        "outputId": "530d8532-a6d1-46d0-9dd9-28c3275898ba"
      },
      "execution_count": null,
      "outputs": [
        {
          "output_type": "execute_result",
          "data": {
            "text/plain": [
              "(3116945, 11)"
            ]
          },
          "metadata": {},
          "execution_count": 281
        }
      ]
    },
    {
      "cell_type": "code",
      "source": [
        "from sklearn.model_selection import train_test_split\n",
        "x_train,x_test,y_train,y_test=train_test_split(x,y,train_size=(2077964/3116945),stratify=y)"
      ],
      "metadata": {
        "id": "ovftmPoUNvID"
      },
      "execution_count": null,
      "outputs": []
    },
    {
      "cell_type": "code",
      "source": [
        "print(x_train.shape)\n",
        "print(y_train.shape)\n",
        "print(x_test.shape)\n",
        "print(y_test.shape)"
      ],
      "metadata": {
        "id": "UudXAdkAOMY8",
        "outputId": "14e211c7-0c2e-44f8-c31a-ce6bb2975e6a",
        "colab": {
          "base_uri": "https://localhost:8080/"
        }
      },
      "execution_count": null,
      "outputs": [
        {
          "output_type": "stream",
          "name": "stdout",
          "text": [
            "(2077964, 11)\n",
            "(2077964,)\n",
            "(1038981, 11)\n",
            "(1038981,)\n"
          ]
        }
      ]
    },
    {
      "cell_type": "code",
      "source": [
        "from xgboost import XGBClassifier"
      ],
      "metadata": {
        "id": "Pttycjvgi2Ts"
      },
      "execution_count": null,
      "outputs": []
    },
    {
      "cell_type": "code",
      "source": [
        "xgb=XGBClassifier(\n",
        "     alpha=0.1,\n",
        "    subsample=0.8,\n",
        "    colsample_bytree=0.6,\n",
        "    objective='binary:logistic',\n",
        "    max_depth=14,\n",
        "    min_child_weight=7,\n",
        "    gamma=1e-6,\n",
        "    #random_state=42,\n",
        "    n_estimators=100\n",
        ")\n",
        "xgb.fit(x_train,y_train)\n"
      ],
      "metadata": {
        "colab": {
          "base_uri": "https://localhost:8080/",
          "height": 248
        },
        "id": "5A4Z-9T4jwBF",
        "outputId": "77992d98-0974-458a-b0e5-5de24ffba521"
      },
      "execution_count": null,
      "outputs": [
        {
          "output_type": "execute_result",
          "data": {
            "text/plain": [
              "XGBClassifier(alpha=0.1, base_score=None, booster=None, callbacks=None,\n",
              "              colsample_bylevel=None, colsample_bynode=None,\n",
              "              colsample_bytree=0.6, device=None, early_stopping_rounds=None,\n",
              "              enable_categorical=False, eval_metric=None, feature_types=None,\n",
              "              gamma=1e-06, grow_policy=None, importance_type=None,\n",
              "              interaction_constraints=None, learning_rate=None, max_bin=None,\n",
              "              max_cat_threshold=None, max_cat_to_onehot=None,\n",
              "              max_delta_step=None, max_depth=14, max_leaves=None,\n",
              "              min_child_weight=7, missing=nan, monotone_constraints=None,\n",
              "              multi_strategy=None, n_estimators=100, n_jobs=None,\n",
              "              num_parallel_tree=None, ...)"
            ],
            "text/html": [
              "<style>#sk-container-id-5 {color: black;}#sk-container-id-5 pre{padding: 0;}#sk-container-id-5 div.sk-toggleable {background-color: white;}#sk-container-id-5 label.sk-toggleable__label {cursor: pointer;display: block;width: 100%;margin-bottom: 0;padding: 0.3em;box-sizing: border-box;text-align: center;}#sk-container-id-5 label.sk-toggleable__label-arrow:before {content: \"▸\";float: left;margin-right: 0.25em;color: #696969;}#sk-container-id-5 label.sk-toggleable__label-arrow:hover:before {color: black;}#sk-container-id-5 div.sk-estimator:hover label.sk-toggleable__label-arrow:before {color: black;}#sk-container-id-5 div.sk-toggleable__content {max-height: 0;max-width: 0;overflow: hidden;text-align: left;background-color: #f0f8ff;}#sk-container-id-5 div.sk-toggleable__content pre {margin: 0.2em;color: black;border-radius: 0.25em;background-color: #f0f8ff;}#sk-container-id-5 input.sk-toggleable__control:checked~div.sk-toggleable__content {max-height: 200px;max-width: 100%;overflow: auto;}#sk-container-id-5 input.sk-toggleable__control:checked~label.sk-toggleable__label-arrow:before {content: \"▾\";}#sk-container-id-5 div.sk-estimator input.sk-toggleable__control:checked~label.sk-toggleable__label {background-color: #d4ebff;}#sk-container-id-5 div.sk-label input.sk-toggleable__control:checked~label.sk-toggleable__label {background-color: #d4ebff;}#sk-container-id-5 input.sk-hidden--visually {border: 0;clip: rect(1px 1px 1px 1px);clip: rect(1px, 1px, 1px, 1px);height: 1px;margin: -1px;overflow: hidden;padding: 0;position: absolute;width: 1px;}#sk-container-id-5 div.sk-estimator {font-family: monospace;background-color: #f0f8ff;border: 1px dotted black;border-radius: 0.25em;box-sizing: border-box;margin-bottom: 0.5em;}#sk-container-id-5 div.sk-estimator:hover {background-color: #d4ebff;}#sk-container-id-5 div.sk-parallel-item::after {content: \"\";width: 100%;border-bottom: 1px solid gray;flex-grow: 1;}#sk-container-id-5 div.sk-label:hover label.sk-toggleable__label {background-color: #d4ebff;}#sk-container-id-5 div.sk-serial::before {content: \"\";position: absolute;border-left: 1px solid gray;box-sizing: border-box;top: 0;bottom: 0;left: 50%;z-index: 0;}#sk-container-id-5 div.sk-serial {display: flex;flex-direction: column;align-items: center;background-color: white;padding-right: 0.2em;padding-left: 0.2em;position: relative;}#sk-container-id-5 div.sk-item {position: relative;z-index: 1;}#sk-container-id-5 div.sk-parallel {display: flex;align-items: stretch;justify-content: center;background-color: white;position: relative;}#sk-container-id-5 div.sk-item::before, #sk-container-id-5 div.sk-parallel-item::before {content: \"\";position: absolute;border-left: 1px solid gray;box-sizing: border-box;top: 0;bottom: 0;left: 50%;z-index: -1;}#sk-container-id-5 div.sk-parallel-item {display: flex;flex-direction: column;z-index: 1;position: relative;background-color: white;}#sk-container-id-5 div.sk-parallel-item:first-child::after {align-self: flex-end;width: 50%;}#sk-container-id-5 div.sk-parallel-item:last-child::after {align-self: flex-start;width: 50%;}#sk-container-id-5 div.sk-parallel-item:only-child::after {width: 0;}#sk-container-id-5 div.sk-dashed-wrapped {border: 1px dashed gray;margin: 0 0.4em 0.5em 0.4em;box-sizing: border-box;padding-bottom: 0.4em;background-color: white;}#sk-container-id-5 div.sk-label label {font-family: monospace;font-weight: bold;display: inline-block;line-height: 1.2em;}#sk-container-id-5 div.sk-label-container {text-align: center;}#sk-container-id-5 div.sk-container {/* jupyter's `normalize.less` sets `[hidden] { display: none; }` but bootstrap.min.css set `[hidden] { display: none !important; }` so we also need the `!important` here to be able to override the default hidden behavior on the sphinx rendered scikit-learn.org. See: https://github.com/scikit-learn/scikit-learn/issues/21755 */display: inline-block !important;position: relative;}#sk-container-id-5 div.sk-text-repr-fallback {display: none;}</style><div id=\"sk-container-id-5\" class=\"sk-top-container\"><div class=\"sk-text-repr-fallback\"><pre>XGBClassifier(alpha=0.1, base_score=None, booster=None, callbacks=None,\n",
              "              colsample_bylevel=None, colsample_bynode=None,\n",
              "              colsample_bytree=0.6, device=None, early_stopping_rounds=None,\n",
              "              enable_categorical=False, eval_metric=None, feature_types=None,\n",
              "              gamma=1e-06, grow_policy=None, importance_type=None,\n",
              "              interaction_constraints=None, learning_rate=None, max_bin=None,\n",
              "              max_cat_threshold=None, max_cat_to_onehot=None,\n",
              "              max_delta_step=None, max_depth=14, max_leaves=None,\n",
              "              min_child_weight=7, missing=nan, monotone_constraints=None,\n",
              "              multi_strategy=None, n_estimators=100, n_jobs=None,\n",
              "              num_parallel_tree=None, ...)</pre><b>In a Jupyter environment, please rerun this cell to show the HTML representation or trust the notebook. <br />On GitHub, the HTML representation is unable to render, please try loading this page with nbviewer.org.</b></div><div class=\"sk-container\" hidden><div class=\"sk-item\"><div class=\"sk-estimator sk-toggleable\"><input class=\"sk-toggleable__control sk-hidden--visually\" id=\"sk-estimator-id-5\" type=\"checkbox\" checked><label for=\"sk-estimator-id-5\" class=\"sk-toggleable__label sk-toggleable__label-arrow\">XGBClassifier</label><div class=\"sk-toggleable__content\"><pre>XGBClassifier(alpha=0.1, base_score=None, booster=None, callbacks=None,\n",
              "              colsample_bylevel=None, colsample_bynode=None,\n",
              "              colsample_bytree=0.6, device=None, early_stopping_rounds=None,\n",
              "              enable_categorical=False, eval_metric=None, feature_types=None,\n",
              "              gamma=1e-06, grow_policy=None, importance_type=None,\n",
              "              interaction_constraints=None, learning_rate=None, max_bin=None,\n",
              "              max_cat_threshold=None, max_cat_to_onehot=None,\n",
              "              max_delta_step=None, max_depth=14, max_leaves=None,\n",
              "              min_child_weight=7, missing=nan, monotone_constraints=None,\n",
              "              multi_strategy=None, n_estimators=100, n_jobs=None,\n",
              "              num_parallel_tree=None, ...)</pre></div></div></div></div></div>"
            ]
          },
          "metadata": {},
          "execution_count": 285
        }
      ]
    },
    {
      "cell_type": "code",
      "source": [
        "from sklearn.metrics import accuracy_score\n",
        "predicted = xgb.predict(x_test)\n",
        "print(accuracy_score(y_test,predicted))"
      ],
      "metadata": {
        "colab": {
          "base_uri": "https://localhost:8080/"
        },
        "id": "O5chZru6j0tI",
        "outputId": "dd892cf4-f989-49d1-8758-b19c26eb527e"
      },
      "execution_count": null,
      "outputs": [
        {
          "output_type": "stream",
          "name": "stdout",
          "text": [
            "0.98070417072112\n"
          ]
        }
      ]
    },
    {
      "cell_type": "code",
      "source": [
        "df_test.shape"
      ],
      "metadata": {
        "id": "lx0HsFOOL7Fa",
        "outputId": "d8a7809a-1834-487d-8f2f-edc57b498216",
        "colab": {
          "base_uri": "https://localhost:8080/"
        }
      },
      "execution_count": null,
      "outputs": [
        {
          "output_type": "execute_result",
          "data": {
            "text/plain": [
              "(2077964, 11)"
            ]
          },
          "metadata": {},
          "execution_count": 287
        }
      ]
    },
    {
      "cell_type": "code",
      "source": [],
      "metadata": {
        "id": "il3rGw-6Mwhr"
      },
      "execution_count": null,
      "outputs": []
    }
  ]
}